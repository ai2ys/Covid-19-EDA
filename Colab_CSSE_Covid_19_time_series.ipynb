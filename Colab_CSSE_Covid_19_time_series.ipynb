{
 "cells": [
  {
   "cell_type": "markdown",
   "metadata": {
    "colab_type": "text",
    "id": "view-in-github"
   },
   "source": [
    "<a href=\"https://colab.research.google.com/github/ai2ys/Covid-19-EDA/blob/master/Colab_CSSE_Covid_19_time_series.ipynb\" target=\"_parent\"><img src=\"https://colab.research.google.com/assets/colab-badge.svg\" alt=\"Open In Colab\"/></a>"
   ]
  },
  {
   "cell_type": "markdown",
   "metadata": {
    "colab_type": "text",
    "id": "mpcSMYmwhHI9"
   },
   "source": [
    "# Custom plots for COVID-19 data"
   ]
  },
  {
   "cell_type": "markdown",
   "metadata": {},
   "source": [
    "Using the John Hopkins CSSE COVID-19 data:\n",
    "https://github.com/CSSEGISandData/COVID-19\n",
    "<br> \n",
    "From the 24 March 2020 on the here used time series are deprecated, have a look at the following README.md file [https://github.com/CSSEGISandData/COVID-19/blob/master/csse_covid_19_data/csse_covid_19_time_series/README.md](https://github.com/CSSEGISandData/COVID-19/blob/master/csse_covid_19_data/csse_covid_19_time_series/README.md)\n",
    "\n",
    "\n",
    "Using list of countries by population from Wikipedia:\n",
    "https://en.wikipedia.org/wiki/List_of_countries_by_population_(United_Nations)\n"
   ]
  },
  {
   "cell_type": "code",
   "execution_count": null,
   "metadata": {},
   "outputs": [],
   "source": [
    "!git clone https://github.com/ai2ys/Covid-19-EDA.git"
   ]
  },
  {
   "cell_type": "code",
   "execution_count": null,
   "metadata": {},
   "outputs": [],
   "source": [
    "cd /content/Covid-19-EDA"
   ]
  },
  {
   "cell_type": "code",
   "execution_count": 1,
   "metadata": {},
   "outputs": [
    {
     "name": "stdout",
     "output_type": "stream",
     "text": [
      "Covid19_status.Confirmed\n",
      "Covid19_status.Deaths\n"
     ]
    },
    {
     "data": {
      "application/vnd.jupyter.widget-view+json": {
       "model_id": "9fff351833844db2bd0f192f753ac32e",
       "version_major": 2,
       "version_minor": 0
      },
      "text/plain": [
       "interactive(children=(Select(description='Diagram', options=(<Csse_covid19.Confirmed: (<Covid19_status.Confirm…"
      ]
     },
     "metadata": {},
     "output_type": "display_data"
    },
    {
     "data": {
      "text/plain": [
       "<function __main__.plot(select_type, top_n, select_scale, toggle_normalize)>"
      ]
     },
     "execution_count": 1,
     "metadata": {},
     "output_type": "execute_result"
    }
   ],
   "source": [
    "from csse_covid19 import Csse_covid19, ScaleType\n",
    "from ipywidgets import interact,FloatSlider,IntSlider, VBox\n",
    "from ipywidgets import widgets \n",
    "from enum import Enum\n",
    "\n",
    "num_countries = 10\n",
    "type_current = Csse_covid19.Confirmed\n",
    "countries = type_current.get_top_countries()\n",
    "slider_top_n = IntSlider(min=1, max=20, value=num_countries, description='Top X')\n",
    "layer = None\n",
    "select_type = widgets.Select(\n",
    "    options = [\n",
    "        Csse_covid19.Confirmed, \n",
    "        Csse_covid19.Deaths\n",
    "    ],\n",
    "    value=type_current,\n",
    "    rows=2,\n",
    "    description='Diagram',\n",
    "    disabled=False\n",
    ")\n",
    "select_scale = widgets.Select(\n",
    "    options = [\n",
    "        ScaleType.Linear,\n",
    "        ScaleType.Log_10,\n",
    "    ],\n",
    "    value=ScaleType.Log_10,\n",
    "    rows=2,\n",
    "    description='Y scale',\n",
    "    disabled=False\n",
    ")\n",
    "toggle_normalize = widgets.ToggleButton(\n",
    "    value=False,\n",
    "    description='Normalize using population [in millions]',\n",
    "    disabled=False,\n",
    "    button_style='', # 'success', 'info', 'warning', 'danger' or ''\n",
    "    tooltip='Normalize using population',\n",
    "    icon='check' # (FontAwesome names without the `fa-` prefix)\n",
    ")\n",
    "\n",
    "def plot(select_type, top_n, select_scale, \n",
    "         toggle_normalize\n",
    "        ):\n",
    "    countries = select_type.get_top_countries(top_n)\n",
    "    name = '{}_top{}_{}.png'.format(select_type.name, top_n, select_scale.name)\n",
    "    layer = select_type.alt_plot(countries,sort_legend=True, day_delta=2,\n",
    "                         scale_type=select_scale, \n",
    "                         normalize_by_population=toggle_normalize)\n",
    "display(VBox([select_type,\n",
    "      slider_top_n,\n",
    "      select_scale,\n",
    "      toggle_normalize]))\n",
    "print(\"Run cell below after selecting your options for the plot\")"
   ]
  },
  {
   "cell_type": "code",
   "execution_count": 2,
   "metadata": {},
   "outputs": [
    {
     "data": {
      "application/vnd.jupyter.widget-view+json": {
       "model_id": "b62fcd14f204408092c882c7044def4f",
       "version_major": 2,
       "version_minor": 0
      },
      "text/plain": [
       "HBox(children=(VBox(children=(Checkbox(value=True, description='China'), Checkbox(value=True, description='Ita…"
      ]
     },
     "metadata": {},
     "output_type": "display_data"
    }
   ],
   "source": [
    "plot(select_type=select_type.value, \n",
    "     top_n=slider_top_n.value,\n",
    "     select_scale=select_scale.value,\n",
    "     toggle_normalize=toggle_normalize.value,\n",
    "        )"
   ]
  }
 ],
 "metadata": {
  "colab": {
   "authorship_tag": "ABX9TyOmddhdlOoQvMhBYjhP/lFA",
   "collapsed_sections": [],
   "include_colab_link": true,
   "name": "CSSE_Covid-19_time_series.ipynb",
   "provenance": []
  },
  "kernelspec": {
   "display_name": "Python 3",
   "language": "python",
   "name": "python3"
  },
  "language_info": {
   "codemirror_mode": {
    "name": "ipython",
    "version": 3
   },
   "file_extension": ".py",
   "mimetype": "text/x-python",
   "name": "python",
   "nbconvert_exporter": "python",
   "pygments_lexer": "ipython3",
   "version": "3.7.6"
  }
 },
 "nbformat": 4,
 "nbformat_minor": 4
}