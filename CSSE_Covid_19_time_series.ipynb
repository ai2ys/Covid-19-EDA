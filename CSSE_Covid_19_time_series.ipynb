{
 "cells": [
  {
   "cell_type": "markdown",
   "metadata": {
    "colab_type": "text",
    "id": "view-in-github"
   },
   "source": [
    "<!-- <a href=\"https://colab.research.google.com/github/ai2ys/Covid-19-EDA/blob/master/CSSE_Covid_19_time_series.ipynb\" target=\"_parent\"><img src=\"https://colab.research.google.com/assets/colab-badge.svg\" alt=\"Open In Colab\"/></a>-->"
   ]
  },
  {
   "cell_type": "markdown",
   "metadata": {
    "colab_type": "text",
    "id": "mpcSMYmwhHI9"
   },
   "source": [
    "# Custom plots for COVID-19 data"
   ]
  },
  {
   "cell_type": "markdown",
   "metadata": {},
   "source": [
    "Using the John Hopkins CSSE COVID-19 data:\n",
    "https://github.com/CSSEGISandData/COVID-19\n",
    "<br> \n",
    "From the 24 March 2020 on the here used time series are deprecated, have a look at the following README.md file [https://github.com/CSSEGISandData/COVID-19/blob/master/csse_covid_19_data/csse_covid_19_time_series/README.md](https://github.com/CSSEGISandData/COVID-19/blob/master/csse_covid_19_data/csse_covid_19_time_series/README.md)\n",
    "\n",
    "\n",
    "Using list of countries by population from Wikipedia:\n",
    "https://en.wikipedia.org/wiki/List_of_countries_by_population_(United_Nations)\n"
   ]
  },
  {
   "cell_type": "code",
   "execution_count": 3,
   "metadata": {},
   "outputs": [
    {
     "data": {
      "application/vnd.jupyter.widget-view+json": {
       "model_id": "f6674cfae5ef49b9a2e7eb1b61da1d98",
       "version_major": 2,
       "version_minor": 0
      },
      "text/plain": [
       "interactive(children=(Select(description='Diagram', options=(<Csse_covid19.Confirmed: (<Covid19_status.Confirm…"
      ]
     },
     "metadata": {},
     "output_type": "display_data"
    },
    {
     "data": {
      "text/plain": [
       "<function __main__.plot(select_type, top_n, select_scale, toggle_normalize)>"
      ]
     },
     "execution_count": 3,
     "metadata": {},
     "output_type": "execute_result"
    }
   ],
   "source": [
    "from csse_covid19 import Csse_covid19, ScaleType\n",
    "from ipywidgets import interact,FloatSlider,IntSlider, VBox\n",
    "from ipywidgets import widgets \n",
    "from enum import Enum\n",
    "\n",
    "num_countries = 10\n",
    "type_current = Csse_covid19.Confirmed\n",
    "countries = type_current.get_top_countries()\n",
    "slider_top_n = IntSlider(min=1, max=20, value=num_countries, description='Top X')\n",
    "layer = None\n",
    "select_type = widgets.Select(\n",
    "    options = [\n",
    "        Csse_covid19.Confirmed, \n",
    "        Csse_covid19.Deaths\n",
    "    ],\n",
    "    value=type_current,\n",
    "    rows=2,\n",
    "    description='Diagram',\n",
    "    disabled=False\n",
    ")\n",
    "select_scale = widgets.Select(\n",
    "    options = [\n",
    "        ScaleType.Linear,\n",
    "        ScaleType.Log_10,\n",
    "    ],\n",
    "    value=ScaleType.Log_10,\n",
    "    rows=2,\n",
    "    description='Y scale',\n",
    "    disabled=False\n",
    ")\n",
    "toggle_normalize = widgets.ToggleButton(\n",
    "    value=False,\n",
    "    description='Normalize using population [in millions]',\n",
    "    disabled=False,\n",
    "    button_style='', # 'success', 'info', 'warning', 'danger' or ''\n",
    "    tooltip='Normalize using population',\n",
    "    icon='check' # (FontAwesome names without the `fa-` prefix)\n",
    ")\n",
    "\n",
    "def plot(select_type, top_n, select_scale, \n",
    "         toggle_normalize\n",
    "        ):\n",
    "    countries = select_type.get_top_countries(top_n)\n",
    "    name = '{}_top{}_{}.png'.format(select_type.name, top_n, select_scale.name)\n",
    "    layer = select_type.alt_plot(countries,sort_legend=True, day_delta=2,\n",
    "                         scale_type=select_scale, \n",
    "                         normalize_by_population=toggle_normalize)\n",
    "            \n",
    "#vbox = VBox([select, slider_top_n] )  \n",
    "interact(plot, \n",
    "         select_type=select_type, \n",
    "         top_n=slider_top_n,\n",
    "         select_scale=select_scale,\n",
    "         toggle_normalize=toggle_normalize,\n",
    "        )\n"
   ]
  },
  {
   "cell_type": "code",
   "execution_count": 2,
   "metadata": {},
   "outputs": [
    {
     "data": {
      "application/vnd.jupyter.widget-view+json": {
       "model_id": "b62fcd14f204408092c882c7044def4f",
       "version_major": 2,
       "version_minor": 0
      },
      "text/plain": [
       "HBox(children=(VBox(children=(Checkbox(value=True, description='China'), Checkbox(value=True, description='Ita…"
      ]
     },
     "metadata": {},
     "output_type": "display_data"
    }
   ],
   "source": [
    "from ipywidgets import interact,FloatSlider,IntSlider, VBox, Checkbox, HBox\n",
    "from ipywidgets import widgets \n",
    "\n",
    "countries = []\n",
    "c_dict = {}\n",
    "def changed(b):\n",
    "    if b.name == 'value':\n",
    "        c_dict[b.owner.description] = b.owner.value\n",
    "    #  Csse_covid19.Confirmed.alt_plot([k for k,v in c_dict.items() if v])\n",
    "\n",
    "\n",
    "#top x count\n",
    "top_number = 10\n",
    "\n",
    "countries = Csse_covid19.Confirmed.get_top_countries(top_number)\n",
    "vbox1 = VBox()\n",
    "vbox2 = VBox()\n",
    "boxes = []\n",
    "for c in countries:\n",
    "    c_dict[c] = True\n",
    "    box = Checkbox(True, description=c)\n",
    "    box.observe(changed)\n",
    "    boxes.append(box)\n",
    "\n",
    "half = len(boxes)//2\n",
    "vbox1 = VBox(boxes[:half])\n",
    "vbox2 = VBox(boxes[half:])\n",
    "hbox = HBox([vbox1, vbox2])\n",
    "hbox"
   ]
  },
  {
   "cell_type": "code",
   "execution_count": 3,
   "metadata": {},
   "outputs": [
    {
     "name": "stdout",
     "output_type": "stream",
     "text": [
      "['China', 'Italy', 'US', 'Spain', 'Germany', 'Iran', 'France', 'Switzerland', 'Korea, South', 'United Kingdom']\n"
     ]
    },
    {
     "data": {
      "application/vnd.vegalite.v3+json": {
       "$schema": "https://vega.github.io/schema/vega-lite/v3.4.0.json",
       "config": {
        "mark": {
         "tooltip": null
        },
        "view": {
         "height": 300,
         "width": 400
        }
       },
       "data": {
        "name": "data-5a3ee8a75d659faa383938f08da64360"
       },
       "datasets": {
        "data-5a3ee8a75d659faa383938f08da64360": [
         {
          "Count": 548,
          "Country/Region": "China",
          "Date": "1/22/20",
          "Lat": 1083.3367,
          "Long": 3684.4197000000004,
          "Population(1 July 2019)": 0,
          "level_0": 0
         },
         {
          "Count": 643,
          "Country/Region": "China",
          "Date": "1/23/20",
          "Lat": 1083.3367,
          "Long": 3684.4197000000004,
          "Population(1 July 2019)": 0,
          "level_0": 0
         },
         {
          "Count": 920,
          "Country/Region": "China",
          "Date": "1/24/20",
          "Lat": 1083.3367,
          "Long": 3684.4197000000004,
          "Population(1 July 2019)": 0,
          "level_0": 0
         },
         {
          "Count": 1406,
          "Country/Region": "China",
          "Date": "1/25/20",
          "Lat": 1083.3367,
          "Long": 3684.4197000000004,
          "Population(1 July 2019)": 0,
          "level_0": 0
         },
         {
          "Count": 2075,
          "Country/Region": "China",
          "Date": "1/26/20",
          "Lat": 1083.3367,
          "Long": 3684.4197000000004,
          "Population(1 July 2019)": 0,
          "level_0": 0
         },
         {
          "Count": 2877,
          "Country/Region": "China",
          "Date": "1/27/20",
          "Lat": 1083.3367,
          "Long": 3684.4197000000004,
          "Population(1 July 2019)": 0,
          "level_0": 0
         },
         {
          "Count": 5509,
          "Country/Region": "China",
          "Date": "1/28/20",
          "Lat": 1083.3367,
          "Long": 3684.4197000000004,
          "Population(1 July 2019)": 0,
          "level_0": 0
         },
         {
          "Count": 6087,
          "Country/Region": "China",
          "Date": "1/29/20",
          "Lat": 1083.3367,
          "Long": 3684.4197000000004,
          "Population(1 July 2019)": 0,
          "level_0": 0
         },
         {
          "Count": 8141,
          "Country/Region": "China",
          "Date": "1/30/20",
          "Lat": 1083.3367,
          "Long": 3684.4197000000004,
          "Population(1 July 2019)": 0,
          "level_0": 0
         },
         {
          "Count": 9802,
          "Country/Region": "China",
          "Date": "1/31/20",
          "Lat": 1083.3367,
          "Long": 3684.4197000000004,
          "Population(1 July 2019)": 0,
          "level_0": 0
         },
         {
          "Count": 11891,
          "Country/Region": "China",
          "Date": "2/1/20",
          "Lat": 1083.3367,
          "Long": 3684.4197000000004,
          "Population(1 July 2019)": 0,
          "level_0": 0
         },
         {
          "Count": 16630,
          "Country/Region": "China",
          "Date": "2/2/20",
          "Lat": 1083.3367,
          "Long": 3684.4197000000004,
          "Population(1 July 2019)": 0,
          "level_0": 0
         },
         {
          "Count": 19716,
          "Country/Region": "China",
          "Date": "2/3/20",
          "Lat": 1083.3367,
          "Long": 3684.4197000000004,
          "Population(1 July 2019)": 0,
          "level_0": 0
         },
         {
          "Count": 23707,
          "Country/Region": "China",
          "Date": "2/4/20",
          "Lat": 1083.3367,
          "Long": 3684.4197000000004,
          "Population(1 July 2019)": 0,
          "level_0": 0
         },
         {
          "Count": 27440,
          "Country/Region": "China",
          "Date": "2/5/20",
          "Lat": 1083.3367,
          "Long": 3684.4197000000004,
          "Population(1 July 2019)": 0,
          "level_0": 0
         },
         {
          "Count": 30587,
          "Country/Region": "China",
          "Date": "2/6/20",
          "Lat": 1083.3367,
          "Long": 3684.4197000000004,
          "Population(1 July 2019)": 0,
          "level_0": 0
         },
         {
          "Count": 34110,
          "Country/Region": "China",
          "Date": "2/7/20",
          "Lat": 1083.3367,
          "Long": 3684.4197000000004,
          "Population(1 July 2019)": 0,
          "level_0": 0
         },
         {
          "Count": 36814,
          "Country/Region": "China",
          "Date": "2/8/20",
          "Lat": 1083.3367,
          "Long": 3684.4197000000004,
          "Population(1 July 2019)": 0,
          "level_0": 0
         },
         {
          "Count": 39829,
          "Country/Region": "China",
          "Date": "2/9/20",
          "Lat": 1083.3367,
          "Long": 3684.4197000000004,
          "Population(1 July 2019)": 0,
          "level_0": 0
         },
         {
          "Count": 42354,
          "Country/Region": "China",
          "Date": "2/10/20",
          "Lat": 1083.3367,
          "Long": 3684.4197000000004,
          "Population(1 July 2019)": 0,
          "level_0": 0
         },
         {
          "Count": 44386,
          "Country/Region": "China",
          "Date": "2/11/20",
          "Lat": 1083.3367,
          "Long": 3684.4197000000004,
          "Population(1 July 2019)": 0,
          "level_0": 0
         },
         {
          "Count": 44759,
          "Country/Region": "China",
          "Date": "2/12/20",
          "Lat": 1083.3367,
          "Long": 3684.4197000000004,
          "Population(1 July 2019)": 0,
          "level_0": 0
         },
         {
          "Count": 59895,
          "Country/Region": "China",
          "Date": "2/13/20",
          "Lat": 1083.3367,
          "Long": 3684.4197000000004,
          "Population(1 July 2019)": 0,
          "level_0": 0
         },
         {
          "Count": 66358,
          "Country/Region": "China",
          "Date": "2/14/20",
          "Lat": 1083.3367,
          "Long": 3684.4197000000004,
          "Population(1 July 2019)": 0,
          "level_0": 0
         },
         {
          "Count": 68413,
          "Country/Region": "China",
          "Date": "2/15/20",
          "Lat": 1083.3367,
          "Long": 3684.4197000000004,
          "Population(1 July 2019)": 0,
          "level_0": 0
         },
         {
          "Count": 70513,
          "Country/Region": "China",
          "Date": "2/16/20",
          "Lat": 1083.3367,
          "Long": 3684.4197000000004,
          "Population(1 July 2019)": 0,
          "level_0": 0
         },
         {
          "Count": 72434,
          "Country/Region": "China",
          "Date": "2/17/20",
          "Lat": 1083.3367,
          "Long": 3684.4197000000004,
          "Population(1 July 2019)": 0,
          "level_0": 0
         },
         {
          "Count": 74211,
          "Country/Region": "China",
          "Date": "2/18/20",
          "Lat": 1083.3367,
          "Long": 3684.4197000000004,
          "Population(1 July 2019)": 0,
          "level_0": 0
         },
         {
          "Count": 74619,
          "Country/Region": "China",
          "Date": "2/19/20",
          "Lat": 1083.3367,
          "Long": 3684.4197000000004,
          "Population(1 July 2019)": 0,
          "level_0": 0
         },
         {
          "Count": 75077,
          "Country/Region": "China",
          "Date": "2/20/20",
          "Lat": 1083.3367,
          "Long": 3684.4197000000004,
          "Population(1 July 2019)": 0,
          "level_0": 0
         },
         {
          "Count": 75550,
          "Country/Region": "China",
          "Date": "2/21/20",
          "Lat": 1083.3367,
          "Long": 3684.4197000000004,
          "Population(1 July 2019)": 0,
          "level_0": 0
         },
         {
          "Count": 77001,
          "Country/Region": "China",
          "Date": "2/22/20",
          "Lat": 1083.3367,
          "Long": 3684.4197000000004,
          "Population(1 July 2019)": 0,
          "level_0": 0
         },
         {
          "Count": 77022,
          "Country/Region": "China",
          "Date": "2/23/20",
          "Lat": 1083.3367,
          "Long": 3684.4197000000004,
          "Population(1 July 2019)": 0,
          "level_0": 0
         },
         {
          "Count": 77241,
          "Country/Region": "China",
          "Date": "2/24/20",
          "Lat": 1083.3367,
          "Long": 3684.4197000000004,
          "Population(1 July 2019)": 0,
          "level_0": 0
         },
         {
          "Count": 77754,
          "Country/Region": "China",
          "Date": "2/25/20",
          "Lat": 1083.3367,
          "Long": 3684.4197000000004,
          "Population(1 July 2019)": 0,
          "level_0": 0
         },
         {
          "Count": 78166,
          "Country/Region": "China",
          "Date": "2/26/20",
          "Lat": 1083.3367,
          "Long": 3684.4197000000004,
          "Population(1 July 2019)": 0,
          "level_0": 0
         },
         {
          "Count": 78600,
          "Country/Region": "China",
          "Date": "2/27/20",
          "Lat": 1083.3367,
          "Long": 3684.4197000000004,
          "Population(1 July 2019)": 0,
          "level_0": 0
         },
         {
          "Count": 78928,
          "Country/Region": "China",
          "Date": "2/28/20",
          "Lat": 1083.3367,
          "Long": 3684.4197000000004,
          "Population(1 July 2019)": 0,
          "level_0": 0
         },
         {
          "Count": 79356,
          "Country/Region": "China",
          "Date": "2/29/20",
          "Lat": 1083.3367,
          "Long": 3684.4197000000004,
          "Population(1 July 2019)": 0,
          "level_0": 0
         },
         {
          "Count": 79932,
          "Country/Region": "China",
          "Date": "3/1/20",
          "Lat": 1083.3367,
          "Long": 3684.4197000000004,
          "Population(1 July 2019)": 0,
          "level_0": 0
         },
         {
          "Count": 80136,
          "Country/Region": "China",
          "Date": "3/2/20",
          "Lat": 1083.3367,
          "Long": 3684.4197000000004,
          "Population(1 July 2019)": 0,
          "level_0": 0
         },
         {
          "Count": 80261,
          "Country/Region": "China",
          "Date": "3/3/20",
          "Lat": 1083.3367,
          "Long": 3684.4197000000004,
          "Population(1 July 2019)": 0,
          "level_0": 0
         },
         {
          "Count": 80386,
          "Country/Region": "China",
          "Date": "3/4/20",
          "Lat": 1083.3367,
          "Long": 3684.4197000000004,
          "Population(1 July 2019)": 0,
          "level_0": 0
         },
         {
          "Count": 80537,
          "Country/Region": "China",
          "Date": "3/5/20",
          "Lat": 1083.3367,
          "Long": 3684.4197000000004,
          "Population(1 July 2019)": 0,
          "level_0": 0
         },
         {
          "Count": 80690,
          "Country/Region": "China",
          "Date": "3/6/20",
          "Lat": 1083.3367,
          "Long": 3684.4197000000004,
          "Population(1 July 2019)": 0,
          "level_0": 0
         },
         {
          "Count": 80770,
          "Country/Region": "China",
          "Date": "3/7/20",
          "Lat": 1083.3367,
          "Long": 3684.4197000000004,
          "Population(1 July 2019)": 0,
          "level_0": 0
         },
         {
          "Count": 80823,
          "Country/Region": "China",
          "Date": "3/8/20",
          "Lat": 1083.3367,
          "Long": 3684.4197000000004,
          "Population(1 July 2019)": 0,
          "level_0": 0
         },
         {
          "Count": 80860,
          "Country/Region": "China",
          "Date": "3/9/20",
          "Lat": 1083.3367,
          "Long": 3684.4197000000004,
          "Population(1 July 2019)": 0,
          "level_0": 0
         },
         {
          "Count": 80887,
          "Country/Region": "China",
          "Date": "3/10/20",
          "Lat": 1083.3367,
          "Long": 3684.4197000000004,
          "Population(1 July 2019)": 0,
          "level_0": 0
         },
         {
          "Count": 80921,
          "Country/Region": "China",
          "Date": "3/11/20",
          "Lat": 1083.3367,
          "Long": 3684.4197000000004,
          "Population(1 July 2019)": 0,
          "level_0": 0
         },
         {
          "Count": 80932,
          "Country/Region": "China",
          "Date": "3/12/20",
          "Lat": 1083.3367,
          "Long": 3684.4197000000004,
          "Population(1 July 2019)": 0,
          "level_0": 0
         },
         {
          "Count": 80945,
          "Country/Region": "China",
          "Date": "3/13/20",
          "Lat": 1083.3367,
          "Long": 3684.4197000000004,
          "Population(1 July 2019)": 0,
          "level_0": 0
         },
         {
          "Count": 80977,
          "Country/Region": "China",
          "Date": "3/14/20",
          "Lat": 1083.3367,
          "Long": 3684.4197000000004,
          "Population(1 July 2019)": 0,
          "level_0": 0
         },
         {
          "Count": 81003,
          "Country/Region": "China",
          "Date": "3/15/20",
          "Lat": 1083.3367,
          "Long": 3684.4197000000004,
          "Population(1 July 2019)": 0,
          "level_0": 0
         },
         {
          "Count": 81033,
          "Country/Region": "China",
          "Date": "3/16/20",
          "Lat": 1083.3367,
          "Long": 3684.4197000000004,
          "Population(1 July 2019)": 0,
          "level_0": 0
         },
         {
          "Count": 81058,
          "Country/Region": "China",
          "Date": "3/17/20",
          "Lat": 1083.3367,
          "Long": 3684.4197000000004,
          "Population(1 July 2019)": 0,
          "level_0": 0
         },
         {
          "Count": 81102,
          "Country/Region": "China",
          "Date": "3/18/20",
          "Lat": 1083.3367,
          "Long": 3684.4197000000004,
          "Population(1 July 2019)": 0,
          "level_0": 0
         },
         {
          "Count": 81156,
          "Country/Region": "China",
          "Date": "3/19/20",
          "Lat": 1083.3367,
          "Long": 3684.4197000000004,
          "Population(1 July 2019)": 0,
          "level_0": 0
         },
         {
          "Count": 81250,
          "Country/Region": "China",
          "Date": "3/20/20",
          "Lat": 1083.3367,
          "Long": 3684.4197000000004,
          "Population(1 July 2019)": 0,
          "level_0": 0
         },
         {
          "Count": 81305,
          "Country/Region": "China",
          "Date": "3/21/20",
          "Lat": 1083.3367,
          "Long": 3684.4197000000004,
          "Population(1 July 2019)": 0,
          "level_0": 0
         },
         {
          "Count": 81435,
          "Country/Region": "China",
          "Date": "3/22/20",
          "Lat": 1083.3367,
          "Long": 3684.4197000000004,
          "Population(1 July 2019)": 0,
          "level_0": 0
         },
         {
          "Count": 81498,
          "Country/Region": "China",
          "Date": "3/23/20",
          "Lat": 1083.3367,
          "Long": 3684.4197000000004,
          "Population(1 July 2019)": 0,
          "level_0": 0
         },
         {
          "Count": 81591,
          "Country/Region": "China",
          "Date": "3/24/20",
          "Lat": 1083.3367,
          "Long": 3684.4197000000004,
          "Population(1 July 2019)": 0,
          "level_0": 0
         },
         {
          "Count": 0,
          "Country/Region": "France",
          "Date": "1/22/20",
          "Lat": 44.477199999999996,
          "Long": 116.03509999999999,
          "Population(1 July 2019)": 0,
          "level_0": 1
         },
         {
          "Count": 0,
          "Country/Region": "France",
          "Date": "1/23/20",
          "Lat": 44.477199999999996,
          "Long": 116.03509999999999,
          "Population(1 July 2019)": 0,
          "level_0": 1
         },
         {
          "Count": 2,
          "Country/Region": "France",
          "Date": "1/24/20",
          "Lat": 44.477199999999996,
          "Long": 116.03509999999999,
          "Population(1 July 2019)": 0,
          "level_0": 1
         },
         {
          "Count": 3,
          "Country/Region": "France",
          "Date": "1/25/20",
          "Lat": 44.477199999999996,
          "Long": 116.03509999999999,
          "Population(1 July 2019)": 0,
          "level_0": 1
         },
         {
          "Count": 3,
          "Country/Region": "France",
          "Date": "1/26/20",
          "Lat": 44.477199999999996,
          "Long": 116.03509999999999,
          "Population(1 July 2019)": 0,
          "level_0": 1
         },
         {
          "Count": 3,
          "Country/Region": "France",
          "Date": "1/27/20",
          "Lat": 44.477199999999996,
          "Long": 116.03509999999999,
          "Population(1 July 2019)": 0,
          "level_0": 1
         },
         {
          "Count": 4,
          "Country/Region": "France",
          "Date": "1/28/20",
          "Lat": 44.477199999999996,
          "Long": 116.03509999999999,
          "Population(1 July 2019)": 0,
          "level_0": 1
         },
         {
          "Count": 5,
          "Country/Region": "France",
          "Date": "1/29/20",
          "Lat": 44.477199999999996,
          "Long": 116.03509999999999,
          "Population(1 July 2019)": 0,
          "level_0": 1
         },
         {
          "Count": 5,
          "Country/Region": "France",
          "Date": "1/30/20",
          "Lat": 44.477199999999996,
          "Long": 116.03509999999999,
          "Population(1 July 2019)": 0,
          "level_0": 1
         },
         {
          "Count": 5,
          "Country/Region": "France",
          "Date": "1/31/20",
          "Lat": 44.477199999999996,
          "Long": 116.03509999999999,
          "Population(1 July 2019)": 0,
          "level_0": 1
         },
         {
          "Count": 6,
          "Country/Region": "France",
          "Date": "2/1/20",
          "Lat": 44.477199999999996,
          "Long": 116.03509999999999,
          "Population(1 July 2019)": 0,
          "level_0": 1
         },
         {
          "Count": 6,
          "Country/Region": "France",
          "Date": "2/2/20",
          "Lat": 44.477199999999996,
          "Long": 116.03509999999999,
          "Population(1 July 2019)": 0,
          "level_0": 1
         },
         {
          "Count": 6,
          "Country/Region": "France",
          "Date": "2/3/20",
          "Lat": 44.477199999999996,
          "Long": 116.03509999999999,
          "Population(1 July 2019)": 0,
          "level_0": 1
         },
         {
          "Count": 6,
          "Country/Region": "France",
          "Date": "2/4/20",
          "Lat": 44.477199999999996,
          "Long": 116.03509999999999,
          "Population(1 July 2019)": 0,
          "level_0": 1
         },
         {
          "Count": 6,
          "Country/Region": "France",
          "Date": "2/5/20",
          "Lat": 44.477199999999996,
          "Long": 116.03509999999999,
          "Population(1 July 2019)": 0,
          "level_0": 1
         },
         {
          "Count": 6,
          "Country/Region": "France",
          "Date": "2/6/20",
          "Lat": 44.477199999999996,
          "Long": 116.03509999999999,
          "Population(1 July 2019)": 0,
          "level_0": 1
         },
         {
          "Count": 6,
          "Country/Region": "France",
          "Date": "2/7/20",
          "Lat": 44.477199999999996,
          "Long": 116.03509999999999,
          "Population(1 July 2019)": 0,
          "level_0": 1
         },
         {
          "Count": 11,
          "Country/Region": "France",
          "Date": "2/8/20",
          "Lat": 44.477199999999996,
          "Long": 116.03509999999999,
          "Population(1 July 2019)": 0,
          "level_0": 1
         },
         {
          "Count": 11,
          "Country/Region": "France",
          "Date": "2/9/20",
          "Lat": 44.477199999999996,
          "Long": 116.03509999999999,
          "Population(1 July 2019)": 0,
          "level_0": 1
         },
         {
          "Count": 11,
          "Country/Region": "France",
          "Date": "2/10/20",
          "Lat": 44.477199999999996,
          "Long": 116.03509999999999,
          "Population(1 July 2019)": 0,
          "level_0": 1
         },
         {
          "Count": 11,
          "Country/Region": "France",
          "Date": "2/11/20",
          "Lat": 44.477199999999996,
          "Long": 116.03509999999999,
          "Population(1 July 2019)": 0,
          "level_0": 1
         },
         {
          "Count": 11,
          "Country/Region": "France",
          "Date": "2/12/20",
          "Lat": 44.477199999999996,
          "Long": 116.03509999999999,
          "Population(1 July 2019)": 0,
          "level_0": 1
         },
         {
          "Count": 11,
          "Country/Region": "France",
          "Date": "2/13/20",
          "Lat": 44.477199999999996,
          "Long": 116.03509999999999,
          "Population(1 July 2019)": 0,
          "level_0": 1
         },
         {
          "Count": 11,
          "Country/Region": "France",
          "Date": "2/14/20",
          "Lat": 44.477199999999996,
          "Long": 116.03509999999999,
          "Population(1 July 2019)": 0,
          "level_0": 1
         },
         {
          "Count": 12,
          "Country/Region": "France",
          "Date": "2/15/20",
          "Lat": 44.477199999999996,
          "Long": 116.03509999999999,
          "Population(1 July 2019)": 0,
          "level_0": 1
         },
         {
          "Count": 12,
          "Country/Region": "France",
          "Date": "2/16/20",
          "Lat": 44.477199999999996,
          "Long": 116.03509999999999,
          "Population(1 July 2019)": 0,
          "level_0": 1
         },
         {
          "Count": 12,
          "Country/Region": "France",
          "Date": "2/17/20",
          "Lat": 44.477199999999996,
          "Long": 116.03509999999999,
          "Population(1 July 2019)": 0,
          "level_0": 1
         },
         {
          "Count": 12,
          "Country/Region": "France",
          "Date": "2/18/20",
          "Lat": 44.477199999999996,
          "Long": 116.03509999999999,
          "Population(1 July 2019)": 0,
          "level_0": 1
         },
         {
          "Count": 12,
          "Country/Region": "France",
          "Date": "2/19/20",
          "Lat": 44.477199999999996,
          "Long": 116.03509999999999,
          "Population(1 July 2019)": 0,
          "level_0": 1
         },
         {
          "Count": 12,
          "Country/Region": "France",
          "Date": "2/20/20",
          "Lat": 44.477199999999996,
          "Long": 116.03509999999999,
          "Population(1 July 2019)": 0,
          "level_0": 1
         },
         {
          "Count": 12,
          "Country/Region": "France",
          "Date": "2/21/20",
          "Lat": 44.477199999999996,
          "Long": 116.03509999999999,
          "Population(1 July 2019)": 0,
          "level_0": 1
         },
         {
          "Count": 12,
          "Country/Region": "France",
          "Date": "2/22/20",
          "Lat": 44.477199999999996,
          "Long": 116.03509999999999,
          "Population(1 July 2019)": 0,
          "level_0": 1
         },
         {
          "Count": 12,
          "Country/Region": "France",
          "Date": "2/23/20",
          "Lat": 44.477199999999996,
          "Long": 116.03509999999999,
          "Population(1 July 2019)": 0,
          "level_0": 1
         },
         {
          "Count": 12,
          "Country/Region": "France",
          "Date": "2/24/20",
          "Lat": 44.477199999999996,
          "Long": 116.03509999999999,
          "Population(1 July 2019)": 0,
          "level_0": 1
         },
         {
          "Count": 14,
          "Country/Region": "France",
          "Date": "2/25/20",
          "Lat": 44.477199999999996,
          "Long": 116.03509999999999,
          "Population(1 July 2019)": 0,
          "level_0": 1
         },
         {
          "Count": 18,
          "Country/Region": "France",
          "Date": "2/26/20",
          "Lat": 44.477199999999996,
          "Long": 116.03509999999999,
          "Population(1 July 2019)": 0,
          "level_0": 1
         },
         {
          "Count": 38,
          "Country/Region": "France",
          "Date": "2/27/20",
          "Lat": 44.477199999999996,
          "Long": 116.03509999999999,
          "Population(1 July 2019)": 0,
          "level_0": 1
         },
         {
          "Count": 57,
          "Country/Region": "France",
          "Date": "2/28/20",
          "Lat": 44.477199999999996,
          "Long": 116.03509999999999,
          "Population(1 July 2019)": 0,
          "level_0": 1
         },
         {
          "Count": 100,
          "Country/Region": "France",
          "Date": "2/29/20",
          "Lat": 44.477199999999996,
          "Long": 116.03509999999999,
          "Population(1 July 2019)": 0,
          "level_0": 1
         },
         {
          "Count": 130,
          "Country/Region": "France",
          "Date": "3/1/20",
          "Lat": 44.477199999999996,
          "Long": 116.03509999999999,
          "Population(1 July 2019)": 0,
          "level_0": 1
         },
         {
          "Count": 191,
          "Country/Region": "France",
          "Date": "3/2/20",
          "Lat": 44.477199999999996,
          "Long": 116.03509999999999,
          "Population(1 July 2019)": 0,
          "level_0": 1
         },
         {
          "Count": 204,
          "Country/Region": "France",
          "Date": "3/3/20",
          "Lat": 44.477199999999996,
          "Long": 116.03509999999999,
          "Population(1 July 2019)": 0,
          "level_0": 1
         },
         {
          "Count": 288,
          "Country/Region": "France",
          "Date": "3/4/20",
          "Lat": 44.477199999999996,
          "Long": 116.03509999999999,
          "Population(1 July 2019)": 0,
          "level_0": 1
         },
         {
          "Count": 380,
          "Country/Region": "France",
          "Date": "3/5/20",
          "Lat": 44.477199999999996,
          "Long": 116.03509999999999,
          "Population(1 July 2019)": 0,
          "level_0": 1
         },
         {
          "Count": 656,
          "Country/Region": "France",
          "Date": "3/6/20",
          "Lat": 44.477199999999996,
          "Long": 116.03509999999999,
          "Population(1 July 2019)": 0,
          "level_0": 1
         },
         {
          "Count": 959,
          "Country/Region": "France",
          "Date": "3/7/20",
          "Lat": 44.477199999999996,
          "Long": 116.03509999999999,
          "Population(1 July 2019)": 0,
          "level_0": 1
         },
         {
          "Count": 1136,
          "Country/Region": "France",
          "Date": "3/8/20",
          "Lat": 44.477199999999996,
          "Long": 116.03509999999999,
          "Population(1 July 2019)": 0,
          "level_0": 1
         },
         {
          "Count": 1219,
          "Country/Region": "France",
          "Date": "3/9/20",
          "Lat": 44.477199999999996,
          "Long": 116.03509999999999,
          "Population(1 July 2019)": 0,
          "level_0": 1
         },
         {
          "Count": 1794,
          "Country/Region": "France",
          "Date": "3/10/20",
          "Lat": 44.477199999999996,
          "Long": 116.03509999999999,
          "Population(1 July 2019)": 0,
          "level_0": 1
         },
         {
          "Count": 2293,
          "Country/Region": "France",
          "Date": "3/11/20",
          "Lat": 44.477199999999996,
          "Long": 116.03509999999999,
          "Population(1 July 2019)": 0,
          "level_0": 1
         },
         {
          "Count": 2293,
          "Country/Region": "France",
          "Date": "3/12/20",
          "Lat": 44.477199999999996,
          "Long": 116.03509999999999,
          "Population(1 July 2019)": 0,
          "level_0": 1
         },
         {
          "Count": 3681,
          "Country/Region": "France",
          "Date": "3/13/20",
          "Lat": 44.477199999999996,
          "Long": 116.03509999999999,
          "Population(1 July 2019)": 0,
          "level_0": 1
         },
         {
          "Count": 4496,
          "Country/Region": "France",
          "Date": "3/14/20",
          "Lat": 44.477199999999996,
          "Long": 116.03509999999999,
          "Population(1 July 2019)": 0,
          "level_0": 1
         },
         {
          "Count": 4532,
          "Country/Region": "France",
          "Date": "3/15/20",
          "Lat": 44.477199999999996,
          "Long": 116.03509999999999,
          "Population(1 July 2019)": 0,
          "level_0": 1
         },
         {
          "Count": 6683,
          "Country/Region": "France",
          "Date": "3/16/20",
          "Lat": 44.477199999999996,
          "Long": 116.03509999999999,
          "Population(1 July 2019)": 0,
          "level_0": 1
         },
         {
          "Count": 7715,
          "Country/Region": "France",
          "Date": "3/17/20",
          "Lat": 44.477199999999996,
          "Long": 116.03509999999999,
          "Population(1 July 2019)": 0,
          "level_0": 1
         },
         {
          "Count": 9124,
          "Country/Region": "France",
          "Date": "3/18/20",
          "Lat": 44.477199999999996,
          "Long": 116.03509999999999,
          "Population(1 July 2019)": 0,
          "level_0": 1
         },
         {
          "Count": 10970,
          "Country/Region": "France",
          "Date": "3/19/20",
          "Lat": 44.477199999999996,
          "Long": 116.03509999999999,
          "Population(1 July 2019)": 0,
          "level_0": 1
         },
         {
          "Count": 12758,
          "Country/Region": "France",
          "Date": "3/20/20",
          "Lat": 44.477199999999996,
          "Long": 116.03509999999999,
          "Population(1 July 2019)": 0,
          "level_0": 1
         },
         {
          "Count": 14463,
          "Country/Region": "France",
          "Date": "3/21/20",
          "Lat": 44.477199999999996,
          "Long": 116.03509999999999,
          "Population(1 July 2019)": 0,
          "level_0": 1
         },
         {
          "Count": 16243,
          "Country/Region": "France",
          "Date": "3/22/20",
          "Lat": 44.477199999999996,
          "Long": 116.03509999999999,
          "Population(1 July 2019)": 0,
          "level_0": 1
         },
         {
          "Count": 20123,
          "Country/Region": "France",
          "Date": "3/23/20",
          "Lat": 44.477199999999996,
          "Long": 116.03509999999999,
          "Population(1 July 2019)": 0,
          "level_0": 1
         },
         {
          "Count": 22622,
          "Country/Region": "France",
          "Date": "3/24/20",
          "Lat": 44.477199999999996,
          "Long": 116.03509999999999,
          "Population(1 July 2019)": 0,
          "level_0": 1
         },
         {
          "Count": 0,
          "Country/Region": "Germany",
          "Date": "1/22/20",
          "Lat": 51,
          "Long": 9,
          "Population(1 July 2019)": 0,
          "level_0": 2
         },
         {
          "Count": 0,
          "Country/Region": "Germany",
          "Date": "1/23/20",
          "Lat": 51,
          "Long": 9,
          "Population(1 July 2019)": 0,
          "level_0": 2
         },
         {
          "Count": 0,
          "Country/Region": "Germany",
          "Date": "1/24/20",
          "Lat": 51,
          "Long": 9,
          "Population(1 July 2019)": 0,
          "level_0": 2
         },
         {
          "Count": 0,
          "Country/Region": "Germany",
          "Date": "1/25/20",
          "Lat": 51,
          "Long": 9,
          "Population(1 July 2019)": 0,
          "level_0": 2
         },
         {
          "Count": 0,
          "Country/Region": "Germany",
          "Date": "1/26/20",
          "Lat": 51,
          "Long": 9,
          "Population(1 July 2019)": 0,
          "level_0": 2
         },
         {
          "Count": 1,
          "Country/Region": "Germany",
          "Date": "1/27/20",
          "Lat": 51,
          "Long": 9,
          "Population(1 July 2019)": 0,
          "level_0": 2
         },
         {
          "Count": 4,
          "Country/Region": "Germany",
          "Date": "1/28/20",
          "Lat": 51,
          "Long": 9,
          "Population(1 July 2019)": 0,
          "level_0": 2
         },
         {
          "Count": 4,
          "Country/Region": "Germany",
          "Date": "1/29/20",
          "Lat": 51,
          "Long": 9,
          "Population(1 July 2019)": 0,
          "level_0": 2
         },
         {
          "Count": 4,
          "Country/Region": "Germany",
          "Date": "1/30/20",
          "Lat": 51,
          "Long": 9,
          "Population(1 July 2019)": 0,
          "level_0": 2
         },
         {
          "Count": 5,
          "Country/Region": "Germany",
          "Date": "1/31/20",
          "Lat": 51,
          "Long": 9,
          "Population(1 July 2019)": 0,
          "level_0": 2
         },
         {
          "Count": 8,
          "Country/Region": "Germany",
          "Date": "2/1/20",
          "Lat": 51,
          "Long": 9,
          "Population(1 July 2019)": 0,
          "level_0": 2
         },
         {
          "Count": 10,
          "Country/Region": "Germany",
          "Date": "2/2/20",
          "Lat": 51,
          "Long": 9,
          "Population(1 July 2019)": 0,
          "level_0": 2
         },
         {
          "Count": 12,
          "Country/Region": "Germany",
          "Date": "2/3/20",
          "Lat": 51,
          "Long": 9,
          "Population(1 July 2019)": 0,
          "level_0": 2
         },
         {
          "Count": 12,
          "Country/Region": "Germany",
          "Date": "2/4/20",
          "Lat": 51,
          "Long": 9,
          "Population(1 July 2019)": 0,
          "level_0": 2
         },
         {
          "Count": 12,
          "Country/Region": "Germany",
          "Date": "2/5/20",
          "Lat": 51,
          "Long": 9,
          "Population(1 July 2019)": 0,
          "level_0": 2
         },
         {
          "Count": 12,
          "Country/Region": "Germany",
          "Date": "2/6/20",
          "Lat": 51,
          "Long": 9,
          "Population(1 July 2019)": 0,
          "level_0": 2
         },
         {
          "Count": 13,
          "Country/Region": "Germany",
          "Date": "2/7/20",
          "Lat": 51,
          "Long": 9,
          "Population(1 July 2019)": 0,
          "level_0": 2
         },
         {
          "Count": 13,
          "Country/Region": "Germany",
          "Date": "2/8/20",
          "Lat": 51,
          "Long": 9,
          "Population(1 July 2019)": 0,
          "level_0": 2
         },
         {
          "Count": 14,
          "Country/Region": "Germany",
          "Date": "2/9/20",
          "Lat": 51,
          "Long": 9,
          "Population(1 July 2019)": 0,
          "level_0": 2
         },
         {
          "Count": 14,
          "Country/Region": "Germany",
          "Date": "2/10/20",
          "Lat": 51,
          "Long": 9,
          "Population(1 July 2019)": 0,
          "level_0": 2
         },
         {
          "Count": 16,
          "Country/Region": "Germany",
          "Date": "2/11/20",
          "Lat": 51,
          "Long": 9,
          "Population(1 July 2019)": 0,
          "level_0": 2
         },
         {
          "Count": 16,
          "Country/Region": "Germany",
          "Date": "2/12/20",
          "Lat": 51,
          "Long": 9,
          "Population(1 July 2019)": 0,
          "level_0": 2
         },
         {
          "Count": 16,
          "Country/Region": "Germany",
          "Date": "2/13/20",
          "Lat": 51,
          "Long": 9,
          "Population(1 July 2019)": 0,
          "level_0": 2
         },
         {
          "Count": 16,
          "Country/Region": "Germany",
          "Date": "2/14/20",
          "Lat": 51,
          "Long": 9,
          "Population(1 July 2019)": 0,
          "level_0": 2
         },
         {
          "Count": 16,
          "Country/Region": "Germany",
          "Date": "2/15/20",
          "Lat": 51,
          "Long": 9,
          "Population(1 July 2019)": 0,
          "level_0": 2
         },
         {
          "Count": 16,
          "Country/Region": "Germany",
          "Date": "2/16/20",
          "Lat": 51,
          "Long": 9,
          "Population(1 July 2019)": 0,
          "level_0": 2
         },
         {
          "Count": 16,
          "Country/Region": "Germany",
          "Date": "2/17/20",
          "Lat": 51,
          "Long": 9,
          "Population(1 July 2019)": 0,
          "level_0": 2
         },
         {
          "Count": 16,
          "Country/Region": "Germany",
          "Date": "2/18/20",
          "Lat": 51,
          "Long": 9,
          "Population(1 July 2019)": 0,
          "level_0": 2
         },
         {
          "Count": 16,
          "Country/Region": "Germany",
          "Date": "2/19/20",
          "Lat": 51,
          "Long": 9,
          "Population(1 July 2019)": 0,
          "level_0": 2
         },
         {
          "Count": 16,
          "Country/Region": "Germany",
          "Date": "2/20/20",
          "Lat": 51,
          "Long": 9,
          "Population(1 July 2019)": 0,
          "level_0": 2
         },
         {
          "Count": 16,
          "Country/Region": "Germany",
          "Date": "2/21/20",
          "Lat": 51,
          "Long": 9,
          "Population(1 July 2019)": 0,
          "level_0": 2
         },
         {
          "Count": 16,
          "Country/Region": "Germany",
          "Date": "2/22/20",
          "Lat": 51,
          "Long": 9,
          "Population(1 July 2019)": 0,
          "level_0": 2
         },
         {
          "Count": 16,
          "Country/Region": "Germany",
          "Date": "2/23/20",
          "Lat": 51,
          "Long": 9,
          "Population(1 July 2019)": 0,
          "level_0": 2
         },
         {
          "Count": 16,
          "Country/Region": "Germany",
          "Date": "2/24/20",
          "Lat": 51,
          "Long": 9,
          "Population(1 July 2019)": 0,
          "level_0": 2
         },
         {
          "Count": 17,
          "Country/Region": "Germany",
          "Date": "2/25/20",
          "Lat": 51,
          "Long": 9,
          "Population(1 July 2019)": 0,
          "level_0": 2
         },
         {
          "Count": 27,
          "Country/Region": "Germany",
          "Date": "2/26/20",
          "Lat": 51,
          "Long": 9,
          "Population(1 July 2019)": 0,
          "level_0": 2
         },
         {
          "Count": 46,
          "Country/Region": "Germany",
          "Date": "2/27/20",
          "Lat": 51,
          "Long": 9,
          "Population(1 July 2019)": 0,
          "level_0": 2
         },
         {
          "Count": 48,
          "Country/Region": "Germany",
          "Date": "2/28/20",
          "Lat": 51,
          "Long": 9,
          "Population(1 July 2019)": 0,
          "level_0": 2
         },
         {
          "Count": 79,
          "Country/Region": "Germany",
          "Date": "2/29/20",
          "Lat": 51,
          "Long": 9,
          "Population(1 July 2019)": 0,
          "level_0": 2
         },
         {
          "Count": 130,
          "Country/Region": "Germany",
          "Date": "3/1/20",
          "Lat": 51,
          "Long": 9,
          "Population(1 July 2019)": 0,
          "level_0": 2
         },
         {
          "Count": 159,
          "Country/Region": "Germany",
          "Date": "3/2/20",
          "Lat": 51,
          "Long": 9,
          "Population(1 July 2019)": 0,
          "level_0": 2
         },
         {
          "Count": 196,
          "Country/Region": "Germany",
          "Date": "3/3/20",
          "Lat": 51,
          "Long": 9,
          "Population(1 July 2019)": 0,
          "level_0": 2
         },
         {
          "Count": 262,
          "Country/Region": "Germany",
          "Date": "3/4/20",
          "Lat": 51,
          "Long": 9,
          "Population(1 July 2019)": 0,
          "level_0": 2
         },
         {
          "Count": 482,
          "Country/Region": "Germany",
          "Date": "3/5/20",
          "Lat": 51,
          "Long": 9,
          "Population(1 July 2019)": 0,
          "level_0": 2
         },
         {
          "Count": 670,
          "Country/Region": "Germany",
          "Date": "3/6/20",
          "Lat": 51,
          "Long": 9,
          "Population(1 July 2019)": 0,
          "level_0": 2
         },
         {
          "Count": 799,
          "Country/Region": "Germany",
          "Date": "3/7/20",
          "Lat": 51,
          "Long": 9,
          "Population(1 July 2019)": 0,
          "level_0": 2
         },
         {
          "Count": 1040,
          "Country/Region": "Germany",
          "Date": "3/8/20",
          "Lat": 51,
          "Long": 9,
          "Population(1 July 2019)": 0,
          "level_0": 2
         },
         {
          "Count": 1176,
          "Country/Region": "Germany",
          "Date": "3/9/20",
          "Lat": 51,
          "Long": 9,
          "Population(1 July 2019)": 0,
          "level_0": 2
         },
         {
          "Count": 1457,
          "Country/Region": "Germany",
          "Date": "3/10/20",
          "Lat": 51,
          "Long": 9,
          "Population(1 July 2019)": 0,
          "level_0": 2
         },
         {
          "Count": 1908,
          "Country/Region": "Germany",
          "Date": "3/11/20",
          "Lat": 51,
          "Long": 9,
          "Population(1 July 2019)": 0,
          "level_0": 2
         },
         {
          "Count": 2078,
          "Country/Region": "Germany",
          "Date": "3/12/20",
          "Lat": 51,
          "Long": 9,
          "Population(1 July 2019)": 0,
          "level_0": 2
         },
         {
          "Count": 3675,
          "Country/Region": "Germany",
          "Date": "3/13/20",
          "Lat": 51,
          "Long": 9,
          "Population(1 July 2019)": 0,
          "level_0": 2
         },
         {
          "Count": 4585,
          "Country/Region": "Germany",
          "Date": "3/14/20",
          "Lat": 51,
          "Long": 9,
          "Population(1 July 2019)": 0,
          "level_0": 2
         },
         {
          "Count": 5795,
          "Country/Region": "Germany",
          "Date": "3/15/20",
          "Lat": 51,
          "Long": 9,
          "Population(1 July 2019)": 0,
          "level_0": 2
         },
         {
          "Count": 7272,
          "Country/Region": "Germany",
          "Date": "3/16/20",
          "Lat": 51,
          "Long": 9,
          "Population(1 July 2019)": 0,
          "level_0": 2
         },
         {
          "Count": 9257,
          "Country/Region": "Germany",
          "Date": "3/17/20",
          "Lat": 51,
          "Long": 9,
          "Population(1 July 2019)": 0,
          "level_0": 2
         },
         {
          "Count": 12327,
          "Country/Region": "Germany",
          "Date": "3/18/20",
          "Lat": 51,
          "Long": 9,
          "Population(1 July 2019)": 0,
          "level_0": 2
         },
         {
          "Count": 15320,
          "Country/Region": "Germany",
          "Date": "3/19/20",
          "Lat": 51,
          "Long": 9,
          "Population(1 July 2019)": 0,
          "level_0": 2
         },
         {
          "Count": 19848,
          "Country/Region": "Germany",
          "Date": "3/20/20",
          "Lat": 51,
          "Long": 9,
          "Population(1 July 2019)": 0,
          "level_0": 2
         },
         {
          "Count": 22213,
          "Country/Region": "Germany",
          "Date": "3/21/20",
          "Lat": 51,
          "Long": 9,
          "Population(1 July 2019)": 0,
          "level_0": 2
         },
         {
          "Count": 24873,
          "Country/Region": "Germany",
          "Date": "3/22/20",
          "Lat": 51,
          "Long": 9,
          "Population(1 July 2019)": 0,
          "level_0": 2
         },
         {
          "Count": 29056,
          "Country/Region": "Germany",
          "Date": "3/23/20",
          "Lat": 51,
          "Long": 9,
          "Population(1 July 2019)": 0,
          "level_0": 2
         },
         {
          "Count": 32986,
          "Country/Region": "Germany",
          "Date": "3/24/20",
          "Lat": 51,
          "Long": 9,
          "Population(1 July 2019)": 0,
          "level_0": 2
         },
         {
          "Count": 0,
          "Country/Region": "Iran",
          "Date": "1/22/20",
          "Lat": 32,
          "Long": 53,
          "Population(1 July 2019)": 0,
          "level_0": 3
         },
         {
          "Count": 0,
          "Country/Region": "Iran",
          "Date": "1/23/20",
          "Lat": 32,
          "Long": 53,
          "Population(1 July 2019)": 0,
          "level_0": 3
         },
         {
          "Count": 0,
          "Country/Region": "Iran",
          "Date": "1/24/20",
          "Lat": 32,
          "Long": 53,
          "Population(1 July 2019)": 0,
          "level_0": 3
         },
         {
          "Count": 0,
          "Country/Region": "Iran",
          "Date": "1/25/20",
          "Lat": 32,
          "Long": 53,
          "Population(1 July 2019)": 0,
          "level_0": 3
         },
         {
          "Count": 0,
          "Country/Region": "Iran",
          "Date": "1/26/20",
          "Lat": 32,
          "Long": 53,
          "Population(1 July 2019)": 0,
          "level_0": 3
         },
         {
          "Count": 0,
          "Country/Region": "Iran",
          "Date": "1/27/20",
          "Lat": 32,
          "Long": 53,
          "Population(1 July 2019)": 0,
          "level_0": 3
         },
         {
          "Count": 0,
          "Country/Region": "Iran",
          "Date": "1/28/20",
          "Lat": 32,
          "Long": 53,
          "Population(1 July 2019)": 0,
          "level_0": 3
         },
         {
          "Count": 0,
          "Country/Region": "Iran",
          "Date": "1/29/20",
          "Lat": 32,
          "Long": 53,
          "Population(1 July 2019)": 0,
          "level_0": 3
         },
         {
          "Count": 0,
          "Country/Region": "Iran",
          "Date": "1/30/20",
          "Lat": 32,
          "Long": 53,
          "Population(1 July 2019)": 0,
          "level_0": 3
         },
         {
          "Count": 0,
          "Country/Region": "Iran",
          "Date": "1/31/20",
          "Lat": 32,
          "Long": 53,
          "Population(1 July 2019)": 0,
          "level_0": 3
         },
         {
          "Count": 0,
          "Country/Region": "Iran",
          "Date": "2/1/20",
          "Lat": 32,
          "Long": 53,
          "Population(1 July 2019)": 0,
          "level_0": 3
         },
         {
          "Count": 0,
          "Country/Region": "Iran",
          "Date": "2/2/20",
          "Lat": 32,
          "Long": 53,
          "Population(1 July 2019)": 0,
          "level_0": 3
         },
         {
          "Count": 0,
          "Country/Region": "Iran",
          "Date": "2/3/20",
          "Lat": 32,
          "Long": 53,
          "Population(1 July 2019)": 0,
          "level_0": 3
         },
         {
          "Count": 0,
          "Country/Region": "Iran",
          "Date": "2/4/20",
          "Lat": 32,
          "Long": 53,
          "Population(1 July 2019)": 0,
          "level_0": 3
         },
         {
          "Count": 0,
          "Country/Region": "Iran",
          "Date": "2/5/20",
          "Lat": 32,
          "Long": 53,
          "Population(1 July 2019)": 0,
          "level_0": 3
         },
         {
          "Count": 0,
          "Country/Region": "Iran",
          "Date": "2/6/20",
          "Lat": 32,
          "Long": 53,
          "Population(1 July 2019)": 0,
          "level_0": 3
         },
         {
          "Count": 0,
          "Country/Region": "Iran",
          "Date": "2/7/20",
          "Lat": 32,
          "Long": 53,
          "Population(1 July 2019)": 0,
          "level_0": 3
         },
         {
          "Count": 0,
          "Country/Region": "Iran",
          "Date": "2/8/20",
          "Lat": 32,
          "Long": 53,
          "Population(1 July 2019)": 0,
          "level_0": 3
         },
         {
          "Count": 0,
          "Country/Region": "Iran",
          "Date": "2/9/20",
          "Lat": 32,
          "Long": 53,
          "Population(1 July 2019)": 0,
          "level_0": 3
         },
         {
          "Count": 0,
          "Country/Region": "Iran",
          "Date": "2/10/20",
          "Lat": 32,
          "Long": 53,
          "Population(1 July 2019)": 0,
          "level_0": 3
         },
         {
          "Count": 0,
          "Country/Region": "Iran",
          "Date": "2/11/20",
          "Lat": 32,
          "Long": 53,
          "Population(1 July 2019)": 0,
          "level_0": 3
         },
         {
          "Count": 0,
          "Country/Region": "Iran",
          "Date": "2/12/20",
          "Lat": 32,
          "Long": 53,
          "Population(1 July 2019)": 0,
          "level_0": 3
         },
         {
          "Count": 0,
          "Country/Region": "Iran",
          "Date": "2/13/20",
          "Lat": 32,
          "Long": 53,
          "Population(1 July 2019)": 0,
          "level_0": 3
         },
         {
          "Count": 0,
          "Country/Region": "Iran",
          "Date": "2/14/20",
          "Lat": 32,
          "Long": 53,
          "Population(1 July 2019)": 0,
          "level_0": 3
         },
         {
          "Count": 0,
          "Country/Region": "Iran",
          "Date": "2/15/20",
          "Lat": 32,
          "Long": 53,
          "Population(1 July 2019)": 0,
          "level_0": 3
         },
         {
          "Count": 0,
          "Country/Region": "Iran",
          "Date": "2/16/20",
          "Lat": 32,
          "Long": 53,
          "Population(1 July 2019)": 0,
          "level_0": 3
         },
         {
          "Count": 0,
          "Country/Region": "Iran",
          "Date": "2/17/20",
          "Lat": 32,
          "Long": 53,
          "Population(1 July 2019)": 0,
          "level_0": 3
         },
         {
          "Count": 0,
          "Country/Region": "Iran",
          "Date": "2/18/20",
          "Lat": 32,
          "Long": 53,
          "Population(1 July 2019)": 0,
          "level_0": 3
         },
         {
          "Count": 2,
          "Country/Region": "Iran",
          "Date": "2/19/20",
          "Lat": 32,
          "Long": 53,
          "Population(1 July 2019)": 0,
          "level_0": 3
         },
         {
          "Count": 5,
          "Country/Region": "Iran",
          "Date": "2/20/20",
          "Lat": 32,
          "Long": 53,
          "Population(1 July 2019)": 0,
          "level_0": 3
         },
         {
          "Count": 18,
          "Country/Region": "Iran",
          "Date": "2/21/20",
          "Lat": 32,
          "Long": 53,
          "Population(1 July 2019)": 0,
          "level_0": 3
         },
         {
          "Count": 28,
          "Country/Region": "Iran",
          "Date": "2/22/20",
          "Lat": 32,
          "Long": 53,
          "Population(1 July 2019)": 0,
          "level_0": 3
         },
         {
          "Count": 43,
          "Country/Region": "Iran",
          "Date": "2/23/20",
          "Lat": 32,
          "Long": 53,
          "Population(1 July 2019)": 0,
          "level_0": 3
         },
         {
          "Count": 61,
          "Country/Region": "Iran",
          "Date": "2/24/20",
          "Lat": 32,
          "Long": 53,
          "Population(1 July 2019)": 0,
          "level_0": 3
         },
         {
          "Count": 95,
          "Country/Region": "Iran",
          "Date": "2/25/20",
          "Lat": 32,
          "Long": 53,
          "Population(1 July 2019)": 0,
          "level_0": 3
         },
         {
          "Count": 139,
          "Country/Region": "Iran",
          "Date": "2/26/20",
          "Lat": 32,
          "Long": 53,
          "Population(1 July 2019)": 0,
          "level_0": 3
         },
         {
          "Count": 245,
          "Country/Region": "Iran",
          "Date": "2/27/20",
          "Lat": 32,
          "Long": 53,
          "Population(1 July 2019)": 0,
          "level_0": 3
         },
         {
          "Count": 388,
          "Country/Region": "Iran",
          "Date": "2/28/20",
          "Lat": 32,
          "Long": 53,
          "Population(1 July 2019)": 0,
          "level_0": 3
         },
         {
          "Count": 593,
          "Country/Region": "Iran",
          "Date": "2/29/20",
          "Lat": 32,
          "Long": 53,
          "Population(1 July 2019)": 0,
          "level_0": 3
         },
         {
          "Count": 978,
          "Country/Region": "Iran",
          "Date": "3/1/20",
          "Lat": 32,
          "Long": 53,
          "Population(1 July 2019)": 0,
          "level_0": 3
         },
         {
          "Count": 1501,
          "Country/Region": "Iran",
          "Date": "3/2/20",
          "Lat": 32,
          "Long": 53,
          "Population(1 July 2019)": 0,
          "level_0": 3
         },
         {
          "Count": 2336,
          "Country/Region": "Iran",
          "Date": "3/3/20",
          "Lat": 32,
          "Long": 53,
          "Population(1 July 2019)": 0,
          "level_0": 3
         },
         {
          "Count": 2922,
          "Country/Region": "Iran",
          "Date": "3/4/20",
          "Lat": 32,
          "Long": 53,
          "Population(1 July 2019)": 0,
          "level_0": 3
         },
         {
          "Count": 3513,
          "Country/Region": "Iran",
          "Date": "3/5/20",
          "Lat": 32,
          "Long": 53,
          "Population(1 July 2019)": 0,
          "level_0": 3
         },
         {
          "Count": 4747,
          "Country/Region": "Iran",
          "Date": "3/6/20",
          "Lat": 32,
          "Long": 53,
          "Population(1 July 2019)": 0,
          "level_0": 3
         },
         {
          "Count": 5823,
          "Country/Region": "Iran",
          "Date": "3/7/20",
          "Lat": 32,
          "Long": 53,
          "Population(1 July 2019)": 0,
          "level_0": 3
         },
         {
          "Count": 6566,
          "Country/Region": "Iran",
          "Date": "3/8/20",
          "Lat": 32,
          "Long": 53,
          "Population(1 July 2019)": 0,
          "level_0": 3
         },
         {
          "Count": 7161,
          "Country/Region": "Iran",
          "Date": "3/9/20",
          "Lat": 32,
          "Long": 53,
          "Population(1 July 2019)": 0,
          "level_0": 3
         },
         {
          "Count": 8042,
          "Country/Region": "Iran",
          "Date": "3/10/20",
          "Lat": 32,
          "Long": 53,
          "Population(1 July 2019)": 0,
          "level_0": 3
         },
         {
          "Count": 9000,
          "Country/Region": "Iran",
          "Date": "3/11/20",
          "Lat": 32,
          "Long": 53,
          "Population(1 July 2019)": 0,
          "level_0": 3
         },
         {
          "Count": 10075,
          "Country/Region": "Iran",
          "Date": "3/12/20",
          "Lat": 32,
          "Long": 53,
          "Population(1 July 2019)": 0,
          "level_0": 3
         },
         {
          "Count": 11364,
          "Country/Region": "Iran",
          "Date": "3/13/20",
          "Lat": 32,
          "Long": 53,
          "Population(1 July 2019)": 0,
          "level_0": 3
         },
         {
          "Count": 12729,
          "Country/Region": "Iran",
          "Date": "3/14/20",
          "Lat": 32,
          "Long": 53,
          "Population(1 July 2019)": 0,
          "level_0": 3
         },
         {
          "Count": 13938,
          "Country/Region": "Iran",
          "Date": "3/15/20",
          "Lat": 32,
          "Long": 53,
          "Population(1 July 2019)": 0,
          "level_0": 3
         },
         {
          "Count": 14991,
          "Country/Region": "Iran",
          "Date": "3/16/20",
          "Lat": 32,
          "Long": 53,
          "Population(1 July 2019)": 0,
          "level_0": 3
         },
         {
          "Count": 16169,
          "Country/Region": "Iran",
          "Date": "3/17/20",
          "Lat": 32,
          "Long": 53,
          "Population(1 July 2019)": 0,
          "level_0": 3
         },
         {
          "Count": 17361,
          "Country/Region": "Iran",
          "Date": "3/18/20",
          "Lat": 32,
          "Long": 53,
          "Population(1 July 2019)": 0,
          "level_0": 3
         },
         {
          "Count": 18407,
          "Country/Region": "Iran",
          "Date": "3/19/20",
          "Lat": 32,
          "Long": 53,
          "Population(1 July 2019)": 0,
          "level_0": 3
         },
         {
          "Count": 19644,
          "Country/Region": "Iran",
          "Date": "3/20/20",
          "Lat": 32,
          "Long": 53,
          "Population(1 July 2019)": 0,
          "level_0": 3
         },
         {
          "Count": 20610,
          "Country/Region": "Iran",
          "Date": "3/21/20",
          "Lat": 32,
          "Long": 53,
          "Population(1 July 2019)": 0,
          "level_0": 3
         },
         {
          "Count": 21638,
          "Country/Region": "Iran",
          "Date": "3/22/20",
          "Lat": 32,
          "Long": 53,
          "Population(1 July 2019)": 0,
          "level_0": 3
         },
         {
          "Count": 23049,
          "Country/Region": "Iran",
          "Date": "3/23/20",
          "Lat": 32,
          "Long": 53,
          "Population(1 July 2019)": 0,
          "level_0": 3
         },
         {
          "Count": 24811,
          "Country/Region": "Iran",
          "Date": "3/24/20",
          "Lat": 32,
          "Long": 53,
          "Population(1 July 2019)": 0,
          "level_0": 3
         },
         {
          "Count": 0,
          "Country/Region": "Italy",
          "Date": "1/22/20",
          "Lat": 43,
          "Long": 12,
          "Population(1 July 2019)": 0,
          "level_0": 4
         },
         {
          "Count": 0,
          "Country/Region": "Italy",
          "Date": "1/23/20",
          "Lat": 43,
          "Long": 12,
          "Population(1 July 2019)": 0,
          "level_0": 4
         },
         {
          "Count": 0,
          "Country/Region": "Italy",
          "Date": "1/24/20",
          "Lat": 43,
          "Long": 12,
          "Population(1 July 2019)": 0,
          "level_0": 4
         },
         {
          "Count": 0,
          "Country/Region": "Italy",
          "Date": "1/25/20",
          "Lat": 43,
          "Long": 12,
          "Population(1 July 2019)": 0,
          "level_0": 4
         },
         {
          "Count": 0,
          "Country/Region": "Italy",
          "Date": "1/26/20",
          "Lat": 43,
          "Long": 12,
          "Population(1 July 2019)": 0,
          "level_0": 4
         },
         {
          "Count": 0,
          "Country/Region": "Italy",
          "Date": "1/27/20",
          "Lat": 43,
          "Long": 12,
          "Population(1 July 2019)": 0,
          "level_0": 4
         },
         {
          "Count": 0,
          "Country/Region": "Italy",
          "Date": "1/28/20",
          "Lat": 43,
          "Long": 12,
          "Population(1 July 2019)": 0,
          "level_0": 4
         },
         {
          "Count": 0,
          "Country/Region": "Italy",
          "Date": "1/29/20",
          "Lat": 43,
          "Long": 12,
          "Population(1 July 2019)": 0,
          "level_0": 4
         },
         {
          "Count": 0,
          "Country/Region": "Italy",
          "Date": "1/30/20",
          "Lat": 43,
          "Long": 12,
          "Population(1 July 2019)": 0,
          "level_0": 4
         },
         {
          "Count": 2,
          "Country/Region": "Italy",
          "Date": "1/31/20",
          "Lat": 43,
          "Long": 12,
          "Population(1 July 2019)": 0,
          "level_0": 4
         },
         {
          "Count": 2,
          "Country/Region": "Italy",
          "Date": "2/1/20",
          "Lat": 43,
          "Long": 12,
          "Population(1 July 2019)": 0,
          "level_0": 4
         },
         {
          "Count": 2,
          "Country/Region": "Italy",
          "Date": "2/2/20",
          "Lat": 43,
          "Long": 12,
          "Population(1 July 2019)": 0,
          "level_0": 4
         },
         {
          "Count": 2,
          "Country/Region": "Italy",
          "Date": "2/3/20",
          "Lat": 43,
          "Long": 12,
          "Population(1 July 2019)": 0,
          "level_0": 4
         },
         {
          "Count": 2,
          "Country/Region": "Italy",
          "Date": "2/4/20",
          "Lat": 43,
          "Long": 12,
          "Population(1 July 2019)": 0,
          "level_0": 4
         },
         {
          "Count": 2,
          "Country/Region": "Italy",
          "Date": "2/5/20",
          "Lat": 43,
          "Long": 12,
          "Population(1 July 2019)": 0,
          "level_0": 4
         },
         {
          "Count": 2,
          "Country/Region": "Italy",
          "Date": "2/6/20",
          "Lat": 43,
          "Long": 12,
          "Population(1 July 2019)": 0,
          "level_0": 4
         },
         {
          "Count": 3,
          "Country/Region": "Italy",
          "Date": "2/7/20",
          "Lat": 43,
          "Long": 12,
          "Population(1 July 2019)": 0,
          "level_0": 4
         },
         {
          "Count": 3,
          "Country/Region": "Italy",
          "Date": "2/8/20",
          "Lat": 43,
          "Long": 12,
          "Population(1 July 2019)": 0,
          "level_0": 4
         },
         {
          "Count": 3,
          "Country/Region": "Italy",
          "Date": "2/9/20",
          "Lat": 43,
          "Long": 12,
          "Population(1 July 2019)": 0,
          "level_0": 4
         },
         {
          "Count": 3,
          "Country/Region": "Italy",
          "Date": "2/10/20",
          "Lat": 43,
          "Long": 12,
          "Population(1 July 2019)": 0,
          "level_0": 4
         },
         {
          "Count": 3,
          "Country/Region": "Italy",
          "Date": "2/11/20",
          "Lat": 43,
          "Long": 12,
          "Population(1 July 2019)": 0,
          "level_0": 4
         },
         {
          "Count": 3,
          "Country/Region": "Italy",
          "Date": "2/12/20",
          "Lat": 43,
          "Long": 12,
          "Population(1 July 2019)": 0,
          "level_0": 4
         },
         {
          "Count": 3,
          "Country/Region": "Italy",
          "Date": "2/13/20",
          "Lat": 43,
          "Long": 12,
          "Population(1 July 2019)": 0,
          "level_0": 4
         },
         {
          "Count": 3,
          "Country/Region": "Italy",
          "Date": "2/14/20",
          "Lat": 43,
          "Long": 12,
          "Population(1 July 2019)": 0,
          "level_0": 4
         },
         {
          "Count": 3,
          "Country/Region": "Italy",
          "Date": "2/15/20",
          "Lat": 43,
          "Long": 12,
          "Population(1 July 2019)": 0,
          "level_0": 4
         },
         {
          "Count": 3,
          "Country/Region": "Italy",
          "Date": "2/16/20",
          "Lat": 43,
          "Long": 12,
          "Population(1 July 2019)": 0,
          "level_0": 4
         },
         {
          "Count": 3,
          "Country/Region": "Italy",
          "Date": "2/17/20",
          "Lat": 43,
          "Long": 12,
          "Population(1 July 2019)": 0,
          "level_0": 4
         },
         {
          "Count": 3,
          "Country/Region": "Italy",
          "Date": "2/18/20",
          "Lat": 43,
          "Long": 12,
          "Population(1 July 2019)": 0,
          "level_0": 4
         },
         {
          "Count": 3,
          "Country/Region": "Italy",
          "Date": "2/19/20",
          "Lat": 43,
          "Long": 12,
          "Population(1 July 2019)": 0,
          "level_0": 4
         },
         {
          "Count": 3,
          "Country/Region": "Italy",
          "Date": "2/20/20",
          "Lat": 43,
          "Long": 12,
          "Population(1 July 2019)": 0,
          "level_0": 4
         },
         {
          "Count": 20,
          "Country/Region": "Italy",
          "Date": "2/21/20",
          "Lat": 43,
          "Long": 12,
          "Population(1 July 2019)": 0,
          "level_0": 4
         },
         {
          "Count": 62,
          "Country/Region": "Italy",
          "Date": "2/22/20",
          "Lat": 43,
          "Long": 12,
          "Population(1 July 2019)": 0,
          "level_0": 4
         },
         {
          "Count": 155,
          "Country/Region": "Italy",
          "Date": "2/23/20",
          "Lat": 43,
          "Long": 12,
          "Population(1 July 2019)": 0,
          "level_0": 4
         },
         {
          "Count": 229,
          "Country/Region": "Italy",
          "Date": "2/24/20",
          "Lat": 43,
          "Long": 12,
          "Population(1 July 2019)": 0,
          "level_0": 4
         },
         {
          "Count": 322,
          "Country/Region": "Italy",
          "Date": "2/25/20",
          "Lat": 43,
          "Long": 12,
          "Population(1 July 2019)": 0,
          "level_0": 4
         },
         {
          "Count": 453,
          "Country/Region": "Italy",
          "Date": "2/26/20",
          "Lat": 43,
          "Long": 12,
          "Population(1 July 2019)": 0,
          "level_0": 4
         },
         {
          "Count": 655,
          "Country/Region": "Italy",
          "Date": "2/27/20",
          "Lat": 43,
          "Long": 12,
          "Population(1 July 2019)": 0,
          "level_0": 4
         },
         {
          "Count": 888,
          "Country/Region": "Italy",
          "Date": "2/28/20",
          "Lat": 43,
          "Long": 12,
          "Population(1 July 2019)": 0,
          "level_0": 4
         },
         {
          "Count": 1128,
          "Country/Region": "Italy",
          "Date": "2/29/20",
          "Lat": 43,
          "Long": 12,
          "Population(1 July 2019)": 0,
          "level_0": 4
         },
         {
          "Count": 1694,
          "Country/Region": "Italy",
          "Date": "3/1/20",
          "Lat": 43,
          "Long": 12,
          "Population(1 July 2019)": 0,
          "level_0": 4
         },
         {
          "Count": 2036,
          "Country/Region": "Italy",
          "Date": "3/2/20",
          "Lat": 43,
          "Long": 12,
          "Population(1 July 2019)": 0,
          "level_0": 4
         },
         {
          "Count": 2502,
          "Country/Region": "Italy",
          "Date": "3/3/20",
          "Lat": 43,
          "Long": 12,
          "Population(1 July 2019)": 0,
          "level_0": 4
         },
         {
          "Count": 3089,
          "Country/Region": "Italy",
          "Date": "3/4/20",
          "Lat": 43,
          "Long": 12,
          "Population(1 July 2019)": 0,
          "level_0": 4
         },
         {
          "Count": 3858,
          "Country/Region": "Italy",
          "Date": "3/5/20",
          "Lat": 43,
          "Long": 12,
          "Population(1 July 2019)": 0,
          "level_0": 4
         },
         {
          "Count": 4636,
          "Country/Region": "Italy",
          "Date": "3/6/20",
          "Lat": 43,
          "Long": 12,
          "Population(1 July 2019)": 0,
          "level_0": 4
         },
         {
          "Count": 5883,
          "Country/Region": "Italy",
          "Date": "3/7/20",
          "Lat": 43,
          "Long": 12,
          "Population(1 July 2019)": 0,
          "level_0": 4
         },
         {
          "Count": 7375,
          "Country/Region": "Italy",
          "Date": "3/8/20",
          "Lat": 43,
          "Long": 12,
          "Population(1 July 2019)": 0,
          "level_0": 4
         },
         {
          "Count": 9172,
          "Country/Region": "Italy",
          "Date": "3/9/20",
          "Lat": 43,
          "Long": 12,
          "Population(1 July 2019)": 0,
          "level_0": 4
         },
         {
          "Count": 10149,
          "Country/Region": "Italy",
          "Date": "3/10/20",
          "Lat": 43,
          "Long": 12,
          "Population(1 July 2019)": 0,
          "level_0": 4
         },
         {
          "Count": 12462,
          "Country/Region": "Italy",
          "Date": "3/11/20",
          "Lat": 43,
          "Long": 12,
          "Population(1 July 2019)": 0,
          "level_0": 4
         },
         {
          "Count": 12462,
          "Country/Region": "Italy",
          "Date": "3/12/20",
          "Lat": 43,
          "Long": 12,
          "Population(1 July 2019)": 0,
          "level_0": 4
         },
         {
          "Count": 17660,
          "Country/Region": "Italy",
          "Date": "3/13/20",
          "Lat": 43,
          "Long": 12,
          "Population(1 July 2019)": 0,
          "level_0": 4
         },
         {
          "Count": 21157,
          "Country/Region": "Italy",
          "Date": "3/14/20",
          "Lat": 43,
          "Long": 12,
          "Population(1 July 2019)": 0,
          "level_0": 4
         },
         {
          "Count": 24747,
          "Country/Region": "Italy",
          "Date": "3/15/20",
          "Lat": 43,
          "Long": 12,
          "Population(1 July 2019)": 0,
          "level_0": 4
         },
         {
          "Count": 27980,
          "Country/Region": "Italy",
          "Date": "3/16/20",
          "Lat": 43,
          "Long": 12,
          "Population(1 July 2019)": 0,
          "level_0": 4
         },
         {
          "Count": 31506,
          "Country/Region": "Italy",
          "Date": "3/17/20",
          "Lat": 43,
          "Long": 12,
          "Population(1 July 2019)": 0,
          "level_0": 4
         },
         {
          "Count": 35713,
          "Country/Region": "Italy",
          "Date": "3/18/20",
          "Lat": 43,
          "Long": 12,
          "Population(1 July 2019)": 0,
          "level_0": 4
         },
         {
          "Count": 41035,
          "Country/Region": "Italy",
          "Date": "3/19/20",
          "Lat": 43,
          "Long": 12,
          "Population(1 July 2019)": 0,
          "level_0": 4
         },
         {
          "Count": 47021,
          "Country/Region": "Italy",
          "Date": "3/20/20",
          "Lat": 43,
          "Long": 12,
          "Population(1 July 2019)": 0,
          "level_0": 4
         },
         {
          "Count": 53578,
          "Country/Region": "Italy",
          "Date": "3/21/20",
          "Lat": 43,
          "Long": 12,
          "Population(1 July 2019)": 0,
          "level_0": 4
         },
         {
          "Count": 59138,
          "Country/Region": "Italy",
          "Date": "3/22/20",
          "Lat": 43,
          "Long": 12,
          "Population(1 July 2019)": 0,
          "level_0": 4
         },
         {
          "Count": 63927,
          "Country/Region": "Italy",
          "Date": "3/23/20",
          "Lat": 43,
          "Long": 12,
          "Population(1 July 2019)": 0,
          "level_0": 4
         },
         {
          "Count": 69176,
          "Country/Region": "Italy",
          "Date": "3/24/20",
          "Lat": 43,
          "Long": 12,
          "Population(1 July 2019)": 0,
          "level_0": 4
         },
         {
          "Count": 1,
          "Country/Region": "Korea, South",
          "Date": "1/22/20",
          "Lat": 36,
          "Long": 128,
          "Population(1 July 2019)": 0,
          "level_0": 5
         },
         {
          "Count": 1,
          "Country/Region": "Korea, South",
          "Date": "1/23/20",
          "Lat": 36,
          "Long": 128,
          "Population(1 July 2019)": 0,
          "level_0": 5
         },
         {
          "Count": 2,
          "Country/Region": "Korea, South",
          "Date": "1/24/20",
          "Lat": 36,
          "Long": 128,
          "Population(1 July 2019)": 0,
          "level_0": 5
         },
         {
          "Count": 2,
          "Country/Region": "Korea, South",
          "Date": "1/25/20",
          "Lat": 36,
          "Long": 128,
          "Population(1 July 2019)": 0,
          "level_0": 5
         },
         {
          "Count": 3,
          "Country/Region": "Korea, South",
          "Date": "1/26/20",
          "Lat": 36,
          "Long": 128,
          "Population(1 July 2019)": 0,
          "level_0": 5
         },
         {
          "Count": 4,
          "Country/Region": "Korea, South",
          "Date": "1/27/20",
          "Lat": 36,
          "Long": 128,
          "Population(1 July 2019)": 0,
          "level_0": 5
         },
         {
          "Count": 4,
          "Country/Region": "Korea, South",
          "Date": "1/28/20",
          "Lat": 36,
          "Long": 128,
          "Population(1 July 2019)": 0,
          "level_0": 5
         },
         {
          "Count": 4,
          "Country/Region": "Korea, South",
          "Date": "1/29/20",
          "Lat": 36,
          "Long": 128,
          "Population(1 July 2019)": 0,
          "level_0": 5
         },
         {
          "Count": 4,
          "Country/Region": "Korea, South",
          "Date": "1/30/20",
          "Lat": 36,
          "Long": 128,
          "Population(1 July 2019)": 0,
          "level_0": 5
         },
         {
          "Count": 11,
          "Country/Region": "Korea, South",
          "Date": "1/31/20",
          "Lat": 36,
          "Long": 128,
          "Population(1 July 2019)": 0,
          "level_0": 5
         },
         {
          "Count": 12,
          "Country/Region": "Korea, South",
          "Date": "2/1/20",
          "Lat": 36,
          "Long": 128,
          "Population(1 July 2019)": 0,
          "level_0": 5
         },
         {
          "Count": 15,
          "Country/Region": "Korea, South",
          "Date": "2/2/20",
          "Lat": 36,
          "Long": 128,
          "Population(1 July 2019)": 0,
          "level_0": 5
         },
         {
          "Count": 15,
          "Country/Region": "Korea, South",
          "Date": "2/3/20",
          "Lat": 36,
          "Long": 128,
          "Population(1 July 2019)": 0,
          "level_0": 5
         },
         {
          "Count": 16,
          "Country/Region": "Korea, South",
          "Date": "2/4/20",
          "Lat": 36,
          "Long": 128,
          "Population(1 July 2019)": 0,
          "level_0": 5
         },
         {
          "Count": 19,
          "Country/Region": "Korea, South",
          "Date": "2/5/20",
          "Lat": 36,
          "Long": 128,
          "Population(1 July 2019)": 0,
          "level_0": 5
         },
         {
          "Count": 23,
          "Country/Region": "Korea, South",
          "Date": "2/6/20",
          "Lat": 36,
          "Long": 128,
          "Population(1 July 2019)": 0,
          "level_0": 5
         },
         {
          "Count": 24,
          "Country/Region": "Korea, South",
          "Date": "2/7/20",
          "Lat": 36,
          "Long": 128,
          "Population(1 July 2019)": 0,
          "level_0": 5
         },
         {
          "Count": 24,
          "Country/Region": "Korea, South",
          "Date": "2/8/20",
          "Lat": 36,
          "Long": 128,
          "Population(1 July 2019)": 0,
          "level_0": 5
         },
         {
          "Count": 25,
          "Country/Region": "Korea, South",
          "Date": "2/9/20",
          "Lat": 36,
          "Long": 128,
          "Population(1 July 2019)": 0,
          "level_0": 5
         },
         {
          "Count": 27,
          "Country/Region": "Korea, South",
          "Date": "2/10/20",
          "Lat": 36,
          "Long": 128,
          "Population(1 July 2019)": 0,
          "level_0": 5
         },
         {
          "Count": 28,
          "Country/Region": "Korea, South",
          "Date": "2/11/20",
          "Lat": 36,
          "Long": 128,
          "Population(1 July 2019)": 0,
          "level_0": 5
         },
         {
          "Count": 28,
          "Country/Region": "Korea, South",
          "Date": "2/12/20",
          "Lat": 36,
          "Long": 128,
          "Population(1 July 2019)": 0,
          "level_0": 5
         },
         {
          "Count": 28,
          "Country/Region": "Korea, South",
          "Date": "2/13/20",
          "Lat": 36,
          "Long": 128,
          "Population(1 July 2019)": 0,
          "level_0": 5
         },
         {
          "Count": 28,
          "Country/Region": "Korea, South",
          "Date": "2/14/20",
          "Lat": 36,
          "Long": 128,
          "Population(1 July 2019)": 0,
          "level_0": 5
         },
         {
          "Count": 28,
          "Country/Region": "Korea, South",
          "Date": "2/15/20",
          "Lat": 36,
          "Long": 128,
          "Population(1 July 2019)": 0,
          "level_0": 5
         },
         {
          "Count": 29,
          "Country/Region": "Korea, South",
          "Date": "2/16/20",
          "Lat": 36,
          "Long": 128,
          "Population(1 July 2019)": 0,
          "level_0": 5
         },
         {
          "Count": 30,
          "Country/Region": "Korea, South",
          "Date": "2/17/20",
          "Lat": 36,
          "Long": 128,
          "Population(1 July 2019)": 0,
          "level_0": 5
         },
         {
          "Count": 31,
          "Country/Region": "Korea, South",
          "Date": "2/18/20",
          "Lat": 36,
          "Long": 128,
          "Population(1 July 2019)": 0,
          "level_0": 5
         },
         {
          "Count": 31,
          "Country/Region": "Korea, South",
          "Date": "2/19/20",
          "Lat": 36,
          "Long": 128,
          "Population(1 July 2019)": 0,
          "level_0": 5
         },
         {
          "Count": 104,
          "Country/Region": "Korea, South",
          "Date": "2/20/20",
          "Lat": 36,
          "Long": 128,
          "Population(1 July 2019)": 0,
          "level_0": 5
         },
         {
          "Count": 204,
          "Country/Region": "Korea, South",
          "Date": "2/21/20",
          "Lat": 36,
          "Long": 128,
          "Population(1 July 2019)": 0,
          "level_0": 5
         },
         {
          "Count": 433,
          "Country/Region": "Korea, South",
          "Date": "2/22/20",
          "Lat": 36,
          "Long": 128,
          "Population(1 July 2019)": 0,
          "level_0": 5
         },
         {
          "Count": 602,
          "Country/Region": "Korea, South",
          "Date": "2/23/20",
          "Lat": 36,
          "Long": 128,
          "Population(1 July 2019)": 0,
          "level_0": 5
         },
         {
          "Count": 833,
          "Country/Region": "Korea, South",
          "Date": "2/24/20",
          "Lat": 36,
          "Long": 128,
          "Population(1 July 2019)": 0,
          "level_0": 5
         },
         {
          "Count": 977,
          "Country/Region": "Korea, South",
          "Date": "2/25/20",
          "Lat": 36,
          "Long": 128,
          "Population(1 July 2019)": 0,
          "level_0": 5
         },
         {
          "Count": 1261,
          "Country/Region": "Korea, South",
          "Date": "2/26/20",
          "Lat": 36,
          "Long": 128,
          "Population(1 July 2019)": 0,
          "level_0": 5
         },
         {
          "Count": 1766,
          "Country/Region": "Korea, South",
          "Date": "2/27/20",
          "Lat": 36,
          "Long": 128,
          "Population(1 July 2019)": 0,
          "level_0": 5
         },
         {
          "Count": 2337,
          "Country/Region": "Korea, South",
          "Date": "2/28/20",
          "Lat": 36,
          "Long": 128,
          "Population(1 July 2019)": 0,
          "level_0": 5
         },
         {
          "Count": 3150,
          "Country/Region": "Korea, South",
          "Date": "2/29/20",
          "Lat": 36,
          "Long": 128,
          "Population(1 July 2019)": 0,
          "level_0": 5
         },
         {
          "Count": 3736,
          "Country/Region": "Korea, South",
          "Date": "3/1/20",
          "Lat": 36,
          "Long": 128,
          "Population(1 July 2019)": 0,
          "level_0": 5
         },
         {
          "Count": 4335,
          "Country/Region": "Korea, South",
          "Date": "3/2/20",
          "Lat": 36,
          "Long": 128,
          "Population(1 July 2019)": 0,
          "level_0": 5
         },
         {
          "Count": 5186,
          "Country/Region": "Korea, South",
          "Date": "3/3/20",
          "Lat": 36,
          "Long": 128,
          "Population(1 July 2019)": 0,
          "level_0": 5
         },
         {
          "Count": 5621,
          "Country/Region": "Korea, South",
          "Date": "3/4/20",
          "Lat": 36,
          "Long": 128,
          "Population(1 July 2019)": 0,
          "level_0": 5
         },
         {
          "Count": 6088,
          "Country/Region": "Korea, South",
          "Date": "3/5/20",
          "Lat": 36,
          "Long": 128,
          "Population(1 July 2019)": 0,
          "level_0": 5
         },
         {
          "Count": 6593,
          "Country/Region": "Korea, South",
          "Date": "3/6/20",
          "Lat": 36,
          "Long": 128,
          "Population(1 July 2019)": 0,
          "level_0": 5
         },
         {
          "Count": 7041,
          "Country/Region": "Korea, South",
          "Date": "3/7/20",
          "Lat": 36,
          "Long": 128,
          "Population(1 July 2019)": 0,
          "level_0": 5
         },
         {
          "Count": 7314,
          "Country/Region": "Korea, South",
          "Date": "3/8/20",
          "Lat": 36,
          "Long": 128,
          "Population(1 July 2019)": 0,
          "level_0": 5
         },
         {
          "Count": 7478,
          "Country/Region": "Korea, South",
          "Date": "3/9/20",
          "Lat": 36,
          "Long": 128,
          "Population(1 July 2019)": 0,
          "level_0": 5
         },
         {
          "Count": 7513,
          "Country/Region": "Korea, South",
          "Date": "3/10/20",
          "Lat": 36,
          "Long": 128,
          "Population(1 July 2019)": 0,
          "level_0": 5
         },
         {
          "Count": 7755,
          "Country/Region": "Korea, South",
          "Date": "3/11/20",
          "Lat": 36,
          "Long": 128,
          "Population(1 July 2019)": 0,
          "level_0": 5
         },
         {
          "Count": 7869,
          "Country/Region": "Korea, South",
          "Date": "3/12/20",
          "Lat": 36,
          "Long": 128,
          "Population(1 July 2019)": 0,
          "level_0": 5
         },
         {
          "Count": 7979,
          "Country/Region": "Korea, South",
          "Date": "3/13/20",
          "Lat": 36,
          "Long": 128,
          "Population(1 July 2019)": 0,
          "level_0": 5
         },
         {
          "Count": 8086,
          "Country/Region": "Korea, South",
          "Date": "3/14/20",
          "Lat": 36,
          "Long": 128,
          "Population(1 July 2019)": 0,
          "level_0": 5
         },
         {
          "Count": 8162,
          "Country/Region": "Korea, South",
          "Date": "3/15/20",
          "Lat": 36,
          "Long": 128,
          "Population(1 July 2019)": 0,
          "level_0": 5
         },
         {
          "Count": 8236,
          "Country/Region": "Korea, South",
          "Date": "3/16/20",
          "Lat": 36,
          "Long": 128,
          "Population(1 July 2019)": 0,
          "level_0": 5
         },
         {
          "Count": 8320,
          "Country/Region": "Korea, South",
          "Date": "3/17/20",
          "Lat": 36,
          "Long": 128,
          "Population(1 July 2019)": 0,
          "level_0": 5
         },
         {
          "Count": 8413,
          "Country/Region": "Korea, South",
          "Date": "3/18/20",
          "Lat": 36,
          "Long": 128,
          "Population(1 July 2019)": 0,
          "level_0": 5
         },
         {
          "Count": 8565,
          "Country/Region": "Korea, South",
          "Date": "3/19/20",
          "Lat": 36,
          "Long": 128,
          "Population(1 July 2019)": 0,
          "level_0": 5
         },
         {
          "Count": 8652,
          "Country/Region": "Korea, South",
          "Date": "3/20/20",
          "Lat": 36,
          "Long": 128,
          "Population(1 July 2019)": 0,
          "level_0": 5
         },
         {
          "Count": 8799,
          "Country/Region": "Korea, South",
          "Date": "3/21/20",
          "Lat": 36,
          "Long": 128,
          "Population(1 July 2019)": 0,
          "level_0": 5
         },
         {
          "Count": 8961,
          "Country/Region": "Korea, South",
          "Date": "3/22/20",
          "Lat": 36,
          "Long": 128,
          "Population(1 July 2019)": 0,
          "level_0": 5
         },
         {
          "Count": 8961,
          "Country/Region": "Korea, South",
          "Date": "3/23/20",
          "Lat": 36,
          "Long": 128,
          "Population(1 July 2019)": 0,
          "level_0": 5
         },
         {
          "Count": 9037,
          "Country/Region": "Korea, South",
          "Date": "3/24/20",
          "Lat": 36,
          "Long": 128,
          "Population(1 July 2019)": 0,
          "level_0": 5
         },
         {
          "Count": 0,
          "Country/Region": "Spain",
          "Date": "1/22/20",
          "Lat": 40,
          "Long": -4,
          "Population(1 July 2019)": 0,
          "level_0": 6
         },
         {
          "Count": 0,
          "Country/Region": "Spain",
          "Date": "1/23/20",
          "Lat": 40,
          "Long": -4,
          "Population(1 July 2019)": 0,
          "level_0": 6
         },
         {
          "Count": 0,
          "Country/Region": "Spain",
          "Date": "1/24/20",
          "Lat": 40,
          "Long": -4,
          "Population(1 July 2019)": 0,
          "level_0": 6
         },
         {
          "Count": 0,
          "Country/Region": "Spain",
          "Date": "1/25/20",
          "Lat": 40,
          "Long": -4,
          "Population(1 July 2019)": 0,
          "level_0": 6
         },
         {
          "Count": 0,
          "Country/Region": "Spain",
          "Date": "1/26/20",
          "Lat": 40,
          "Long": -4,
          "Population(1 July 2019)": 0,
          "level_0": 6
         },
         {
          "Count": 0,
          "Country/Region": "Spain",
          "Date": "1/27/20",
          "Lat": 40,
          "Long": -4,
          "Population(1 July 2019)": 0,
          "level_0": 6
         },
         {
          "Count": 0,
          "Country/Region": "Spain",
          "Date": "1/28/20",
          "Lat": 40,
          "Long": -4,
          "Population(1 July 2019)": 0,
          "level_0": 6
         },
         {
          "Count": 0,
          "Country/Region": "Spain",
          "Date": "1/29/20",
          "Lat": 40,
          "Long": -4,
          "Population(1 July 2019)": 0,
          "level_0": 6
         },
         {
          "Count": 0,
          "Country/Region": "Spain",
          "Date": "1/30/20",
          "Lat": 40,
          "Long": -4,
          "Population(1 July 2019)": 0,
          "level_0": 6
         },
         {
          "Count": 0,
          "Country/Region": "Spain",
          "Date": "1/31/20",
          "Lat": 40,
          "Long": -4,
          "Population(1 July 2019)": 0,
          "level_0": 6
         },
         {
          "Count": 1,
          "Country/Region": "Spain",
          "Date": "2/1/20",
          "Lat": 40,
          "Long": -4,
          "Population(1 July 2019)": 0,
          "level_0": 6
         },
         {
          "Count": 1,
          "Country/Region": "Spain",
          "Date": "2/2/20",
          "Lat": 40,
          "Long": -4,
          "Population(1 July 2019)": 0,
          "level_0": 6
         },
         {
          "Count": 1,
          "Country/Region": "Spain",
          "Date": "2/3/20",
          "Lat": 40,
          "Long": -4,
          "Population(1 July 2019)": 0,
          "level_0": 6
         },
         {
          "Count": 1,
          "Country/Region": "Spain",
          "Date": "2/4/20",
          "Lat": 40,
          "Long": -4,
          "Population(1 July 2019)": 0,
          "level_0": 6
         },
         {
          "Count": 1,
          "Country/Region": "Spain",
          "Date": "2/5/20",
          "Lat": 40,
          "Long": -4,
          "Population(1 July 2019)": 0,
          "level_0": 6
         },
         {
          "Count": 1,
          "Country/Region": "Spain",
          "Date": "2/6/20",
          "Lat": 40,
          "Long": -4,
          "Population(1 July 2019)": 0,
          "level_0": 6
         },
         {
          "Count": 1,
          "Country/Region": "Spain",
          "Date": "2/7/20",
          "Lat": 40,
          "Long": -4,
          "Population(1 July 2019)": 0,
          "level_0": 6
         },
         {
          "Count": 1,
          "Country/Region": "Spain",
          "Date": "2/8/20",
          "Lat": 40,
          "Long": -4,
          "Population(1 July 2019)": 0,
          "level_0": 6
         },
         {
          "Count": 2,
          "Country/Region": "Spain",
          "Date": "2/9/20",
          "Lat": 40,
          "Long": -4,
          "Population(1 July 2019)": 0,
          "level_0": 6
         },
         {
          "Count": 2,
          "Country/Region": "Spain",
          "Date": "2/10/20",
          "Lat": 40,
          "Long": -4,
          "Population(1 July 2019)": 0,
          "level_0": 6
         },
         {
          "Count": 2,
          "Country/Region": "Spain",
          "Date": "2/11/20",
          "Lat": 40,
          "Long": -4,
          "Population(1 July 2019)": 0,
          "level_0": 6
         },
         {
          "Count": 2,
          "Country/Region": "Spain",
          "Date": "2/12/20",
          "Lat": 40,
          "Long": -4,
          "Population(1 July 2019)": 0,
          "level_0": 6
         },
         {
          "Count": 2,
          "Country/Region": "Spain",
          "Date": "2/13/20",
          "Lat": 40,
          "Long": -4,
          "Population(1 July 2019)": 0,
          "level_0": 6
         },
         {
          "Count": 2,
          "Country/Region": "Spain",
          "Date": "2/14/20",
          "Lat": 40,
          "Long": -4,
          "Population(1 July 2019)": 0,
          "level_0": 6
         },
         {
          "Count": 2,
          "Country/Region": "Spain",
          "Date": "2/15/20",
          "Lat": 40,
          "Long": -4,
          "Population(1 July 2019)": 0,
          "level_0": 6
         },
         {
          "Count": 2,
          "Country/Region": "Spain",
          "Date": "2/16/20",
          "Lat": 40,
          "Long": -4,
          "Population(1 July 2019)": 0,
          "level_0": 6
         },
         {
          "Count": 2,
          "Country/Region": "Spain",
          "Date": "2/17/20",
          "Lat": 40,
          "Long": -4,
          "Population(1 July 2019)": 0,
          "level_0": 6
         },
         {
          "Count": 2,
          "Country/Region": "Spain",
          "Date": "2/18/20",
          "Lat": 40,
          "Long": -4,
          "Population(1 July 2019)": 0,
          "level_0": 6
         },
         {
          "Count": 2,
          "Country/Region": "Spain",
          "Date": "2/19/20",
          "Lat": 40,
          "Long": -4,
          "Population(1 July 2019)": 0,
          "level_0": 6
         },
         {
          "Count": 2,
          "Country/Region": "Spain",
          "Date": "2/20/20",
          "Lat": 40,
          "Long": -4,
          "Population(1 July 2019)": 0,
          "level_0": 6
         },
         {
          "Count": 2,
          "Country/Region": "Spain",
          "Date": "2/21/20",
          "Lat": 40,
          "Long": -4,
          "Population(1 July 2019)": 0,
          "level_0": 6
         },
         {
          "Count": 2,
          "Country/Region": "Spain",
          "Date": "2/22/20",
          "Lat": 40,
          "Long": -4,
          "Population(1 July 2019)": 0,
          "level_0": 6
         },
         {
          "Count": 2,
          "Country/Region": "Spain",
          "Date": "2/23/20",
          "Lat": 40,
          "Long": -4,
          "Population(1 July 2019)": 0,
          "level_0": 6
         },
         {
          "Count": 2,
          "Country/Region": "Spain",
          "Date": "2/24/20",
          "Lat": 40,
          "Long": -4,
          "Population(1 July 2019)": 0,
          "level_0": 6
         },
         {
          "Count": 6,
          "Country/Region": "Spain",
          "Date": "2/25/20",
          "Lat": 40,
          "Long": -4,
          "Population(1 July 2019)": 0,
          "level_0": 6
         },
         {
          "Count": 13,
          "Country/Region": "Spain",
          "Date": "2/26/20",
          "Lat": 40,
          "Long": -4,
          "Population(1 July 2019)": 0,
          "level_0": 6
         },
         {
          "Count": 15,
          "Country/Region": "Spain",
          "Date": "2/27/20",
          "Lat": 40,
          "Long": -4,
          "Population(1 July 2019)": 0,
          "level_0": 6
         },
         {
          "Count": 32,
          "Country/Region": "Spain",
          "Date": "2/28/20",
          "Lat": 40,
          "Long": -4,
          "Population(1 July 2019)": 0,
          "level_0": 6
         },
         {
          "Count": 45,
          "Country/Region": "Spain",
          "Date": "2/29/20",
          "Lat": 40,
          "Long": -4,
          "Population(1 July 2019)": 0,
          "level_0": 6
         },
         {
          "Count": 84,
          "Country/Region": "Spain",
          "Date": "3/1/20",
          "Lat": 40,
          "Long": -4,
          "Population(1 July 2019)": 0,
          "level_0": 6
         },
         {
          "Count": 120,
          "Country/Region": "Spain",
          "Date": "3/2/20",
          "Lat": 40,
          "Long": -4,
          "Population(1 July 2019)": 0,
          "level_0": 6
         },
         {
          "Count": 165,
          "Country/Region": "Spain",
          "Date": "3/3/20",
          "Lat": 40,
          "Long": -4,
          "Population(1 July 2019)": 0,
          "level_0": 6
         },
         {
          "Count": 222,
          "Country/Region": "Spain",
          "Date": "3/4/20",
          "Lat": 40,
          "Long": -4,
          "Population(1 July 2019)": 0,
          "level_0": 6
         },
         {
          "Count": 259,
          "Country/Region": "Spain",
          "Date": "3/5/20",
          "Lat": 40,
          "Long": -4,
          "Population(1 July 2019)": 0,
          "level_0": 6
         },
         {
          "Count": 400,
          "Country/Region": "Spain",
          "Date": "3/6/20",
          "Lat": 40,
          "Long": -4,
          "Population(1 July 2019)": 0,
          "level_0": 6
         },
         {
          "Count": 500,
          "Country/Region": "Spain",
          "Date": "3/7/20",
          "Lat": 40,
          "Long": -4,
          "Population(1 July 2019)": 0,
          "level_0": 6
         },
         {
          "Count": 673,
          "Country/Region": "Spain",
          "Date": "3/8/20",
          "Lat": 40,
          "Long": -4,
          "Population(1 July 2019)": 0,
          "level_0": 6
         },
         {
          "Count": 1073,
          "Country/Region": "Spain",
          "Date": "3/9/20",
          "Lat": 40,
          "Long": -4,
          "Population(1 July 2019)": 0,
          "level_0": 6
         },
         {
          "Count": 1695,
          "Country/Region": "Spain",
          "Date": "3/10/20",
          "Lat": 40,
          "Long": -4,
          "Population(1 July 2019)": 0,
          "level_0": 6
         },
         {
          "Count": 2277,
          "Country/Region": "Spain",
          "Date": "3/11/20",
          "Lat": 40,
          "Long": -4,
          "Population(1 July 2019)": 0,
          "level_0": 6
         },
         {
          "Count": 2277,
          "Country/Region": "Spain",
          "Date": "3/12/20",
          "Lat": 40,
          "Long": -4,
          "Population(1 July 2019)": 0,
          "level_0": 6
         },
         {
          "Count": 5232,
          "Country/Region": "Spain",
          "Date": "3/13/20",
          "Lat": 40,
          "Long": -4,
          "Population(1 July 2019)": 0,
          "level_0": 6
         },
         {
          "Count": 6391,
          "Country/Region": "Spain",
          "Date": "3/14/20",
          "Lat": 40,
          "Long": -4,
          "Population(1 July 2019)": 0,
          "level_0": 6
         },
         {
          "Count": 7798,
          "Country/Region": "Spain",
          "Date": "3/15/20",
          "Lat": 40,
          "Long": -4,
          "Population(1 July 2019)": 0,
          "level_0": 6
         },
         {
          "Count": 9942,
          "Country/Region": "Spain",
          "Date": "3/16/20",
          "Lat": 40,
          "Long": -4,
          "Population(1 July 2019)": 0,
          "level_0": 6
         },
         {
          "Count": 11748,
          "Country/Region": "Spain",
          "Date": "3/17/20",
          "Lat": 40,
          "Long": -4,
          "Population(1 July 2019)": 0,
          "level_0": 6
         },
         {
          "Count": 13910,
          "Country/Region": "Spain",
          "Date": "3/18/20",
          "Lat": 40,
          "Long": -4,
          "Population(1 July 2019)": 0,
          "level_0": 6
         },
         {
          "Count": 17963,
          "Country/Region": "Spain",
          "Date": "3/19/20",
          "Lat": 40,
          "Long": -4,
          "Population(1 July 2019)": 0,
          "level_0": 6
         },
         {
          "Count": 20410,
          "Country/Region": "Spain",
          "Date": "3/20/20",
          "Lat": 40,
          "Long": -4,
          "Population(1 July 2019)": 0,
          "level_0": 6
         },
         {
          "Count": 25374,
          "Country/Region": "Spain",
          "Date": "3/21/20",
          "Lat": 40,
          "Long": -4,
          "Population(1 July 2019)": 0,
          "level_0": 6
         },
         {
          "Count": 28768,
          "Country/Region": "Spain",
          "Date": "3/22/20",
          "Lat": 40,
          "Long": -4,
          "Population(1 July 2019)": 0,
          "level_0": 6
         },
         {
          "Count": 35136,
          "Country/Region": "Spain",
          "Date": "3/23/20",
          "Lat": 40,
          "Long": -4,
          "Population(1 July 2019)": 0,
          "level_0": 6
         },
         {
          "Count": 39885,
          "Country/Region": "Spain",
          "Date": "3/24/20",
          "Lat": 40,
          "Long": -4,
          "Population(1 July 2019)": 0,
          "level_0": 6
         },
         {
          "Count": 0,
          "Country/Region": "Switzerland",
          "Date": "1/22/20",
          "Lat": 46.8182,
          "Long": 8.2275,
          "Population(1 July 2019)": 0,
          "level_0": 7
         },
         {
          "Count": 0,
          "Country/Region": "Switzerland",
          "Date": "1/23/20",
          "Lat": 46.8182,
          "Long": 8.2275,
          "Population(1 July 2019)": 0,
          "level_0": 7
         },
         {
          "Count": 0,
          "Country/Region": "Switzerland",
          "Date": "1/24/20",
          "Lat": 46.8182,
          "Long": 8.2275,
          "Population(1 July 2019)": 0,
          "level_0": 7
         },
         {
          "Count": 0,
          "Country/Region": "Switzerland",
          "Date": "1/25/20",
          "Lat": 46.8182,
          "Long": 8.2275,
          "Population(1 July 2019)": 0,
          "level_0": 7
         },
         {
          "Count": 0,
          "Country/Region": "Switzerland",
          "Date": "1/26/20",
          "Lat": 46.8182,
          "Long": 8.2275,
          "Population(1 July 2019)": 0,
          "level_0": 7
         },
         {
          "Count": 0,
          "Country/Region": "Switzerland",
          "Date": "1/27/20",
          "Lat": 46.8182,
          "Long": 8.2275,
          "Population(1 July 2019)": 0,
          "level_0": 7
         },
         {
          "Count": 0,
          "Country/Region": "Switzerland",
          "Date": "1/28/20",
          "Lat": 46.8182,
          "Long": 8.2275,
          "Population(1 July 2019)": 0,
          "level_0": 7
         },
         {
          "Count": 0,
          "Country/Region": "Switzerland",
          "Date": "1/29/20",
          "Lat": 46.8182,
          "Long": 8.2275,
          "Population(1 July 2019)": 0,
          "level_0": 7
         },
         {
          "Count": 0,
          "Country/Region": "Switzerland",
          "Date": "1/30/20",
          "Lat": 46.8182,
          "Long": 8.2275,
          "Population(1 July 2019)": 0,
          "level_0": 7
         },
         {
          "Count": 0,
          "Country/Region": "Switzerland",
          "Date": "1/31/20",
          "Lat": 46.8182,
          "Long": 8.2275,
          "Population(1 July 2019)": 0,
          "level_0": 7
         },
         {
          "Count": 0,
          "Country/Region": "Switzerland",
          "Date": "2/1/20",
          "Lat": 46.8182,
          "Long": 8.2275,
          "Population(1 July 2019)": 0,
          "level_0": 7
         },
         {
          "Count": 0,
          "Country/Region": "Switzerland",
          "Date": "2/2/20",
          "Lat": 46.8182,
          "Long": 8.2275,
          "Population(1 July 2019)": 0,
          "level_0": 7
         },
         {
          "Count": 0,
          "Country/Region": "Switzerland",
          "Date": "2/3/20",
          "Lat": 46.8182,
          "Long": 8.2275,
          "Population(1 July 2019)": 0,
          "level_0": 7
         },
         {
          "Count": 0,
          "Country/Region": "Switzerland",
          "Date": "2/4/20",
          "Lat": 46.8182,
          "Long": 8.2275,
          "Population(1 July 2019)": 0,
          "level_0": 7
         },
         {
          "Count": 0,
          "Country/Region": "Switzerland",
          "Date": "2/5/20",
          "Lat": 46.8182,
          "Long": 8.2275,
          "Population(1 July 2019)": 0,
          "level_0": 7
         },
         {
          "Count": 0,
          "Country/Region": "Switzerland",
          "Date": "2/6/20",
          "Lat": 46.8182,
          "Long": 8.2275,
          "Population(1 July 2019)": 0,
          "level_0": 7
         },
         {
          "Count": 0,
          "Country/Region": "Switzerland",
          "Date": "2/7/20",
          "Lat": 46.8182,
          "Long": 8.2275,
          "Population(1 July 2019)": 0,
          "level_0": 7
         },
         {
          "Count": 0,
          "Country/Region": "Switzerland",
          "Date": "2/8/20",
          "Lat": 46.8182,
          "Long": 8.2275,
          "Population(1 July 2019)": 0,
          "level_0": 7
         },
         {
          "Count": 0,
          "Country/Region": "Switzerland",
          "Date": "2/9/20",
          "Lat": 46.8182,
          "Long": 8.2275,
          "Population(1 July 2019)": 0,
          "level_0": 7
         },
         {
          "Count": 0,
          "Country/Region": "Switzerland",
          "Date": "2/10/20",
          "Lat": 46.8182,
          "Long": 8.2275,
          "Population(1 July 2019)": 0,
          "level_0": 7
         },
         {
          "Count": 0,
          "Country/Region": "Switzerland",
          "Date": "2/11/20",
          "Lat": 46.8182,
          "Long": 8.2275,
          "Population(1 July 2019)": 0,
          "level_0": 7
         },
         {
          "Count": 0,
          "Country/Region": "Switzerland",
          "Date": "2/12/20",
          "Lat": 46.8182,
          "Long": 8.2275,
          "Population(1 July 2019)": 0,
          "level_0": 7
         },
         {
          "Count": 0,
          "Country/Region": "Switzerland",
          "Date": "2/13/20",
          "Lat": 46.8182,
          "Long": 8.2275,
          "Population(1 July 2019)": 0,
          "level_0": 7
         },
         {
          "Count": 0,
          "Country/Region": "Switzerland",
          "Date": "2/14/20",
          "Lat": 46.8182,
          "Long": 8.2275,
          "Population(1 July 2019)": 0,
          "level_0": 7
         },
         {
          "Count": 0,
          "Country/Region": "Switzerland",
          "Date": "2/15/20",
          "Lat": 46.8182,
          "Long": 8.2275,
          "Population(1 July 2019)": 0,
          "level_0": 7
         },
         {
          "Count": 0,
          "Country/Region": "Switzerland",
          "Date": "2/16/20",
          "Lat": 46.8182,
          "Long": 8.2275,
          "Population(1 July 2019)": 0,
          "level_0": 7
         },
         {
          "Count": 0,
          "Country/Region": "Switzerland",
          "Date": "2/17/20",
          "Lat": 46.8182,
          "Long": 8.2275,
          "Population(1 July 2019)": 0,
          "level_0": 7
         },
         {
          "Count": 0,
          "Country/Region": "Switzerland",
          "Date": "2/18/20",
          "Lat": 46.8182,
          "Long": 8.2275,
          "Population(1 July 2019)": 0,
          "level_0": 7
         },
         {
          "Count": 0,
          "Country/Region": "Switzerland",
          "Date": "2/19/20",
          "Lat": 46.8182,
          "Long": 8.2275,
          "Population(1 July 2019)": 0,
          "level_0": 7
         },
         {
          "Count": 0,
          "Country/Region": "Switzerland",
          "Date": "2/20/20",
          "Lat": 46.8182,
          "Long": 8.2275,
          "Population(1 July 2019)": 0,
          "level_0": 7
         },
         {
          "Count": 0,
          "Country/Region": "Switzerland",
          "Date": "2/21/20",
          "Lat": 46.8182,
          "Long": 8.2275,
          "Population(1 July 2019)": 0,
          "level_0": 7
         },
         {
          "Count": 0,
          "Country/Region": "Switzerland",
          "Date": "2/22/20",
          "Lat": 46.8182,
          "Long": 8.2275,
          "Population(1 July 2019)": 0,
          "level_0": 7
         },
         {
          "Count": 0,
          "Country/Region": "Switzerland",
          "Date": "2/23/20",
          "Lat": 46.8182,
          "Long": 8.2275,
          "Population(1 July 2019)": 0,
          "level_0": 7
         },
         {
          "Count": 0,
          "Country/Region": "Switzerland",
          "Date": "2/24/20",
          "Lat": 46.8182,
          "Long": 8.2275,
          "Population(1 July 2019)": 0,
          "level_0": 7
         },
         {
          "Count": 1,
          "Country/Region": "Switzerland",
          "Date": "2/25/20",
          "Lat": 46.8182,
          "Long": 8.2275,
          "Population(1 July 2019)": 0,
          "level_0": 7
         },
         {
          "Count": 1,
          "Country/Region": "Switzerland",
          "Date": "2/26/20",
          "Lat": 46.8182,
          "Long": 8.2275,
          "Population(1 July 2019)": 0,
          "level_0": 7
         },
         {
          "Count": 8,
          "Country/Region": "Switzerland",
          "Date": "2/27/20",
          "Lat": 46.8182,
          "Long": 8.2275,
          "Population(1 July 2019)": 0,
          "level_0": 7
         },
         {
          "Count": 8,
          "Country/Region": "Switzerland",
          "Date": "2/28/20",
          "Lat": 46.8182,
          "Long": 8.2275,
          "Population(1 July 2019)": 0,
          "level_0": 7
         },
         {
          "Count": 18,
          "Country/Region": "Switzerland",
          "Date": "2/29/20",
          "Lat": 46.8182,
          "Long": 8.2275,
          "Population(1 July 2019)": 0,
          "level_0": 7
         },
         {
          "Count": 27,
          "Country/Region": "Switzerland",
          "Date": "3/1/20",
          "Lat": 46.8182,
          "Long": 8.2275,
          "Population(1 July 2019)": 0,
          "level_0": 7
         },
         {
          "Count": 42,
          "Country/Region": "Switzerland",
          "Date": "3/2/20",
          "Lat": 46.8182,
          "Long": 8.2275,
          "Population(1 July 2019)": 0,
          "level_0": 7
         },
         {
          "Count": 56,
          "Country/Region": "Switzerland",
          "Date": "3/3/20",
          "Lat": 46.8182,
          "Long": 8.2275,
          "Population(1 July 2019)": 0,
          "level_0": 7
         },
         {
          "Count": 90,
          "Country/Region": "Switzerland",
          "Date": "3/4/20",
          "Lat": 46.8182,
          "Long": 8.2275,
          "Population(1 July 2019)": 0,
          "level_0": 7
         },
         {
          "Count": 114,
          "Country/Region": "Switzerland",
          "Date": "3/5/20",
          "Lat": 46.8182,
          "Long": 8.2275,
          "Population(1 July 2019)": 0,
          "level_0": 7
         },
         {
          "Count": 214,
          "Country/Region": "Switzerland",
          "Date": "3/6/20",
          "Lat": 46.8182,
          "Long": 8.2275,
          "Population(1 July 2019)": 0,
          "level_0": 7
         },
         {
          "Count": 268,
          "Country/Region": "Switzerland",
          "Date": "3/7/20",
          "Lat": 46.8182,
          "Long": 8.2275,
          "Population(1 July 2019)": 0,
          "level_0": 7
         },
         {
          "Count": 337,
          "Country/Region": "Switzerland",
          "Date": "3/8/20",
          "Lat": 46.8182,
          "Long": 8.2275,
          "Population(1 July 2019)": 0,
          "level_0": 7
         },
         {
          "Count": 374,
          "Country/Region": "Switzerland",
          "Date": "3/9/20",
          "Lat": 46.8182,
          "Long": 8.2275,
          "Population(1 July 2019)": 0,
          "level_0": 7
         },
         {
          "Count": 491,
          "Country/Region": "Switzerland",
          "Date": "3/10/20",
          "Lat": 46.8182,
          "Long": 8.2275,
          "Population(1 July 2019)": 0,
          "level_0": 7
         },
         {
          "Count": 652,
          "Country/Region": "Switzerland",
          "Date": "3/11/20",
          "Lat": 46.8182,
          "Long": 8.2275,
          "Population(1 July 2019)": 0,
          "level_0": 7
         },
         {
          "Count": 652,
          "Country/Region": "Switzerland",
          "Date": "3/12/20",
          "Lat": 46.8182,
          "Long": 8.2275,
          "Population(1 July 2019)": 0,
          "level_0": 7
         },
         {
          "Count": 1139,
          "Country/Region": "Switzerland",
          "Date": "3/13/20",
          "Lat": 46.8182,
          "Long": 8.2275,
          "Population(1 July 2019)": 0,
          "level_0": 7
         },
         {
          "Count": 1359,
          "Country/Region": "Switzerland",
          "Date": "3/14/20",
          "Lat": 46.8182,
          "Long": 8.2275,
          "Population(1 July 2019)": 0,
          "level_0": 7
         },
         {
          "Count": 2200,
          "Country/Region": "Switzerland",
          "Date": "3/15/20",
          "Lat": 46.8182,
          "Long": 8.2275,
          "Population(1 July 2019)": 0,
          "level_0": 7
         },
         {
          "Count": 2200,
          "Country/Region": "Switzerland",
          "Date": "3/16/20",
          "Lat": 46.8182,
          "Long": 8.2275,
          "Population(1 July 2019)": 0,
          "level_0": 7
         },
         {
          "Count": 2700,
          "Country/Region": "Switzerland",
          "Date": "3/17/20",
          "Lat": 46.8182,
          "Long": 8.2275,
          "Population(1 July 2019)": 0,
          "level_0": 7
         },
         {
          "Count": 3028,
          "Country/Region": "Switzerland",
          "Date": "3/18/20",
          "Lat": 46.8182,
          "Long": 8.2275,
          "Population(1 July 2019)": 0,
          "level_0": 7
         },
         {
          "Count": 4075,
          "Country/Region": "Switzerland",
          "Date": "3/19/20",
          "Lat": 46.8182,
          "Long": 8.2275,
          "Population(1 July 2019)": 0,
          "level_0": 7
         },
         {
          "Count": 5294,
          "Country/Region": "Switzerland",
          "Date": "3/20/20",
          "Lat": 46.8182,
          "Long": 8.2275,
          "Population(1 July 2019)": 0,
          "level_0": 7
         },
         {
          "Count": 6575,
          "Country/Region": "Switzerland",
          "Date": "3/21/20",
          "Lat": 46.8182,
          "Long": 8.2275,
          "Population(1 July 2019)": 0,
          "level_0": 7
         },
         {
          "Count": 7474,
          "Country/Region": "Switzerland",
          "Date": "3/22/20",
          "Lat": 46.8182,
          "Long": 8.2275,
          "Population(1 July 2019)": 0,
          "level_0": 7
         },
         {
          "Count": 8795,
          "Country/Region": "Switzerland",
          "Date": "3/23/20",
          "Lat": 46.8182,
          "Long": 8.2275,
          "Population(1 July 2019)": 0,
          "level_0": 7
         },
         {
          "Count": 9877,
          "Country/Region": "Switzerland",
          "Date": "3/24/20",
          "Lat": 46.8182,
          "Long": 8.2275,
          "Population(1 July 2019)": 0,
          "level_0": 7
         },
         {
          "Count": 1,
          "Country/Region": "US",
          "Date": "1/22/20",
          "Lat": 37.0902,
          "Long": -95.7129,
          "Population(1 July 2019)": 0,
          "level_0": 8
         },
         {
          "Count": 1,
          "Country/Region": "US",
          "Date": "1/23/20",
          "Lat": 37.0902,
          "Long": -95.7129,
          "Population(1 July 2019)": 0,
          "level_0": 8
         },
         {
          "Count": 2,
          "Country/Region": "US",
          "Date": "1/24/20",
          "Lat": 37.0902,
          "Long": -95.7129,
          "Population(1 July 2019)": 0,
          "level_0": 8
         },
         {
          "Count": 2,
          "Country/Region": "US",
          "Date": "1/25/20",
          "Lat": 37.0902,
          "Long": -95.7129,
          "Population(1 July 2019)": 0,
          "level_0": 8
         },
         {
          "Count": 5,
          "Country/Region": "US",
          "Date": "1/26/20",
          "Lat": 37.0902,
          "Long": -95.7129,
          "Population(1 July 2019)": 0,
          "level_0": 8
         },
         {
          "Count": 5,
          "Country/Region": "US",
          "Date": "1/27/20",
          "Lat": 37.0902,
          "Long": -95.7129,
          "Population(1 July 2019)": 0,
          "level_0": 8
         },
         {
          "Count": 5,
          "Country/Region": "US",
          "Date": "1/28/20",
          "Lat": 37.0902,
          "Long": -95.7129,
          "Population(1 July 2019)": 0,
          "level_0": 8
         },
         {
          "Count": 5,
          "Country/Region": "US",
          "Date": "1/29/20",
          "Lat": 37.0902,
          "Long": -95.7129,
          "Population(1 July 2019)": 0,
          "level_0": 8
         },
         {
          "Count": 5,
          "Country/Region": "US",
          "Date": "1/30/20",
          "Lat": 37.0902,
          "Long": -95.7129,
          "Population(1 July 2019)": 0,
          "level_0": 8
         },
         {
          "Count": 7,
          "Country/Region": "US",
          "Date": "1/31/20",
          "Lat": 37.0902,
          "Long": -95.7129,
          "Population(1 July 2019)": 0,
          "level_0": 8
         },
         {
          "Count": 8,
          "Country/Region": "US",
          "Date": "2/1/20",
          "Lat": 37.0902,
          "Long": -95.7129,
          "Population(1 July 2019)": 0,
          "level_0": 8
         },
         {
          "Count": 8,
          "Country/Region": "US",
          "Date": "2/2/20",
          "Lat": 37.0902,
          "Long": -95.7129,
          "Population(1 July 2019)": 0,
          "level_0": 8
         },
         {
          "Count": 11,
          "Country/Region": "US",
          "Date": "2/3/20",
          "Lat": 37.0902,
          "Long": -95.7129,
          "Population(1 July 2019)": 0,
          "level_0": 8
         },
         {
          "Count": 11,
          "Country/Region": "US",
          "Date": "2/4/20",
          "Lat": 37.0902,
          "Long": -95.7129,
          "Population(1 July 2019)": 0,
          "level_0": 8
         },
         {
          "Count": 11,
          "Country/Region": "US",
          "Date": "2/5/20",
          "Lat": 37.0902,
          "Long": -95.7129,
          "Population(1 July 2019)": 0,
          "level_0": 8
         },
         {
          "Count": 11,
          "Country/Region": "US",
          "Date": "2/6/20",
          "Lat": 37.0902,
          "Long": -95.7129,
          "Population(1 July 2019)": 0,
          "level_0": 8
         },
         {
          "Count": 11,
          "Country/Region": "US",
          "Date": "2/7/20",
          "Lat": 37.0902,
          "Long": -95.7129,
          "Population(1 July 2019)": 0,
          "level_0": 8
         },
         {
          "Count": 11,
          "Country/Region": "US",
          "Date": "2/8/20",
          "Lat": 37.0902,
          "Long": -95.7129,
          "Population(1 July 2019)": 0,
          "level_0": 8
         },
         {
          "Count": 11,
          "Country/Region": "US",
          "Date": "2/9/20",
          "Lat": 37.0902,
          "Long": -95.7129,
          "Population(1 July 2019)": 0,
          "level_0": 8
         },
         {
          "Count": 11,
          "Country/Region": "US",
          "Date": "2/10/20",
          "Lat": 37.0902,
          "Long": -95.7129,
          "Population(1 July 2019)": 0,
          "level_0": 8
         },
         {
          "Count": 12,
          "Country/Region": "US",
          "Date": "2/11/20",
          "Lat": 37.0902,
          "Long": -95.7129,
          "Population(1 July 2019)": 0,
          "level_0": 8
         },
         {
          "Count": 12,
          "Country/Region": "US",
          "Date": "2/12/20",
          "Lat": 37.0902,
          "Long": -95.7129,
          "Population(1 July 2019)": 0,
          "level_0": 8
         },
         {
          "Count": 13,
          "Country/Region": "US",
          "Date": "2/13/20",
          "Lat": 37.0902,
          "Long": -95.7129,
          "Population(1 July 2019)": 0,
          "level_0": 8
         },
         {
          "Count": 13,
          "Country/Region": "US",
          "Date": "2/14/20",
          "Lat": 37.0902,
          "Long": -95.7129,
          "Population(1 July 2019)": 0,
          "level_0": 8
         },
         {
          "Count": 13,
          "Country/Region": "US",
          "Date": "2/15/20",
          "Lat": 37.0902,
          "Long": -95.7129,
          "Population(1 July 2019)": 0,
          "level_0": 8
         },
         {
          "Count": 13,
          "Country/Region": "US",
          "Date": "2/16/20",
          "Lat": 37.0902,
          "Long": -95.7129,
          "Population(1 July 2019)": 0,
          "level_0": 8
         },
         {
          "Count": 13,
          "Country/Region": "US",
          "Date": "2/17/20",
          "Lat": 37.0902,
          "Long": -95.7129,
          "Population(1 July 2019)": 0,
          "level_0": 8
         },
         {
          "Count": 13,
          "Country/Region": "US",
          "Date": "2/18/20",
          "Lat": 37.0902,
          "Long": -95.7129,
          "Population(1 July 2019)": 0,
          "level_0": 8
         },
         {
          "Count": 13,
          "Country/Region": "US",
          "Date": "2/19/20",
          "Lat": 37.0902,
          "Long": -95.7129,
          "Population(1 July 2019)": 0,
          "level_0": 8
         },
         {
          "Count": 13,
          "Country/Region": "US",
          "Date": "2/20/20",
          "Lat": 37.0902,
          "Long": -95.7129,
          "Population(1 July 2019)": 0,
          "level_0": 8
         },
         {
          "Count": 15,
          "Country/Region": "US",
          "Date": "2/21/20",
          "Lat": 37.0902,
          "Long": -95.7129,
          "Population(1 July 2019)": 0,
          "level_0": 8
         },
         {
          "Count": 15,
          "Country/Region": "US",
          "Date": "2/22/20",
          "Lat": 37.0902,
          "Long": -95.7129,
          "Population(1 July 2019)": 0,
          "level_0": 8
         },
         {
          "Count": 15,
          "Country/Region": "US",
          "Date": "2/23/20",
          "Lat": 37.0902,
          "Long": -95.7129,
          "Population(1 July 2019)": 0,
          "level_0": 8
         },
         {
          "Count": 51,
          "Country/Region": "US",
          "Date": "2/24/20",
          "Lat": 37.0902,
          "Long": -95.7129,
          "Population(1 July 2019)": 0,
          "level_0": 8
         },
         {
          "Count": 51,
          "Country/Region": "US",
          "Date": "2/25/20",
          "Lat": 37.0902,
          "Long": -95.7129,
          "Population(1 July 2019)": 0,
          "level_0": 8
         },
         {
          "Count": 57,
          "Country/Region": "US",
          "Date": "2/26/20",
          "Lat": 37.0902,
          "Long": -95.7129,
          "Population(1 July 2019)": 0,
          "level_0": 8
         },
         {
          "Count": 58,
          "Country/Region": "US",
          "Date": "2/27/20",
          "Lat": 37.0902,
          "Long": -95.7129,
          "Population(1 July 2019)": 0,
          "level_0": 8
         },
         {
          "Count": 60,
          "Country/Region": "US",
          "Date": "2/28/20",
          "Lat": 37.0902,
          "Long": -95.7129,
          "Population(1 July 2019)": 0,
          "level_0": 8
         },
         {
          "Count": 68,
          "Country/Region": "US",
          "Date": "2/29/20",
          "Lat": 37.0902,
          "Long": -95.7129,
          "Population(1 July 2019)": 0,
          "level_0": 8
         },
         {
          "Count": 74,
          "Country/Region": "US",
          "Date": "3/1/20",
          "Lat": 37.0902,
          "Long": -95.7129,
          "Population(1 July 2019)": 0,
          "level_0": 8
         },
         {
          "Count": 98,
          "Country/Region": "US",
          "Date": "3/2/20",
          "Lat": 37.0902,
          "Long": -95.7129,
          "Population(1 July 2019)": 0,
          "level_0": 8
         },
         {
          "Count": 118,
          "Country/Region": "US",
          "Date": "3/3/20",
          "Lat": 37.0902,
          "Long": -95.7129,
          "Population(1 July 2019)": 0,
          "level_0": 8
         },
         {
          "Count": 149,
          "Country/Region": "US",
          "Date": "3/4/20",
          "Lat": 37.0902,
          "Long": -95.7129,
          "Population(1 July 2019)": 0,
          "level_0": 8
         },
         {
          "Count": 217,
          "Country/Region": "US",
          "Date": "3/5/20",
          "Lat": 37.0902,
          "Long": -95.7129,
          "Population(1 July 2019)": 0,
          "level_0": 8
         },
         {
          "Count": 262,
          "Country/Region": "US",
          "Date": "3/6/20",
          "Lat": 37.0902,
          "Long": -95.7129,
          "Population(1 July 2019)": 0,
          "level_0": 8
         },
         {
          "Count": 402,
          "Country/Region": "US",
          "Date": "3/7/20",
          "Lat": 37.0902,
          "Long": -95.7129,
          "Population(1 July 2019)": 0,
          "level_0": 8
         },
         {
          "Count": 518,
          "Country/Region": "US",
          "Date": "3/8/20",
          "Lat": 37.0902,
          "Long": -95.7129,
          "Population(1 July 2019)": 0,
          "level_0": 8
         },
         {
          "Count": 583,
          "Country/Region": "US",
          "Date": "3/9/20",
          "Lat": 37.0902,
          "Long": -95.7129,
          "Population(1 July 2019)": 0,
          "level_0": 8
         },
         {
          "Count": 959,
          "Country/Region": "US",
          "Date": "3/10/20",
          "Lat": 37.0902,
          "Long": -95.7129,
          "Population(1 July 2019)": 0,
          "level_0": 8
         },
         {
          "Count": 1281,
          "Country/Region": "US",
          "Date": "3/11/20",
          "Lat": 37.0902,
          "Long": -95.7129,
          "Population(1 July 2019)": 0,
          "level_0": 8
         },
         {
          "Count": 1663,
          "Country/Region": "US",
          "Date": "3/12/20",
          "Lat": 37.0902,
          "Long": -95.7129,
          "Population(1 July 2019)": 0,
          "level_0": 8
         },
         {
          "Count": 2179,
          "Country/Region": "US",
          "Date": "3/13/20",
          "Lat": 37.0902,
          "Long": -95.7129,
          "Population(1 July 2019)": 0,
          "level_0": 8
         },
         {
          "Count": 2727,
          "Country/Region": "US",
          "Date": "3/14/20",
          "Lat": 37.0902,
          "Long": -95.7129,
          "Population(1 July 2019)": 0,
          "level_0": 8
         },
         {
          "Count": 3499,
          "Country/Region": "US",
          "Date": "3/15/20",
          "Lat": 37.0902,
          "Long": -95.7129,
          "Population(1 July 2019)": 0,
          "level_0": 8
         },
         {
          "Count": 4632,
          "Country/Region": "US",
          "Date": "3/16/20",
          "Lat": 37.0902,
          "Long": -95.7129,
          "Population(1 July 2019)": 0,
          "level_0": 8
         },
         {
          "Count": 6421,
          "Country/Region": "US",
          "Date": "3/17/20",
          "Lat": 37.0902,
          "Long": -95.7129,
          "Population(1 July 2019)": 0,
          "level_0": 8
         },
         {
          "Count": 7783,
          "Country/Region": "US",
          "Date": "3/18/20",
          "Lat": 37.0902,
          "Long": -95.7129,
          "Population(1 July 2019)": 0,
          "level_0": 8
         },
         {
          "Count": 13677,
          "Country/Region": "US",
          "Date": "3/19/20",
          "Lat": 37.0902,
          "Long": -95.7129,
          "Population(1 July 2019)": 0,
          "level_0": 8
         },
         {
          "Count": 19100,
          "Country/Region": "US",
          "Date": "3/20/20",
          "Lat": 37.0902,
          "Long": -95.7129,
          "Population(1 July 2019)": 0,
          "level_0": 8
         },
         {
          "Count": 25489,
          "Country/Region": "US",
          "Date": "3/21/20",
          "Lat": 37.0902,
          "Long": -95.7129,
          "Population(1 July 2019)": 0,
          "level_0": 8
         },
         {
          "Count": 33276,
          "Country/Region": "US",
          "Date": "3/22/20",
          "Lat": 37.0902,
          "Long": -95.7129,
          "Population(1 July 2019)": 0,
          "level_0": 8
         },
         {
          "Count": 43847,
          "Country/Region": "US",
          "Date": "3/23/20",
          "Lat": 37.0902,
          "Long": -95.7129,
          "Population(1 July 2019)": 0,
          "level_0": 8
         },
         {
          "Count": 53740,
          "Country/Region": "US",
          "Date": "3/24/20",
          "Lat": 37.0902,
          "Long": -95.7129,
          "Population(1 July 2019)": 0,
          "level_0": 8
         },
         {
          "Count": 0,
          "Country/Region": "United Kingdom",
          "Date": "1/22/20",
          "Lat": 263.4909,
          "Long": -223.8946,
          "Population(1 July 2019)": 0,
          "level_0": 9
         },
         {
          "Count": 0,
          "Country/Region": "United Kingdom",
          "Date": "1/23/20",
          "Lat": 263.4909,
          "Long": -223.8946,
          "Population(1 July 2019)": 0,
          "level_0": 9
         },
         {
          "Count": 0,
          "Country/Region": "United Kingdom",
          "Date": "1/24/20",
          "Lat": 263.4909,
          "Long": -223.8946,
          "Population(1 July 2019)": 0,
          "level_0": 9
         },
         {
          "Count": 0,
          "Country/Region": "United Kingdom",
          "Date": "1/25/20",
          "Lat": 263.4909,
          "Long": -223.8946,
          "Population(1 July 2019)": 0,
          "level_0": 9
         },
         {
          "Count": 0,
          "Country/Region": "United Kingdom",
          "Date": "1/26/20",
          "Lat": 263.4909,
          "Long": -223.8946,
          "Population(1 July 2019)": 0,
          "level_0": 9
         },
         {
          "Count": 0,
          "Country/Region": "United Kingdom",
          "Date": "1/27/20",
          "Lat": 263.4909,
          "Long": -223.8946,
          "Population(1 July 2019)": 0,
          "level_0": 9
         },
         {
          "Count": 0,
          "Country/Region": "United Kingdom",
          "Date": "1/28/20",
          "Lat": 263.4909,
          "Long": -223.8946,
          "Population(1 July 2019)": 0,
          "level_0": 9
         },
         {
          "Count": 0,
          "Country/Region": "United Kingdom",
          "Date": "1/29/20",
          "Lat": 263.4909,
          "Long": -223.8946,
          "Population(1 July 2019)": 0,
          "level_0": 9
         },
         {
          "Count": 0,
          "Country/Region": "United Kingdom",
          "Date": "1/30/20",
          "Lat": 263.4909,
          "Long": -223.8946,
          "Population(1 July 2019)": 0,
          "level_0": 9
         },
         {
          "Count": 2,
          "Country/Region": "United Kingdom",
          "Date": "1/31/20",
          "Lat": 263.4909,
          "Long": -223.8946,
          "Population(1 July 2019)": 0,
          "level_0": 9
         },
         {
          "Count": 2,
          "Country/Region": "United Kingdom",
          "Date": "2/1/20",
          "Lat": 263.4909,
          "Long": -223.8946,
          "Population(1 July 2019)": 0,
          "level_0": 9
         },
         {
          "Count": 2,
          "Country/Region": "United Kingdom",
          "Date": "2/2/20",
          "Lat": 263.4909,
          "Long": -223.8946,
          "Population(1 July 2019)": 0,
          "level_0": 9
         },
         {
          "Count": 2,
          "Country/Region": "United Kingdom",
          "Date": "2/3/20",
          "Lat": 263.4909,
          "Long": -223.8946,
          "Population(1 July 2019)": 0,
          "level_0": 9
         },
         {
          "Count": 2,
          "Country/Region": "United Kingdom",
          "Date": "2/4/20",
          "Lat": 263.4909,
          "Long": -223.8946,
          "Population(1 July 2019)": 0,
          "level_0": 9
         },
         {
          "Count": 2,
          "Country/Region": "United Kingdom",
          "Date": "2/5/20",
          "Lat": 263.4909,
          "Long": -223.8946,
          "Population(1 July 2019)": 0,
          "level_0": 9
         },
         {
          "Count": 2,
          "Country/Region": "United Kingdom",
          "Date": "2/6/20",
          "Lat": 263.4909,
          "Long": -223.8946,
          "Population(1 July 2019)": 0,
          "level_0": 9
         },
         {
          "Count": 3,
          "Country/Region": "United Kingdom",
          "Date": "2/7/20",
          "Lat": 263.4909,
          "Long": -223.8946,
          "Population(1 July 2019)": 0,
          "level_0": 9
         },
         {
          "Count": 3,
          "Country/Region": "United Kingdom",
          "Date": "2/8/20",
          "Lat": 263.4909,
          "Long": -223.8946,
          "Population(1 July 2019)": 0,
          "level_0": 9
         },
         {
          "Count": 3,
          "Country/Region": "United Kingdom",
          "Date": "2/9/20",
          "Lat": 263.4909,
          "Long": -223.8946,
          "Population(1 July 2019)": 0,
          "level_0": 9
         },
         {
          "Count": 8,
          "Country/Region": "United Kingdom",
          "Date": "2/10/20",
          "Lat": 263.4909,
          "Long": -223.8946,
          "Population(1 July 2019)": 0,
          "level_0": 9
         },
         {
          "Count": 8,
          "Country/Region": "United Kingdom",
          "Date": "2/11/20",
          "Lat": 263.4909,
          "Long": -223.8946,
          "Population(1 July 2019)": 0,
          "level_0": 9
         },
         {
          "Count": 9,
          "Country/Region": "United Kingdom",
          "Date": "2/12/20",
          "Lat": 263.4909,
          "Long": -223.8946,
          "Population(1 July 2019)": 0,
          "level_0": 9
         },
         {
          "Count": 9,
          "Country/Region": "United Kingdom",
          "Date": "2/13/20",
          "Lat": 263.4909,
          "Long": -223.8946,
          "Population(1 July 2019)": 0,
          "level_0": 9
         },
         {
          "Count": 9,
          "Country/Region": "United Kingdom",
          "Date": "2/14/20",
          "Lat": 263.4909,
          "Long": -223.8946,
          "Population(1 July 2019)": 0,
          "level_0": 9
         },
         {
          "Count": 9,
          "Country/Region": "United Kingdom",
          "Date": "2/15/20",
          "Lat": 263.4909,
          "Long": -223.8946,
          "Population(1 July 2019)": 0,
          "level_0": 9
         },
         {
          "Count": 9,
          "Country/Region": "United Kingdom",
          "Date": "2/16/20",
          "Lat": 263.4909,
          "Long": -223.8946,
          "Population(1 July 2019)": 0,
          "level_0": 9
         },
         {
          "Count": 9,
          "Country/Region": "United Kingdom",
          "Date": "2/17/20",
          "Lat": 263.4909,
          "Long": -223.8946,
          "Population(1 July 2019)": 0,
          "level_0": 9
         },
         {
          "Count": 9,
          "Country/Region": "United Kingdom",
          "Date": "2/18/20",
          "Lat": 263.4909,
          "Long": -223.8946,
          "Population(1 July 2019)": 0,
          "level_0": 9
         },
         {
          "Count": 9,
          "Country/Region": "United Kingdom",
          "Date": "2/19/20",
          "Lat": 263.4909,
          "Long": -223.8946,
          "Population(1 July 2019)": 0,
          "level_0": 9
         },
         {
          "Count": 9,
          "Country/Region": "United Kingdom",
          "Date": "2/20/20",
          "Lat": 263.4909,
          "Long": -223.8946,
          "Population(1 July 2019)": 0,
          "level_0": 9
         },
         {
          "Count": 9,
          "Country/Region": "United Kingdom",
          "Date": "2/21/20",
          "Lat": 263.4909,
          "Long": -223.8946,
          "Population(1 July 2019)": 0,
          "level_0": 9
         },
         {
          "Count": 9,
          "Country/Region": "United Kingdom",
          "Date": "2/22/20",
          "Lat": 263.4909,
          "Long": -223.8946,
          "Population(1 July 2019)": 0,
          "level_0": 9
         },
         {
          "Count": 9,
          "Country/Region": "United Kingdom",
          "Date": "2/23/20",
          "Lat": 263.4909,
          "Long": -223.8946,
          "Population(1 July 2019)": 0,
          "level_0": 9
         },
         {
          "Count": 13,
          "Country/Region": "United Kingdom",
          "Date": "2/24/20",
          "Lat": 263.4909,
          "Long": -223.8946,
          "Population(1 July 2019)": 0,
          "level_0": 9
         },
         {
          "Count": 13,
          "Country/Region": "United Kingdom",
          "Date": "2/25/20",
          "Lat": 263.4909,
          "Long": -223.8946,
          "Population(1 July 2019)": 0,
          "level_0": 9
         },
         {
          "Count": 13,
          "Country/Region": "United Kingdom",
          "Date": "2/26/20",
          "Lat": 263.4909,
          "Long": -223.8946,
          "Population(1 July 2019)": 0,
          "level_0": 9
         },
         {
          "Count": 15,
          "Country/Region": "United Kingdom",
          "Date": "2/27/20",
          "Lat": 263.4909,
          "Long": -223.8946,
          "Population(1 July 2019)": 0,
          "level_0": 9
         },
         {
          "Count": 20,
          "Country/Region": "United Kingdom",
          "Date": "2/28/20",
          "Lat": 263.4909,
          "Long": -223.8946,
          "Population(1 July 2019)": 0,
          "level_0": 9
         },
         {
          "Count": 23,
          "Country/Region": "United Kingdom",
          "Date": "2/29/20",
          "Lat": 263.4909,
          "Long": -223.8946,
          "Population(1 July 2019)": 0,
          "level_0": 9
         },
         {
          "Count": 36,
          "Country/Region": "United Kingdom",
          "Date": "3/1/20",
          "Lat": 263.4909,
          "Long": -223.8946,
          "Population(1 July 2019)": 0,
          "level_0": 9
         },
         {
          "Count": 40,
          "Country/Region": "United Kingdom",
          "Date": "3/2/20",
          "Lat": 263.4909,
          "Long": -223.8946,
          "Population(1 July 2019)": 0,
          "level_0": 9
         },
         {
          "Count": 51,
          "Country/Region": "United Kingdom",
          "Date": "3/3/20",
          "Lat": 263.4909,
          "Long": -223.8946,
          "Population(1 July 2019)": 0,
          "level_0": 9
         },
         {
          "Count": 86,
          "Country/Region": "United Kingdom",
          "Date": "3/4/20",
          "Lat": 263.4909,
          "Long": -223.8946,
          "Population(1 July 2019)": 0,
          "level_0": 9
         },
         {
          "Count": 116,
          "Country/Region": "United Kingdom",
          "Date": "3/5/20",
          "Lat": 263.4909,
          "Long": -223.8946,
          "Population(1 July 2019)": 0,
          "level_0": 9
         },
         {
          "Count": 164,
          "Country/Region": "United Kingdom",
          "Date": "3/6/20",
          "Lat": 263.4909,
          "Long": -223.8946,
          "Population(1 July 2019)": 0,
          "level_0": 9
         },
         {
          "Count": 207,
          "Country/Region": "United Kingdom",
          "Date": "3/7/20",
          "Lat": 263.4909,
          "Long": -223.8946,
          "Population(1 July 2019)": 0,
          "level_0": 9
         },
         {
          "Count": 274,
          "Country/Region": "United Kingdom",
          "Date": "3/8/20",
          "Lat": 263.4909,
          "Long": -223.8946,
          "Population(1 July 2019)": 0,
          "level_0": 9
         },
         {
          "Count": 322,
          "Country/Region": "United Kingdom",
          "Date": "3/9/20",
          "Lat": 263.4909,
          "Long": -223.8946,
          "Population(1 July 2019)": 0,
          "level_0": 9
         },
         {
          "Count": 384,
          "Country/Region": "United Kingdom",
          "Date": "3/10/20",
          "Lat": 263.4909,
          "Long": -223.8946,
          "Population(1 July 2019)": 0,
          "level_0": 9
         },
         {
          "Count": 459,
          "Country/Region": "United Kingdom",
          "Date": "3/11/20",
          "Lat": 263.4909,
          "Long": -223.8946,
          "Population(1 July 2019)": 0,
          "level_0": 9
         },
         {
          "Count": 459,
          "Country/Region": "United Kingdom",
          "Date": "3/12/20",
          "Lat": 263.4909,
          "Long": -223.8946,
          "Population(1 July 2019)": 0,
          "level_0": 9
         },
         {
          "Count": 802,
          "Country/Region": "United Kingdom",
          "Date": "3/13/20",
          "Lat": 263.4909,
          "Long": -223.8946,
          "Population(1 July 2019)": 0,
          "level_0": 9
         },
         {
          "Count": 1144,
          "Country/Region": "United Kingdom",
          "Date": "3/14/20",
          "Lat": 263.4909,
          "Long": -223.8946,
          "Population(1 July 2019)": 0,
          "level_0": 9
         },
         {
          "Count": 1145,
          "Country/Region": "United Kingdom",
          "Date": "3/15/20",
          "Lat": 263.4909,
          "Long": -223.8946,
          "Population(1 July 2019)": 0,
          "level_0": 9
         },
         {
          "Count": 1551,
          "Country/Region": "United Kingdom",
          "Date": "3/16/20",
          "Lat": 263.4909,
          "Long": -223.8946,
          "Population(1 July 2019)": 0,
          "level_0": 9
         },
         {
          "Count": 1960,
          "Country/Region": "United Kingdom",
          "Date": "3/17/20",
          "Lat": 263.4909,
          "Long": -223.8946,
          "Population(1 July 2019)": 0,
          "level_0": 9
         },
         {
          "Count": 2642,
          "Country/Region": "United Kingdom",
          "Date": "3/18/20",
          "Lat": 263.4909,
          "Long": -223.8946,
          "Population(1 July 2019)": 0,
          "level_0": 9
         },
         {
          "Count": 2716,
          "Country/Region": "United Kingdom",
          "Date": "3/19/20",
          "Lat": 263.4909,
          "Long": -223.8946,
          "Population(1 July 2019)": 0,
          "level_0": 9
         },
         {
          "Count": 4014,
          "Country/Region": "United Kingdom",
          "Date": "3/20/20",
          "Lat": 263.4909,
          "Long": -223.8946,
          "Population(1 July 2019)": 0,
          "level_0": 9
         },
         {
          "Count": 5067,
          "Country/Region": "United Kingdom",
          "Date": "3/21/20",
          "Lat": 263.4909,
          "Long": -223.8946,
          "Population(1 July 2019)": 0,
          "level_0": 9
         },
         {
          "Count": 5745,
          "Country/Region": "United Kingdom",
          "Date": "3/22/20",
          "Lat": 263.4909,
          "Long": -223.8946,
          "Population(1 July 2019)": 0,
          "level_0": 9
         },
         {
          "Count": 6726,
          "Country/Region": "United Kingdom",
          "Date": "3/23/20",
          "Lat": 263.4909,
          "Long": -223.8946,
          "Population(1 July 2019)": 0,
          "level_0": 9
         },
         {
          "Count": 8164,
          "Country/Region": "United Kingdom",
          "Date": "3/24/20",
          "Lat": 263.4909,
          "Long": -223.8946,
          "Population(1 July 2019)": 0,
          "level_0": 9
         }
        ]
       },
       "height": 600,
       "layer": [
        {
         "encoding": {
          "color": {
           "field": "Country/Region",
           "sort": [
            "China",
            "Italy",
            "US",
            "Spain",
            "Germany",
            "Iran",
            "France",
            "Switzerland",
            "Korea, South",
            "United Kingdom"
           ],
           "type": "nominal"
          },
          "x": {
           "axis": {
            "format": "%d %b %Y",
            "labelAngle": 90
           },
           "field": "Date",
           "scale": {
            "domain": [
             "1/22/20",
             "03/24/20"
            ]
           },
           "type": "temporal"
          },
          "y": {
           "axis": {
            "orient": "right",
            "title": "Count"
           },
           "field": "Count",
           "scale": {
            "base": 10,
            "type": "log"
           },
           "type": "quantitative"
          }
         },
         "mark": "line",
         "title": "Confirmed - including 24 March 2020",
         "transform": [
          {
           "filter": "(datum.Count >= 1)"
          }
         ]
        },
        {
         "encoding": {
          "opacity": {
           "value": 0
          },
          "x": {
           "field": "Date",
           "type": "temporal"
          }
         },
         "mark": "point",
         "selection": {
          "selector003": {
           "empty": "none",
           "fields": [
            "Date"
           ],
           "nearest": true,
           "on": "mouseover",
           "type": "single"
          }
         }
        },
        {
         "encoding": {
          "color": {
           "field": "Country/Region",
           "sort": [
            "China",
            "Italy",
            "US",
            "Spain",
            "Germany",
            "Iran",
            "France",
            "Switzerland",
            "Korea, South",
            "United Kingdom"
           ],
           "type": "nominal"
          },
          "opacity": {
           "condition": {
            "selection": "selector003",
            "value": 1
           },
           "value": 0
          },
          "x": {
           "axis": {
            "format": "%d %b %Y",
            "labelAngle": 90
           },
           "field": "Date",
           "scale": {
            "domain": [
             "1/22/20",
             "03/24/20"
            ]
           },
           "type": "temporal"
          },
          "y": {
           "axis": {
            "orient": "right",
            "title": "Count"
           },
           "field": "Count",
           "scale": {
            "base": 10,
            "type": "log"
           },
           "type": "quantitative"
          }
         },
         "mark": "point",
         "selection": {
          "selector004": {
           "bind": "scales",
           "encodings": [
            "x",
            "y"
           ],
           "type": "interval"
          }
         },
         "title": "Confirmed - including 24 March 2020",
         "transform": [
          {
           "filter": "(datum.Count >= 1)"
          }
         ]
        },
        {
         "encoding": {
          "x": {
           "field": "Date",
           "type": "temporal"
          }
         },
         "mark": {
          "color": "gray",
          "type": "rule"
         },
         "transform": [
          {
           "filter": {
            "selection": "selector003"
           }
          }
         ]
        },
        {
         "encoding": {
          "color": {
           "field": "Country/Region",
           "sort": [
            "China",
            "Italy",
            "US",
            "Spain",
            "Germany",
            "Iran",
            "France",
            "Switzerland",
            "Korea, South",
            "United Kingdom"
           ],
           "type": "nominal"
          },
          "text": {
           "condition": {
            "field": "Count",
            "selection": "selector003",
            "type": "quantitative"
           },
           "value": " "
          },
          "x": {
           "axis": {
            "format": "%d %b %Y",
            "labelAngle": 90
           },
           "field": "Date",
           "scale": {
            "domain": [
             "1/22/20",
             "03/24/20"
            ]
           },
           "type": "temporal"
          },
          "y": {
           "axis": {
            "orient": "right",
            "title": "Count"
           },
           "field": "Count",
           "scale": {
            "base": 10,
            "type": "log"
           },
           "type": "quantitative"
          }
         },
         "mark": {
          "align": "right",
          "dx": -5,
          "dy": -5,
          "type": "text"
         },
         "title": "Confirmed - including 24 March 2020",
         "transform": [
          {
           "filter": "(datum.Count >= 1)"
          }
         ]
        }
       ],
       "width": 800
      },
      "image/png": "[encoded data removed]",
      "text/plain": [
       "<VegaLite 3 object>\n",
       "\n",
       "If you see this message, it means the renderer has not been properly enabled\n",
       "for the frontend that you are using. For more information, see\n",
       "https://altair-viz.github.io/user_guide/troubleshooting.html\n"
      ]
     },
     "metadata": {},
     "output_type": "display_data"
    },
    {
     "data": {
      "application/vnd.vegalite.v3+json": {
       "$schema": "https://vega.github.io/schema/vega-lite/v3.4.0.json",
       "config": {
        "mark": {
         "tooltip": null
        },
        "view": {
         "height": 300,
         "width": 400
        }
       },
       "data": {
        "name": "data-2a0db6fc26af52ac3cab2eef21fa0d3d"
       },
       "datasets": {
        "data-2a0db6fc26af52ac3cab2eef21fa0d3d": [
         {
          "Count": 17,
          "Country/Region": "China",
          "Date": "1/22/20",
          "Lat": 1083.3367,
          "Long": 3684.4197000000004,
          "Population(1 July 2019)": 0,
          "level_0": 0
         },
         {
          "Count": 18,
          "Country/Region": "China",
          "Date": "1/23/20",
          "Lat": 1083.3367,
          "Long": 3684.4197000000004,
          "Population(1 July 2019)": 0,
          "level_0": 0
         },
         {
          "Count": 26,
          "Country/Region": "China",
          "Date": "1/24/20",
          "Lat": 1083.3367,
          "Long": 3684.4197000000004,
          "Population(1 July 2019)": 0,
          "level_0": 0
         },
         {
          "Count": 42,
          "Country/Region": "China",
          "Date": "1/25/20",
          "Lat": 1083.3367,
          "Long": 3684.4197000000004,
          "Population(1 July 2019)": 0,
          "level_0": 0
         },
         {
          "Count": 56,
          "Country/Region": "China",
          "Date": "1/26/20",
          "Lat": 1083.3367,
          "Long": 3684.4197000000004,
          "Population(1 July 2019)": 0,
          "level_0": 0
         },
         {
          "Count": 82,
          "Country/Region": "China",
          "Date": "1/27/20",
          "Lat": 1083.3367,
          "Long": 3684.4197000000004,
          "Population(1 July 2019)": 0,
          "level_0": 0
         },
         {
          "Count": 131,
          "Country/Region": "China",
          "Date": "1/28/20",
          "Lat": 1083.3367,
          "Long": 3684.4197000000004,
          "Population(1 July 2019)": 0,
          "level_0": 0
         },
         {
          "Count": 133,
          "Country/Region": "China",
          "Date": "1/29/20",
          "Lat": 1083.3367,
          "Long": 3684.4197000000004,
          "Population(1 July 2019)": 0,
          "level_0": 0
         },
         {
          "Count": 171,
          "Country/Region": "China",
          "Date": "1/30/20",
          "Lat": 1083.3367,
          "Long": 3684.4197000000004,
          "Population(1 July 2019)": 0,
          "level_0": 0
         },
         {
          "Count": 213,
          "Country/Region": "China",
          "Date": "1/31/20",
          "Lat": 1083.3367,
          "Long": 3684.4197000000004,
          "Population(1 July 2019)": 0,
          "level_0": 0
         },
         {
          "Count": 259,
          "Country/Region": "China",
          "Date": "2/1/20",
          "Lat": 1083.3367,
          "Long": 3684.4197000000004,
          "Population(1 July 2019)": 0,
          "level_0": 0
         },
         {
          "Count": 361,
          "Country/Region": "China",
          "Date": "2/2/20",
          "Lat": 1083.3367,
          "Long": 3684.4197000000004,
          "Population(1 July 2019)": 0,
          "level_0": 0
         },
         {
          "Count": 425,
          "Country/Region": "China",
          "Date": "2/3/20",
          "Lat": 1083.3367,
          "Long": 3684.4197000000004,
          "Population(1 July 2019)": 0,
          "level_0": 0
         },
         {
          "Count": 491,
          "Country/Region": "China",
          "Date": "2/4/20",
          "Lat": 1083.3367,
          "Long": 3684.4197000000004,
          "Population(1 July 2019)": 0,
          "level_0": 0
         },
         {
          "Count": 563,
          "Country/Region": "China",
          "Date": "2/5/20",
          "Lat": 1083.3367,
          "Long": 3684.4197000000004,
          "Population(1 July 2019)": 0,
          "level_0": 0
         },
         {
          "Count": 633,
          "Country/Region": "China",
          "Date": "2/6/20",
          "Lat": 1083.3367,
          "Long": 3684.4197000000004,
          "Population(1 July 2019)": 0,
          "level_0": 0
         },
         {
          "Count": 718,
          "Country/Region": "China",
          "Date": "2/7/20",
          "Lat": 1083.3367,
          "Long": 3684.4197000000004,
          "Population(1 July 2019)": 0,
          "level_0": 0
         },
         {
          "Count": 805,
          "Country/Region": "China",
          "Date": "2/8/20",
          "Lat": 1083.3367,
          "Long": 3684.4197000000004,
          "Population(1 July 2019)": 0,
          "level_0": 0
         },
         {
          "Count": 905,
          "Country/Region": "China",
          "Date": "2/9/20",
          "Lat": 1083.3367,
          "Long": 3684.4197000000004,
          "Population(1 July 2019)": 0,
          "level_0": 0
         },
         {
          "Count": 1012,
          "Country/Region": "China",
          "Date": "2/10/20",
          "Lat": 1083.3367,
          "Long": 3684.4197000000004,
          "Population(1 July 2019)": 0,
          "level_0": 0
         },
         {
          "Count": 1112,
          "Country/Region": "China",
          "Date": "2/11/20",
          "Lat": 1083.3367,
          "Long": 3684.4197000000004,
          "Population(1 July 2019)": 0,
          "level_0": 0
         },
         {
          "Count": 1117,
          "Country/Region": "China",
          "Date": "2/12/20",
          "Lat": 1083.3367,
          "Long": 3684.4197000000004,
          "Population(1 July 2019)": 0,
          "level_0": 0
         },
         {
          "Count": 1369,
          "Country/Region": "China",
          "Date": "2/13/20",
          "Lat": 1083.3367,
          "Long": 3684.4197000000004,
          "Population(1 July 2019)": 0,
          "level_0": 0
         },
         {
          "Count": 1521,
          "Country/Region": "China",
          "Date": "2/14/20",
          "Lat": 1083.3367,
          "Long": 3684.4197000000004,
          "Population(1 July 2019)": 0,
          "level_0": 0
         },
         {
          "Count": 1663,
          "Country/Region": "China",
          "Date": "2/15/20",
          "Lat": 1083.3367,
          "Long": 3684.4197000000004,
          "Population(1 July 2019)": 0,
          "level_0": 0
         },
         {
          "Count": 1766,
          "Country/Region": "China",
          "Date": "2/16/20",
          "Lat": 1083.3367,
          "Long": 3684.4197000000004,
          "Population(1 July 2019)": 0,
          "level_0": 0
         },
         {
          "Count": 1864,
          "Country/Region": "China",
          "Date": "2/17/20",
          "Lat": 1083.3367,
          "Long": 3684.4197000000004,
          "Population(1 July 2019)": 0,
          "level_0": 0
         },
         {
          "Count": 2003,
          "Country/Region": "China",
          "Date": "2/18/20",
          "Lat": 1083.3367,
          "Long": 3684.4197000000004,
          "Population(1 July 2019)": 0,
          "level_0": 0
         },
         {
          "Count": 2116,
          "Country/Region": "China",
          "Date": "2/19/20",
          "Lat": 1083.3367,
          "Long": 3684.4197000000004,
          "Population(1 July 2019)": 0,
          "level_0": 0
         },
         {
          "Count": 2238,
          "Country/Region": "China",
          "Date": "2/20/20",
          "Lat": 1083.3367,
          "Long": 3684.4197000000004,
          "Population(1 July 2019)": 0,
          "level_0": 0
         },
         {
          "Count": 2238,
          "Country/Region": "China",
          "Date": "2/21/20",
          "Lat": 1083.3367,
          "Long": 3684.4197000000004,
          "Population(1 July 2019)": 0,
          "level_0": 0
         },
         {
          "Count": 2443,
          "Country/Region": "China",
          "Date": "2/22/20",
          "Lat": 1083.3367,
          "Long": 3684.4197000000004,
          "Population(1 July 2019)": 0,
          "level_0": 0
         },
         {
          "Count": 2445,
          "Country/Region": "China",
          "Date": "2/23/20",
          "Lat": 1083.3367,
          "Long": 3684.4197000000004,
          "Population(1 July 2019)": 0,
          "level_0": 0
         },
         {
          "Count": 2595,
          "Country/Region": "China",
          "Date": "2/24/20",
          "Lat": 1083.3367,
          "Long": 3684.4197000000004,
          "Population(1 July 2019)": 0,
          "level_0": 0
         },
         {
          "Count": 2665,
          "Country/Region": "China",
          "Date": "2/25/20",
          "Lat": 1083.3367,
          "Long": 3684.4197000000004,
          "Population(1 July 2019)": 0,
          "level_0": 0
         },
         {
          "Count": 2717,
          "Country/Region": "China",
          "Date": "2/26/20",
          "Lat": 1083.3367,
          "Long": 3684.4197000000004,
          "Population(1 July 2019)": 0,
          "level_0": 0
         },
         {
          "Count": 2746,
          "Country/Region": "China",
          "Date": "2/27/20",
          "Lat": 1083.3367,
          "Long": 3684.4197000000004,
          "Population(1 July 2019)": 0,
          "level_0": 0
         },
         {
          "Count": 2790,
          "Country/Region": "China",
          "Date": "2/28/20",
          "Lat": 1083.3367,
          "Long": 3684.4197000000004,
          "Population(1 July 2019)": 0,
          "level_0": 0
         },
         {
          "Count": 2837,
          "Country/Region": "China",
          "Date": "2/29/20",
          "Lat": 1083.3367,
          "Long": 3684.4197000000004,
          "Population(1 July 2019)": 0,
          "level_0": 0
         },
         {
          "Count": 2872,
          "Country/Region": "China",
          "Date": "3/1/20",
          "Lat": 1083.3367,
          "Long": 3684.4197000000004,
          "Population(1 July 2019)": 0,
          "level_0": 0
         },
         {
          "Count": 2914,
          "Country/Region": "China",
          "Date": "3/2/20",
          "Lat": 1083.3367,
          "Long": 3684.4197000000004,
          "Population(1 July 2019)": 0,
          "level_0": 0
         },
         {
          "Count": 2947,
          "Country/Region": "China",
          "Date": "3/3/20",
          "Lat": 1083.3367,
          "Long": 3684.4197000000004,
          "Population(1 July 2019)": 0,
          "level_0": 0
         },
         {
          "Count": 2983,
          "Country/Region": "China",
          "Date": "3/4/20",
          "Lat": 1083.3367,
          "Long": 3684.4197000000004,
          "Population(1 July 2019)": 0,
          "level_0": 0
         },
         {
          "Count": 3015,
          "Country/Region": "China",
          "Date": "3/5/20",
          "Lat": 1083.3367,
          "Long": 3684.4197000000004,
          "Population(1 July 2019)": 0,
          "level_0": 0
         },
         {
          "Count": 3044,
          "Country/Region": "China",
          "Date": "3/6/20",
          "Lat": 1083.3367,
          "Long": 3684.4197000000004,
          "Population(1 July 2019)": 0,
          "level_0": 0
         },
         {
          "Count": 3072,
          "Country/Region": "China",
          "Date": "3/7/20",
          "Lat": 1083.3367,
          "Long": 3684.4197000000004,
          "Population(1 July 2019)": 0,
          "level_0": 0
         },
         {
          "Count": 3100,
          "Country/Region": "China",
          "Date": "3/8/20",
          "Lat": 1083.3367,
          "Long": 3684.4197000000004,
          "Population(1 July 2019)": 0,
          "level_0": 0
         },
         {
          "Count": 3123,
          "Country/Region": "China",
          "Date": "3/9/20",
          "Lat": 1083.3367,
          "Long": 3684.4197000000004,
          "Population(1 July 2019)": 0,
          "level_0": 0
         },
         {
          "Count": 3139,
          "Country/Region": "China",
          "Date": "3/10/20",
          "Lat": 1083.3367,
          "Long": 3684.4197000000004,
          "Population(1 July 2019)": 0,
          "level_0": 0
         },
         {
          "Count": 3161,
          "Country/Region": "China",
          "Date": "3/11/20",
          "Lat": 1083.3367,
          "Long": 3684.4197000000004,
          "Population(1 July 2019)": 0,
          "level_0": 0
         },
         {
          "Count": 3172,
          "Country/Region": "China",
          "Date": "3/12/20",
          "Lat": 1083.3367,
          "Long": 3684.4197000000004,
          "Population(1 July 2019)": 0,
          "level_0": 0
         },
         {
          "Count": 3180,
          "Country/Region": "China",
          "Date": "3/13/20",
          "Lat": 1083.3367,
          "Long": 3684.4197000000004,
          "Population(1 July 2019)": 0,
          "level_0": 0
         },
         {
          "Count": 3193,
          "Country/Region": "China",
          "Date": "3/14/20",
          "Lat": 1083.3367,
          "Long": 3684.4197000000004,
          "Population(1 July 2019)": 0,
          "level_0": 0
         },
         {
          "Count": 3203,
          "Country/Region": "China",
          "Date": "3/15/20",
          "Lat": 1083.3367,
          "Long": 3684.4197000000004,
          "Population(1 July 2019)": 0,
          "level_0": 0
         },
         {
          "Count": 3217,
          "Country/Region": "China",
          "Date": "3/16/20",
          "Lat": 1083.3367,
          "Long": 3684.4197000000004,
          "Population(1 July 2019)": 0,
          "level_0": 0
         },
         {
          "Count": 3230,
          "Country/Region": "China",
          "Date": "3/17/20",
          "Lat": 1083.3367,
          "Long": 3684.4197000000004,
          "Population(1 July 2019)": 0,
          "level_0": 0
         },
         {
          "Count": 3241,
          "Country/Region": "China",
          "Date": "3/18/20",
          "Lat": 1083.3367,
          "Long": 3684.4197000000004,
          "Population(1 July 2019)": 0,
          "level_0": 0
         },
         {
          "Count": 3249,
          "Country/Region": "China",
          "Date": "3/19/20",
          "Lat": 1083.3367,
          "Long": 3684.4197000000004,
          "Population(1 July 2019)": 0,
          "level_0": 0
         },
         {
          "Count": 3253,
          "Country/Region": "China",
          "Date": "3/20/20",
          "Lat": 1083.3367,
          "Long": 3684.4197000000004,
          "Population(1 July 2019)": 0,
          "level_0": 0
         },
         {
          "Count": 3259,
          "Country/Region": "China",
          "Date": "3/21/20",
          "Lat": 1083.3367,
          "Long": 3684.4197000000004,
          "Population(1 July 2019)": 0,
          "level_0": 0
         },
         {
          "Count": 3274,
          "Country/Region": "China",
          "Date": "3/22/20",
          "Lat": 1083.3367,
          "Long": 3684.4197000000004,
          "Population(1 July 2019)": 0,
          "level_0": 0
         },
         {
          "Count": 3274,
          "Country/Region": "China",
          "Date": "3/23/20",
          "Lat": 1083.3367,
          "Long": 3684.4197000000004,
          "Population(1 July 2019)": 0,
          "level_0": 0
         },
         {
          "Count": 3281,
          "Country/Region": "China",
          "Date": "3/24/20",
          "Lat": 1083.3367,
          "Long": 3684.4197000000004,
          "Population(1 July 2019)": 0,
          "level_0": 0
         },
         {
          "Count": 0,
          "Country/Region": "France",
          "Date": "1/22/20",
          "Lat": 44.477199999999996,
          "Long": 116.03509999999999,
          "Population(1 July 2019)": 0,
          "level_0": 1
         },
         {
          "Count": 0,
          "Country/Region": "France",
          "Date": "1/23/20",
          "Lat": 44.477199999999996,
          "Long": 116.03509999999999,
          "Population(1 July 2019)": 0,
          "level_0": 1
         },
         {
          "Count": 0,
          "Country/Region": "France",
          "Date": "1/24/20",
          "Lat": 44.477199999999996,
          "Long": 116.03509999999999,
          "Population(1 July 2019)": 0,
          "level_0": 1
         },
         {
          "Count": 0,
          "Country/Region": "France",
          "Date": "1/25/20",
          "Lat": 44.477199999999996,
          "Long": 116.03509999999999,
          "Population(1 July 2019)": 0,
          "level_0": 1
         },
         {
          "Count": 0,
          "Country/Region": "France",
          "Date": "1/26/20",
          "Lat": 44.477199999999996,
          "Long": 116.03509999999999,
          "Population(1 July 2019)": 0,
          "level_0": 1
         },
         {
          "Count": 0,
          "Country/Region": "France",
          "Date": "1/27/20",
          "Lat": 44.477199999999996,
          "Long": 116.03509999999999,
          "Population(1 July 2019)": 0,
          "level_0": 1
         },
         {
          "Count": 0,
          "Country/Region": "France",
          "Date": "1/28/20",
          "Lat": 44.477199999999996,
          "Long": 116.03509999999999,
          "Population(1 July 2019)": 0,
          "level_0": 1
         },
         {
          "Count": 0,
          "Country/Region": "France",
          "Date": "1/29/20",
          "Lat": 44.477199999999996,
          "Long": 116.03509999999999,
          "Population(1 July 2019)": 0,
          "level_0": 1
         },
         {
          "Count": 0,
          "Country/Region": "France",
          "Date": "1/30/20",
          "Lat": 44.477199999999996,
          "Long": 116.03509999999999,
          "Population(1 July 2019)": 0,
          "level_0": 1
         },
         {
          "Count": 0,
          "Country/Region": "France",
          "Date": "1/31/20",
          "Lat": 44.477199999999996,
          "Long": 116.03509999999999,
          "Population(1 July 2019)": 0,
          "level_0": 1
         },
         {
          "Count": 0,
          "Country/Region": "France",
          "Date": "2/1/20",
          "Lat": 44.477199999999996,
          "Long": 116.03509999999999,
          "Population(1 July 2019)": 0,
          "level_0": 1
         },
         {
          "Count": 0,
          "Country/Region": "France",
          "Date": "2/2/20",
          "Lat": 44.477199999999996,
          "Long": 116.03509999999999,
          "Population(1 July 2019)": 0,
          "level_0": 1
         },
         {
          "Count": 0,
          "Country/Region": "France",
          "Date": "2/3/20",
          "Lat": 44.477199999999996,
          "Long": 116.03509999999999,
          "Population(1 July 2019)": 0,
          "level_0": 1
         },
         {
          "Count": 0,
          "Country/Region": "France",
          "Date": "2/4/20",
          "Lat": 44.477199999999996,
          "Long": 116.03509999999999,
          "Population(1 July 2019)": 0,
          "level_0": 1
         },
         {
          "Count": 0,
          "Country/Region": "France",
          "Date": "2/5/20",
          "Lat": 44.477199999999996,
          "Long": 116.03509999999999,
          "Population(1 July 2019)": 0,
          "level_0": 1
         },
         {
          "Count": 0,
          "Country/Region": "France",
          "Date": "2/6/20",
          "Lat": 44.477199999999996,
          "Long": 116.03509999999999,
          "Population(1 July 2019)": 0,
          "level_0": 1
         },
         {
          "Count": 0,
          "Country/Region": "France",
          "Date": "2/7/20",
          "Lat": 44.477199999999996,
          "Long": 116.03509999999999,
          "Population(1 July 2019)": 0,
          "level_0": 1
         },
         {
          "Count": 0,
          "Country/Region": "France",
          "Date": "2/8/20",
          "Lat": 44.477199999999996,
          "Long": 116.03509999999999,
          "Population(1 July 2019)": 0,
          "level_0": 1
         },
         {
          "Count": 0,
          "Country/Region": "France",
          "Date": "2/9/20",
          "Lat": 44.477199999999996,
          "Long": 116.03509999999999,
          "Population(1 July 2019)": 0,
          "level_0": 1
         },
         {
          "Count": 0,
          "Country/Region": "France",
          "Date": "2/10/20",
          "Lat": 44.477199999999996,
          "Long": 116.03509999999999,
          "Population(1 July 2019)": 0,
          "level_0": 1
         },
         {
          "Count": 0,
          "Country/Region": "France",
          "Date": "2/11/20",
          "Lat": 44.477199999999996,
          "Long": 116.03509999999999,
          "Population(1 July 2019)": 0,
          "level_0": 1
         },
         {
          "Count": 0,
          "Country/Region": "France",
          "Date": "2/12/20",
          "Lat": 44.477199999999996,
          "Long": 116.03509999999999,
          "Population(1 July 2019)": 0,
          "level_0": 1
         },
         {
          "Count": 0,
          "Country/Region": "France",
          "Date": "2/13/20",
          "Lat": 44.477199999999996,
          "Long": 116.03509999999999,
          "Population(1 July 2019)": 0,
          "level_0": 1
         },
         {
          "Count": 0,
          "Country/Region": "France",
          "Date": "2/14/20",
          "Lat": 44.477199999999996,
          "Long": 116.03509999999999,
          "Population(1 July 2019)": 0,
          "level_0": 1
         },
         {
          "Count": 1,
          "Country/Region": "France",
          "Date": "2/15/20",
          "Lat": 44.477199999999996,
          "Long": 116.03509999999999,
          "Population(1 July 2019)": 0,
          "level_0": 1
         },
         {
          "Count": 1,
          "Country/Region": "France",
          "Date": "2/16/20",
          "Lat": 44.477199999999996,
          "Long": 116.03509999999999,
          "Population(1 July 2019)": 0,
          "level_0": 1
         },
         {
          "Count": 1,
          "Country/Region": "France",
          "Date": "2/17/20",
          "Lat": 44.477199999999996,
          "Long": 116.03509999999999,
          "Population(1 July 2019)": 0,
          "level_0": 1
         },
         {
          "Count": 1,
          "Country/Region": "France",
          "Date": "2/18/20",
          "Lat": 44.477199999999996,
          "Long": 116.03509999999999,
          "Population(1 July 2019)": 0,
          "level_0": 1
         },
         {
          "Count": 1,
          "Country/Region": "France",
          "Date": "2/19/20",
          "Lat": 44.477199999999996,
          "Long": 116.03509999999999,
          "Population(1 July 2019)": 0,
          "level_0": 1
         },
         {
          "Count": 1,
          "Country/Region": "France",
          "Date": "2/20/20",
          "Lat": 44.477199999999996,
          "Long": 116.03509999999999,
          "Population(1 July 2019)": 0,
          "level_0": 1
         },
         {
          "Count": 1,
          "Country/Region": "France",
          "Date": "2/21/20",
          "Lat": 44.477199999999996,
          "Long": 116.03509999999999,
          "Population(1 July 2019)": 0,
          "level_0": 1
         },
         {
          "Count": 1,
          "Country/Region": "France",
          "Date": "2/22/20",
          "Lat": 44.477199999999996,
          "Long": 116.03509999999999,
          "Population(1 July 2019)": 0,
          "level_0": 1
         },
         {
          "Count": 1,
          "Country/Region": "France",
          "Date": "2/23/20",
          "Lat": 44.477199999999996,
          "Long": 116.03509999999999,
          "Population(1 July 2019)": 0,
          "level_0": 1
         },
         {
          "Count": 1,
          "Country/Region": "France",
          "Date": "2/24/20",
          "Lat": 44.477199999999996,
          "Long": 116.03509999999999,
          "Population(1 July 2019)": 0,
          "level_0": 1
         },
         {
          "Count": 1,
          "Country/Region": "France",
          "Date": "2/25/20",
          "Lat": 44.477199999999996,
          "Long": 116.03509999999999,
          "Population(1 July 2019)": 0,
          "level_0": 1
         },
         {
          "Count": 2,
          "Country/Region": "France",
          "Date": "2/26/20",
          "Lat": 44.477199999999996,
          "Long": 116.03509999999999,
          "Population(1 July 2019)": 0,
          "level_0": 1
         },
         {
          "Count": 2,
          "Country/Region": "France",
          "Date": "2/27/20",
          "Lat": 44.477199999999996,
          "Long": 116.03509999999999,
          "Population(1 July 2019)": 0,
          "level_0": 1
         },
         {
          "Count": 2,
          "Country/Region": "France",
          "Date": "2/28/20",
          "Lat": 44.477199999999996,
          "Long": 116.03509999999999,
          "Population(1 July 2019)": 0,
          "level_0": 1
         },
         {
          "Count": 2,
          "Country/Region": "France",
          "Date": "2/29/20",
          "Lat": 44.477199999999996,
          "Long": 116.03509999999999,
          "Population(1 July 2019)": 0,
          "level_0": 1
         },
         {
          "Count": 2,
          "Country/Region": "France",
          "Date": "3/1/20",
          "Lat": 44.477199999999996,
          "Long": 116.03509999999999,
          "Population(1 July 2019)": 0,
          "level_0": 1
         },
         {
          "Count": 3,
          "Country/Region": "France",
          "Date": "3/2/20",
          "Lat": 44.477199999999996,
          "Long": 116.03509999999999,
          "Population(1 July 2019)": 0,
          "level_0": 1
         },
         {
          "Count": 4,
          "Country/Region": "France",
          "Date": "3/3/20",
          "Lat": 44.477199999999996,
          "Long": 116.03509999999999,
          "Population(1 July 2019)": 0,
          "level_0": 1
         },
         {
          "Count": 4,
          "Country/Region": "France",
          "Date": "3/4/20",
          "Lat": 44.477199999999996,
          "Long": 116.03509999999999,
          "Population(1 July 2019)": 0,
          "level_0": 1
         },
         {
          "Count": 6,
          "Country/Region": "France",
          "Date": "3/5/20",
          "Lat": 44.477199999999996,
          "Long": 116.03509999999999,
          "Population(1 July 2019)": 0,
          "level_0": 1
         },
         {
          "Count": 9,
          "Country/Region": "France",
          "Date": "3/6/20",
          "Lat": 44.477199999999996,
          "Long": 116.03509999999999,
          "Population(1 July 2019)": 0,
          "level_0": 1
         },
         {
          "Count": 11,
          "Country/Region": "France",
          "Date": "3/7/20",
          "Lat": 44.477199999999996,
          "Long": 116.03509999999999,
          "Population(1 July 2019)": 0,
          "level_0": 1
         },
         {
          "Count": 19,
          "Country/Region": "France",
          "Date": "3/8/20",
          "Lat": 44.477199999999996,
          "Long": 116.03509999999999,
          "Population(1 July 2019)": 0,
          "level_0": 1
         },
         {
          "Count": 19,
          "Country/Region": "France",
          "Date": "3/9/20",
          "Lat": 44.477199999999996,
          "Long": 116.03509999999999,
          "Population(1 July 2019)": 0,
          "level_0": 1
         },
         {
          "Count": 33,
          "Country/Region": "France",
          "Date": "3/10/20",
          "Lat": 44.477199999999996,
          "Long": 116.03509999999999,
          "Population(1 July 2019)": 0,
          "level_0": 1
         },
         {
          "Count": 48,
          "Country/Region": "France",
          "Date": "3/11/20",
          "Lat": 44.477199999999996,
          "Long": 116.03509999999999,
          "Population(1 July 2019)": 0,
          "level_0": 1
         },
         {
          "Count": 48,
          "Country/Region": "France",
          "Date": "3/12/20",
          "Lat": 44.477199999999996,
          "Long": 116.03509999999999,
          "Population(1 July 2019)": 0,
          "level_0": 1
         },
         {
          "Count": 79,
          "Country/Region": "France",
          "Date": "3/13/20",
          "Lat": 44.477199999999996,
          "Long": 116.03509999999999,
          "Population(1 July 2019)": 0,
          "level_0": 1
         },
         {
          "Count": 91,
          "Country/Region": "France",
          "Date": "3/14/20",
          "Lat": 44.477199999999996,
          "Long": 116.03509999999999,
          "Population(1 July 2019)": 0,
          "level_0": 1
         },
         {
          "Count": 91,
          "Country/Region": "France",
          "Date": "3/15/20",
          "Lat": 44.477199999999996,
          "Long": 116.03509999999999,
          "Population(1 July 2019)": 0,
          "level_0": 1
         },
         {
          "Count": 149,
          "Country/Region": "France",
          "Date": "3/16/20",
          "Lat": 44.477199999999996,
          "Long": 116.03509999999999,
          "Population(1 July 2019)": 0,
          "level_0": 1
         },
         {
          "Count": 149,
          "Country/Region": "France",
          "Date": "3/17/20",
          "Lat": 44.477199999999996,
          "Long": 116.03509999999999,
          "Population(1 July 2019)": 0,
          "level_0": 1
         },
         {
          "Count": 149,
          "Country/Region": "France",
          "Date": "3/18/20",
          "Lat": 44.477199999999996,
          "Long": 116.03509999999999,
          "Population(1 July 2019)": 0,
          "level_0": 1
         },
         {
          "Count": 244,
          "Country/Region": "France",
          "Date": "3/19/20",
          "Lat": 44.477199999999996,
          "Long": 116.03509999999999,
          "Population(1 July 2019)": 0,
          "level_0": 1
         },
         {
          "Count": 451,
          "Country/Region": "France",
          "Date": "3/20/20",
          "Lat": 44.477199999999996,
          "Long": 116.03509999999999,
          "Population(1 July 2019)": 0,
          "level_0": 1
         },
         {
          "Count": 563,
          "Country/Region": "France",
          "Date": "3/21/20",
          "Lat": 44.477199999999996,
          "Long": 116.03509999999999,
          "Population(1 July 2019)": 0,
          "level_0": 1
         },
         {
          "Count": 676,
          "Country/Region": "France",
          "Date": "3/22/20",
          "Lat": 44.477199999999996,
          "Long": 116.03509999999999,
          "Population(1 July 2019)": 0,
          "level_0": 1
         },
         {
          "Count": 862,
          "Country/Region": "France",
          "Date": "3/23/20",
          "Lat": 44.477199999999996,
          "Long": 116.03509999999999,
          "Population(1 July 2019)": 0,
          "level_0": 1
         },
         {
          "Count": 1102,
          "Country/Region": "France",
          "Date": "3/24/20",
          "Lat": 44.477199999999996,
          "Long": 116.03509999999999,
          "Population(1 July 2019)": 0,
          "level_0": 1
         },
         {
          "Count": 0,
          "Country/Region": "Germany",
          "Date": "1/22/20",
          "Lat": 51,
          "Long": 9,
          "Population(1 July 2019)": 0,
          "level_0": 2
         },
         {
          "Count": 0,
          "Country/Region": "Germany",
          "Date": "1/23/20",
          "Lat": 51,
          "Long": 9,
          "Population(1 July 2019)": 0,
          "level_0": 2
         },
         {
          "Count": 0,
          "Country/Region": "Germany",
          "Date": "1/24/20",
          "Lat": 51,
          "Long": 9,
          "Population(1 July 2019)": 0,
          "level_0": 2
         },
         {
          "Count": 0,
          "Country/Region": "Germany",
          "Date": "1/25/20",
          "Lat": 51,
          "Long": 9,
          "Population(1 July 2019)": 0,
          "level_0": 2
         },
         {
          "Count": 0,
          "Country/Region": "Germany",
          "Date": "1/26/20",
          "Lat": 51,
          "Long": 9,
          "Population(1 July 2019)": 0,
          "level_0": 2
         },
         {
          "Count": 0,
          "Country/Region": "Germany",
          "Date": "1/27/20",
          "Lat": 51,
          "Long": 9,
          "Population(1 July 2019)": 0,
          "level_0": 2
         },
         {
          "Count": 0,
          "Country/Region": "Germany",
          "Date": "1/28/20",
          "Lat": 51,
          "Long": 9,
          "Population(1 July 2019)": 0,
          "level_0": 2
         },
         {
          "Count": 0,
          "Country/Region": "Germany",
          "Date": "1/29/20",
          "Lat": 51,
          "Long": 9,
          "Population(1 July 2019)": 0,
          "level_0": 2
         },
         {
          "Count": 0,
          "Country/Region": "Germany",
          "Date": "1/30/20",
          "Lat": 51,
          "Long": 9,
          "Population(1 July 2019)": 0,
          "level_0": 2
         },
         {
          "Count": 0,
          "Country/Region": "Germany",
          "Date": "1/31/20",
          "Lat": 51,
          "Long": 9,
          "Population(1 July 2019)": 0,
          "level_0": 2
         },
         {
          "Count": 0,
          "Country/Region": "Germany",
          "Date": "2/1/20",
          "Lat": 51,
          "Long": 9,
          "Population(1 July 2019)": 0,
          "level_0": 2
         },
         {
          "Count": 0,
          "Country/Region": "Germany",
          "Date": "2/2/20",
          "Lat": 51,
          "Long": 9,
          "Population(1 July 2019)": 0,
          "level_0": 2
         },
         {
          "Count": 0,
          "Country/Region": "Germany",
          "Date": "2/3/20",
          "Lat": 51,
          "Long": 9,
          "Population(1 July 2019)": 0,
          "level_0": 2
         },
         {
          "Count": 0,
          "Country/Region": "Germany",
          "Date": "2/4/20",
          "Lat": 51,
          "Long": 9,
          "Population(1 July 2019)": 0,
          "level_0": 2
         },
         {
          "Count": 0,
          "Country/Region": "Germany",
          "Date": "2/5/20",
          "Lat": 51,
          "Long": 9,
          "Population(1 July 2019)": 0,
          "level_0": 2
         },
         {
          "Count": 0,
          "Country/Region": "Germany",
          "Date": "2/6/20",
          "Lat": 51,
          "Long": 9,
          "Population(1 July 2019)": 0,
          "level_0": 2
         },
         {
          "Count": 0,
          "Country/Region": "Germany",
          "Date": "2/7/20",
          "Lat": 51,
          "Long": 9,
          "Population(1 July 2019)": 0,
          "level_0": 2
         },
         {
          "Count": 0,
          "Country/Region": "Germany",
          "Date": "2/8/20",
          "Lat": 51,
          "Long": 9,
          "Population(1 July 2019)": 0,
          "level_0": 2
         },
         {
          "Count": 0,
          "Country/Region": "Germany",
          "Date": "2/9/20",
          "Lat": 51,
          "Long": 9,
          "Population(1 July 2019)": 0,
          "level_0": 2
         },
         {
          "Count": 0,
          "Country/Region": "Germany",
          "Date": "2/10/20",
          "Lat": 51,
          "Long": 9,
          "Population(1 July 2019)": 0,
          "level_0": 2
         },
         {
          "Count": 0,
          "Country/Region": "Germany",
          "Date": "2/11/20",
          "Lat": 51,
          "Long": 9,
          "Population(1 July 2019)": 0,
          "level_0": 2
         },
         {
          "Count": 0,
          "Country/Region": "Germany",
          "Date": "2/12/20",
          "Lat": 51,
          "Long": 9,
          "Population(1 July 2019)": 0,
          "level_0": 2
         },
         {
          "Count": 0,
          "Country/Region": "Germany",
          "Date": "2/13/20",
          "Lat": 51,
          "Long": 9,
          "Population(1 July 2019)": 0,
          "level_0": 2
         },
         {
          "Count": 0,
          "Country/Region": "Germany",
          "Date": "2/14/20",
          "Lat": 51,
          "Long": 9,
          "Population(1 July 2019)": 0,
          "level_0": 2
         },
         {
          "Count": 0,
          "Country/Region": "Germany",
          "Date": "2/15/20",
          "Lat": 51,
          "Long": 9,
          "Population(1 July 2019)": 0,
          "level_0": 2
         },
         {
          "Count": 0,
          "Country/Region": "Germany",
          "Date": "2/16/20",
          "Lat": 51,
          "Long": 9,
          "Population(1 July 2019)": 0,
          "level_0": 2
         },
         {
          "Count": 0,
          "Country/Region": "Germany",
          "Date": "2/17/20",
          "Lat": 51,
          "Long": 9,
          "Population(1 July 2019)": 0,
          "level_0": 2
         },
         {
          "Count": 0,
          "Country/Region": "Germany",
          "Date": "2/18/20",
          "Lat": 51,
          "Long": 9,
          "Population(1 July 2019)": 0,
          "level_0": 2
         },
         {
          "Count": 0,
          "Country/Region": "Germany",
          "Date": "2/19/20",
          "Lat": 51,
          "Long": 9,
          "Population(1 July 2019)": 0,
          "level_0": 2
         },
         {
          "Count": 0,
          "Country/Region": "Germany",
          "Date": "2/20/20",
          "Lat": 51,
          "Long": 9,
          "Population(1 July 2019)": 0,
          "level_0": 2
         },
         {
          "Count": 0,
          "Country/Region": "Germany",
          "Date": "2/21/20",
          "Lat": 51,
          "Long": 9,
          "Population(1 July 2019)": 0,
          "level_0": 2
         },
         {
          "Count": 0,
          "Country/Region": "Germany",
          "Date": "2/22/20",
          "Lat": 51,
          "Long": 9,
          "Population(1 July 2019)": 0,
          "level_0": 2
         },
         {
          "Count": 0,
          "Country/Region": "Germany",
          "Date": "2/23/20",
          "Lat": 51,
          "Long": 9,
          "Population(1 July 2019)": 0,
          "level_0": 2
         },
         {
          "Count": 0,
          "Country/Region": "Germany",
          "Date": "2/24/20",
          "Lat": 51,
          "Long": 9,
          "Population(1 July 2019)": 0,
          "level_0": 2
         },
         {
          "Count": 0,
          "Country/Region": "Germany",
          "Date": "2/25/20",
          "Lat": 51,
          "Long": 9,
          "Population(1 July 2019)": 0,
          "level_0": 2
         },
         {
          "Count": 0,
          "Country/Region": "Germany",
          "Date": "2/26/20",
          "Lat": 51,
          "Long": 9,
          "Population(1 July 2019)": 0,
          "level_0": 2
         },
         {
          "Count": 0,
          "Country/Region": "Germany",
          "Date": "2/27/20",
          "Lat": 51,
          "Long": 9,
          "Population(1 July 2019)": 0,
          "level_0": 2
         },
         {
          "Count": 0,
          "Country/Region": "Germany",
          "Date": "2/28/20",
          "Lat": 51,
          "Long": 9,
          "Population(1 July 2019)": 0,
          "level_0": 2
         },
         {
          "Count": 0,
          "Country/Region": "Germany",
          "Date": "2/29/20",
          "Lat": 51,
          "Long": 9,
          "Population(1 July 2019)": 0,
          "level_0": 2
         },
         {
          "Count": 0,
          "Country/Region": "Germany",
          "Date": "3/1/20",
          "Lat": 51,
          "Long": 9,
          "Population(1 July 2019)": 0,
          "level_0": 2
         },
         {
          "Count": 0,
          "Country/Region": "Germany",
          "Date": "3/2/20",
          "Lat": 51,
          "Long": 9,
          "Population(1 July 2019)": 0,
          "level_0": 2
         },
         {
          "Count": 0,
          "Country/Region": "Germany",
          "Date": "3/3/20",
          "Lat": 51,
          "Long": 9,
          "Population(1 July 2019)": 0,
          "level_0": 2
         },
         {
          "Count": 0,
          "Country/Region": "Germany",
          "Date": "3/4/20",
          "Lat": 51,
          "Long": 9,
          "Population(1 July 2019)": 0,
          "level_0": 2
         },
         {
          "Count": 0,
          "Country/Region": "Germany",
          "Date": "3/5/20",
          "Lat": 51,
          "Long": 9,
          "Population(1 July 2019)": 0,
          "level_0": 2
         },
         {
          "Count": 0,
          "Country/Region": "Germany",
          "Date": "3/6/20",
          "Lat": 51,
          "Long": 9,
          "Population(1 July 2019)": 0,
          "level_0": 2
         },
         {
          "Count": 0,
          "Country/Region": "Germany",
          "Date": "3/7/20",
          "Lat": 51,
          "Long": 9,
          "Population(1 July 2019)": 0,
          "level_0": 2
         },
         {
          "Count": 0,
          "Country/Region": "Germany",
          "Date": "3/8/20",
          "Lat": 51,
          "Long": 9,
          "Population(1 July 2019)": 0,
          "level_0": 2
         },
         {
          "Count": 2,
          "Country/Region": "Germany",
          "Date": "3/9/20",
          "Lat": 51,
          "Long": 9,
          "Population(1 July 2019)": 0,
          "level_0": 2
         },
         {
          "Count": 2,
          "Country/Region": "Germany",
          "Date": "3/10/20",
          "Lat": 51,
          "Long": 9,
          "Population(1 July 2019)": 0,
          "level_0": 2
         },
         {
          "Count": 3,
          "Country/Region": "Germany",
          "Date": "3/11/20",
          "Lat": 51,
          "Long": 9,
          "Population(1 July 2019)": 0,
          "level_0": 2
         },
         {
          "Count": 3,
          "Country/Region": "Germany",
          "Date": "3/12/20",
          "Lat": 51,
          "Long": 9,
          "Population(1 July 2019)": 0,
          "level_0": 2
         },
         {
          "Count": 7,
          "Country/Region": "Germany",
          "Date": "3/13/20",
          "Lat": 51,
          "Long": 9,
          "Population(1 July 2019)": 0,
          "level_0": 2
         },
         {
          "Count": 9,
          "Country/Region": "Germany",
          "Date": "3/14/20",
          "Lat": 51,
          "Long": 9,
          "Population(1 July 2019)": 0,
          "level_0": 2
         },
         {
          "Count": 11,
          "Country/Region": "Germany",
          "Date": "3/15/20",
          "Lat": 51,
          "Long": 9,
          "Population(1 July 2019)": 0,
          "level_0": 2
         },
         {
          "Count": 17,
          "Country/Region": "Germany",
          "Date": "3/16/20",
          "Lat": 51,
          "Long": 9,
          "Population(1 July 2019)": 0,
          "level_0": 2
         },
         {
          "Count": 24,
          "Country/Region": "Germany",
          "Date": "3/17/20",
          "Lat": 51,
          "Long": 9,
          "Population(1 July 2019)": 0,
          "level_0": 2
         },
         {
          "Count": 28,
          "Country/Region": "Germany",
          "Date": "3/18/20",
          "Lat": 51,
          "Long": 9,
          "Population(1 July 2019)": 0,
          "level_0": 2
         },
         {
          "Count": 44,
          "Country/Region": "Germany",
          "Date": "3/19/20",
          "Lat": 51,
          "Long": 9,
          "Population(1 July 2019)": 0,
          "level_0": 2
         },
         {
          "Count": 67,
          "Country/Region": "Germany",
          "Date": "3/20/20",
          "Lat": 51,
          "Long": 9,
          "Population(1 July 2019)": 0,
          "level_0": 2
         },
         {
          "Count": 84,
          "Country/Region": "Germany",
          "Date": "3/21/20",
          "Lat": 51,
          "Long": 9,
          "Population(1 July 2019)": 0,
          "level_0": 2
         },
         {
          "Count": 94,
          "Country/Region": "Germany",
          "Date": "3/22/20",
          "Lat": 51,
          "Long": 9,
          "Population(1 July 2019)": 0,
          "level_0": 2
         },
         {
          "Count": 123,
          "Country/Region": "Germany",
          "Date": "3/23/20",
          "Lat": 51,
          "Long": 9,
          "Population(1 July 2019)": 0,
          "level_0": 2
         },
         {
          "Count": 157,
          "Country/Region": "Germany",
          "Date": "3/24/20",
          "Lat": 51,
          "Long": 9,
          "Population(1 July 2019)": 0,
          "level_0": 2
         },
         {
          "Count": 0,
          "Country/Region": "Iran",
          "Date": "1/22/20",
          "Lat": 32,
          "Long": 53,
          "Population(1 July 2019)": 0,
          "level_0": 3
         },
         {
          "Count": 0,
          "Country/Region": "Iran",
          "Date": "1/23/20",
          "Lat": 32,
          "Long": 53,
          "Population(1 July 2019)": 0,
          "level_0": 3
         },
         {
          "Count": 0,
          "Country/Region": "Iran",
          "Date": "1/24/20",
          "Lat": 32,
          "Long": 53,
          "Population(1 July 2019)": 0,
          "level_0": 3
         },
         {
          "Count": 0,
          "Country/Region": "Iran",
          "Date": "1/25/20",
          "Lat": 32,
          "Long": 53,
          "Population(1 July 2019)": 0,
          "level_0": 3
         },
         {
          "Count": 0,
          "Country/Region": "Iran",
          "Date": "1/26/20",
          "Lat": 32,
          "Long": 53,
          "Population(1 July 2019)": 0,
          "level_0": 3
         },
         {
          "Count": 0,
          "Country/Region": "Iran",
          "Date": "1/27/20",
          "Lat": 32,
          "Long": 53,
          "Population(1 July 2019)": 0,
          "level_0": 3
         },
         {
          "Count": 0,
          "Country/Region": "Iran",
          "Date": "1/28/20",
          "Lat": 32,
          "Long": 53,
          "Population(1 July 2019)": 0,
          "level_0": 3
         },
         {
          "Count": 0,
          "Country/Region": "Iran",
          "Date": "1/29/20",
          "Lat": 32,
          "Long": 53,
          "Population(1 July 2019)": 0,
          "level_0": 3
         },
         {
          "Count": 0,
          "Country/Region": "Iran",
          "Date": "1/30/20",
          "Lat": 32,
          "Long": 53,
          "Population(1 July 2019)": 0,
          "level_0": 3
         },
         {
          "Count": 0,
          "Country/Region": "Iran",
          "Date": "1/31/20",
          "Lat": 32,
          "Long": 53,
          "Population(1 July 2019)": 0,
          "level_0": 3
         },
         {
          "Count": 0,
          "Country/Region": "Iran",
          "Date": "2/1/20",
          "Lat": 32,
          "Long": 53,
          "Population(1 July 2019)": 0,
          "level_0": 3
         },
         {
          "Count": 0,
          "Country/Region": "Iran",
          "Date": "2/2/20",
          "Lat": 32,
          "Long": 53,
          "Population(1 July 2019)": 0,
          "level_0": 3
         },
         {
          "Count": 0,
          "Country/Region": "Iran",
          "Date": "2/3/20",
          "Lat": 32,
          "Long": 53,
          "Population(1 July 2019)": 0,
          "level_0": 3
         },
         {
          "Count": 0,
          "Country/Region": "Iran",
          "Date": "2/4/20",
          "Lat": 32,
          "Long": 53,
          "Population(1 July 2019)": 0,
          "level_0": 3
         },
         {
          "Count": 0,
          "Country/Region": "Iran",
          "Date": "2/5/20",
          "Lat": 32,
          "Long": 53,
          "Population(1 July 2019)": 0,
          "level_0": 3
         },
         {
          "Count": 0,
          "Country/Region": "Iran",
          "Date": "2/6/20",
          "Lat": 32,
          "Long": 53,
          "Population(1 July 2019)": 0,
          "level_0": 3
         },
         {
          "Count": 0,
          "Country/Region": "Iran",
          "Date": "2/7/20",
          "Lat": 32,
          "Long": 53,
          "Population(1 July 2019)": 0,
          "level_0": 3
         },
         {
          "Count": 0,
          "Country/Region": "Iran",
          "Date": "2/8/20",
          "Lat": 32,
          "Long": 53,
          "Population(1 July 2019)": 0,
          "level_0": 3
         },
         {
          "Count": 0,
          "Country/Region": "Iran",
          "Date": "2/9/20",
          "Lat": 32,
          "Long": 53,
          "Population(1 July 2019)": 0,
          "level_0": 3
         },
         {
          "Count": 0,
          "Country/Region": "Iran",
          "Date": "2/10/20",
          "Lat": 32,
          "Long": 53,
          "Population(1 July 2019)": 0,
          "level_0": 3
         },
         {
          "Count": 0,
          "Country/Region": "Iran",
          "Date": "2/11/20",
          "Lat": 32,
          "Long": 53,
          "Population(1 July 2019)": 0,
          "level_0": 3
         },
         {
          "Count": 0,
          "Country/Region": "Iran",
          "Date": "2/12/20",
          "Lat": 32,
          "Long": 53,
          "Population(1 July 2019)": 0,
          "level_0": 3
         },
         {
          "Count": 0,
          "Country/Region": "Iran",
          "Date": "2/13/20",
          "Lat": 32,
          "Long": 53,
          "Population(1 July 2019)": 0,
          "level_0": 3
         },
         {
          "Count": 0,
          "Country/Region": "Iran",
          "Date": "2/14/20",
          "Lat": 32,
          "Long": 53,
          "Population(1 July 2019)": 0,
          "level_0": 3
         },
         {
          "Count": 0,
          "Country/Region": "Iran",
          "Date": "2/15/20",
          "Lat": 32,
          "Long": 53,
          "Population(1 July 2019)": 0,
          "level_0": 3
         },
         {
          "Count": 0,
          "Country/Region": "Iran",
          "Date": "2/16/20",
          "Lat": 32,
          "Long": 53,
          "Population(1 July 2019)": 0,
          "level_0": 3
         },
         {
          "Count": 0,
          "Country/Region": "Iran",
          "Date": "2/17/20",
          "Lat": 32,
          "Long": 53,
          "Population(1 July 2019)": 0,
          "level_0": 3
         },
         {
          "Count": 0,
          "Country/Region": "Iran",
          "Date": "2/18/20",
          "Lat": 32,
          "Long": 53,
          "Population(1 July 2019)": 0,
          "level_0": 3
         },
         {
          "Count": 2,
          "Country/Region": "Iran",
          "Date": "2/19/20",
          "Lat": 32,
          "Long": 53,
          "Population(1 July 2019)": 0,
          "level_0": 3
         },
         {
          "Count": 2,
          "Country/Region": "Iran",
          "Date": "2/20/20",
          "Lat": 32,
          "Long": 53,
          "Population(1 July 2019)": 0,
          "level_0": 3
         },
         {
          "Count": 4,
          "Country/Region": "Iran",
          "Date": "2/21/20",
          "Lat": 32,
          "Long": 53,
          "Population(1 July 2019)": 0,
          "level_0": 3
         },
         {
          "Count": 5,
          "Country/Region": "Iran",
          "Date": "2/22/20",
          "Lat": 32,
          "Long": 53,
          "Population(1 July 2019)": 0,
          "level_0": 3
         },
         {
          "Count": 8,
          "Country/Region": "Iran",
          "Date": "2/23/20",
          "Lat": 32,
          "Long": 53,
          "Population(1 July 2019)": 0,
          "level_0": 3
         },
         {
          "Count": 12,
          "Country/Region": "Iran",
          "Date": "2/24/20",
          "Lat": 32,
          "Long": 53,
          "Population(1 July 2019)": 0,
          "level_0": 3
         },
         {
          "Count": 16,
          "Country/Region": "Iran",
          "Date": "2/25/20",
          "Lat": 32,
          "Long": 53,
          "Population(1 July 2019)": 0,
          "level_0": 3
         },
         {
          "Count": 19,
          "Country/Region": "Iran",
          "Date": "2/26/20",
          "Lat": 32,
          "Long": 53,
          "Population(1 July 2019)": 0,
          "level_0": 3
         },
         {
          "Count": 26,
          "Country/Region": "Iran",
          "Date": "2/27/20",
          "Lat": 32,
          "Long": 53,
          "Population(1 July 2019)": 0,
          "level_0": 3
         },
         {
          "Count": 34,
          "Country/Region": "Iran",
          "Date": "2/28/20",
          "Lat": 32,
          "Long": 53,
          "Population(1 July 2019)": 0,
          "level_0": 3
         },
         {
          "Count": 43,
          "Country/Region": "Iran",
          "Date": "2/29/20",
          "Lat": 32,
          "Long": 53,
          "Population(1 July 2019)": 0,
          "level_0": 3
         },
         {
          "Count": 54,
          "Country/Region": "Iran",
          "Date": "3/1/20",
          "Lat": 32,
          "Long": 53,
          "Population(1 July 2019)": 0,
          "level_0": 3
         },
         {
          "Count": 66,
          "Country/Region": "Iran",
          "Date": "3/2/20",
          "Lat": 32,
          "Long": 53,
          "Population(1 July 2019)": 0,
          "level_0": 3
         },
         {
          "Count": 77,
          "Country/Region": "Iran",
          "Date": "3/3/20",
          "Lat": 32,
          "Long": 53,
          "Population(1 July 2019)": 0,
          "level_0": 3
         },
         {
          "Count": 92,
          "Country/Region": "Iran",
          "Date": "3/4/20",
          "Lat": 32,
          "Long": 53,
          "Population(1 July 2019)": 0,
          "level_0": 3
         },
         {
          "Count": 107,
          "Country/Region": "Iran",
          "Date": "3/5/20",
          "Lat": 32,
          "Long": 53,
          "Population(1 July 2019)": 0,
          "level_0": 3
         },
         {
          "Count": 124,
          "Country/Region": "Iran",
          "Date": "3/6/20",
          "Lat": 32,
          "Long": 53,
          "Population(1 July 2019)": 0,
          "level_0": 3
         },
         {
          "Count": 145,
          "Country/Region": "Iran",
          "Date": "3/7/20",
          "Lat": 32,
          "Long": 53,
          "Population(1 July 2019)": 0,
          "level_0": 3
         },
         {
          "Count": 194,
          "Country/Region": "Iran",
          "Date": "3/8/20",
          "Lat": 32,
          "Long": 53,
          "Population(1 July 2019)": 0,
          "level_0": 3
         },
         {
          "Count": 237,
          "Country/Region": "Iran",
          "Date": "3/9/20",
          "Lat": 32,
          "Long": 53,
          "Population(1 July 2019)": 0,
          "level_0": 3
         },
         {
          "Count": 291,
          "Country/Region": "Iran",
          "Date": "3/10/20",
          "Lat": 32,
          "Long": 53,
          "Population(1 July 2019)": 0,
          "level_0": 3
         },
         {
          "Count": 354,
          "Country/Region": "Iran",
          "Date": "3/11/20",
          "Lat": 32,
          "Long": 53,
          "Population(1 July 2019)": 0,
          "level_0": 3
         },
         {
          "Count": 429,
          "Country/Region": "Iran",
          "Date": "3/12/20",
          "Lat": 32,
          "Long": 53,
          "Population(1 July 2019)": 0,
          "level_0": 3
         },
         {
          "Count": 514,
          "Country/Region": "Iran",
          "Date": "3/13/20",
          "Lat": 32,
          "Long": 53,
          "Population(1 July 2019)": 0,
          "level_0": 3
         },
         {
          "Count": 611,
          "Country/Region": "Iran",
          "Date": "3/14/20",
          "Lat": 32,
          "Long": 53,
          "Population(1 July 2019)": 0,
          "level_0": 3
         },
         {
          "Count": 724,
          "Country/Region": "Iran",
          "Date": "3/15/20",
          "Lat": 32,
          "Long": 53,
          "Population(1 July 2019)": 0,
          "level_0": 3
         },
         {
          "Count": 853,
          "Country/Region": "Iran",
          "Date": "3/16/20",
          "Lat": 32,
          "Long": 53,
          "Population(1 July 2019)": 0,
          "level_0": 3
         },
         {
          "Count": 988,
          "Country/Region": "Iran",
          "Date": "3/17/20",
          "Lat": 32,
          "Long": 53,
          "Population(1 July 2019)": 0,
          "level_0": 3
         },
         {
          "Count": 1135,
          "Country/Region": "Iran",
          "Date": "3/18/20",
          "Lat": 32,
          "Long": 53,
          "Population(1 July 2019)": 0,
          "level_0": 3
         },
         {
          "Count": 1284,
          "Country/Region": "Iran",
          "Date": "3/19/20",
          "Lat": 32,
          "Long": 53,
          "Population(1 July 2019)": 0,
          "level_0": 3
         },
         {
          "Count": 1433,
          "Country/Region": "Iran",
          "Date": "3/20/20",
          "Lat": 32,
          "Long": 53,
          "Population(1 July 2019)": 0,
          "level_0": 3
         },
         {
          "Count": 1556,
          "Country/Region": "Iran",
          "Date": "3/21/20",
          "Lat": 32,
          "Long": 53,
          "Population(1 July 2019)": 0,
          "level_0": 3
         },
         {
          "Count": 1685,
          "Country/Region": "Iran",
          "Date": "3/22/20",
          "Lat": 32,
          "Long": 53,
          "Population(1 July 2019)": 0,
          "level_0": 3
         },
         {
          "Count": 1812,
          "Country/Region": "Iran",
          "Date": "3/23/20",
          "Lat": 32,
          "Long": 53,
          "Population(1 July 2019)": 0,
          "level_0": 3
         },
         {
          "Count": 1934,
          "Country/Region": "Iran",
          "Date": "3/24/20",
          "Lat": 32,
          "Long": 53,
          "Population(1 July 2019)": 0,
          "level_0": 3
         },
         {
          "Count": 0,
          "Country/Region": "Italy",
          "Date": "1/22/20",
          "Lat": 43,
          "Long": 12,
          "Population(1 July 2019)": 0,
          "level_0": 4
         },
         {
          "Count": 0,
          "Country/Region": "Italy",
          "Date": "1/23/20",
          "Lat": 43,
          "Long": 12,
          "Population(1 July 2019)": 0,
          "level_0": 4
         },
         {
          "Count": 0,
          "Country/Region": "Italy",
          "Date": "1/24/20",
          "Lat": 43,
          "Long": 12,
          "Population(1 July 2019)": 0,
          "level_0": 4
         },
         {
          "Count": 0,
          "Country/Region": "Italy",
          "Date": "1/25/20",
          "Lat": 43,
          "Long": 12,
          "Population(1 July 2019)": 0,
          "level_0": 4
         },
         {
          "Count": 0,
          "Country/Region": "Italy",
          "Date": "1/26/20",
          "Lat": 43,
          "Long": 12,
          "Population(1 July 2019)": 0,
          "level_0": 4
         },
         {
          "Count": 0,
          "Country/Region": "Italy",
          "Date": "1/27/20",
          "Lat": 43,
          "Long": 12,
          "Population(1 July 2019)": 0,
          "level_0": 4
         },
         {
          "Count": 0,
          "Country/Region": "Italy",
          "Date": "1/28/20",
          "Lat": 43,
          "Long": 12,
          "Population(1 July 2019)": 0,
          "level_0": 4
         },
         {
          "Count": 0,
          "Country/Region": "Italy",
          "Date": "1/29/20",
          "Lat": 43,
          "Long": 12,
          "Population(1 July 2019)": 0,
          "level_0": 4
         },
         {
          "Count": 0,
          "Country/Region": "Italy",
          "Date": "1/30/20",
          "Lat": 43,
          "Long": 12,
          "Population(1 July 2019)": 0,
          "level_0": 4
         },
         {
          "Count": 0,
          "Country/Region": "Italy",
          "Date": "1/31/20",
          "Lat": 43,
          "Long": 12,
          "Population(1 July 2019)": 0,
          "level_0": 4
         },
         {
          "Count": 0,
          "Country/Region": "Italy",
          "Date": "2/1/20",
          "Lat": 43,
          "Long": 12,
          "Population(1 July 2019)": 0,
          "level_0": 4
         },
         {
          "Count": 0,
          "Country/Region": "Italy",
          "Date": "2/2/20",
          "Lat": 43,
          "Long": 12,
          "Population(1 July 2019)": 0,
          "level_0": 4
         },
         {
          "Count": 0,
          "Country/Region": "Italy",
          "Date": "2/3/20",
          "Lat": 43,
          "Long": 12,
          "Population(1 July 2019)": 0,
          "level_0": 4
         },
         {
          "Count": 0,
          "Country/Region": "Italy",
          "Date": "2/4/20",
          "Lat": 43,
          "Long": 12,
          "Population(1 July 2019)": 0,
          "level_0": 4
         },
         {
          "Count": 0,
          "Country/Region": "Italy",
          "Date": "2/5/20",
          "Lat": 43,
          "Long": 12,
          "Population(1 July 2019)": 0,
          "level_0": 4
         },
         {
          "Count": 0,
          "Country/Region": "Italy",
          "Date": "2/6/20",
          "Lat": 43,
          "Long": 12,
          "Population(1 July 2019)": 0,
          "level_0": 4
         },
         {
          "Count": 0,
          "Country/Region": "Italy",
          "Date": "2/7/20",
          "Lat": 43,
          "Long": 12,
          "Population(1 July 2019)": 0,
          "level_0": 4
         },
         {
          "Count": 0,
          "Country/Region": "Italy",
          "Date": "2/8/20",
          "Lat": 43,
          "Long": 12,
          "Population(1 July 2019)": 0,
          "level_0": 4
         },
         {
          "Count": 0,
          "Country/Region": "Italy",
          "Date": "2/9/20",
          "Lat": 43,
          "Long": 12,
          "Population(1 July 2019)": 0,
          "level_0": 4
         },
         {
          "Count": 0,
          "Country/Region": "Italy",
          "Date": "2/10/20",
          "Lat": 43,
          "Long": 12,
          "Population(1 July 2019)": 0,
          "level_0": 4
         },
         {
          "Count": 0,
          "Country/Region": "Italy",
          "Date": "2/11/20",
          "Lat": 43,
          "Long": 12,
          "Population(1 July 2019)": 0,
          "level_0": 4
         },
         {
          "Count": 0,
          "Country/Region": "Italy",
          "Date": "2/12/20",
          "Lat": 43,
          "Long": 12,
          "Population(1 July 2019)": 0,
          "level_0": 4
         },
         {
          "Count": 0,
          "Country/Region": "Italy",
          "Date": "2/13/20",
          "Lat": 43,
          "Long": 12,
          "Population(1 July 2019)": 0,
          "level_0": 4
         },
         {
          "Count": 0,
          "Country/Region": "Italy",
          "Date": "2/14/20",
          "Lat": 43,
          "Long": 12,
          "Population(1 July 2019)": 0,
          "level_0": 4
         },
         {
          "Count": 0,
          "Country/Region": "Italy",
          "Date": "2/15/20",
          "Lat": 43,
          "Long": 12,
          "Population(1 July 2019)": 0,
          "level_0": 4
         },
         {
          "Count": 0,
          "Country/Region": "Italy",
          "Date": "2/16/20",
          "Lat": 43,
          "Long": 12,
          "Population(1 July 2019)": 0,
          "level_0": 4
         },
         {
          "Count": 0,
          "Country/Region": "Italy",
          "Date": "2/17/20",
          "Lat": 43,
          "Long": 12,
          "Population(1 July 2019)": 0,
          "level_0": 4
         },
         {
          "Count": 0,
          "Country/Region": "Italy",
          "Date": "2/18/20",
          "Lat": 43,
          "Long": 12,
          "Population(1 July 2019)": 0,
          "level_0": 4
         },
         {
          "Count": 0,
          "Country/Region": "Italy",
          "Date": "2/19/20",
          "Lat": 43,
          "Long": 12,
          "Population(1 July 2019)": 0,
          "level_0": 4
         },
         {
          "Count": 0,
          "Country/Region": "Italy",
          "Date": "2/20/20",
          "Lat": 43,
          "Long": 12,
          "Population(1 July 2019)": 0,
          "level_0": 4
         },
         {
          "Count": 1,
          "Country/Region": "Italy",
          "Date": "2/21/20",
          "Lat": 43,
          "Long": 12,
          "Population(1 July 2019)": 0,
          "level_0": 4
         },
         {
          "Count": 2,
          "Country/Region": "Italy",
          "Date": "2/22/20",
          "Lat": 43,
          "Long": 12,
          "Population(1 July 2019)": 0,
          "level_0": 4
         },
         {
          "Count": 3,
          "Country/Region": "Italy",
          "Date": "2/23/20",
          "Lat": 43,
          "Long": 12,
          "Population(1 July 2019)": 0,
          "level_0": 4
         },
         {
          "Count": 7,
          "Country/Region": "Italy",
          "Date": "2/24/20",
          "Lat": 43,
          "Long": 12,
          "Population(1 July 2019)": 0,
          "level_0": 4
         },
         {
          "Count": 10,
          "Country/Region": "Italy",
          "Date": "2/25/20",
          "Lat": 43,
          "Long": 12,
          "Population(1 July 2019)": 0,
          "level_0": 4
         },
         {
          "Count": 12,
          "Country/Region": "Italy",
          "Date": "2/26/20",
          "Lat": 43,
          "Long": 12,
          "Population(1 July 2019)": 0,
          "level_0": 4
         },
         {
          "Count": 17,
          "Country/Region": "Italy",
          "Date": "2/27/20",
          "Lat": 43,
          "Long": 12,
          "Population(1 July 2019)": 0,
          "level_0": 4
         },
         {
          "Count": 21,
          "Country/Region": "Italy",
          "Date": "2/28/20",
          "Lat": 43,
          "Long": 12,
          "Population(1 July 2019)": 0,
          "level_0": 4
         },
         {
          "Count": 29,
          "Country/Region": "Italy",
          "Date": "2/29/20",
          "Lat": 43,
          "Long": 12,
          "Population(1 July 2019)": 0,
          "level_0": 4
         },
         {
          "Count": 34,
          "Country/Region": "Italy",
          "Date": "3/1/20",
          "Lat": 43,
          "Long": 12,
          "Population(1 July 2019)": 0,
          "level_0": 4
         },
         {
          "Count": 52,
          "Country/Region": "Italy",
          "Date": "3/2/20",
          "Lat": 43,
          "Long": 12,
          "Population(1 July 2019)": 0,
          "level_0": 4
         },
         {
          "Count": 79,
          "Country/Region": "Italy",
          "Date": "3/3/20",
          "Lat": 43,
          "Long": 12,
          "Population(1 July 2019)": 0,
          "level_0": 4
         },
         {
          "Count": 107,
          "Country/Region": "Italy",
          "Date": "3/4/20",
          "Lat": 43,
          "Long": 12,
          "Population(1 July 2019)": 0,
          "level_0": 4
         },
         {
          "Count": 148,
          "Country/Region": "Italy",
          "Date": "3/5/20",
          "Lat": 43,
          "Long": 12,
          "Population(1 July 2019)": 0,
          "level_0": 4
         },
         {
          "Count": 197,
          "Country/Region": "Italy",
          "Date": "3/6/20",
          "Lat": 43,
          "Long": 12,
          "Population(1 July 2019)": 0,
          "level_0": 4
         },
         {
          "Count": 233,
          "Country/Region": "Italy",
          "Date": "3/7/20",
          "Lat": 43,
          "Long": 12,
          "Population(1 July 2019)": 0,
          "level_0": 4
         },
         {
          "Count": 366,
          "Country/Region": "Italy",
          "Date": "3/8/20",
          "Lat": 43,
          "Long": 12,
          "Population(1 July 2019)": 0,
          "level_0": 4
         },
         {
          "Count": 463,
          "Country/Region": "Italy",
          "Date": "3/9/20",
          "Lat": 43,
          "Long": 12,
          "Population(1 July 2019)": 0,
          "level_0": 4
         },
         {
          "Count": 631,
          "Country/Region": "Italy",
          "Date": "3/10/20",
          "Lat": 43,
          "Long": 12,
          "Population(1 July 2019)": 0,
          "level_0": 4
         },
         {
          "Count": 827,
          "Country/Region": "Italy",
          "Date": "3/11/20",
          "Lat": 43,
          "Long": 12,
          "Population(1 July 2019)": 0,
          "level_0": 4
         },
         {
          "Count": 827,
          "Country/Region": "Italy",
          "Date": "3/12/20",
          "Lat": 43,
          "Long": 12,
          "Population(1 July 2019)": 0,
          "level_0": 4
         },
         {
          "Count": 1266,
          "Country/Region": "Italy",
          "Date": "3/13/20",
          "Lat": 43,
          "Long": 12,
          "Population(1 July 2019)": 0,
          "level_0": 4
         },
         {
          "Count": 1441,
          "Country/Region": "Italy",
          "Date": "3/14/20",
          "Lat": 43,
          "Long": 12,
          "Population(1 July 2019)": 0,
          "level_0": 4
         },
         {
          "Count": 1809,
          "Country/Region": "Italy",
          "Date": "3/15/20",
          "Lat": 43,
          "Long": 12,
          "Population(1 July 2019)": 0,
          "level_0": 4
         },
         {
          "Count": 2158,
          "Country/Region": "Italy",
          "Date": "3/16/20",
          "Lat": 43,
          "Long": 12,
          "Population(1 July 2019)": 0,
          "level_0": 4
         },
         {
          "Count": 2503,
          "Country/Region": "Italy",
          "Date": "3/17/20",
          "Lat": 43,
          "Long": 12,
          "Population(1 July 2019)": 0,
          "level_0": 4
         },
         {
          "Count": 2978,
          "Country/Region": "Italy",
          "Date": "3/18/20",
          "Lat": 43,
          "Long": 12,
          "Population(1 July 2019)": 0,
          "level_0": 4
         },
         {
          "Count": 3405,
          "Country/Region": "Italy",
          "Date": "3/19/20",
          "Lat": 43,
          "Long": 12,
          "Population(1 July 2019)": 0,
          "level_0": 4
         },
         {
          "Count": 4032,
          "Country/Region": "Italy",
          "Date": "3/20/20",
          "Lat": 43,
          "Long": 12,
          "Population(1 July 2019)": 0,
          "level_0": 4
         },
         {
          "Count": 4825,
          "Country/Region": "Italy",
          "Date": "3/21/20",
          "Lat": 43,
          "Long": 12,
          "Population(1 July 2019)": 0,
          "level_0": 4
         },
         {
          "Count": 5476,
          "Country/Region": "Italy",
          "Date": "3/22/20",
          "Lat": 43,
          "Long": 12,
          "Population(1 July 2019)": 0,
          "level_0": 4
         },
         {
          "Count": 6077,
          "Country/Region": "Italy",
          "Date": "3/23/20",
          "Lat": 43,
          "Long": 12,
          "Population(1 July 2019)": 0,
          "level_0": 4
         },
         {
          "Count": 6820,
          "Country/Region": "Italy",
          "Date": "3/24/20",
          "Lat": 43,
          "Long": 12,
          "Population(1 July 2019)": 0,
          "level_0": 4
         },
         {
          "Count": 0,
          "Country/Region": "Korea, South",
          "Date": "1/22/20",
          "Lat": 36,
          "Long": 128,
          "Population(1 July 2019)": 0,
          "level_0": 5
         },
         {
          "Count": 0,
          "Country/Region": "Korea, South",
          "Date": "1/23/20",
          "Lat": 36,
          "Long": 128,
          "Population(1 July 2019)": 0,
          "level_0": 5
         },
         {
          "Count": 0,
          "Country/Region": "Korea, South",
          "Date": "1/24/20",
          "Lat": 36,
          "Long": 128,
          "Population(1 July 2019)": 0,
          "level_0": 5
         },
         {
          "Count": 0,
          "Country/Region": "Korea, South",
          "Date": "1/25/20",
          "Lat": 36,
          "Long": 128,
          "Population(1 July 2019)": 0,
          "level_0": 5
         },
         {
          "Count": 0,
          "Country/Region": "Korea, South",
          "Date": "1/26/20",
          "Lat": 36,
          "Long": 128,
          "Population(1 July 2019)": 0,
          "level_0": 5
         },
         {
          "Count": 0,
          "Country/Region": "Korea, South",
          "Date": "1/27/20",
          "Lat": 36,
          "Long": 128,
          "Population(1 July 2019)": 0,
          "level_0": 5
         },
         {
          "Count": 0,
          "Country/Region": "Korea, South",
          "Date": "1/28/20",
          "Lat": 36,
          "Long": 128,
          "Population(1 July 2019)": 0,
          "level_0": 5
         },
         {
          "Count": 0,
          "Country/Region": "Korea, South",
          "Date": "1/29/20",
          "Lat": 36,
          "Long": 128,
          "Population(1 July 2019)": 0,
          "level_0": 5
         },
         {
          "Count": 0,
          "Country/Region": "Korea, South",
          "Date": "1/30/20",
          "Lat": 36,
          "Long": 128,
          "Population(1 July 2019)": 0,
          "level_0": 5
         },
         {
          "Count": 0,
          "Country/Region": "Korea, South",
          "Date": "1/31/20",
          "Lat": 36,
          "Long": 128,
          "Population(1 July 2019)": 0,
          "level_0": 5
         },
         {
          "Count": 0,
          "Country/Region": "Korea, South",
          "Date": "2/1/20",
          "Lat": 36,
          "Long": 128,
          "Population(1 July 2019)": 0,
          "level_0": 5
         },
         {
          "Count": 0,
          "Country/Region": "Korea, South",
          "Date": "2/2/20",
          "Lat": 36,
          "Long": 128,
          "Population(1 July 2019)": 0,
          "level_0": 5
         },
         {
          "Count": 0,
          "Country/Region": "Korea, South",
          "Date": "2/3/20",
          "Lat": 36,
          "Long": 128,
          "Population(1 July 2019)": 0,
          "level_0": 5
         },
         {
          "Count": 0,
          "Country/Region": "Korea, South",
          "Date": "2/4/20",
          "Lat": 36,
          "Long": 128,
          "Population(1 July 2019)": 0,
          "level_0": 5
         },
         {
          "Count": 0,
          "Country/Region": "Korea, South",
          "Date": "2/5/20",
          "Lat": 36,
          "Long": 128,
          "Population(1 July 2019)": 0,
          "level_0": 5
         },
         {
          "Count": 0,
          "Country/Region": "Korea, South",
          "Date": "2/6/20",
          "Lat": 36,
          "Long": 128,
          "Population(1 July 2019)": 0,
          "level_0": 5
         },
         {
          "Count": 0,
          "Country/Region": "Korea, South",
          "Date": "2/7/20",
          "Lat": 36,
          "Long": 128,
          "Population(1 July 2019)": 0,
          "level_0": 5
         },
         {
          "Count": 0,
          "Country/Region": "Korea, South",
          "Date": "2/8/20",
          "Lat": 36,
          "Long": 128,
          "Population(1 July 2019)": 0,
          "level_0": 5
         },
         {
          "Count": 0,
          "Country/Region": "Korea, South",
          "Date": "2/9/20",
          "Lat": 36,
          "Long": 128,
          "Population(1 July 2019)": 0,
          "level_0": 5
         },
         {
          "Count": 0,
          "Country/Region": "Korea, South",
          "Date": "2/10/20",
          "Lat": 36,
          "Long": 128,
          "Population(1 July 2019)": 0,
          "level_0": 5
         },
         {
          "Count": 0,
          "Country/Region": "Korea, South",
          "Date": "2/11/20",
          "Lat": 36,
          "Long": 128,
          "Population(1 July 2019)": 0,
          "level_0": 5
         },
         {
          "Count": 0,
          "Country/Region": "Korea, South",
          "Date": "2/12/20",
          "Lat": 36,
          "Long": 128,
          "Population(1 July 2019)": 0,
          "level_0": 5
         },
         {
          "Count": 0,
          "Country/Region": "Korea, South",
          "Date": "2/13/20",
          "Lat": 36,
          "Long": 128,
          "Population(1 July 2019)": 0,
          "level_0": 5
         },
         {
          "Count": 0,
          "Country/Region": "Korea, South",
          "Date": "2/14/20",
          "Lat": 36,
          "Long": 128,
          "Population(1 July 2019)": 0,
          "level_0": 5
         },
         {
          "Count": 0,
          "Country/Region": "Korea, South",
          "Date": "2/15/20",
          "Lat": 36,
          "Long": 128,
          "Population(1 July 2019)": 0,
          "level_0": 5
         },
         {
          "Count": 0,
          "Country/Region": "Korea, South",
          "Date": "2/16/20",
          "Lat": 36,
          "Long": 128,
          "Population(1 July 2019)": 0,
          "level_0": 5
         },
         {
          "Count": 0,
          "Country/Region": "Korea, South",
          "Date": "2/17/20",
          "Lat": 36,
          "Long": 128,
          "Population(1 July 2019)": 0,
          "level_0": 5
         },
         {
          "Count": 0,
          "Country/Region": "Korea, South",
          "Date": "2/18/20",
          "Lat": 36,
          "Long": 128,
          "Population(1 July 2019)": 0,
          "level_0": 5
         },
         {
          "Count": 0,
          "Country/Region": "Korea, South",
          "Date": "2/19/20",
          "Lat": 36,
          "Long": 128,
          "Population(1 July 2019)": 0,
          "level_0": 5
         },
         {
          "Count": 1,
          "Country/Region": "Korea, South",
          "Date": "2/20/20",
          "Lat": 36,
          "Long": 128,
          "Population(1 July 2019)": 0,
          "level_0": 5
         },
         {
          "Count": 2,
          "Country/Region": "Korea, South",
          "Date": "2/21/20",
          "Lat": 36,
          "Long": 128,
          "Population(1 July 2019)": 0,
          "level_0": 5
         },
         {
          "Count": 2,
          "Country/Region": "Korea, South",
          "Date": "2/22/20",
          "Lat": 36,
          "Long": 128,
          "Population(1 July 2019)": 0,
          "level_0": 5
         },
         {
          "Count": 6,
          "Country/Region": "Korea, South",
          "Date": "2/23/20",
          "Lat": 36,
          "Long": 128,
          "Population(1 July 2019)": 0,
          "level_0": 5
         },
         {
          "Count": 8,
          "Country/Region": "Korea, South",
          "Date": "2/24/20",
          "Lat": 36,
          "Long": 128,
          "Population(1 July 2019)": 0,
          "level_0": 5
         },
         {
          "Count": 10,
          "Country/Region": "Korea, South",
          "Date": "2/25/20",
          "Lat": 36,
          "Long": 128,
          "Population(1 July 2019)": 0,
          "level_0": 5
         },
         {
          "Count": 12,
          "Country/Region": "Korea, South",
          "Date": "2/26/20",
          "Lat": 36,
          "Long": 128,
          "Population(1 July 2019)": 0,
          "level_0": 5
         },
         {
          "Count": 13,
          "Country/Region": "Korea, South",
          "Date": "2/27/20",
          "Lat": 36,
          "Long": 128,
          "Population(1 July 2019)": 0,
          "level_0": 5
         },
         {
          "Count": 13,
          "Country/Region": "Korea, South",
          "Date": "2/28/20",
          "Lat": 36,
          "Long": 128,
          "Population(1 July 2019)": 0,
          "level_0": 5
         },
         {
          "Count": 16,
          "Country/Region": "Korea, South",
          "Date": "2/29/20",
          "Lat": 36,
          "Long": 128,
          "Population(1 July 2019)": 0,
          "level_0": 5
         },
         {
          "Count": 17,
          "Country/Region": "Korea, South",
          "Date": "3/1/20",
          "Lat": 36,
          "Long": 128,
          "Population(1 July 2019)": 0,
          "level_0": 5
         },
         {
          "Count": 28,
          "Country/Region": "Korea, South",
          "Date": "3/2/20",
          "Lat": 36,
          "Long": 128,
          "Population(1 July 2019)": 0,
          "level_0": 5
         },
         {
          "Count": 28,
          "Country/Region": "Korea, South",
          "Date": "3/3/20",
          "Lat": 36,
          "Long": 128,
          "Population(1 July 2019)": 0,
          "level_0": 5
         },
         {
          "Count": 35,
          "Country/Region": "Korea, South",
          "Date": "3/4/20",
          "Lat": 36,
          "Long": 128,
          "Population(1 July 2019)": 0,
          "level_0": 5
         },
         {
          "Count": 35,
          "Country/Region": "Korea, South",
          "Date": "3/5/20",
          "Lat": 36,
          "Long": 128,
          "Population(1 July 2019)": 0,
          "level_0": 5
         },
         {
          "Count": 42,
          "Country/Region": "Korea, South",
          "Date": "3/6/20",
          "Lat": 36,
          "Long": 128,
          "Population(1 July 2019)": 0,
          "level_0": 5
         },
         {
          "Count": 44,
          "Country/Region": "Korea, South",
          "Date": "3/7/20",
          "Lat": 36,
          "Long": 128,
          "Population(1 July 2019)": 0,
          "level_0": 5
         },
         {
          "Count": 50,
          "Country/Region": "Korea, South",
          "Date": "3/8/20",
          "Lat": 36,
          "Long": 128,
          "Population(1 July 2019)": 0,
          "level_0": 5
         },
         {
          "Count": 53,
          "Country/Region": "Korea, South",
          "Date": "3/9/20",
          "Lat": 36,
          "Long": 128,
          "Population(1 July 2019)": 0,
          "level_0": 5
         },
         {
          "Count": 54,
          "Country/Region": "Korea, South",
          "Date": "3/10/20",
          "Lat": 36,
          "Long": 128,
          "Population(1 July 2019)": 0,
          "level_0": 5
         },
         {
          "Count": 60,
          "Country/Region": "Korea, South",
          "Date": "3/11/20",
          "Lat": 36,
          "Long": 128,
          "Population(1 July 2019)": 0,
          "level_0": 5
         },
         {
          "Count": 66,
          "Country/Region": "Korea, South",
          "Date": "3/12/20",
          "Lat": 36,
          "Long": 128,
          "Population(1 July 2019)": 0,
          "level_0": 5
         },
         {
          "Count": 66,
          "Country/Region": "Korea, South",
          "Date": "3/13/20",
          "Lat": 36,
          "Long": 128,
          "Population(1 July 2019)": 0,
          "level_0": 5
         },
         {
          "Count": 72,
          "Country/Region": "Korea, South",
          "Date": "3/14/20",
          "Lat": 36,
          "Long": 128,
          "Population(1 July 2019)": 0,
          "level_0": 5
         },
         {
          "Count": 75,
          "Country/Region": "Korea, South",
          "Date": "3/15/20",
          "Lat": 36,
          "Long": 128,
          "Population(1 July 2019)": 0,
          "level_0": 5
         },
         {
          "Count": 75,
          "Country/Region": "Korea, South",
          "Date": "3/16/20",
          "Lat": 36,
          "Long": 128,
          "Population(1 July 2019)": 0,
          "level_0": 5
         },
         {
          "Count": 81,
          "Country/Region": "Korea, South",
          "Date": "3/17/20",
          "Lat": 36,
          "Long": 128,
          "Population(1 July 2019)": 0,
          "level_0": 5
         },
         {
          "Count": 84,
          "Country/Region": "Korea, South",
          "Date": "3/18/20",
          "Lat": 36,
          "Long": 128,
          "Population(1 July 2019)": 0,
          "level_0": 5
         },
         {
          "Count": 91,
          "Country/Region": "Korea, South",
          "Date": "3/19/20",
          "Lat": 36,
          "Long": 128,
          "Population(1 July 2019)": 0,
          "level_0": 5
         },
         {
          "Count": 94,
          "Country/Region": "Korea, South",
          "Date": "3/20/20",
          "Lat": 36,
          "Long": 128,
          "Population(1 July 2019)": 0,
          "level_0": 5
         },
         {
          "Count": 102,
          "Country/Region": "Korea, South",
          "Date": "3/21/20",
          "Lat": 36,
          "Long": 128,
          "Population(1 July 2019)": 0,
          "level_0": 5
         },
         {
          "Count": 111,
          "Country/Region": "Korea, South",
          "Date": "3/22/20",
          "Lat": 36,
          "Long": 128,
          "Population(1 July 2019)": 0,
          "level_0": 5
         },
         {
          "Count": 111,
          "Country/Region": "Korea, South",
          "Date": "3/23/20",
          "Lat": 36,
          "Long": 128,
          "Population(1 July 2019)": 0,
          "level_0": 5
         },
         {
          "Count": 120,
          "Country/Region": "Korea, South",
          "Date": "3/24/20",
          "Lat": 36,
          "Long": 128,
          "Population(1 July 2019)": 0,
          "level_0": 5
         },
         {
          "Count": 0,
          "Country/Region": "Spain",
          "Date": "1/22/20",
          "Lat": 40,
          "Long": -4,
          "Population(1 July 2019)": 0,
          "level_0": 6
         },
         {
          "Count": 0,
          "Country/Region": "Spain",
          "Date": "1/23/20",
          "Lat": 40,
          "Long": -4,
          "Population(1 July 2019)": 0,
          "level_0": 6
         },
         {
          "Count": 0,
          "Country/Region": "Spain",
          "Date": "1/24/20",
          "Lat": 40,
          "Long": -4,
          "Population(1 July 2019)": 0,
          "level_0": 6
         },
         {
          "Count": 0,
          "Country/Region": "Spain",
          "Date": "1/25/20",
          "Lat": 40,
          "Long": -4,
          "Population(1 July 2019)": 0,
          "level_0": 6
         },
         {
          "Count": 0,
          "Country/Region": "Spain",
          "Date": "1/26/20",
          "Lat": 40,
          "Long": -4,
          "Population(1 July 2019)": 0,
          "level_0": 6
         },
         {
          "Count": 0,
          "Country/Region": "Spain",
          "Date": "1/27/20",
          "Lat": 40,
          "Long": -4,
          "Population(1 July 2019)": 0,
          "level_0": 6
         },
         {
          "Count": 0,
          "Country/Region": "Spain",
          "Date": "1/28/20",
          "Lat": 40,
          "Long": -4,
          "Population(1 July 2019)": 0,
          "level_0": 6
         },
         {
          "Count": 0,
          "Country/Region": "Spain",
          "Date": "1/29/20",
          "Lat": 40,
          "Long": -4,
          "Population(1 July 2019)": 0,
          "level_0": 6
         },
         {
          "Count": 0,
          "Country/Region": "Spain",
          "Date": "1/30/20",
          "Lat": 40,
          "Long": -4,
          "Population(1 July 2019)": 0,
          "level_0": 6
         },
         {
          "Count": 0,
          "Country/Region": "Spain",
          "Date": "1/31/20",
          "Lat": 40,
          "Long": -4,
          "Population(1 July 2019)": 0,
          "level_0": 6
         },
         {
          "Count": 0,
          "Country/Region": "Spain",
          "Date": "2/1/20",
          "Lat": 40,
          "Long": -4,
          "Population(1 July 2019)": 0,
          "level_0": 6
         },
         {
          "Count": 0,
          "Country/Region": "Spain",
          "Date": "2/2/20",
          "Lat": 40,
          "Long": -4,
          "Population(1 July 2019)": 0,
          "level_0": 6
         },
         {
          "Count": 0,
          "Country/Region": "Spain",
          "Date": "2/3/20",
          "Lat": 40,
          "Long": -4,
          "Population(1 July 2019)": 0,
          "level_0": 6
         },
         {
          "Count": 0,
          "Country/Region": "Spain",
          "Date": "2/4/20",
          "Lat": 40,
          "Long": -4,
          "Population(1 July 2019)": 0,
          "level_0": 6
         },
         {
          "Count": 0,
          "Country/Region": "Spain",
          "Date": "2/5/20",
          "Lat": 40,
          "Long": -4,
          "Population(1 July 2019)": 0,
          "level_0": 6
         },
         {
          "Count": 0,
          "Country/Region": "Spain",
          "Date": "2/6/20",
          "Lat": 40,
          "Long": -4,
          "Population(1 July 2019)": 0,
          "level_0": 6
         },
         {
          "Count": 0,
          "Country/Region": "Spain",
          "Date": "2/7/20",
          "Lat": 40,
          "Long": -4,
          "Population(1 July 2019)": 0,
          "level_0": 6
         },
         {
          "Count": 0,
          "Country/Region": "Spain",
          "Date": "2/8/20",
          "Lat": 40,
          "Long": -4,
          "Population(1 July 2019)": 0,
          "level_0": 6
         },
         {
          "Count": 0,
          "Country/Region": "Spain",
          "Date": "2/9/20",
          "Lat": 40,
          "Long": -4,
          "Population(1 July 2019)": 0,
          "level_0": 6
         },
         {
          "Count": 0,
          "Country/Region": "Spain",
          "Date": "2/10/20",
          "Lat": 40,
          "Long": -4,
          "Population(1 July 2019)": 0,
          "level_0": 6
         },
         {
          "Count": 0,
          "Country/Region": "Spain",
          "Date": "2/11/20",
          "Lat": 40,
          "Long": -4,
          "Population(1 July 2019)": 0,
          "level_0": 6
         },
         {
          "Count": 0,
          "Country/Region": "Spain",
          "Date": "2/12/20",
          "Lat": 40,
          "Long": -4,
          "Population(1 July 2019)": 0,
          "level_0": 6
         },
         {
          "Count": 0,
          "Country/Region": "Spain",
          "Date": "2/13/20",
          "Lat": 40,
          "Long": -4,
          "Population(1 July 2019)": 0,
          "level_0": 6
         },
         {
          "Count": 0,
          "Country/Region": "Spain",
          "Date": "2/14/20",
          "Lat": 40,
          "Long": -4,
          "Population(1 July 2019)": 0,
          "level_0": 6
         },
         {
          "Count": 0,
          "Country/Region": "Spain",
          "Date": "2/15/20",
          "Lat": 40,
          "Long": -4,
          "Population(1 July 2019)": 0,
          "level_0": 6
         },
         {
          "Count": 0,
          "Country/Region": "Spain",
          "Date": "2/16/20",
          "Lat": 40,
          "Long": -4,
          "Population(1 July 2019)": 0,
          "level_0": 6
         },
         {
          "Count": 0,
          "Country/Region": "Spain",
          "Date": "2/17/20",
          "Lat": 40,
          "Long": -4,
          "Population(1 July 2019)": 0,
          "level_0": 6
         },
         {
          "Count": 0,
          "Country/Region": "Spain",
          "Date": "2/18/20",
          "Lat": 40,
          "Long": -4,
          "Population(1 July 2019)": 0,
          "level_0": 6
         },
         {
          "Count": 0,
          "Country/Region": "Spain",
          "Date": "2/19/20",
          "Lat": 40,
          "Long": -4,
          "Population(1 July 2019)": 0,
          "level_0": 6
         },
         {
          "Count": 0,
          "Country/Region": "Spain",
          "Date": "2/20/20",
          "Lat": 40,
          "Long": -4,
          "Population(1 July 2019)": 0,
          "level_0": 6
         },
         {
          "Count": 0,
          "Country/Region": "Spain",
          "Date": "2/21/20",
          "Lat": 40,
          "Long": -4,
          "Population(1 July 2019)": 0,
          "level_0": 6
         },
         {
          "Count": 0,
          "Country/Region": "Spain",
          "Date": "2/22/20",
          "Lat": 40,
          "Long": -4,
          "Population(1 July 2019)": 0,
          "level_0": 6
         },
         {
          "Count": 0,
          "Country/Region": "Spain",
          "Date": "2/23/20",
          "Lat": 40,
          "Long": -4,
          "Population(1 July 2019)": 0,
          "level_0": 6
         },
         {
          "Count": 0,
          "Country/Region": "Spain",
          "Date": "2/24/20",
          "Lat": 40,
          "Long": -4,
          "Population(1 July 2019)": 0,
          "level_0": 6
         },
         {
          "Count": 0,
          "Country/Region": "Spain",
          "Date": "2/25/20",
          "Lat": 40,
          "Long": -4,
          "Population(1 July 2019)": 0,
          "level_0": 6
         },
         {
          "Count": 0,
          "Country/Region": "Spain",
          "Date": "2/26/20",
          "Lat": 40,
          "Long": -4,
          "Population(1 July 2019)": 0,
          "level_0": 6
         },
         {
          "Count": 0,
          "Country/Region": "Spain",
          "Date": "2/27/20",
          "Lat": 40,
          "Long": -4,
          "Population(1 July 2019)": 0,
          "level_0": 6
         },
         {
          "Count": 0,
          "Country/Region": "Spain",
          "Date": "2/28/20",
          "Lat": 40,
          "Long": -4,
          "Population(1 July 2019)": 0,
          "level_0": 6
         },
         {
          "Count": 0,
          "Country/Region": "Spain",
          "Date": "2/29/20",
          "Lat": 40,
          "Long": -4,
          "Population(1 July 2019)": 0,
          "level_0": 6
         },
         {
          "Count": 0,
          "Country/Region": "Spain",
          "Date": "3/1/20",
          "Lat": 40,
          "Long": -4,
          "Population(1 July 2019)": 0,
          "level_0": 6
         },
         {
          "Count": 0,
          "Country/Region": "Spain",
          "Date": "3/2/20",
          "Lat": 40,
          "Long": -4,
          "Population(1 July 2019)": 0,
          "level_0": 6
         },
         {
          "Count": 1,
          "Country/Region": "Spain",
          "Date": "3/3/20",
          "Lat": 40,
          "Long": -4,
          "Population(1 July 2019)": 0,
          "level_0": 6
         },
         {
          "Count": 2,
          "Country/Region": "Spain",
          "Date": "3/4/20",
          "Lat": 40,
          "Long": -4,
          "Population(1 July 2019)": 0,
          "level_0": 6
         },
         {
          "Count": 3,
          "Country/Region": "Spain",
          "Date": "3/5/20",
          "Lat": 40,
          "Long": -4,
          "Population(1 July 2019)": 0,
          "level_0": 6
         },
         {
          "Count": 5,
          "Country/Region": "Spain",
          "Date": "3/6/20",
          "Lat": 40,
          "Long": -4,
          "Population(1 July 2019)": 0,
          "level_0": 6
         },
         {
          "Count": 10,
          "Country/Region": "Spain",
          "Date": "3/7/20",
          "Lat": 40,
          "Long": -4,
          "Population(1 July 2019)": 0,
          "level_0": 6
         },
         {
          "Count": 17,
          "Country/Region": "Spain",
          "Date": "3/8/20",
          "Lat": 40,
          "Long": -4,
          "Population(1 July 2019)": 0,
          "level_0": 6
         },
         {
          "Count": 28,
          "Country/Region": "Spain",
          "Date": "3/9/20",
          "Lat": 40,
          "Long": -4,
          "Population(1 July 2019)": 0,
          "level_0": 6
         },
         {
          "Count": 35,
          "Country/Region": "Spain",
          "Date": "3/10/20",
          "Lat": 40,
          "Long": -4,
          "Population(1 July 2019)": 0,
          "level_0": 6
         },
         {
          "Count": 54,
          "Country/Region": "Spain",
          "Date": "3/11/20",
          "Lat": 40,
          "Long": -4,
          "Population(1 July 2019)": 0,
          "level_0": 6
         },
         {
          "Count": 55,
          "Country/Region": "Spain",
          "Date": "3/12/20",
          "Lat": 40,
          "Long": -4,
          "Population(1 July 2019)": 0,
          "level_0": 6
         },
         {
          "Count": 133,
          "Country/Region": "Spain",
          "Date": "3/13/20",
          "Lat": 40,
          "Long": -4,
          "Population(1 July 2019)": 0,
          "level_0": 6
         },
         {
          "Count": 195,
          "Country/Region": "Spain",
          "Date": "3/14/20",
          "Lat": 40,
          "Long": -4,
          "Population(1 July 2019)": 0,
          "level_0": 6
         },
         {
          "Count": 289,
          "Country/Region": "Spain",
          "Date": "3/15/20",
          "Lat": 40,
          "Long": -4,
          "Population(1 July 2019)": 0,
          "level_0": 6
         },
         {
          "Count": 342,
          "Country/Region": "Spain",
          "Date": "3/16/20",
          "Lat": 40,
          "Long": -4,
          "Population(1 July 2019)": 0,
          "level_0": 6
         },
         {
          "Count": 533,
          "Country/Region": "Spain",
          "Date": "3/17/20",
          "Lat": 40,
          "Long": -4,
          "Population(1 July 2019)": 0,
          "level_0": 6
         },
         {
          "Count": 623,
          "Country/Region": "Spain",
          "Date": "3/18/20",
          "Lat": 40,
          "Long": -4,
          "Population(1 July 2019)": 0,
          "level_0": 6
         },
         {
          "Count": 830,
          "Country/Region": "Spain",
          "Date": "3/19/20",
          "Lat": 40,
          "Long": -4,
          "Population(1 July 2019)": 0,
          "level_0": 6
         },
         {
          "Count": 1043,
          "Country/Region": "Spain",
          "Date": "3/20/20",
          "Lat": 40,
          "Long": -4,
          "Population(1 July 2019)": 0,
          "level_0": 6
         },
         {
          "Count": 1375,
          "Country/Region": "Spain",
          "Date": "3/21/20",
          "Lat": 40,
          "Long": -4,
          "Population(1 July 2019)": 0,
          "level_0": 6
         },
         {
          "Count": 1772,
          "Country/Region": "Spain",
          "Date": "3/22/20",
          "Lat": 40,
          "Long": -4,
          "Population(1 July 2019)": 0,
          "level_0": 6
         },
         {
          "Count": 2311,
          "Country/Region": "Spain",
          "Date": "3/23/20",
          "Lat": 40,
          "Long": -4,
          "Population(1 July 2019)": 0,
          "level_0": 6
         },
         {
          "Count": 2808,
          "Country/Region": "Spain",
          "Date": "3/24/20",
          "Lat": 40,
          "Long": -4,
          "Population(1 July 2019)": 0,
          "level_0": 6
         },
         {
          "Count": 0,
          "Country/Region": "Switzerland",
          "Date": "1/22/20",
          "Lat": 46.8182,
          "Long": 8.2275,
          "Population(1 July 2019)": 0,
          "level_0": 7
         },
         {
          "Count": 0,
          "Country/Region": "Switzerland",
          "Date": "1/23/20",
          "Lat": 46.8182,
          "Long": 8.2275,
          "Population(1 July 2019)": 0,
          "level_0": 7
         },
         {
          "Count": 0,
          "Country/Region": "Switzerland",
          "Date": "1/24/20",
          "Lat": 46.8182,
          "Long": 8.2275,
          "Population(1 July 2019)": 0,
          "level_0": 7
         },
         {
          "Count": 0,
          "Country/Region": "Switzerland",
          "Date": "1/25/20",
          "Lat": 46.8182,
          "Long": 8.2275,
          "Population(1 July 2019)": 0,
          "level_0": 7
         },
         {
          "Count": 0,
          "Country/Region": "Switzerland",
          "Date": "1/26/20",
          "Lat": 46.8182,
          "Long": 8.2275,
          "Population(1 July 2019)": 0,
          "level_0": 7
         },
         {
          "Count": 0,
          "Country/Region": "Switzerland",
          "Date": "1/27/20",
          "Lat": 46.8182,
          "Long": 8.2275,
          "Population(1 July 2019)": 0,
          "level_0": 7
         },
         {
          "Count": 0,
          "Country/Region": "Switzerland",
          "Date": "1/28/20",
          "Lat": 46.8182,
          "Long": 8.2275,
          "Population(1 July 2019)": 0,
          "level_0": 7
         },
         {
          "Count": 0,
          "Country/Region": "Switzerland",
          "Date": "1/29/20",
          "Lat": 46.8182,
          "Long": 8.2275,
          "Population(1 July 2019)": 0,
          "level_0": 7
         },
         {
          "Count": 0,
          "Country/Region": "Switzerland",
          "Date": "1/30/20",
          "Lat": 46.8182,
          "Long": 8.2275,
          "Population(1 July 2019)": 0,
          "level_0": 7
         },
         {
          "Count": 0,
          "Country/Region": "Switzerland",
          "Date": "1/31/20",
          "Lat": 46.8182,
          "Long": 8.2275,
          "Population(1 July 2019)": 0,
          "level_0": 7
         },
         {
          "Count": 0,
          "Country/Region": "Switzerland",
          "Date": "2/1/20",
          "Lat": 46.8182,
          "Long": 8.2275,
          "Population(1 July 2019)": 0,
          "level_0": 7
         },
         {
          "Count": 0,
          "Country/Region": "Switzerland",
          "Date": "2/2/20",
          "Lat": 46.8182,
          "Long": 8.2275,
          "Population(1 July 2019)": 0,
          "level_0": 7
         },
         {
          "Count": 0,
          "Country/Region": "Switzerland",
          "Date": "2/3/20",
          "Lat": 46.8182,
          "Long": 8.2275,
          "Population(1 July 2019)": 0,
          "level_0": 7
         },
         {
          "Count": 0,
          "Country/Region": "Switzerland",
          "Date": "2/4/20",
          "Lat": 46.8182,
          "Long": 8.2275,
          "Population(1 July 2019)": 0,
          "level_0": 7
         },
         {
          "Count": 0,
          "Country/Region": "Switzerland",
          "Date": "2/5/20",
          "Lat": 46.8182,
          "Long": 8.2275,
          "Population(1 July 2019)": 0,
          "level_0": 7
         },
         {
          "Count": 0,
          "Country/Region": "Switzerland",
          "Date": "2/6/20",
          "Lat": 46.8182,
          "Long": 8.2275,
          "Population(1 July 2019)": 0,
          "level_0": 7
         },
         {
          "Count": 0,
          "Country/Region": "Switzerland",
          "Date": "2/7/20",
          "Lat": 46.8182,
          "Long": 8.2275,
          "Population(1 July 2019)": 0,
          "level_0": 7
         },
         {
          "Count": 0,
          "Country/Region": "Switzerland",
          "Date": "2/8/20",
          "Lat": 46.8182,
          "Long": 8.2275,
          "Population(1 July 2019)": 0,
          "level_0": 7
         },
         {
          "Count": 0,
          "Country/Region": "Switzerland",
          "Date": "2/9/20",
          "Lat": 46.8182,
          "Long": 8.2275,
          "Population(1 July 2019)": 0,
          "level_0": 7
         },
         {
          "Count": 0,
          "Country/Region": "Switzerland",
          "Date": "2/10/20",
          "Lat": 46.8182,
          "Long": 8.2275,
          "Population(1 July 2019)": 0,
          "level_0": 7
         },
         {
          "Count": 0,
          "Country/Region": "Switzerland",
          "Date": "2/11/20",
          "Lat": 46.8182,
          "Long": 8.2275,
          "Population(1 July 2019)": 0,
          "level_0": 7
         },
         {
          "Count": 0,
          "Country/Region": "Switzerland",
          "Date": "2/12/20",
          "Lat": 46.8182,
          "Long": 8.2275,
          "Population(1 July 2019)": 0,
          "level_0": 7
         },
         {
          "Count": 0,
          "Country/Region": "Switzerland",
          "Date": "2/13/20",
          "Lat": 46.8182,
          "Long": 8.2275,
          "Population(1 July 2019)": 0,
          "level_0": 7
         },
         {
          "Count": 0,
          "Country/Region": "Switzerland",
          "Date": "2/14/20",
          "Lat": 46.8182,
          "Long": 8.2275,
          "Population(1 July 2019)": 0,
          "level_0": 7
         },
         {
          "Count": 0,
          "Country/Region": "Switzerland",
          "Date": "2/15/20",
          "Lat": 46.8182,
          "Long": 8.2275,
          "Population(1 July 2019)": 0,
          "level_0": 7
         },
         {
          "Count": 0,
          "Country/Region": "Switzerland",
          "Date": "2/16/20",
          "Lat": 46.8182,
          "Long": 8.2275,
          "Population(1 July 2019)": 0,
          "level_0": 7
         },
         {
          "Count": 0,
          "Country/Region": "Switzerland",
          "Date": "2/17/20",
          "Lat": 46.8182,
          "Long": 8.2275,
          "Population(1 July 2019)": 0,
          "level_0": 7
         },
         {
          "Count": 0,
          "Country/Region": "Switzerland",
          "Date": "2/18/20",
          "Lat": 46.8182,
          "Long": 8.2275,
          "Population(1 July 2019)": 0,
          "level_0": 7
         },
         {
          "Count": 0,
          "Country/Region": "Switzerland",
          "Date": "2/19/20",
          "Lat": 46.8182,
          "Long": 8.2275,
          "Population(1 July 2019)": 0,
          "level_0": 7
         },
         {
          "Count": 0,
          "Country/Region": "Switzerland",
          "Date": "2/20/20",
          "Lat": 46.8182,
          "Long": 8.2275,
          "Population(1 July 2019)": 0,
          "level_0": 7
         },
         {
          "Count": 0,
          "Country/Region": "Switzerland",
          "Date": "2/21/20",
          "Lat": 46.8182,
          "Long": 8.2275,
          "Population(1 July 2019)": 0,
          "level_0": 7
         },
         {
          "Count": 0,
          "Country/Region": "Switzerland",
          "Date": "2/22/20",
          "Lat": 46.8182,
          "Long": 8.2275,
          "Population(1 July 2019)": 0,
          "level_0": 7
         },
         {
          "Count": 0,
          "Country/Region": "Switzerland",
          "Date": "2/23/20",
          "Lat": 46.8182,
          "Long": 8.2275,
          "Population(1 July 2019)": 0,
          "level_0": 7
         },
         {
          "Count": 0,
          "Country/Region": "Switzerland",
          "Date": "2/24/20",
          "Lat": 46.8182,
          "Long": 8.2275,
          "Population(1 July 2019)": 0,
          "level_0": 7
         },
         {
          "Count": 0,
          "Country/Region": "Switzerland",
          "Date": "2/25/20",
          "Lat": 46.8182,
          "Long": 8.2275,
          "Population(1 July 2019)": 0,
          "level_0": 7
         },
         {
          "Count": 0,
          "Country/Region": "Switzerland",
          "Date": "2/26/20",
          "Lat": 46.8182,
          "Long": 8.2275,
          "Population(1 July 2019)": 0,
          "level_0": 7
         },
         {
          "Count": 0,
          "Country/Region": "Switzerland",
          "Date": "2/27/20",
          "Lat": 46.8182,
          "Long": 8.2275,
          "Population(1 July 2019)": 0,
          "level_0": 7
         },
         {
          "Count": 0,
          "Country/Region": "Switzerland",
          "Date": "2/28/20",
          "Lat": 46.8182,
          "Long": 8.2275,
          "Population(1 July 2019)": 0,
          "level_0": 7
         },
         {
          "Count": 0,
          "Country/Region": "Switzerland",
          "Date": "2/29/20",
          "Lat": 46.8182,
          "Long": 8.2275,
          "Population(1 July 2019)": 0,
          "level_0": 7
         },
         {
          "Count": 0,
          "Country/Region": "Switzerland",
          "Date": "3/1/20",
          "Lat": 46.8182,
          "Long": 8.2275,
          "Population(1 July 2019)": 0,
          "level_0": 7
         },
         {
          "Count": 0,
          "Country/Region": "Switzerland",
          "Date": "3/2/20",
          "Lat": 46.8182,
          "Long": 8.2275,
          "Population(1 July 2019)": 0,
          "level_0": 7
         },
         {
          "Count": 0,
          "Country/Region": "Switzerland",
          "Date": "3/3/20",
          "Lat": 46.8182,
          "Long": 8.2275,
          "Population(1 July 2019)": 0,
          "level_0": 7
         },
         {
          "Count": 0,
          "Country/Region": "Switzerland",
          "Date": "3/4/20",
          "Lat": 46.8182,
          "Long": 8.2275,
          "Population(1 July 2019)": 0,
          "level_0": 7
         },
         {
          "Count": 1,
          "Country/Region": "Switzerland",
          "Date": "3/5/20",
          "Lat": 46.8182,
          "Long": 8.2275,
          "Population(1 July 2019)": 0,
          "level_0": 7
         },
         {
          "Count": 1,
          "Country/Region": "Switzerland",
          "Date": "3/6/20",
          "Lat": 46.8182,
          "Long": 8.2275,
          "Population(1 July 2019)": 0,
          "level_0": 7
         },
         {
          "Count": 1,
          "Country/Region": "Switzerland",
          "Date": "3/7/20",
          "Lat": 46.8182,
          "Long": 8.2275,
          "Population(1 July 2019)": 0,
          "level_0": 7
         },
         {
          "Count": 2,
          "Country/Region": "Switzerland",
          "Date": "3/8/20",
          "Lat": 46.8182,
          "Long": 8.2275,
          "Population(1 July 2019)": 0,
          "level_0": 7
         },
         {
          "Count": 2,
          "Country/Region": "Switzerland",
          "Date": "3/9/20",
          "Lat": 46.8182,
          "Long": 8.2275,
          "Population(1 July 2019)": 0,
          "level_0": 7
         },
         {
          "Count": 3,
          "Country/Region": "Switzerland",
          "Date": "3/10/20",
          "Lat": 46.8182,
          "Long": 8.2275,
          "Population(1 July 2019)": 0,
          "level_0": 7
         },
         {
          "Count": 4,
          "Country/Region": "Switzerland",
          "Date": "3/11/20",
          "Lat": 46.8182,
          "Long": 8.2275,
          "Population(1 July 2019)": 0,
          "level_0": 7
         },
         {
          "Count": 4,
          "Country/Region": "Switzerland",
          "Date": "3/12/20",
          "Lat": 46.8182,
          "Long": 8.2275,
          "Population(1 July 2019)": 0,
          "level_0": 7
         },
         {
          "Count": 11,
          "Country/Region": "Switzerland",
          "Date": "3/13/20",
          "Lat": 46.8182,
          "Long": 8.2275,
          "Population(1 July 2019)": 0,
          "level_0": 7
         },
         {
          "Count": 13,
          "Country/Region": "Switzerland",
          "Date": "3/14/20",
          "Lat": 46.8182,
          "Long": 8.2275,
          "Population(1 July 2019)": 0,
          "level_0": 7
         },
         {
          "Count": 14,
          "Country/Region": "Switzerland",
          "Date": "3/15/20",
          "Lat": 46.8182,
          "Long": 8.2275,
          "Population(1 July 2019)": 0,
          "level_0": 7
         },
         {
          "Count": 14,
          "Country/Region": "Switzerland",
          "Date": "3/16/20",
          "Lat": 46.8182,
          "Long": 8.2275,
          "Population(1 July 2019)": 0,
          "level_0": 7
         },
         {
          "Count": 27,
          "Country/Region": "Switzerland",
          "Date": "3/17/20",
          "Lat": 46.8182,
          "Long": 8.2275,
          "Population(1 July 2019)": 0,
          "level_0": 7
         },
         {
          "Count": 28,
          "Country/Region": "Switzerland",
          "Date": "3/18/20",
          "Lat": 46.8182,
          "Long": 8.2275,
          "Population(1 July 2019)": 0,
          "level_0": 7
         },
         {
          "Count": 41,
          "Country/Region": "Switzerland",
          "Date": "3/19/20",
          "Lat": 46.8182,
          "Long": 8.2275,
          "Population(1 July 2019)": 0,
          "level_0": 7
         },
         {
          "Count": 54,
          "Country/Region": "Switzerland",
          "Date": "3/20/20",
          "Lat": 46.8182,
          "Long": 8.2275,
          "Population(1 July 2019)": 0,
          "level_0": 7
         },
         {
          "Count": 75,
          "Country/Region": "Switzerland",
          "Date": "3/21/20",
          "Lat": 46.8182,
          "Long": 8.2275,
          "Population(1 July 2019)": 0,
          "level_0": 7
         },
         {
          "Count": 98,
          "Country/Region": "Switzerland",
          "Date": "3/22/20",
          "Lat": 46.8182,
          "Long": 8.2275,
          "Population(1 July 2019)": 0,
          "level_0": 7
         },
         {
          "Count": 120,
          "Country/Region": "Switzerland",
          "Date": "3/23/20",
          "Lat": 46.8182,
          "Long": 8.2275,
          "Population(1 July 2019)": 0,
          "level_0": 7
         },
         {
          "Count": 122,
          "Country/Region": "Switzerland",
          "Date": "3/24/20",
          "Lat": 46.8182,
          "Long": 8.2275,
          "Population(1 July 2019)": 0,
          "level_0": 7
         },
         {
          "Count": 0,
          "Country/Region": "US",
          "Date": "1/22/20",
          "Lat": 37.0902,
          "Long": -95.7129,
          "Population(1 July 2019)": 0,
          "level_0": 8
         },
         {
          "Count": 0,
          "Country/Region": "US",
          "Date": "1/23/20",
          "Lat": 37.0902,
          "Long": -95.7129,
          "Population(1 July 2019)": 0,
          "level_0": 8
         },
         {
          "Count": 0,
          "Country/Region": "US",
          "Date": "1/24/20",
          "Lat": 37.0902,
          "Long": -95.7129,
          "Population(1 July 2019)": 0,
          "level_0": 8
         },
         {
          "Count": 0,
          "Country/Region": "US",
          "Date": "1/25/20",
          "Lat": 37.0902,
          "Long": -95.7129,
          "Population(1 July 2019)": 0,
          "level_0": 8
         },
         {
          "Count": 0,
          "Country/Region": "US",
          "Date": "1/26/20",
          "Lat": 37.0902,
          "Long": -95.7129,
          "Population(1 July 2019)": 0,
          "level_0": 8
         },
         {
          "Count": 0,
          "Country/Region": "US",
          "Date": "1/27/20",
          "Lat": 37.0902,
          "Long": -95.7129,
          "Population(1 July 2019)": 0,
          "level_0": 8
         },
         {
          "Count": 0,
          "Country/Region": "US",
          "Date": "1/28/20",
          "Lat": 37.0902,
          "Long": -95.7129,
          "Population(1 July 2019)": 0,
          "level_0": 8
         },
         {
          "Count": 0,
          "Country/Region": "US",
          "Date": "1/29/20",
          "Lat": 37.0902,
          "Long": -95.7129,
          "Population(1 July 2019)": 0,
          "level_0": 8
         },
         {
          "Count": 0,
          "Country/Region": "US",
          "Date": "1/30/20",
          "Lat": 37.0902,
          "Long": -95.7129,
          "Population(1 July 2019)": 0,
          "level_0": 8
         },
         {
          "Count": 0,
          "Country/Region": "US",
          "Date": "1/31/20",
          "Lat": 37.0902,
          "Long": -95.7129,
          "Population(1 July 2019)": 0,
          "level_0": 8
         },
         {
          "Count": 0,
          "Country/Region": "US",
          "Date": "2/1/20",
          "Lat": 37.0902,
          "Long": -95.7129,
          "Population(1 July 2019)": 0,
          "level_0": 8
         },
         {
          "Count": 0,
          "Country/Region": "US",
          "Date": "2/2/20",
          "Lat": 37.0902,
          "Long": -95.7129,
          "Population(1 July 2019)": 0,
          "level_0": 8
         },
         {
          "Count": 0,
          "Country/Region": "US",
          "Date": "2/3/20",
          "Lat": 37.0902,
          "Long": -95.7129,
          "Population(1 July 2019)": 0,
          "level_0": 8
         },
         {
          "Count": 0,
          "Country/Region": "US",
          "Date": "2/4/20",
          "Lat": 37.0902,
          "Long": -95.7129,
          "Population(1 July 2019)": 0,
          "level_0": 8
         },
         {
          "Count": 0,
          "Country/Region": "US",
          "Date": "2/5/20",
          "Lat": 37.0902,
          "Long": -95.7129,
          "Population(1 July 2019)": 0,
          "level_0": 8
         },
         {
          "Count": 0,
          "Country/Region": "US",
          "Date": "2/6/20",
          "Lat": 37.0902,
          "Long": -95.7129,
          "Population(1 July 2019)": 0,
          "level_0": 8
         },
         {
          "Count": 0,
          "Country/Region": "US",
          "Date": "2/7/20",
          "Lat": 37.0902,
          "Long": -95.7129,
          "Population(1 July 2019)": 0,
          "level_0": 8
         },
         {
          "Count": 0,
          "Country/Region": "US",
          "Date": "2/8/20",
          "Lat": 37.0902,
          "Long": -95.7129,
          "Population(1 July 2019)": 0,
          "level_0": 8
         },
         {
          "Count": 0,
          "Country/Region": "US",
          "Date": "2/9/20",
          "Lat": 37.0902,
          "Long": -95.7129,
          "Population(1 July 2019)": 0,
          "level_0": 8
         },
         {
          "Count": 0,
          "Country/Region": "US",
          "Date": "2/10/20",
          "Lat": 37.0902,
          "Long": -95.7129,
          "Population(1 July 2019)": 0,
          "level_0": 8
         },
         {
          "Count": 0,
          "Country/Region": "US",
          "Date": "2/11/20",
          "Lat": 37.0902,
          "Long": -95.7129,
          "Population(1 July 2019)": 0,
          "level_0": 8
         },
         {
          "Count": 0,
          "Country/Region": "US",
          "Date": "2/12/20",
          "Lat": 37.0902,
          "Long": -95.7129,
          "Population(1 July 2019)": 0,
          "level_0": 8
         },
         {
          "Count": 0,
          "Country/Region": "US",
          "Date": "2/13/20",
          "Lat": 37.0902,
          "Long": -95.7129,
          "Population(1 July 2019)": 0,
          "level_0": 8
         },
         {
          "Count": 0,
          "Country/Region": "US",
          "Date": "2/14/20",
          "Lat": 37.0902,
          "Long": -95.7129,
          "Population(1 July 2019)": 0,
          "level_0": 8
         },
         {
          "Count": 0,
          "Country/Region": "US",
          "Date": "2/15/20",
          "Lat": 37.0902,
          "Long": -95.7129,
          "Population(1 July 2019)": 0,
          "level_0": 8
         },
         {
          "Count": 0,
          "Country/Region": "US",
          "Date": "2/16/20",
          "Lat": 37.0902,
          "Long": -95.7129,
          "Population(1 July 2019)": 0,
          "level_0": 8
         },
         {
          "Count": 0,
          "Country/Region": "US",
          "Date": "2/17/20",
          "Lat": 37.0902,
          "Long": -95.7129,
          "Population(1 July 2019)": 0,
          "level_0": 8
         },
         {
          "Count": 0,
          "Country/Region": "US",
          "Date": "2/18/20",
          "Lat": 37.0902,
          "Long": -95.7129,
          "Population(1 July 2019)": 0,
          "level_0": 8
         },
         {
          "Count": 0,
          "Country/Region": "US",
          "Date": "2/19/20",
          "Lat": 37.0902,
          "Long": -95.7129,
          "Population(1 July 2019)": 0,
          "level_0": 8
         },
         {
          "Count": 0,
          "Country/Region": "US",
          "Date": "2/20/20",
          "Lat": 37.0902,
          "Long": -95.7129,
          "Population(1 July 2019)": 0,
          "level_0": 8
         },
         {
          "Count": 0,
          "Country/Region": "US",
          "Date": "2/21/20",
          "Lat": 37.0902,
          "Long": -95.7129,
          "Population(1 July 2019)": 0,
          "level_0": 8
         },
         {
          "Count": 0,
          "Country/Region": "US",
          "Date": "2/22/20",
          "Lat": 37.0902,
          "Long": -95.7129,
          "Population(1 July 2019)": 0,
          "level_0": 8
         },
         {
          "Count": 0,
          "Country/Region": "US",
          "Date": "2/23/20",
          "Lat": 37.0902,
          "Long": -95.7129,
          "Population(1 July 2019)": 0,
          "level_0": 8
         },
         {
          "Count": 0,
          "Country/Region": "US",
          "Date": "2/24/20",
          "Lat": 37.0902,
          "Long": -95.7129,
          "Population(1 July 2019)": 0,
          "level_0": 8
         },
         {
          "Count": 0,
          "Country/Region": "US",
          "Date": "2/25/20",
          "Lat": 37.0902,
          "Long": -95.7129,
          "Population(1 July 2019)": 0,
          "level_0": 8
         },
         {
          "Count": 0,
          "Country/Region": "US",
          "Date": "2/26/20",
          "Lat": 37.0902,
          "Long": -95.7129,
          "Population(1 July 2019)": 0,
          "level_0": 8
         },
         {
          "Count": 0,
          "Country/Region": "US",
          "Date": "2/27/20",
          "Lat": 37.0902,
          "Long": -95.7129,
          "Population(1 July 2019)": 0,
          "level_0": 8
         },
         {
          "Count": 0,
          "Country/Region": "US",
          "Date": "2/28/20",
          "Lat": 37.0902,
          "Long": -95.7129,
          "Population(1 July 2019)": 0,
          "level_0": 8
         },
         {
          "Count": 1,
          "Country/Region": "US",
          "Date": "2/29/20",
          "Lat": 37.0902,
          "Long": -95.7129,
          "Population(1 July 2019)": 0,
          "level_0": 8
         },
         {
          "Count": 1,
          "Country/Region": "US",
          "Date": "3/1/20",
          "Lat": 37.0902,
          "Long": -95.7129,
          "Population(1 July 2019)": 0,
          "level_0": 8
         },
         {
          "Count": 6,
          "Country/Region": "US",
          "Date": "3/2/20",
          "Lat": 37.0902,
          "Long": -95.7129,
          "Population(1 July 2019)": 0,
          "level_0": 8
         },
         {
          "Count": 7,
          "Country/Region": "US",
          "Date": "3/3/20",
          "Lat": 37.0902,
          "Long": -95.7129,
          "Population(1 July 2019)": 0,
          "level_0": 8
         },
         {
          "Count": 11,
          "Country/Region": "US",
          "Date": "3/4/20",
          "Lat": 37.0902,
          "Long": -95.7129,
          "Population(1 July 2019)": 0,
          "level_0": 8
         },
         {
          "Count": 12,
          "Country/Region": "US",
          "Date": "3/5/20",
          "Lat": 37.0902,
          "Long": -95.7129,
          "Population(1 July 2019)": 0,
          "level_0": 8
         },
         {
          "Count": 14,
          "Country/Region": "US",
          "Date": "3/6/20",
          "Lat": 37.0902,
          "Long": -95.7129,
          "Population(1 July 2019)": 0,
          "level_0": 8
         },
         {
          "Count": 17,
          "Country/Region": "US",
          "Date": "3/7/20",
          "Lat": 37.0902,
          "Long": -95.7129,
          "Population(1 July 2019)": 0,
          "level_0": 8
         },
         {
          "Count": 21,
          "Country/Region": "US",
          "Date": "3/8/20",
          "Lat": 37.0902,
          "Long": -95.7129,
          "Population(1 July 2019)": 0,
          "level_0": 8
         },
         {
          "Count": 22,
          "Country/Region": "US",
          "Date": "3/9/20",
          "Lat": 37.0902,
          "Long": -95.7129,
          "Population(1 July 2019)": 0,
          "level_0": 8
         },
         {
          "Count": 28,
          "Country/Region": "US",
          "Date": "3/10/20",
          "Lat": 37.0902,
          "Long": -95.7129,
          "Population(1 July 2019)": 0,
          "level_0": 8
         },
         {
          "Count": 36,
          "Country/Region": "US",
          "Date": "3/11/20",
          "Lat": 37.0902,
          "Long": -95.7129,
          "Population(1 July 2019)": 0,
          "level_0": 8
         },
         {
          "Count": 40,
          "Country/Region": "US",
          "Date": "3/12/20",
          "Lat": 37.0902,
          "Long": -95.7129,
          "Population(1 July 2019)": 0,
          "level_0": 8
         },
         {
          "Count": 47,
          "Country/Region": "US",
          "Date": "3/13/20",
          "Lat": 37.0902,
          "Long": -95.7129,
          "Population(1 July 2019)": 0,
          "level_0": 8
         },
         {
          "Count": 54,
          "Country/Region": "US",
          "Date": "3/14/20",
          "Lat": 37.0902,
          "Long": -95.7129,
          "Population(1 July 2019)": 0,
          "level_0": 8
         },
         {
          "Count": 63,
          "Country/Region": "US",
          "Date": "3/15/20",
          "Lat": 37.0902,
          "Long": -95.7129,
          "Population(1 July 2019)": 0,
          "level_0": 8
         },
         {
          "Count": 85,
          "Country/Region": "US",
          "Date": "3/16/20",
          "Lat": 37.0902,
          "Long": -95.7129,
          "Population(1 July 2019)": 0,
          "level_0": 8
         },
         {
          "Count": 108,
          "Country/Region": "US",
          "Date": "3/17/20",
          "Lat": 37.0902,
          "Long": -95.7129,
          "Population(1 July 2019)": 0,
          "level_0": 8
         },
         {
          "Count": 118,
          "Country/Region": "US",
          "Date": "3/18/20",
          "Lat": 37.0902,
          "Long": -95.7129,
          "Population(1 July 2019)": 0,
          "level_0": 8
         },
         {
          "Count": 200,
          "Country/Region": "US",
          "Date": "3/19/20",
          "Lat": 37.0902,
          "Long": -95.7129,
          "Population(1 July 2019)": 0,
          "level_0": 8
         },
         {
          "Count": 244,
          "Country/Region": "US",
          "Date": "3/20/20",
          "Lat": 37.0902,
          "Long": -95.7129,
          "Population(1 July 2019)": 0,
          "level_0": 8
         },
         {
          "Count": 307,
          "Country/Region": "US",
          "Date": "3/21/20",
          "Lat": 37.0902,
          "Long": -95.7129,
          "Population(1 July 2019)": 0,
          "level_0": 8
         },
         {
          "Count": 417,
          "Country/Region": "US",
          "Date": "3/22/20",
          "Lat": 37.0902,
          "Long": -95.7129,
          "Population(1 July 2019)": 0,
          "level_0": 8
         },
         {
          "Count": 557,
          "Country/Region": "US",
          "Date": "3/23/20",
          "Lat": 37.0902,
          "Long": -95.7129,
          "Population(1 July 2019)": 0,
          "level_0": 8
         },
         {
          "Count": 706,
          "Country/Region": "US",
          "Date": "3/24/20",
          "Lat": 37.0902,
          "Long": -95.7129,
          "Population(1 July 2019)": 0,
          "level_0": 8
         },
         {
          "Count": 0,
          "Country/Region": "United Kingdom",
          "Date": "1/22/20",
          "Lat": 263.4909,
          "Long": -223.8946,
          "Population(1 July 2019)": 0,
          "level_0": 9
         },
         {
          "Count": 0,
          "Country/Region": "United Kingdom",
          "Date": "1/23/20",
          "Lat": 263.4909,
          "Long": -223.8946,
          "Population(1 July 2019)": 0,
          "level_0": 9
         },
         {
          "Count": 0,
          "Country/Region": "United Kingdom",
          "Date": "1/24/20",
          "Lat": 263.4909,
          "Long": -223.8946,
          "Population(1 July 2019)": 0,
          "level_0": 9
         },
         {
          "Count": 0,
          "Country/Region": "United Kingdom",
          "Date": "1/25/20",
          "Lat": 263.4909,
          "Long": -223.8946,
          "Population(1 July 2019)": 0,
          "level_0": 9
         },
         {
          "Count": 0,
          "Country/Region": "United Kingdom",
          "Date": "1/26/20",
          "Lat": 263.4909,
          "Long": -223.8946,
          "Population(1 July 2019)": 0,
          "level_0": 9
         },
         {
          "Count": 0,
          "Country/Region": "United Kingdom",
          "Date": "1/27/20",
          "Lat": 263.4909,
          "Long": -223.8946,
          "Population(1 July 2019)": 0,
          "level_0": 9
         },
         {
          "Count": 0,
          "Country/Region": "United Kingdom",
          "Date": "1/28/20",
          "Lat": 263.4909,
          "Long": -223.8946,
          "Population(1 July 2019)": 0,
          "level_0": 9
         },
         {
          "Count": 0,
          "Country/Region": "United Kingdom",
          "Date": "1/29/20",
          "Lat": 263.4909,
          "Long": -223.8946,
          "Population(1 July 2019)": 0,
          "level_0": 9
         },
         {
          "Count": 0,
          "Country/Region": "United Kingdom",
          "Date": "1/30/20",
          "Lat": 263.4909,
          "Long": -223.8946,
          "Population(1 July 2019)": 0,
          "level_0": 9
         },
         {
          "Count": 0,
          "Country/Region": "United Kingdom",
          "Date": "1/31/20",
          "Lat": 263.4909,
          "Long": -223.8946,
          "Population(1 July 2019)": 0,
          "level_0": 9
         },
         {
          "Count": 0,
          "Country/Region": "United Kingdom",
          "Date": "2/1/20",
          "Lat": 263.4909,
          "Long": -223.8946,
          "Population(1 July 2019)": 0,
          "level_0": 9
         },
         {
          "Count": 0,
          "Country/Region": "United Kingdom",
          "Date": "2/2/20",
          "Lat": 263.4909,
          "Long": -223.8946,
          "Population(1 July 2019)": 0,
          "level_0": 9
         },
         {
          "Count": 0,
          "Country/Region": "United Kingdom",
          "Date": "2/3/20",
          "Lat": 263.4909,
          "Long": -223.8946,
          "Population(1 July 2019)": 0,
          "level_0": 9
         },
         {
          "Count": 0,
          "Country/Region": "United Kingdom",
          "Date": "2/4/20",
          "Lat": 263.4909,
          "Long": -223.8946,
          "Population(1 July 2019)": 0,
          "level_0": 9
         },
         {
          "Count": 0,
          "Country/Region": "United Kingdom",
          "Date": "2/5/20",
          "Lat": 263.4909,
          "Long": -223.8946,
          "Population(1 July 2019)": 0,
          "level_0": 9
         },
         {
          "Count": 0,
          "Country/Region": "United Kingdom",
          "Date": "2/6/20",
          "Lat": 263.4909,
          "Long": -223.8946,
          "Population(1 July 2019)": 0,
          "level_0": 9
         },
         {
          "Count": 0,
          "Country/Region": "United Kingdom",
          "Date": "2/7/20",
          "Lat": 263.4909,
          "Long": -223.8946,
          "Population(1 July 2019)": 0,
          "level_0": 9
         },
         {
          "Count": 0,
          "Country/Region": "United Kingdom",
          "Date": "2/8/20",
          "Lat": 263.4909,
          "Long": -223.8946,
          "Population(1 July 2019)": 0,
          "level_0": 9
         },
         {
          "Count": 0,
          "Country/Region": "United Kingdom",
          "Date": "2/9/20",
          "Lat": 263.4909,
          "Long": -223.8946,
          "Population(1 July 2019)": 0,
          "level_0": 9
         },
         {
          "Count": 0,
          "Country/Region": "United Kingdom",
          "Date": "2/10/20",
          "Lat": 263.4909,
          "Long": -223.8946,
          "Population(1 July 2019)": 0,
          "level_0": 9
         },
         {
          "Count": 0,
          "Country/Region": "United Kingdom",
          "Date": "2/11/20",
          "Lat": 263.4909,
          "Long": -223.8946,
          "Population(1 July 2019)": 0,
          "level_0": 9
         },
         {
          "Count": 0,
          "Country/Region": "United Kingdom",
          "Date": "2/12/20",
          "Lat": 263.4909,
          "Long": -223.8946,
          "Population(1 July 2019)": 0,
          "level_0": 9
         },
         {
          "Count": 0,
          "Country/Region": "United Kingdom",
          "Date": "2/13/20",
          "Lat": 263.4909,
          "Long": -223.8946,
          "Population(1 July 2019)": 0,
          "level_0": 9
         },
         {
          "Count": 0,
          "Country/Region": "United Kingdom",
          "Date": "2/14/20",
          "Lat": 263.4909,
          "Long": -223.8946,
          "Population(1 July 2019)": 0,
          "level_0": 9
         },
         {
          "Count": 0,
          "Country/Region": "United Kingdom",
          "Date": "2/15/20",
          "Lat": 263.4909,
          "Long": -223.8946,
          "Population(1 July 2019)": 0,
          "level_0": 9
         },
         {
          "Count": 0,
          "Country/Region": "United Kingdom",
          "Date": "2/16/20",
          "Lat": 263.4909,
          "Long": -223.8946,
          "Population(1 July 2019)": 0,
          "level_0": 9
         },
         {
          "Count": 0,
          "Country/Region": "United Kingdom",
          "Date": "2/17/20",
          "Lat": 263.4909,
          "Long": -223.8946,
          "Population(1 July 2019)": 0,
          "level_0": 9
         },
         {
          "Count": 0,
          "Country/Region": "United Kingdom",
          "Date": "2/18/20",
          "Lat": 263.4909,
          "Long": -223.8946,
          "Population(1 July 2019)": 0,
          "level_0": 9
         },
         {
          "Count": 0,
          "Country/Region": "United Kingdom",
          "Date": "2/19/20",
          "Lat": 263.4909,
          "Long": -223.8946,
          "Population(1 July 2019)": 0,
          "level_0": 9
         },
         {
          "Count": 0,
          "Country/Region": "United Kingdom",
          "Date": "2/20/20",
          "Lat": 263.4909,
          "Long": -223.8946,
          "Population(1 July 2019)": 0,
          "level_0": 9
         },
         {
          "Count": 0,
          "Country/Region": "United Kingdom",
          "Date": "2/21/20",
          "Lat": 263.4909,
          "Long": -223.8946,
          "Population(1 July 2019)": 0,
          "level_0": 9
         },
         {
          "Count": 0,
          "Country/Region": "United Kingdom",
          "Date": "2/22/20",
          "Lat": 263.4909,
          "Long": -223.8946,
          "Population(1 July 2019)": 0,
          "level_0": 9
         },
         {
          "Count": 0,
          "Country/Region": "United Kingdom",
          "Date": "2/23/20",
          "Lat": 263.4909,
          "Long": -223.8946,
          "Population(1 July 2019)": 0,
          "level_0": 9
         },
         {
          "Count": 0,
          "Country/Region": "United Kingdom",
          "Date": "2/24/20",
          "Lat": 263.4909,
          "Long": -223.8946,
          "Population(1 July 2019)": 0,
          "level_0": 9
         },
         {
          "Count": 0,
          "Country/Region": "United Kingdom",
          "Date": "2/25/20",
          "Lat": 263.4909,
          "Long": -223.8946,
          "Population(1 July 2019)": 0,
          "level_0": 9
         },
         {
          "Count": 0,
          "Country/Region": "United Kingdom",
          "Date": "2/26/20",
          "Lat": 263.4909,
          "Long": -223.8946,
          "Population(1 July 2019)": 0,
          "level_0": 9
         },
         {
          "Count": 0,
          "Country/Region": "United Kingdom",
          "Date": "2/27/20",
          "Lat": 263.4909,
          "Long": -223.8946,
          "Population(1 July 2019)": 0,
          "level_0": 9
         },
         {
          "Count": 0,
          "Country/Region": "United Kingdom",
          "Date": "2/28/20",
          "Lat": 263.4909,
          "Long": -223.8946,
          "Population(1 July 2019)": 0,
          "level_0": 9
         },
         {
          "Count": 0,
          "Country/Region": "United Kingdom",
          "Date": "2/29/20",
          "Lat": 263.4909,
          "Long": -223.8946,
          "Population(1 July 2019)": 0,
          "level_0": 9
         },
         {
          "Count": 0,
          "Country/Region": "United Kingdom",
          "Date": "3/1/20",
          "Lat": 263.4909,
          "Long": -223.8946,
          "Population(1 July 2019)": 0,
          "level_0": 9
         },
         {
          "Count": 0,
          "Country/Region": "United Kingdom",
          "Date": "3/2/20",
          "Lat": 263.4909,
          "Long": -223.8946,
          "Population(1 July 2019)": 0,
          "level_0": 9
         },
         {
          "Count": 0,
          "Country/Region": "United Kingdom",
          "Date": "3/3/20",
          "Lat": 263.4909,
          "Long": -223.8946,
          "Population(1 July 2019)": 0,
          "level_0": 9
         },
         {
          "Count": 0,
          "Country/Region": "United Kingdom",
          "Date": "3/4/20",
          "Lat": 263.4909,
          "Long": -223.8946,
          "Population(1 July 2019)": 0,
          "level_0": 9
         },
         {
          "Count": 1,
          "Country/Region": "United Kingdom",
          "Date": "3/5/20",
          "Lat": 263.4909,
          "Long": -223.8946,
          "Population(1 July 2019)": 0,
          "level_0": 9
         },
         {
          "Count": 2,
          "Country/Region": "United Kingdom",
          "Date": "3/6/20",
          "Lat": 263.4909,
          "Long": -223.8946,
          "Population(1 July 2019)": 0,
          "level_0": 9
         },
         {
          "Count": 2,
          "Country/Region": "United Kingdom",
          "Date": "3/7/20",
          "Lat": 263.4909,
          "Long": -223.8946,
          "Population(1 July 2019)": 0,
          "level_0": 9
         },
         {
          "Count": 3,
          "Country/Region": "United Kingdom",
          "Date": "3/8/20",
          "Lat": 263.4909,
          "Long": -223.8946,
          "Population(1 July 2019)": 0,
          "level_0": 9
         },
         {
          "Count": 4,
          "Country/Region": "United Kingdom",
          "Date": "3/9/20",
          "Lat": 263.4909,
          "Long": -223.8946,
          "Population(1 July 2019)": 0,
          "level_0": 9
         },
         {
          "Count": 6,
          "Country/Region": "United Kingdom",
          "Date": "3/10/20",
          "Lat": 263.4909,
          "Long": -223.8946,
          "Population(1 July 2019)": 0,
          "level_0": 9
         },
         {
          "Count": 8,
          "Country/Region": "United Kingdom",
          "Date": "3/11/20",
          "Lat": 263.4909,
          "Long": -223.8946,
          "Population(1 July 2019)": 0,
          "level_0": 9
         },
         {
          "Count": 8,
          "Country/Region": "United Kingdom",
          "Date": "3/12/20",
          "Lat": 263.4909,
          "Long": -223.8946,
          "Population(1 July 2019)": 0,
          "level_0": 9
         },
         {
          "Count": 8,
          "Country/Region": "United Kingdom",
          "Date": "3/13/20",
          "Lat": 263.4909,
          "Long": -223.8946,
          "Population(1 July 2019)": 0,
          "level_0": 9
         },
         {
          "Count": 21,
          "Country/Region": "United Kingdom",
          "Date": "3/14/20",
          "Lat": 263.4909,
          "Long": -223.8946,
          "Population(1 July 2019)": 0,
          "level_0": 9
         },
         {
          "Count": 21,
          "Country/Region": "United Kingdom",
          "Date": "3/15/20",
          "Lat": 263.4909,
          "Long": -223.8946,
          "Population(1 July 2019)": 0,
          "level_0": 9
         },
         {
          "Count": 56,
          "Country/Region": "United Kingdom",
          "Date": "3/16/20",
          "Lat": 263.4909,
          "Long": -223.8946,
          "Population(1 July 2019)": 0,
          "level_0": 9
         },
         {
          "Count": 56,
          "Country/Region": "United Kingdom",
          "Date": "3/17/20",
          "Lat": 263.4909,
          "Long": -223.8946,
          "Population(1 July 2019)": 0,
          "level_0": 9
         },
         {
          "Count": 72,
          "Country/Region": "United Kingdom",
          "Date": "3/18/20",
          "Lat": 263.4909,
          "Long": -223.8946,
          "Population(1 July 2019)": 0,
          "level_0": 9
         },
         {
          "Count": 138,
          "Country/Region": "United Kingdom",
          "Date": "3/19/20",
          "Lat": 263.4909,
          "Long": -223.8946,
          "Population(1 July 2019)": 0,
          "level_0": 9
         },
         {
          "Count": 178,
          "Country/Region": "United Kingdom",
          "Date": "3/20/20",
          "Lat": 263.4909,
          "Long": -223.8946,
          "Population(1 July 2019)": 0,
          "level_0": 9
         },
         {
          "Count": 234,
          "Country/Region": "United Kingdom",
          "Date": "3/21/20",
          "Lat": 263.4909,
          "Long": -223.8946,
          "Population(1 July 2019)": 0,
          "level_0": 9
         },
         {
          "Count": 282,
          "Country/Region": "United Kingdom",
          "Date": "3/22/20",
          "Lat": 263.4909,
          "Long": -223.8946,
          "Population(1 July 2019)": 0,
          "level_0": 9
         },
         {
          "Count": 336,
          "Country/Region": "United Kingdom",
          "Date": "3/23/20",
          "Lat": 263.4909,
          "Long": -223.8946,
          "Population(1 July 2019)": 0,
          "level_0": 9
         },
         {
          "Count": 423,
          "Country/Region": "United Kingdom",
          "Date": "3/24/20",
          "Lat": 263.4909,
          "Long": -223.8946,
          "Population(1 July 2019)": 0,
          "level_0": 9
         }
        ]
       },
       "height": 600,
       "layer": [
        {
         "encoding": {
          "color": {
           "field": "Country/Region",
           "sort": [
            "China",
            "Italy",
            "US",
            "Spain",
            "Germany",
            "Iran",
            "France",
            "Switzerland",
            "Korea, South",
            "United Kingdom"
           ],
           "type": "nominal"
          },
          "x": {
           "axis": {
            "format": "%d %b %Y",
            "labelAngle": 90
           },
           "field": "Date",
           "scale": {
            "domain": [
             "1/22/20",
             "03/24/20"
            ]
           },
           "type": "temporal"
          },
          "y": {
           "axis": {
            "orient": "right",
            "title": "Count"
           },
           "field": "Count",
           "scale": {
            "base": 10,
            "type": "log"
           },
           "type": "quantitative"
          }
         },
         "mark": "line",
         "title": "Deaths - including 24 March 2020",
         "transform": [
          {
           "filter": "(datum.Count >= 1)"
          }
         ]
        },
        {
         "encoding": {
          "opacity": {
           "value": 0
          },
          "x": {
           "field": "Date",
           "type": "temporal"
          }
         },
         "mark": "point",
         "selection": {
          "selector005": {
           "empty": "none",
           "fields": [
            "Date"
           ],
           "nearest": true,
           "on": "mouseover",
           "type": "single"
          }
         }
        },
        {
         "encoding": {
          "color": {
           "field": "Country/Region",
           "sort": [
            "China",
            "Italy",
            "US",
            "Spain",
            "Germany",
            "Iran",
            "France",
            "Switzerland",
            "Korea, South",
            "United Kingdom"
           ],
           "type": "nominal"
          },
          "opacity": {
           "condition": {
            "selection": "selector005",
            "value": 1
           },
           "value": 0
          },
          "x": {
           "axis": {
            "format": "%d %b %Y",
            "labelAngle": 90
           },
           "field": "Date",
           "scale": {
            "domain": [
             "1/22/20",
             "03/24/20"
            ]
           },
           "type": "temporal"
          },
          "y": {
           "axis": {
            "orient": "right",
            "title": "Count"
           },
           "field": "Count",
           "scale": {
            "base": 10,
            "type": "log"
           },
           "type": "quantitative"
          }
         },
         "mark": "point",
         "selection": {
          "selector006": {
           "bind": "scales",
           "encodings": [
            "x",
            "y"
           ],
           "type": "interval"
          }
         },
         "title": "Deaths - including 24 March 2020",
         "transform": [
          {
           "filter": "(datum.Count >= 1)"
          }
         ]
        },
        {
         "encoding": {
          "x": {
           "field": "Date",
           "type": "temporal"
          }
         },
         "mark": {
          "color": "gray",
          "type": "rule"
         },
         "transform": [
          {
           "filter": {
            "selection": "selector005"
           }
          }
         ]
        },
        {
         "encoding": {
          "color": {
           "field": "Country/Region",
           "sort": [
            "China",
            "Italy",
            "US",
            "Spain",
            "Germany",
            "Iran",
            "France",
            "Switzerland",
            "Korea, South",
            "United Kingdom"
           ],
           "type": "nominal"
          },
          "text": {
           "condition": {
            "field": "Count",
            "selection": "selector005",
            "type": "quantitative"
           },
           "value": " "
          },
          "x": {
           "axis": {
            "format": "%d %b %Y",
            "labelAngle": 90
           },
           "field": "Date",
           "scale": {
            "domain": [
             "1/22/20",
             "03/24/20"
            ]
           },
           "type": "temporal"
          },
          "y": {
           "axis": {
            "orient": "right",
            "title": "Count"
           },
           "field": "Count",
           "scale": {
            "base": 10,
            "type": "log"
           },
           "type": "quantitative"
          }
         },
         "mark": {
          "align": "right",
          "dx": -5,
          "dy": -5,
          "type": "text"
         },
         "title": "Deaths - including 24 March 2020",
         "transform": [
          {
           "filter": "(datum.Count >= 1)"
          }
         ]
        }
       ],
       "width": 800
      },
      "image/png": "[encoded data removed]",
      "text/plain": [
       "<VegaLite 3 object>\n",
       "\n",
       "If you see this message, it means the renderer has not been properly enabled\n",
       "for the frontend that you are using. For more information, see\n",
       "https://altair-viz.github.io/user_guide/troubleshooting.html\n"
      ]
     },
     "metadata": {},
     "output_type": "display_data"
    },
    {
     "data": {
      "application/vnd.vegalite.v3+json": {
       "$schema": "https://vega.github.io/schema/vega-lite/v3.4.0.json",
       "config": {
        "mark": {
         "tooltip": null
        },
        "view": {
         "height": 300,
         "width": 400
        }
       },
       "data": {
        "name": "data-2a0db6fc26af52ac3cab2eef21fa0d3d"
       },
       "datasets": {
        "data-2a0db6fc26af52ac3cab2eef21fa0d3d": [
         {
          "Count": 17,
          "Country/Region": "China",
          "Date": "1/22/20",
          "Lat": 1083.3367,
          "Long": 3684.4197000000004,
          "Population(1 July 2019)": 0,
          "level_0": 0
         },
         {
          "Count": 18,
          "Country/Region": "China",
          "Date": "1/23/20",
          "Lat": 1083.3367,
          "Long": 3684.4197000000004,
          "Population(1 July 2019)": 0,
          "level_0": 0
         },
         {
          "Count": 26,
          "Country/Region": "China",
          "Date": "1/24/20",
          "Lat": 1083.3367,
          "Long": 3684.4197000000004,
          "Population(1 July 2019)": 0,
          "level_0": 0
         },
         {
          "Count": 42,
          "Country/Region": "China",
          "Date": "1/25/20",
          "Lat": 1083.3367,
          "Long": 3684.4197000000004,
          "Population(1 July 2019)": 0,
          "level_0": 0
         },
         {
          "Count": 56,
          "Country/Region": "China",
          "Date": "1/26/20",
          "Lat": 1083.3367,
          "Long": 3684.4197000000004,
          "Population(1 July 2019)": 0,
          "level_0": 0
         },
         {
          "Count": 82,
          "Country/Region": "China",
          "Date": "1/27/20",
          "Lat": 1083.3367,
          "Long": 3684.4197000000004,
          "Population(1 July 2019)": 0,
          "level_0": 0
         },
         {
          "Count": 131,
          "Country/Region": "China",
          "Date": "1/28/20",
          "Lat": 1083.3367,
          "Long": 3684.4197000000004,
          "Population(1 July 2019)": 0,
          "level_0": 0
         },
         {
          "Count": 133,
          "Country/Region": "China",
          "Date": "1/29/20",
          "Lat": 1083.3367,
          "Long": 3684.4197000000004,
          "Population(1 July 2019)": 0,
          "level_0": 0
         },
         {
          "Count": 171,
          "Country/Region": "China",
          "Date": "1/30/20",
          "Lat": 1083.3367,
          "Long": 3684.4197000000004,
          "Population(1 July 2019)": 0,
          "level_0": 0
         },
         {
          "Count": 213,
          "Country/Region": "China",
          "Date": "1/31/20",
          "Lat": 1083.3367,
          "Long": 3684.4197000000004,
          "Population(1 July 2019)": 0,
          "level_0": 0
         },
         {
          "Count": 259,
          "Country/Region": "China",
          "Date": "2/1/20",
          "Lat": 1083.3367,
          "Long": 3684.4197000000004,
          "Population(1 July 2019)": 0,
          "level_0": 0
         },
         {
          "Count": 361,
          "Country/Region": "China",
          "Date": "2/2/20",
          "Lat": 1083.3367,
          "Long": 3684.4197000000004,
          "Population(1 July 2019)": 0,
          "level_0": 0
         },
         {
          "Count": 425,
          "Country/Region": "China",
          "Date": "2/3/20",
          "Lat": 1083.3367,
          "Long": 3684.4197000000004,
          "Population(1 July 2019)": 0,
          "level_0": 0
         },
         {
          "Count": 491,
          "Country/Region": "China",
          "Date": "2/4/20",
          "Lat": 1083.3367,
          "Long": 3684.4197000000004,
          "Population(1 July 2019)": 0,
          "level_0": 0
         },
         {
          "Count": 563,
          "Country/Region": "China",
          "Date": "2/5/20",
          "Lat": 1083.3367,
          "Long": 3684.4197000000004,
          "Population(1 July 2019)": 0,
          "level_0": 0
         },
         {
          "Count": 633,
          "Country/Region": "China",
          "Date": "2/6/20",
          "Lat": 1083.3367,
          "Long": 3684.4197000000004,
          "Population(1 July 2019)": 0,
          "level_0": 0
         },
         {
          "Count": 718,
          "Country/Region": "China",
          "Date": "2/7/20",
          "Lat": 1083.3367,
          "Long": 3684.4197000000004,
          "Population(1 July 2019)": 0,
          "level_0": 0
         },
         {
          "Count": 805,
          "Country/Region": "China",
          "Date": "2/8/20",
          "Lat": 1083.3367,
          "Long": 3684.4197000000004,
          "Population(1 July 2019)": 0,
          "level_0": 0
         },
         {
          "Count": 905,
          "Country/Region": "China",
          "Date": "2/9/20",
          "Lat": 1083.3367,
          "Long": 3684.4197000000004,
          "Population(1 July 2019)": 0,
          "level_0": 0
         },
         {
          "Count": 1012,
          "Country/Region": "China",
          "Date": "2/10/20",
          "Lat": 1083.3367,
          "Long": 3684.4197000000004,
          "Population(1 July 2019)": 0,
          "level_0": 0
         },
         {
          "Count": 1112,
          "Country/Region": "China",
          "Date": "2/11/20",
          "Lat": 1083.3367,
          "Long": 3684.4197000000004,
          "Population(1 July 2019)": 0,
          "level_0": 0
         },
         {
          "Count": 1117,
          "Country/Region": "China",
          "Date": "2/12/20",
          "Lat": 1083.3367,
          "Long": 3684.4197000000004,
          "Population(1 July 2019)": 0,
          "level_0": 0
         },
         {
          "Count": 1369,
          "Country/Region": "China",
          "Date": "2/13/20",
          "Lat": 1083.3367,
          "Long": 3684.4197000000004,
          "Population(1 July 2019)": 0,
          "level_0": 0
         },
         {
          "Count": 1521,
          "Country/Region": "China",
          "Date": "2/14/20",
          "Lat": 1083.3367,
          "Long": 3684.4197000000004,
          "Population(1 July 2019)": 0,
          "level_0": 0
         },
         {
          "Count": 1663,
          "Country/Region": "China",
          "Date": "2/15/20",
          "Lat": 1083.3367,
          "Long": 3684.4197000000004,
          "Population(1 July 2019)": 0,
          "level_0": 0
         },
         {
          "Count": 1766,
          "Country/Region": "China",
          "Date": "2/16/20",
          "Lat": 1083.3367,
          "Long": 3684.4197000000004,
          "Population(1 July 2019)": 0,
          "level_0": 0
         },
         {
          "Count": 1864,
          "Country/Region": "China",
          "Date": "2/17/20",
          "Lat": 1083.3367,
          "Long": 3684.4197000000004,
          "Population(1 July 2019)": 0,
          "level_0": 0
         },
         {
          "Count": 2003,
          "Country/Region": "China",
          "Date": "2/18/20",
          "Lat": 1083.3367,
          "Long": 3684.4197000000004,
          "Population(1 July 2019)": 0,
          "level_0": 0
         },
         {
          "Count": 2116,
          "Country/Region": "China",
          "Date": "2/19/20",
          "Lat": 1083.3367,
          "Long": 3684.4197000000004,
          "Population(1 July 2019)": 0,
          "level_0": 0
         },
         {
          "Count": 2238,
          "Country/Region": "China",
          "Date": "2/20/20",
          "Lat": 1083.3367,
          "Long": 3684.4197000000004,
          "Population(1 July 2019)": 0,
          "level_0": 0
         },
         {
          "Count": 2238,
          "Country/Region": "China",
          "Date": "2/21/20",
          "Lat": 1083.3367,
          "Long": 3684.4197000000004,
          "Population(1 July 2019)": 0,
          "level_0": 0
         },
         {
          "Count": 2443,
          "Country/Region": "China",
          "Date": "2/22/20",
          "Lat": 1083.3367,
          "Long": 3684.4197000000004,
          "Population(1 July 2019)": 0,
          "level_0": 0
         },
         {
          "Count": 2445,
          "Country/Region": "China",
          "Date": "2/23/20",
          "Lat": 1083.3367,
          "Long": 3684.4197000000004,
          "Population(1 July 2019)": 0,
          "level_0": 0
         },
         {
          "Count": 2595,
          "Country/Region": "China",
          "Date": "2/24/20",
          "Lat": 1083.3367,
          "Long": 3684.4197000000004,
          "Population(1 July 2019)": 0,
          "level_0": 0
         },
         {
          "Count": 2665,
          "Country/Region": "China",
          "Date": "2/25/20",
          "Lat": 1083.3367,
          "Long": 3684.4197000000004,
          "Population(1 July 2019)": 0,
          "level_0": 0
         },
         {
          "Count": 2717,
          "Country/Region": "China",
          "Date": "2/26/20",
          "Lat": 1083.3367,
          "Long": 3684.4197000000004,
          "Population(1 July 2019)": 0,
          "level_0": 0
         },
         {
          "Count": 2746,
          "Country/Region": "China",
          "Date": "2/27/20",
          "Lat": 1083.3367,
          "Long": 3684.4197000000004,
          "Population(1 July 2019)": 0,
          "level_0": 0
         },
         {
          "Count": 2790,
          "Country/Region": "China",
          "Date": "2/28/20",
          "Lat": 1083.3367,
          "Long": 3684.4197000000004,
          "Population(1 July 2019)": 0,
          "level_0": 0
         },
         {
          "Count": 2837,
          "Country/Region": "China",
          "Date": "2/29/20",
          "Lat": 1083.3367,
          "Long": 3684.4197000000004,
          "Population(1 July 2019)": 0,
          "level_0": 0
         },
         {
          "Count": 2872,
          "Country/Region": "China",
          "Date": "3/1/20",
          "Lat": 1083.3367,
          "Long": 3684.4197000000004,
          "Population(1 July 2019)": 0,
          "level_0": 0
         },
         {
          "Count": 2914,
          "Country/Region": "China",
          "Date": "3/2/20",
          "Lat": 1083.3367,
          "Long": 3684.4197000000004,
          "Population(1 July 2019)": 0,
          "level_0": 0
         },
         {
          "Count": 2947,
          "Country/Region": "China",
          "Date": "3/3/20",
          "Lat": 1083.3367,
          "Long": 3684.4197000000004,
          "Population(1 July 2019)": 0,
          "level_0": 0
         },
         {
          "Count": 2983,
          "Country/Region": "China",
          "Date": "3/4/20",
          "Lat": 1083.3367,
          "Long": 3684.4197000000004,
          "Population(1 July 2019)": 0,
          "level_0": 0
         },
         {
          "Count": 3015,
          "Country/Region": "China",
          "Date": "3/5/20",
          "Lat": 1083.3367,
          "Long": 3684.4197000000004,
          "Population(1 July 2019)": 0,
          "level_0": 0
         },
         {
          "Count": 3044,
          "Country/Region": "China",
          "Date": "3/6/20",
          "Lat": 1083.3367,
          "Long": 3684.4197000000004,
          "Population(1 July 2019)": 0,
          "level_0": 0
         },
         {
          "Count": 3072,
          "Country/Region": "China",
          "Date": "3/7/20",
          "Lat": 1083.3367,
          "Long": 3684.4197000000004,
          "Population(1 July 2019)": 0,
          "level_0": 0
         },
         {
          "Count": 3100,
          "Country/Region": "China",
          "Date": "3/8/20",
          "Lat": 1083.3367,
          "Long": 3684.4197000000004,
          "Population(1 July 2019)": 0,
          "level_0": 0
         },
         {
          "Count": 3123,
          "Country/Region": "China",
          "Date": "3/9/20",
          "Lat": 1083.3367,
          "Long": 3684.4197000000004,
          "Population(1 July 2019)": 0,
          "level_0": 0
         },
         {
          "Count": 3139,
          "Country/Region": "China",
          "Date": "3/10/20",
          "Lat": 1083.3367,
          "Long": 3684.4197000000004,
          "Population(1 July 2019)": 0,
          "level_0": 0
         },
         {
          "Count": 3161,
          "Country/Region": "China",
          "Date": "3/11/20",
          "Lat": 1083.3367,
          "Long": 3684.4197000000004,
          "Population(1 July 2019)": 0,
          "level_0": 0
         },
         {
          "Count": 3172,
          "Country/Region": "China",
          "Date": "3/12/20",
          "Lat": 1083.3367,
          "Long": 3684.4197000000004,
          "Population(1 July 2019)": 0,
          "level_0": 0
         },
         {
          "Count": 3180,
          "Country/Region": "China",
          "Date": "3/13/20",
          "Lat": 1083.3367,
          "Long": 3684.4197000000004,
          "Population(1 July 2019)": 0,
          "level_0": 0
         },
         {
          "Count": 3193,
          "Country/Region": "China",
          "Date": "3/14/20",
          "Lat": 1083.3367,
          "Long": 3684.4197000000004,
          "Population(1 July 2019)": 0,
          "level_0": 0
         },
         {
          "Count": 3203,
          "Country/Region": "China",
          "Date": "3/15/20",
          "Lat": 1083.3367,
          "Long": 3684.4197000000004,
          "Population(1 July 2019)": 0,
          "level_0": 0
         },
         {
          "Count": 3217,
          "Country/Region": "China",
          "Date": "3/16/20",
          "Lat": 1083.3367,
          "Long": 3684.4197000000004,
          "Population(1 July 2019)": 0,
          "level_0": 0
         },
         {
          "Count": 3230,
          "Country/Region": "China",
          "Date": "3/17/20",
          "Lat": 1083.3367,
          "Long": 3684.4197000000004,
          "Population(1 July 2019)": 0,
          "level_0": 0
         },
         {
          "Count": 3241,
          "Country/Region": "China",
          "Date": "3/18/20",
          "Lat": 1083.3367,
          "Long": 3684.4197000000004,
          "Population(1 July 2019)": 0,
          "level_0": 0
         },
         {
          "Count": 3249,
          "Country/Region": "China",
          "Date": "3/19/20",
          "Lat": 1083.3367,
          "Long": 3684.4197000000004,
          "Population(1 July 2019)": 0,
          "level_0": 0
         },
         {
          "Count": 3253,
          "Country/Region": "China",
          "Date": "3/20/20",
          "Lat": 1083.3367,
          "Long": 3684.4197000000004,
          "Population(1 July 2019)": 0,
          "level_0": 0
         },
         {
          "Count": 3259,
          "Country/Region": "China",
          "Date": "3/21/20",
          "Lat": 1083.3367,
          "Long": 3684.4197000000004,
          "Population(1 July 2019)": 0,
          "level_0": 0
         },
         {
          "Count": 3274,
          "Country/Region": "China",
          "Date": "3/22/20",
          "Lat": 1083.3367,
          "Long": 3684.4197000000004,
          "Population(1 July 2019)": 0,
          "level_0": 0
         },
         {
          "Count": 3274,
          "Country/Region": "China",
          "Date": "3/23/20",
          "Lat": 1083.3367,
          "Long": 3684.4197000000004,
          "Population(1 July 2019)": 0,
          "level_0": 0
         },
         {
          "Count": 3281,
          "Country/Region": "China",
          "Date": "3/24/20",
          "Lat": 1083.3367,
          "Long": 3684.4197000000004,
          "Population(1 July 2019)": 0,
          "level_0": 0
         },
         {
          "Count": 0,
          "Country/Region": "France",
          "Date": "1/22/20",
          "Lat": 44.477199999999996,
          "Long": 116.03509999999999,
          "Population(1 July 2019)": 0,
          "level_0": 1
         },
         {
          "Count": 0,
          "Country/Region": "France",
          "Date": "1/23/20",
          "Lat": 44.477199999999996,
          "Long": 116.03509999999999,
          "Population(1 July 2019)": 0,
          "level_0": 1
         },
         {
          "Count": 0,
          "Country/Region": "France",
          "Date": "1/24/20",
          "Lat": 44.477199999999996,
          "Long": 116.03509999999999,
          "Population(1 July 2019)": 0,
          "level_0": 1
         },
         {
          "Count": 0,
          "Country/Region": "France",
          "Date": "1/25/20",
          "Lat": 44.477199999999996,
          "Long": 116.03509999999999,
          "Population(1 July 2019)": 0,
          "level_0": 1
         },
         {
          "Count": 0,
          "Country/Region": "France",
          "Date": "1/26/20",
          "Lat": 44.477199999999996,
          "Long": 116.03509999999999,
          "Population(1 July 2019)": 0,
          "level_0": 1
         },
         {
          "Count": 0,
          "Country/Region": "France",
          "Date": "1/27/20",
          "Lat": 44.477199999999996,
          "Long": 116.03509999999999,
          "Population(1 July 2019)": 0,
          "level_0": 1
         },
         {
          "Count": 0,
          "Country/Region": "France",
          "Date": "1/28/20",
          "Lat": 44.477199999999996,
          "Long": 116.03509999999999,
          "Population(1 July 2019)": 0,
          "level_0": 1
         },
         {
          "Count": 0,
          "Country/Region": "France",
          "Date": "1/29/20",
          "Lat": 44.477199999999996,
          "Long": 116.03509999999999,
          "Population(1 July 2019)": 0,
          "level_0": 1
         },
         {
          "Count": 0,
          "Country/Region": "France",
          "Date": "1/30/20",
          "Lat": 44.477199999999996,
          "Long": 116.03509999999999,
          "Population(1 July 2019)": 0,
          "level_0": 1
         },
         {
          "Count": 0,
          "Country/Region": "France",
          "Date": "1/31/20",
          "Lat": 44.477199999999996,
          "Long": 116.03509999999999,
          "Population(1 July 2019)": 0,
          "level_0": 1
         },
         {
          "Count": 0,
          "Country/Region": "France",
          "Date": "2/1/20",
          "Lat": 44.477199999999996,
          "Long": 116.03509999999999,
          "Population(1 July 2019)": 0,
          "level_0": 1
         },
         {
          "Count": 0,
          "Country/Region": "France",
          "Date": "2/2/20",
          "Lat": 44.477199999999996,
          "Long": 116.03509999999999,
          "Population(1 July 2019)": 0,
          "level_0": 1
         },
         {
          "Count": 0,
          "Country/Region": "France",
          "Date": "2/3/20",
          "Lat": 44.477199999999996,
          "Long": 116.03509999999999,
          "Population(1 July 2019)": 0,
          "level_0": 1
         },
         {
          "Count": 0,
          "Country/Region": "France",
          "Date": "2/4/20",
          "Lat": 44.477199999999996,
          "Long": 116.03509999999999,
          "Population(1 July 2019)": 0,
          "level_0": 1
         },
         {
          "Count": 0,
          "Country/Region": "France",
          "Date": "2/5/20",
          "Lat": 44.477199999999996,
          "Long": 116.03509999999999,
          "Population(1 July 2019)": 0,
          "level_0": 1
         },
         {
          "Count": 0,
          "Country/Region": "France",
          "Date": "2/6/20",
          "Lat": 44.477199999999996,
          "Long": 116.03509999999999,
          "Population(1 July 2019)": 0,
          "level_0": 1
         },
         {
          "Count": 0,
          "Country/Region": "France",
          "Date": "2/7/20",
          "Lat": 44.477199999999996,
          "Long": 116.03509999999999,
          "Population(1 July 2019)": 0,
          "level_0": 1
         },
         {
          "Count": 0,
          "Country/Region": "France",
          "Date": "2/8/20",
          "Lat": 44.477199999999996,
          "Long": 116.03509999999999,
          "Population(1 July 2019)": 0,
          "level_0": 1
         },
         {
          "Count": 0,
          "Country/Region": "France",
          "Date": "2/9/20",
          "Lat": 44.477199999999996,
          "Long": 116.03509999999999,
          "Population(1 July 2019)": 0,
          "level_0": 1
         },
         {
          "Count": 0,
          "Country/Region": "France",
          "Date": "2/10/20",
          "Lat": 44.477199999999996,
          "Long": 116.03509999999999,
          "Population(1 July 2019)": 0,
          "level_0": 1
         },
         {
          "Count": 0,
          "Country/Region": "France",
          "Date": "2/11/20",
          "Lat": 44.477199999999996,
          "Long": 116.03509999999999,
          "Population(1 July 2019)": 0,
          "level_0": 1
         },
         {
          "Count": 0,
          "Country/Region": "France",
          "Date": "2/12/20",
          "Lat": 44.477199999999996,
          "Long": 116.03509999999999,
          "Population(1 July 2019)": 0,
          "level_0": 1
         },
         {
          "Count": 0,
          "Country/Region": "France",
          "Date": "2/13/20",
          "Lat": 44.477199999999996,
          "Long": 116.03509999999999,
          "Population(1 July 2019)": 0,
          "level_0": 1
         },
         {
          "Count": 0,
          "Country/Region": "France",
          "Date": "2/14/20",
          "Lat": 44.477199999999996,
          "Long": 116.03509999999999,
          "Population(1 July 2019)": 0,
          "level_0": 1
         },
         {
          "Count": 1,
          "Country/Region": "France",
          "Date": "2/15/20",
          "Lat": 44.477199999999996,
          "Long": 116.03509999999999,
          "Population(1 July 2019)": 0,
          "level_0": 1
         },
         {
          "Count": 1,
          "Country/Region": "France",
          "Date": "2/16/20",
          "Lat": 44.477199999999996,
          "Long": 116.03509999999999,
          "Population(1 July 2019)": 0,
          "level_0": 1
         },
         {
          "Count": 1,
          "Country/Region": "France",
          "Date": "2/17/20",
          "Lat": 44.477199999999996,
          "Long": 116.03509999999999,
          "Population(1 July 2019)": 0,
          "level_0": 1
         },
         {
          "Count": 1,
          "Country/Region": "France",
          "Date": "2/18/20",
          "Lat": 44.477199999999996,
          "Long": 116.03509999999999,
          "Population(1 July 2019)": 0,
          "level_0": 1
         },
         {
          "Count": 1,
          "Country/Region": "France",
          "Date": "2/19/20",
          "Lat": 44.477199999999996,
          "Long": 116.03509999999999,
          "Population(1 July 2019)": 0,
          "level_0": 1
         },
         {
          "Count": 1,
          "Country/Region": "France",
          "Date": "2/20/20",
          "Lat": 44.477199999999996,
          "Long": 116.03509999999999,
          "Population(1 July 2019)": 0,
          "level_0": 1
         },
         {
          "Count": 1,
          "Country/Region": "France",
          "Date": "2/21/20",
          "Lat": 44.477199999999996,
          "Long": 116.03509999999999,
          "Population(1 July 2019)": 0,
          "level_0": 1
         },
         {
          "Count": 1,
          "Country/Region": "France",
          "Date": "2/22/20",
          "Lat": 44.477199999999996,
          "Long": 116.03509999999999,
          "Population(1 July 2019)": 0,
          "level_0": 1
         },
         {
          "Count": 1,
          "Country/Region": "France",
          "Date": "2/23/20",
          "Lat": 44.477199999999996,
          "Long": 116.03509999999999,
          "Population(1 July 2019)": 0,
          "level_0": 1
         },
         {
          "Count": 1,
          "Country/Region": "France",
          "Date": "2/24/20",
          "Lat": 44.477199999999996,
          "Long": 116.03509999999999,
          "Population(1 July 2019)": 0,
          "level_0": 1
         },
         {
          "Count": 1,
          "Country/Region": "France",
          "Date": "2/25/20",
          "Lat": 44.477199999999996,
          "Long": 116.03509999999999,
          "Population(1 July 2019)": 0,
          "level_0": 1
         },
         {
          "Count": 2,
          "Country/Region": "France",
          "Date": "2/26/20",
          "Lat": 44.477199999999996,
          "Long": 116.03509999999999,
          "Population(1 July 2019)": 0,
          "level_0": 1
         },
         {
          "Count": 2,
          "Country/Region": "France",
          "Date": "2/27/20",
          "Lat": 44.477199999999996,
          "Long": 116.03509999999999,
          "Population(1 July 2019)": 0,
          "level_0": 1
         },
         {
          "Count": 2,
          "Country/Region": "France",
          "Date": "2/28/20",
          "Lat": 44.477199999999996,
          "Long": 116.03509999999999,
          "Population(1 July 2019)": 0,
          "level_0": 1
         },
         {
          "Count": 2,
          "Country/Region": "France",
          "Date": "2/29/20",
          "Lat": 44.477199999999996,
          "Long": 116.03509999999999,
          "Population(1 July 2019)": 0,
          "level_0": 1
         },
         {
          "Count": 2,
          "Country/Region": "France",
          "Date": "3/1/20",
          "Lat": 44.477199999999996,
          "Long": 116.03509999999999,
          "Population(1 July 2019)": 0,
          "level_0": 1
         },
         {
          "Count": 3,
          "Country/Region": "France",
          "Date": "3/2/20",
          "Lat": 44.477199999999996,
          "Long": 116.03509999999999,
          "Population(1 July 2019)": 0,
          "level_0": 1
         },
         {
          "Count": 4,
          "Country/Region": "France",
          "Date": "3/3/20",
          "Lat": 44.477199999999996,
          "Long": 116.03509999999999,
          "Population(1 July 2019)": 0,
          "level_0": 1
         },
         {
          "Count": 4,
          "Country/Region": "France",
          "Date": "3/4/20",
          "Lat": 44.477199999999996,
          "Long": 116.03509999999999,
          "Population(1 July 2019)": 0,
          "level_0": 1
         },
         {
          "Count": 6,
          "Country/Region": "France",
          "Date": "3/5/20",
          "Lat": 44.477199999999996,
          "Long": 116.03509999999999,
          "Population(1 July 2019)": 0,
          "level_0": 1
         },
         {
          "Count": 9,
          "Country/Region": "France",
          "Date": "3/6/20",
          "Lat": 44.477199999999996,
          "Long": 116.03509999999999,
          "Population(1 July 2019)": 0,
          "level_0": 1
         },
         {
          "Count": 11,
          "Country/Region": "France",
          "Date": "3/7/20",
          "Lat": 44.477199999999996,
          "Long": 116.03509999999999,
          "Population(1 July 2019)": 0,
          "level_0": 1
         },
         {
          "Count": 19,
          "Country/Region": "France",
          "Date": "3/8/20",
          "Lat": 44.477199999999996,
          "Long": 116.03509999999999,
          "Population(1 July 2019)": 0,
          "level_0": 1
         },
         {
          "Count": 19,
          "Country/Region": "France",
          "Date": "3/9/20",
          "Lat": 44.477199999999996,
          "Long": 116.03509999999999,
          "Population(1 July 2019)": 0,
          "level_0": 1
         },
         {
          "Count": 33,
          "Country/Region": "France",
          "Date": "3/10/20",
          "Lat": 44.477199999999996,
          "Long": 116.03509999999999,
          "Population(1 July 2019)": 0,
          "level_0": 1
         },
         {
          "Count": 48,
          "Country/Region": "France",
          "Date": "3/11/20",
          "Lat": 44.477199999999996,
          "Long": 116.03509999999999,
          "Population(1 July 2019)": 0,
          "level_0": 1
         },
         {
          "Count": 48,
          "Country/Region": "France",
          "Date": "3/12/20",
          "Lat": 44.477199999999996,
          "Long": 116.03509999999999,
          "Population(1 July 2019)": 0,
          "level_0": 1
         },
         {
          "Count": 79,
          "Country/Region": "France",
          "Date": "3/13/20",
          "Lat": 44.477199999999996,
          "Long": 116.03509999999999,
          "Population(1 July 2019)": 0,
          "level_0": 1
         },
         {
          "Count": 91,
          "Country/Region": "France",
          "Date": "3/14/20",
          "Lat": 44.477199999999996,
          "Long": 116.03509999999999,
          "Population(1 July 2019)": 0,
          "level_0": 1
         },
         {
          "Count": 91,
          "Country/Region": "France",
          "Date": "3/15/20",
          "Lat": 44.477199999999996,
          "Long": 116.03509999999999,
          "Population(1 July 2019)": 0,
          "level_0": 1
         },
         {
          "Count": 149,
          "Country/Region": "France",
          "Date": "3/16/20",
          "Lat": 44.477199999999996,
          "Long": 116.03509999999999,
          "Population(1 July 2019)": 0,
          "level_0": 1
         },
         {
          "Count": 149,
          "Country/Region": "France",
          "Date": "3/17/20",
          "Lat": 44.477199999999996,
          "Long": 116.03509999999999,
          "Population(1 July 2019)": 0,
          "level_0": 1
         },
         {
          "Count": 149,
          "Country/Region": "France",
          "Date": "3/18/20",
          "Lat": 44.477199999999996,
          "Long": 116.03509999999999,
          "Population(1 July 2019)": 0,
          "level_0": 1
         },
         {
          "Count": 244,
          "Country/Region": "France",
          "Date": "3/19/20",
          "Lat": 44.477199999999996,
          "Long": 116.03509999999999,
          "Population(1 July 2019)": 0,
          "level_0": 1
         },
         {
          "Count": 451,
          "Country/Region": "France",
          "Date": "3/20/20",
          "Lat": 44.477199999999996,
          "Long": 116.03509999999999,
          "Population(1 July 2019)": 0,
          "level_0": 1
         },
         {
          "Count": 563,
          "Country/Region": "France",
          "Date": "3/21/20",
          "Lat": 44.477199999999996,
          "Long": 116.03509999999999,
          "Population(1 July 2019)": 0,
          "level_0": 1
         },
         {
          "Count": 676,
          "Country/Region": "France",
          "Date": "3/22/20",
          "Lat": 44.477199999999996,
          "Long": 116.03509999999999,
          "Population(1 July 2019)": 0,
          "level_0": 1
         },
         {
          "Count": 862,
          "Country/Region": "France",
          "Date": "3/23/20",
          "Lat": 44.477199999999996,
          "Long": 116.03509999999999,
          "Population(1 July 2019)": 0,
          "level_0": 1
         },
         {
          "Count": 1102,
          "Country/Region": "France",
          "Date": "3/24/20",
          "Lat": 44.477199999999996,
          "Long": 116.03509999999999,
          "Population(1 July 2019)": 0,
          "level_0": 1
         },
         {
          "Count": 0,
          "Country/Region": "Germany",
          "Date": "1/22/20",
          "Lat": 51,
          "Long": 9,
          "Population(1 July 2019)": 0,
          "level_0": 2
         },
         {
          "Count": 0,
          "Country/Region": "Germany",
          "Date": "1/23/20",
          "Lat": 51,
          "Long": 9,
          "Population(1 July 2019)": 0,
          "level_0": 2
         },
         {
          "Count": 0,
          "Country/Region": "Germany",
          "Date": "1/24/20",
          "Lat": 51,
          "Long": 9,
          "Population(1 July 2019)": 0,
          "level_0": 2
         },
         {
          "Count": 0,
          "Country/Region": "Germany",
          "Date": "1/25/20",
          "Lat": 51,
          "Long": 9,
          "Population(1 July 2019)": 0,
          "level_0": 2
         },
         {
          "Count": 0,
          "Country/Region": "Germany",
          "Date": "1/26/20",
          "Lat": 51,
          "Long": 9,
          "Population(1 July 2019)": 0,
          "level_0": 2
         },
         {
          "Count": 0,
          "Country/Region": "Germany",
          "Date": "1/27/20",
          "Lat": 51,
          "Long": 9,
          "Population(1 July 2019)": 0,
          "level_0": 2
         },
         {
          "Count": 0,
          "Country/Region": "Germany",
          "Date": "1/28/20",
          "Lat": 51,
          "Long": 9,
          "Population(1 July 2019)": 0,
          "level_0": 2
         },
         {
          "Count": 0,
          "Country/Region": "Germany",
          "Date": "1/29/20",
          "Lat": 51,
          "Long": 9,
          "Population(1 July 2019)": 0,
          "level_0": 2
         },
         {
          "Count": 0,
          "Country/Region": "Germany",
          "Date": "1/30/20",
          "Lat": 51,
          "Long": 9,
          "Population(1 July 2019)": 0,
          "level_0": 2
         },
         {
          "Count": 0,
          "Country/Region": "Germany",
          "Date": "1/31/20",
          "Lat": 51,
          "Long": 9,
          "Population(1 July 2019)": 0,
          "level_0": 2
         },
         {
          "Count": 0,
          "Country/Region": "Germany",
          "Date": "2/1/20",
          "Lat": 51,
          "Long": 9,
          "Population(1 July 2019)": 0,
          "level_0": 2
         },
         {
          "Count": 0,
          "Country/Region": "Germany",
          "Date": "2/2/20",
          "Lat": 51,
          "Long": 9,
          "Population(1 July 2019)": 0,
          "level_0": 2
         },
         {
          "Count": 0,
          "Country/Region": "Germany",
          "Date": "2/3/20",
          "Lat": 51,
          "Long": 9,
          "Population(1 July 2019)": 0,
          "level_0": 2
         },
         {
          "Count": 0,
          "Country/Region": "Germany",
          "Date": "2/4/20",
          "Lat": 51,
          "Long": 9,
          "Population(1 July 2019)": 0,
          "level_0": 2
         },
         {
          "Count": 0,
          "Country/Region": "Germany",
          "Date": "2/5/20",
          "Lat": 51,
          "Long": 9,
          "Population(1 July 2019)": 0,
          "level_0": 2
         },
         {
          "Count": 0,
          "Country/Region": "Germany",
          "Date": "2/6/20",
          "Lat": 51,
          "Long": 9,
          "Population(1 July 2019)": 0,
          "level_0": 2
         },
         {
          "Count": 0,
          "Country/Region": "Germany",
          "Date": "2/7/20",
          "Lat": 51,
          "Long": 9,
          "Population(1 July 2019)": 0,
          "level_0": 2
         },
         {
          "Count": 0,
          "Country/Region": "Germany",
          "Date": "2/8/20",
          "Lat": 51,
          "Long": 9,
          "Population(1 July 2019)": 0,
          "level_0": 2
         },
         {
          "Count": 0,
          "Country/Region": "Germany",
          "Date": "2/9/20",
          "Lat": 51,
          "Long": 9,
          "Population(1 July 2019)": 0,
          "level_0": 2
         },
         {
          "Count": 0,
          "Country/Region": "Germany",
          "Date": "2/10/20",
          "Lat": 51,
          "Long": 9,
          "Population(1 July 2019)": 0,
          "level_0": 2
         },
         {
          "Count": 0,
          "Country/Region": "Germany",
          "Date": "2/11/20",
          "Lat": 51,
          "Long": 9,
          "Population(1 July 2019)": 0,
          "level_0": 2
         },
         {
          "Count": 0,
          "Country/Region": "Germany",
          "Date": "2/12/20",
          "Lat": 51,
          "Long": 9,
          "Population(1 July 2019)": 0,
          "level_0": 2
         },
         {
          "Count": 0,
          "Country/Region": "Germany",
          "Date": "2/13/20",
          "Lat": 51,
          "Long": 9,
          "Population(1 July 2019)": 0,
          "level_0": 2
         },
         {
          "Count": 0,
          "Country/Region": "Germany",
          "Date": "2/14/20",
          "Lat": 51,
          "Long": 9,
          "Population(1 July 2019)": 0,
          "level_0": 2
         },
         {
          "Count": 0,
          "Country/Region": "Germany",
          "Date": "2/15/20",
          "Lat": 51,
          "Long": 9,
          "Population(1 July 2019)": 0,
          "level_0": 2
         },
         {
          "Count": 0,
          "Country/Region": "Germany",
          "Date": "2/16/20",
          "Lat": 51,
          "Long": 9,
          "Population(1 July 2019)": 0,
          "level_0": 2
         },
         {
          "Count": 0,
          "Country/Region": "Germany",
          "Date": "2/17/20",
          "Lat": 51,
          "Long": 9,
          "Population(1 July 2019)": 0,
          "level_0": 2
         },
         {
          "Count": 0,
          "Country/Region": "Germany",
          "Date": "2/18/20",
          "Lat": 51,
          "Long": 9,
          "Population(1 July 2019)": 0,
          "level_0": 2
         },
         {
          "Count": 0,
          "Country/Region": "Germany",
          "Date": "2/19/20",
          "Lat": 51,
          "Long": 9,
          "Population(1 July 2019)": 0,
          "level_0": 2
         },
         {
          "Count": 0,
          "Country/Region": "Germany",
          "Date": "2/20/20",
          "Lat": 51,
          "Long": 9,
          "Population(1 July 2019)": 0,
          "level_0": 2
         },
         {
          "Count": 0,
          "Country/Region": "Germany",
          "Date": "2/21/20",
          "Lat": 51,
          "Long": 9,
          "Population(1 July 2019)": 0,
          "level_0": 2
         },
         {
          "Count": 0,
          "Country/Region": "Germany",
          "Date": "2/22/20",
          "Lat": 51,
          "Long": 9,
          "Population(1 July 2019)": 0,
          "level_0": 2
         },
         {
          "Count": 0,
          "Country/Region": "Germany",
          "Date": "2/23/20",
          "Lat": 51,
          "Long": 9,
          "Population(1 July 2019)": 0,
          "level_0": 2
         },
         {
          "Count": 0,
          "Country/Region": "Germany",
          "Date": "2/24/20",
          "Lat": 51,
          "Long": 9,
          "Population(1 July 2019)": 0,
          "level_0": 2
         },
         {
          "Count": 0,
          "Country/Region": "Germany",
          "Date": "2/25/20",
          "Lat": 51,
          "Long": 9,
          "Population(1 July 2019)": 0,
          "level_0": 2
         },
         {
          "Count": 0,
          "Country/Region": "Germany",
          "Date": "2/26/20",
          "Lat": 51,
          "Long": 9,
          "Population(1 July 2019)": 0,
          "level_0": 2
         },
         {
          "Count": 0,
          "Country/Region": "Germany",
          "Date": "2/27/20",
          "Lat": 51,
          "Long": 9,
          "Population(1 July 2019)": 0,
          "level_0": 2
         },
         {
          "Count": 0,
          "Country/Region": "Germany",
          "Date": "2/28/20",
          "Lat": 51,
          "Long": 9,
          "Population(1 July 2019)": 0,
          "level_0": 2
         },
         {
          "Count": 0,
          "Country/Region": "Germany",
          "Date": "2/29/20",
          "Lat": 51,
          "Long": 9,
          "Population(1 July 2019)": 0,
          "level_0": 2
         },
         {
          "Count": 0,
          "Country/Region": "Germany",
          "Date": "3/1/20",
          "Lat": 51,
          "Long": 9,
          "Population(1 July 2019)": 0,
          "level_0": 2
         },
         {
          "Count": 0,
          "Country/Region": "Germany",
          "Date": "3/2/20",
          "Lat": 51,
          "Long": 9,
          "Population(1 July 2019)": 0,
          "level_0": 2
         },
         {
          "Count": 0,
          "Country/Region": "Germany",
          "Date": "3/3/20",
          "Lat": 51,
          "Long": 9,
          "Population(1 July 2019)": 0,
          "level_0": 2
         },
         {
          "Count": 0,
          "Country/Region": "Germany",
          "Date": "3/4/20",
          "Lat": 51,
          "Long": 9,
          "Population(1 July 2019)": 0,
          "level_0": 2
         },
         {
          "Count": 0,
          "Country/Region": "Germany",
          "Date": "3/5/20",
          "Lat": 51,
          "Long": 9,
          "Population(1 July 2019)": 0,
          "level_0": 2
         },
         {
          "Count": 0,
          "Country/Region": "Germany",
          "Date": "3/6/20",
          "Lat": 51,
          "Long": 9,
          "Population(1 July 2019)": 0,
          "level_0": 2
         },
         {
          "Count": 0,
          "Country/Region": "Germany",
          "Date": "3/7/20",
          "Lat": 51,
          "Long": 9,
          "Population(1 July 2019)": 0,
          "level_0": 2
         },
         {
          "Count": 0,
          "Country/Region": "Germany",
          "Date": "3/8/20",
          "Lat": 51,
          "Long": 9,
          "Population(1 July 2019)": 0,
          "level_0": 2
         },
         {
          "Count": 2,
          "Country/Region": "Germany",
          "Date": "3/9/20",
          "Lat": 51,
          "Long": 9,
          "Population(1 July 2019)": 0,
          "level_0": 2
         },
         {
          "Count": 2,
          "Country/Region": "Germany",
          "Date": "3/10/20",
          "Lat": 51,
          "Long": 9,
          "Population(1 July 2019)": 0,
          "level_0": 2
         },
         {
          "Count": 3,
          "Country/Region": "Germany",
          "Date": "3/11/20",
          "Lat": 51,
          "Long": 9,
          "Population(1 July 2019)": 0,
          "level_0": 2
         },
         {
          "Count": 3,
          "Country/Region": "Germany",
          "Date": "3/12/20",
          "Lat": 51,
          "Long": 9,
          "Population(1 July 2019)": 0,
          "level_0": 2
         },
         {
          "Count": 7,
          "Country/Region": "Germany",
          "Date": "3/13/20",
          "Lat": 51,
          "Long": 9,
          "Population(1 July 2019)": 0,
          "level_0": 2
         },
         {
          "Count": 9,
          "Country/Region": "Germany",
          "Date": "3/14/20",
          "Lat": 51,
          "Long": 9,
          "Population(1 July 2019)": 0,
          "level_0": 2
         },
         {
          "Count": 11,
          "Country/Region": "Germany",
          "Date": "3/15/20",
          "Lat": 51,
          "Long": 9,
          "Population(1 July 2019)": 0,
          "level_0": 2
         },
         {
          "Count": 17,
          "Country/Region": "Germany",
          "Date": "3/16/20",
          "Lat": 51,
          "Long": 9,
          "Population(1 July 2019)": 0,
          "level_0": 2
         },
         {
          "Count": 24,
          "Country/Region": "Germany",
          "Date": "3/17/20",
          "Lat": 51,
          "Long": 9,
          "Population(1 July 2019)": 0,
          "level_0": 2
         },
         {
          "Count": 28,
          "Country/Region": "Germany",
          "Date": "3/18/20",
          "Lat": 51,
          "Long": 9,
          "Population(1 July 2019)": 0,
          "level_0": 2
         },
         {
          "Count": 44,
          "Country/Region": "Germany",
          "Date": "3/19/20",
          "Lat": 51,
          "Long": 9,
          "Population(1 July 2019)": 0,
          "level_0": 2
         },
         {
          "Count": 67,
          "Country/Region": "Germany",
          "Date": "3/20/20",
          "Lat": 51,
          "Long": 9,
          "Population(1 July 2019)": 0,
          "level_0": 2
         },
         {
          "Count": 84,
          "Country/Region": "Germany",
          "Date": "3/21/20",
          "Lat": 51,
          "Long": 9,
          "Population(1 July 2019)": 0,
          "level_0": 2
         },
         {
          "Count": 94,
          "Country/Region": "Germany",
          "Date": "3/22/20",
          "Lat": 51,
          "Long": 9,
          "Population(1 July 2019)": 0,
          "level_0": 2
         },
         {
          "Count": 123,
          "Country/Region": "Germany",
          "Date": "3/23/20",
          "Lat": 51,
          "Long": 9,
          "Population(1 July 2019)": 0,
          "level_0": 2
         },
         {
          "Count": 157,
          "Country/Region": "Germany",
          "Date": "3/24/20",
          "Lat": 51,
          "Long": 9,
          "Population(1 July 2019)": 0,
          "level_0": 2
         },
         {
          "Count": 0,
          "Country/Region": "Iran",
          "Date": "1/22/20",
          "Lat": 32,
          "Long": 53,
          "Population(1 July 2019)": 0,
          "level_0": 3
         },
         {
          "Count": 0,
          "Country/Region": "Iran",
          "Date": "1/23/20",
          "Lat": 32,
          "Long": 53,
          "Population(1 July 2019)": 0,
          "level_0": 3
         },
         {
          "Count": 0,
          "Country/Region": "Iran",
          "Date": "1/24/20",
          "Lat": 32,
          "Long": 53,
          "Population(1 July 2019)": 0,
          "level_0": 3
         },
         {
          "Count": 0,
          "Country/Region": "Iran",
          "Date": "1/25/20",
          "Lat": 32,
          "Long": 53,
          "Population(1 July 2019)": 0,
          "level_0": 3
         },
         {
          "Count": 0,
          "Country/Region": "Iran",
          "Date": "1/26/20",
          "Lat": 32,
          "Long": 53,
          "Population(1 July 2019)": 0,
          "level_0": 3
         },
         {
          "Count": 0,
          "Country/Region": "Iran",
          "Date": "1/27/20",
          "Lat": 32,
          "Long": 53,
          "Population(1 July 2019)": 0,
          "level_0": 3
         },
         {
          "Count": 0,
          "Country/Region": "Iran",
          "Date": "1/28/20",
          "Lat": 32,
          "Long": 53,
          "Population(1 July 2019)": 0,
          "level_0": 3
         },
         {
          "Count": 0,
          "Country/Region": "Iran",
          "Date": "1/29/20",
          "Lat": 32,
          "Long": 53,
          "Population(1 July 2019)": 0,
          "level_0": 3
         },
         {
          "Count": 0,
          "Country/Region": "Iran",
          "Date": "1/30/20",
          "Lat": 32,
          "Long": 53,
          "Population(1 July 2019)": 0,
          "level_0": 3
         },
         {
          "Count": 0,
          "Country/Region": "Iran",
          "Date": "1/31/20",
          "Lat": 32,
          "Long": 53,
          "Population(1 July 2019)": 0,
          "level_0": 3
         },
         {
          "Count": 0,
          "Country/Region": "Iran",
          "Date": "2/1/20",
          "Lat": 32,
          "Long": 53,
          "Population(1 July 2019)": 0,
          "level_0": 3
         },
         {
          "Count": 0,
          "Country/Region": "Iran",
          "Date": "2/2/20",
          "Lat": 32,
          "Long": 53,
          "Population(1 July 2019)": 0,
          "level_0": 3
         },
         {
          "Count": 0,
          "Country/Region": "Iran",
          "Date": "2/3/20",
          "Lat": 32,
          "Long": 53,
          "Population(1 July 2019)": 0,
          "level_0": 3
         },
         {
          "Count": 0,
          "Country/Region": "Iran",
          "Date": "2/4/20",
          "Lat": 32,
          "Long": 53,
          "Population(1 July 2019)": 0,
          "level_0": 3
         },
         {
          "Count": 0,
          "Country/Region": "Iran",
          "Date": "2/5/20",
          "Lat": 32,
          "Long": 53,
          "Population(1 July 2019)": 0,
          "level_0": 3
         },
         {
          "Count": 0,
          "Country/Region": "Iran",
          "Date": "2/6/20",
          "Lat": 32,
          "Long": 53,
          "Population(1 July 2019)": 0,
          "level_0": 3
         },
         {
          "Count": 0,
          "Country/Region": "Iran",
          "Date": "2/7/20",
          "Lat": 32,
          "Long": 53,
          "Population(1 July 2019)": 0,
          "level_0": 3
         },
         {
          "Count": 0,
          "Country/Region": "Iran",
          "Date": "2/8/20",
          "Lat": 32,
          "Long": 53,
          "Population(1 July 2019)": 0,
          "level_0": 3
         },
         {
          "Count": 0,
          "Country/Region": "Iran",
          "Date": "2/9/20",
          "Lat": 32,
          "Long": 53,
          "Population(1 July 2019)": 0,
          "level_0": 3
         },
         {
          "Count": 0,
          "Country/Region": "Iran",
          "Date": "2/10/20",
          "Lat": 32,
          "Long": 53,
          "Population(1 July 2019)": 0,
          "level_0": 3
         },
         {
          "Count": 0,
          "Country/Region": "Iran",
          "Date": "2/11/20",
          "Lat": 32,
          "Long": 53,
          "Population(1 July 2019)": 0,
          "level_0": 3
         },
         {
          "Count": 0,
          "Country/Region": "Iran",
          "Date": "2/12/20",
          "Lat": 32,
          "Long": 53,
          "Population(1 July 2019)": 0,
          "level_0": 3
         },
         {
          "Count": 0,
          "Country/Region": "Iran",
          "Date": "2/13/20",
          "Lat": 32,
          "Long": 53,
          "Population(1 July 2019)": 0,
          "level_0": 3
         },
         {
          "Count": 0,
          "Country/Region": "Iran",
          "Date": "2/14/20",
          "Lat": 32,
          "Long": 53,
          "Population(1 July 2019)": 0,
          "level_0": 3
         },
         {
          "Count": 0,
          "Country/Region": "Iran",
          "Date": "2/15/20",
          "Lat": 32,
          "Long": 53,
          "Population(1 July 2019)": 0,
          "level_0": 3
         },
         {
          "Count": 0,
          "Country/Region": "Iran",
          "Date": "2/16/20",
          "Lat": 32,
          "Long": 53,
          "Population(1 July 2019)": 0,
          "level_0": 3
         },
         {
          "Count": 0,
          "Country/Region": "Iran",
          "Date": "2/17/20",
          "Lat": 32,
          "Long": 53,
          "Population(1 July 2019)": 0,
          "level_0": 3
         },
         {
          "Count": 0,
          "Country/Region": "Iran",
          "Date": "2/18/20",
          "Lat": 32,
          "Long": 53,
          "Population(1 July 2019)": 0,
          "level_0": 3
         },
         {
          "Count": 2,
          "Country/Region": "Iran",
          "Date": "2/19/20",
          "Lat": 32,
          "Long": 53,
          "Population(1 July 2019)": 0,
          "level_0": 3
         },
         {
          "Count": 2,
          "Country/Region": "Iran",
          "Date": "2/20/20",
          "Lat": 32,
          "Long": 53,
          "Population(1 July 2019)": 0,
          "level_0": 3
         },
         {
          "Count": 4,
          "Country/Region": "Iran",
          "Date": "2/21/20",
          "Lat": 32,
          "Long": 53,
          "Population(1 July 2019)": 0,
          "level_0": 3
         },
         {
          "Count": 5,
          "Country/Region": "Iran",
          "Date": "2/22/20",
          "Lat": 32,
          "Long": 53,
          "Population(1 July 2019)": 0,
          "level_0": 3
         },
         {
          "Count": 8,
          "Country/Region": "Iran",
          "Date": "2/23/20",
          "Lat": 32,
          "Long": 53,
          "Population(1 July 2019)": 0,
          "level_0": 3
         },
         {
          "Count": 12,
          "Country/Region": "Iran",
          "Date": "2/24/20",
          "Lat": 32,
          "Long": 53,
          "Population(1 July 2019)": 0,
          "level_0": 3
         },
         {
          "Count": 16,
          "Country/Region": "Iran",
          "Date": "2/25/20",
          "Lat": 32,
          "Long": 53,
          "Population(1 July 2019)": 0,
          "level_0": 3
         },
         {
          "Count": 19,
          "Country/Region": "Iran",
          "Date": "2/26/20",
          "Lat": 32,
          "Long": 53,
          "Population(1 July 2019)": 0,
          "level_0": 3
         },
         {
          "Count": 26,
          "Country/Region": "Iran",
          "Date": "2/27/20",
          "Lat": 32,
          "Long": 53,
          "Population(1 July 2019)": 0,
          "level_0": 3
         },
         {
          "Count": 34,
          "Country/Region": "Iran",
          "Date": "2/28/20",
          "Lat": 32,
          "Long": 53,
          "Population(1 July 2019)": 0,
          "level_0": 3
         },
         {
          "Count": 43,
          "Country/Region": "Iran",
          "Date": "2/29/20",
          "Lat": 32,
          "Long": 53,
          "Population(1 July 2019)": 0,
          "level_0": 3
         },
         {
          "Count": 54,
          "Country/Region": "Iran",
          "Date": "3/1/20",
          "Lat": 32,
          "Long": 53,
          "Population(1 July 2019)": 0,
          "level_0": 3
         },
         {
          "Count": 66,
          "Country/Region": "Iran",
          "Date": "3/2/20",
          "Lat": 32,
          "Long": 53,
          "Population(1 July 2019)": 0,
          "level_0": 3
         },
         {
          "Count": 77,
          "Country/Region": "Iran",
          "Date": "3/3/20",
          "Lat": 32,
          "Long": 53,
          "Population(1 July 2019)": 0,
          "level_0": 3
         },
         {
          "Count": 92,
          "Country/Region": "Iran",
          "Date": "3/4/20",
          "Lat": 32,
          "Long": 53,
          "Population(1 July 2019)": 0,
          "level_0": 3
         },
         {
          "Count": 107,
          "Country/Region": "Iran",
          "Date": "3/5/20",
          "Lat": 32,
          "Long": 53,
          "Population(1 July 2019)": 0,
          "level_0": 3
         },
         {
          "Count": 124,
          "Country/Region": "Iran",
          "Date": "3/6/20",
          "Lat": 32,
          "Long": 53,
          "Population(1 July 2019)": 0,
          "level_0": 3
         },
         {
          "Count": 145,
          "Country/Region": "Iran",
          "Date": "3/7/20",
          "Lat": 32,
          "Long": 53,
          "Population(1 July 2019)": 0,
          "level_0": 3
         },
         {
          "Count": 194,
          "Country/Region": "Iran",
          "Date": "3/8/20",
          "Lat": 32,
          "Long": 53,
          "Population(1 July 2019)": 0,
          "level_0": 3
         },
         {
          "Count": 237,
          "Country/Region": "Iran",
          "Date": "3/9/20",
          "Lat": 32,
          "Long": 53,
          "Population(1 July 2019)": 0,
          "level_0": 3
         },
         {
          "Count": 291,
          "Country/Region": "Iran",
          "Date": "3/10/20",
          "Lat": 32,
          "Long": 53,
          "Population(1 July 2019)": 0,
          "level_0": 3
         },
         {
          "Count": 354,
          "Country/Region": "Iran",
          "Date": "3/11/20",
          "Lat": 32,
          "Long": 53,
          "Population(1 July 2019)": 0,
          "level_0": 3
         },
         {
          "Count": 429,
          "Country/Region": "Iran",
          "Date": "3/12/20",
          "Lat": 32,
          "Long": 53,
          "Population(1 July 2019)": 0,
          "level_0": 3
         },
         {
          "Count": 514,
          "Country/Region": "Iran",
          "Date": "3/13/20",
          "Lat": 32,
          "Long": 53,
          "Population(1 July 2019)": 0,
          "level_0": 3
         },
         {
          "Count": 611,
          "Country/Region": "Iran",
          "Date": "3/14/20",
          "Lat": 32,
          "Long": 53,
          "Population(1 July 2019)": 0,
          "level_0": 3
         },
         {
          "Count": 724,
          "Country/Region": "Iran",
          "Date": "3/15/20",
          "Lat": 32,
          "Long": 53,
          "Population(1 July 2019)": 0,
          "level_0": 3
         },
         {
          "Count": 853,
          "Country/Region": "Iran",
          "Date": "3/16/20",
          "Lat": 32,
          "Long": 53,
          "Population(1 July 2019)": 0,
          "level_0": 3
         },
         {
          "Count": 988,
          "Country/Region": "Iran",
          "Date": "3/17/20",
          "Lat": 32,
          "Long": 53,
          "Population(1 July 2019)": 0,
          "level_0": 3
         },
         {
          "Count": 1135,
          "Country/Region": "Iran",
          "Date": "3/18/20",
          "Lat": 32,
          "Long": 53,
          "Population(1 July 2019)": 0,
          "level_0": 3
         },
         {
          "Count": 1284,
          "Country/Region": "Iran",
          "Date": "3/19/20",
          "Lat": 32,
          "Long": 53,
          "Population(1 July 2019)": 0,
          "level_0": 3
         },
         {
          "Count": 1433,
          "Country/Region": "Iran",
          "Date": "3/20/20",
          "Lat": 32,
          "Long": 53,
          "Population(1 July 2019)": 0,
          "level_0": 3
         },
         {
          "Count": 1556,
          "Country/Region": "Iran",
          "Date": "3/21/20",
          "Lat": 32,
          "Long": 53,
          "Population(1 July 2019)": 0,
          "level_0": 3
         },
         {
          "Count": 1685,
          "Country/Region": "Iran",
          "Date": "3/22/20",
          "Lat": 32,
          "Long": 53,
          "Population(1 July 2019)": 0,
          "level_0": 3
         },
         {
          "Count": 1812,
          "Country/Region": "Iran",
          "Date": "3/23/20",
          "Lat": 32,
          "Long": 53,
          "Population(1 July 2019)": 0,
          "level_0": 3
         },
         {
          "Count": 1934,
          "Country/Region": "Iran",
          "Date": "3/24/20",
          "Lat": 32,
          "Long": 53,
          "Population(1 July 2019)": 0,
          "level_0": 3
         },
         {
          "Count": 0,
          "Country/Region": "Italy",
          "Date": "1/22/20",
          "Lat": 43,
          "Long": 12,
          "Population(1 July 2019)": 0,
          "level_0": 4
         },
         {
          "Count": 0,
          "Country/Region": "Italy",
          "Date": "1/23/20",
          "Lat": 43,
          "Long": 12,
          "Population(1 July 2019)": 0,
          "level_0": 4
         },
         {
          "Count": 0,
          "Country/Region": "Italy",
          "Date": "1/24/20",
          "Lat": 43,
          "Long": 12,
          "Population(1 July 2019)": 0,
          "level_0": 4
         },
         {
          "Count": 0,
          "Country/Region": "Italy",
          "Date": "1/25/20",
          "Lat": 43,
          "Long": 12,
          "Population(1 July 2019)": 0,
          "level_0": 4
         },
         {
          "Count": 0,
          "Country/Region": "Italy",
          "Date": "1/26/20",
          "Lat": 43,
          "Long": 12,
          "Population(1 July 2019)": 0,
          "level_0": 4
         },
         {
          "Count": 0,
          "Country/Region": "Italy",
          "Date": "1/27/20",
          "Lat": 43,
          "Long": 12,
          "Population(1 July 2019)": 0,
          "level_0": 4
         },
         {
          "Count": 0,
          "Country/Region": "Italy",
          "Date": "1/28/20",
          "Lat": 43,
          "Long": 12,
          "Population(1 July 2019)": 0,
          "level_0": 4
         },
         {
          "Count": 0,
          "Country/Region": "Italy",
          "Date": "1/29/20",
          "Lat": 43,
          "Long": 12,
          "Population(1 July 2019)": 0,
          "level_0": 4
         },
         {
          "Count": 0,
          "Country/Region": "Italy",
          "Date": "1/30/20",
          "Lat": 43,
          "Long": 12,
          "Population(1 July 2019)": 0,
          "level_0": 4
         },
         {
          "Count": 0,
          "Country/Region": "Italy",
          "Date": "1/31/20",
          "Lat": 43,
          "Long": 12,
          "Population(1 July 2019)": 0,
          "level_0": 4
         },
         {
          "Count": 0,
          "Country/Region": "Italy",
          "Date": "2/1/20",
          "Lat": 43,
          "Long": 12,
          "Population(1 July 2019)": 0,
          "level_0": 4
         },
         {
          "Count": 0,
          "Country/Region": "Italy",
          "Date": "2/2/20",
          "Lat": 43,
          "Long": 12,
          "Population(1 July 2019)": 0,
          "level_0": 4
         },
         {
          "Count": 0,
          "Country/Region": "Italy",
          "Date": "2/3/20",
          "Lat": 43,
          "Long": 12,
          "Population(1 July 2019)": 0,
          "level_0": 4
         },
         {
          "Count": 0,
          "Country/Region": "Italy",
          "Date": "2/4/20",
          "Lat": 43,
          "Long": 12,
          "Population(1 July 2019)": 0,
          "level_0": 4
         },
         {
          "Count": 0,
          "Country/Region": "Italy",
          "Date": "2/5/20",
          "Lat": 43,
          "Long": 12,
          "Population(1 July 2019)": 0,
          "level_0": 4
         },
         {
          "Count": 0,
          "Country/Region": "Italy",
          "Date": "2/6/20",
          "Lat": 43,
          "Long": 12,
          "Population(1 July 2019)": 0,
          "level_0": 4
         },
         {
          "Count": 0,
          "Country/Region": "Italy",
          "Date": "2/7/20",
          "Lat": 43,
          "Long": 12,
          "Population(1 July 2019)": 0,
          "level_0": 4
         },
         {
          "Count": 0,
          "Country/Region": "Italy",
          "Date": "2/8/20",
          "Lat": 43,
          "Long": 12,
          "Population(1 July 2019)": 0,
          "level_0": 4
         },
         {
          "Count": 0,
          "Country/Region": "Italy",
          "Date": "2/9/20",
          "Lat": 43,
          "Long": 12,
          "Population(1 July 2019)": 0,
          "level_0": 4
         },
         {
          "Count": 0,
          "Country/Region": "Italy",
          "Date": "2/10/20",
          "Lat": 43,
          "Long": 12,
          "Population(1 July 2019)": 0,
          "level_0": 4
         },
         {
          "Count": 0,
          "Country/Region": "Italy",
          "Date": "2/11/20",
          "Lat": 43,
          "Long": 12,
          "Population(1 July 2019)": 0,
          "level_0": 4
         },
         {
          "Count": 0,
          "Country/Region": "Italy",
          "Date": "2/12/20",
          "Lat": 43,
          "Long": 12,
          "Population(1 July 2019)": 0,
          "level_0": 4
         },
         {
          "Count": 0,
          "Country/Region": "Italy",
          "Date": "2/13/20",
          "Lat": 43,
          "Long": 12,
          "Population(1 July 2019)": 0,
          "level_0": 4
         },
         {
          "Count": 0,
          "Country/Region": "Italy",
          "Date": "2/14/20",
          "Lat": 43,
          "Long": 12,
          "Population(1 July 2019)": 0,
          "level_0": 4
         },
         {
          "Count": 0,
          "Country/Region": "Italy",
          "Date": "2/15/20",
          "Lat": 43,
          "Long": 12,
          "Population(1 July 2019)": 0,
          "level_0": 4
         },
         {
          "Count": 0,
          "Country/Region": "Italy",
          "Date": "2/16/20",
          "Lat": 43,
          "Long": 12,
          "Population(1 July 2019)": 0,
          "level_0": 4
         },
         {
          "Count": 0,
          "Country/Region": "Italy",
          "Date": "2/17/20",
          "Lat": 43,
          "Long": 12,
          "Population(1 July 2019)": 0,
          "level_0": 4
         },
         {
          "Count": 0,
          "Country/Region": "Italy",
          "Date": "2/18/20",
          "Lat": 43,
          "Long": 12,
          "Population(1 July 2019)": 0,
          "level_0": 4
         },
         {
          "Count": 0,
          "Country/Region": "Italy",
          "Date": "2/19/20",
          "Lat": 43,
          "Long": 12,
          "Population(1 July 2019)": 0,
          "level_0": 4
         },
         {
          "Count": 0,
          "Country/Region": "Italy",
          "Date": "2/20/20",
          "Lat": 43,
          "Long": 12,
          "Population(1 July 2019)": 0,
          "level_0": 4
         },
         {
          "Count": 1,
          "Country/Region": "Italy",
          "Date": "2/21/20",
          "Lat": 43,
          "Long": 12,
          "Population(1 July 2019)": 0,
          "level_0": 4
         },
         {
          "Count": 2,
          "Country/Region": "Italy",
          "Date": "2/22/20",
          "Lat": 43,
          "Long": 12,
          "Population(1 July 2019)": 0,
          "level_0": 4
         },
         {
          "Count": 3,
          "Country/Region": "Italy",
          "Date": "2/23/20",
          "Lat": 43,
          "Long": 12,
          "Population(1 July 2019)": 0,
          "level_0": 4
         },
         {
          "Count": 7,
          "Country/Region": "Italy",
          "Date": "2/24/20",
          "Lat": 43,
          "Long": 12,
          "Population(1 July 2019)": 0,
          "level_0": 4
         },
         {
          "Count": 10,
          "Country/Region": "Italy",
          "Date": "2/25/20",
          "Lat": 43,
          "Long": 12,
          "Population(1 July 2019)": 0,
          "level_0": 4
         },
         {
          "Count": 12,
          "Country/Region": "Italy",
          "Date": "2/26/20",
          "Lat": 43,
          "Long": 12,
          "Population(1 July 2019)": 0,
          "level_0": 4
         },
         {
          "Count": 17,
          "Country/Region": "Italy",
          "Date": "2/27/20",
          "Lat": 43,
          "Long": 12,
          "Population(1 July 2019)": 0,
          "level_0": 4
         },
         {
          "Count": 21,
          "Country/Region": "Italy",
          "Date": "2/28/20",
          "Lat": 43,
          "Long": 12,
          "Population(1 July 2019)": 0,
          "level_0": 4
         },
         {
          "Count": 29,
          "Country/Region": "Italy",
          "Date": "2/29/20",
          "Lat": 43,
          "Long": 12,
          "Population(1 July 2019)": 0,
          "level_0": 4
         },
         {
          "Count": 34,
          "Country/Region": "Italy",
          "Date": "3/1/20",
          "Lat": 43,
          "Long": 12,
          "Population(1 July 2019)": 0,
          "level_0": 4
         },
         {
          "Count": 52,
          "Country/Region": "Italy",
          "Date": "3/2/20",
          "Lat": 43,
          "Long": 12,
          "Population(1 July 2019)": 0,
          "level_0": 4
         },
         {
          "Count": 79,
          "Country/Region": "Italy",
          "Date": "3/3/20",
          "Lat": 43,
          "Long": 12,
          "Population(1 July 2019)": 0,
          "level_0": 4
         },
         {
          "Count": 107,
          "Country/Region": "Italy",
          "Date": "3/4/20",
          "Lat": 43,
          "Long": 12,
          "Population(1 July 2019)": 0,
          "level_0": 4
         },
         {
          "Count": 148,
          "Country/Region": "Italy",
          "Date": "3/5/20",
          "Lat": 43,
          "Long": 12,
          "Population(1 July 2019)": 0,
          "level_0": 4
         },
         {
          "Count": 197,
          "Country/Region": "Italy",
          "Date": "3/6/20",
          "Lat": 43,
          "Long": 12,
          "Population(1 July 2019)": 0,
          "level_0": 4
         },
         {
          "Count": 233,
          "Country/Region": "Italy",
          "Date": "3/7/20",
          "Lat": 43,
          "Long": 12,
          "Population(1 July 2019)": 0,
          "level_0": 4
         },
         {
          "Count": 366,
          "Country/Region": "Italy",
          "Date": "3/8/20",
          "Lat": 43,
          "Long": 12,
          "Population(1 July 2019)": 0,
          "level_0": 4
         },
         {
          "Count": 463,
          "Country/Region": "Italy",
          "Date": "3/9/20",
          "Lat": 43,
          "Long": 12,
          "Population(1 July 2019)": 0,
          "level_0": 4
         },
         {
          "Count": 631,
          "Country/Region": "Italy",
          "Date": "3/10/20",
          "Lat": 43,
          "Long": 12,
          "Population(1 July 2019)": 0,
          "level_0": 4
         },
         {
          "Count": 827,
          "Country/Region": "Italy",
          "Date": "3/11/20",
          "Lat": 43,
          "Long": 12,
          "Population(1 July 2019)": 0,
          "level_0": 4
         },
         {
          "Count": 827,
          "Country/Region": "Italy",
          "Date": "3/12/20",
          "Lat": 43,
          "Long": 12,
          "Population(1 July 2019)": 0,
          "level_0": 4
         },
         {
          "Count": 1266,
          "Country/Region": "Italy",
          "Date": "3/13/20",
          "Lat": 43,
          "Long": 12,
          "Population(1 July 2019)": 0,
          "level_0": 4
         },
         {
          "Count": 1441,
          "Country/Region": "Italy",
          "Date": "3/14/20",
          "Lat": 43,
          "Long": 12,
          "Population(1 July 2019)": 0,
          "level_0": 4
         },
         {
          "Count": 1809,
          "Country/Region": "Italy",
          "Date": "3/15/20",
          "Lat": 43,
          "Long": 12,
          "Population(1 July 2019)": 0,
          "level_0": 4
         },
         {
          "Count": 2158,
          "Country/Region": "Italy",
          "Date": "3/16/20",
          "Lat": 43,
          "Long": 12,
          "Population(1 July 2019)": 0,
          "level_0": 4
         },
         {
          "Count": 2503,
          "Country/Region": "Italy",
          "Date": "3/17/20",
          "Lat": 43,
          "Long": 12,
          "Population(1 July 2019)": 0,
          "level_0": 4
         },
         {
          "Count": 2978,
          "Country/Region": "Italy",
          "Date": "3/18/20",
          "Lat": 43,
          "Long": 12,
          "Population(1 July 2019)": 0,
          "level_0": 4
         },
         {
          "Count": 3405,
          "Country/Region": "Italy",
          "Date": "3/19/20",
          "Lat": 43,
          "Long": 12,
          "Population(1 July 2019)": 0,
          "level_0": 4
         },
         {
          "Count": 4032,
          "Country/Region": "Italy",
          "Date": "3/20/20",
          "Lat": 43,
          "Long": 12,
          "Population(1 July 2019)": 0,
          "level_0": 4
         },
         {
          "Count": 4825,
          "Country/Region": "Italy",
          "Date": "3/21/20",
          "Lat": 43,
          "Long": 12,
          "Population(1 July 2019)": 0,
          "level_0": 4
         },
         {
          "Count": 5476,
          "Country/Region": "Italy",
          "Date": "3/22/20",
          "Lat": 43,
          "Long": 12,
          "Population(1 July 2019)": 0,
          "level_0": 4
         },
         {
          "Count": 6077,
          "Country/Region": "Italy",
          "Date": "3/23/20",
          "Lat": 43,
          "Long": 12,
          "Population(1 July 2019)": 0,
          "level_0": 4
         },
         {
          "Count": 6820,
          "Country/Region": "Italy",
          "Date": "3/24/20",
          "Lat": 43,
          "Long": 12,
          "Population(1 July 2019)": 0,
          "level_0": 4
         },
         {
          "Count": 0,
          "Country/Region": "Korea, South",
          "Date": "1/22/20",
          "Lat": 36,
          "Long": 128,
          "Population(1 July 2019)": 0,
          "level_0": 5
         },
         {
          "Count": 0,
          "Country/Region": "Korea, South",
          "Date": "1/23/20",
          "Lat": 36,
          "Long": 128,
          "Population(1 July 2019)": 0,
          "level_0": 5
         },
         {
          "Count": 0,
          "Country/Region": "Korea, South",
          "Date": "1/24/20",
          "Lat": 36,
          "Long": 128,
          "Population(1 July 2019)": 0,
          "level_0": 5
         },
         {
          "Count": 0,
          "Country/Region": "Korea, South",
          "Date": "1/25/20",
          "Lat": 36,
          "Long": 128,
          "Population(1 July 2019)": 0,
          "level_0": 5
         },
         {
          "Count": 0,
          "Country/Region": "Korea, South",
          "Date": "1/26/20",
          "Lat": 36,
          "Long": 128,
          "Population(1 July 2019)": 0,
          "level_0": 5
         },
         {
          "Count": 0,
          "Country/Region": "Korea, South",
          "Date": "1/27/20",
          "Lat": 36,
          "Long": 128,
          "Population(1 July 2019)": 0,
          "level_0": 5
         },
         {
          "Count": 0,
          "Country/Region": "Korea, South",
          "Date": "1/28/20",
          "Lat": 36,
          "Long": 128,
          "Population(1 July 2019)": 0,
          "level_0": 5
         },
         {
          "Count": 0,
          "Country/Region": "Korea, South",
          "Date": "1/29/20",
          "Lat": 36,
          "Long": 128,
          "Population(1 July 2019)": 0,
          "level_0": 5
         },
         {
          "Count": 0,
          "Country/Region": "Korea, South",
          "Date": "1/30/20",
          "Lat": 36,
          "Long": 128,
          "Population(1 July 2019)": 0,
          "level_0": 5
         },
         {
          "Count": 0,
          "Country/Region": "Korea, South",
          "Date": "1/31/20",
          "Lat": 36,
          "Long": 128,
          "Population(1 July 2019)": 0,
          "level_0": 5
         },
         {
          "Count": 0,
          "Country/Region": "Korea, South",
          "Date": "2/1/20",
          "Lat": 36,
          "Long": 128,
          "Population(1 July 2019)": 0,
          "level_0": 5
         },
         {
          "Count": 0,
          "Country/Region": "Korea, South",
          "Date": "2/2/20",
          "Lat": 36,
          "Long": 128,
          "Population(1 July 2019)": 0,
          "level_0": 5
         },
         {
          "Count": 0,
          "Country/Region": "Korea, South",
          "Date": "2/3/20",
          "Lat": 36,
          "Long": 128,
          "Population(1 July 2019)": 0,
          "level_0": 5
         },
         {
          "Count": 0,
          "Country/Region": "Korea, South",
          "Date": "2/4/20",
          "Lat": 36,
          "Long": 128,
          "Population(1 July 2019)": 0,
          "level_0": 5
         },
         {
          "Count": 0,
          "Country/Region": "Korea, South",
          "Date": "2/5/20",
          "Lat": 36,
          "Long": 128,
          "Population(1 July 2019)": 0,
          "level_0": 5
         },
         {
          "Count": 0,
          "Country/Region": "Korea, South",
          "Date": "2/6/20",
          "Lat": 36,
          "Long": 128,
          "Population(1 July 2019)": 0,
          "level_0": 5
         },
         {
          "Count": 0,
          "Country/Region": "Korea, South",
          "Date": "2/7/20",
          "Lat": 36,
          "Long": 128,
          "Population(1 July 2019)": 0,
          "level_0": 5
         },
         {
          "Count": 0,
          "Country/Region": "Korea, South",
          "Date": "2/8/20",
          "Lat": 36,
          "Long": 128,
          "Population(1 July 2019)": 0,
          "level_0": 5
         },
         {
          "Count": 0,
          "Country/Region": "Korea, South",
          "Date": "2/9/20",
          "Lat": 36,
          "Long": 128,
          "Population(1 July 2019)": 0,
          "level_0": 5
         },
         {
          "Count": 0,
          "Country/Region": "Korea, South",
          "Date": "2/10/20",
          "Lat": 36,
          "Long": 128,
          "Population(1 July 2019)": 0,
          "level_0": 5
         },
         {
          "Count": 0,
          "Country/Region": "Korea, South",
          "Date": "2/11/20",
          "Lat": 36,
          "Long": 128,
          "Population(1 July 2019)": 0,
          "level_0": 5
         },
         {
          "Count": 0,
          "Country/Region": "Korea, South",
          "Date": "2/12/20",
          "Lat": 36,
          "Long": 128,
          "Population(1 July 2019)": 0,
          "level_0": 5
         },
         {
          "Count": 0,
          "Country/Region": "Korea, South",
          "Date": "2/13/20",
          "Lat": 36,
          "Long": 128,
          "Population(1 July 2019)": 0,
          "level_0": 5
         },
         {
          "Count": 0,
          "Country/Region": "Korea, South",
          "Date": "2/14/20",
          "Lat": 36,
          "Long": 128,
          "Population(1 July 2019)": 0,
          "level_0": 5
         },
         {
          "Count": 0,
          "Country/Region": "Korea, South",
          "Date": "2/15/20",
          "Lat": 36,
          "Long": 128,
          "Population(1 July 2019)": 0,
          "level_0": 5
         },
         {
          "Count": 0,
          "Country/Region": "Korea, South",
          "Date": "2/16/20",
          "Lat": 36,
          "Long": 128,
          "Population(1 July 2019)": 0,
          "level_0": 5
         },
         {
          "Count": 0,
          "Country/Region": "Korea, South",
          "Date": "2/17/20",
          "Lat": 36,
          "Long": 128,
          "Population(1 July 2019)": 0,
          "level_0": 5
         },
         {
          "Count": 0,
          "Country/Region": "Korea, South",
          "Date": "2/18/20",
          "Lat": 36,
          "Long": 128,
          "Population(1 July 2019)": 0,
          "level_0": 5
         },
         {
          "Count": 0,
          "Country/Region": "Korea, South",
          "Date": "2/19/20",
          "Lat": 36,
          "Long": 128,
          "Population(1 July 2019)": 0,
          "level_0": 5
         },
         {
          "Count": 1,
          "Country/Region": "Korea, South",
          "Date": "2/20/20",
          "Lat": 36,
          "Long": 128,
          "Population(1 July 2019)": 0,
          "level_0": 5
         },
         {
          "Count": 2,
          "Country/Region": "Korea, South",
          "Date": "2/21/20",
          "Lat": 36,
          "Long": 128,
          "Population(1 July 2019)": 0,
          "level_0": 5
         },
         {
          "Count": 2,
          "Country/Region": "Korea, South",
          "Date": "2/22/20",
          "Lat": 36,
          "Long": 128,
          "Population(1 July 2019)": 0,
          "level_0": 5
         },
         {
          "Count": 6,
          "Country/Region": "Korea, South",
          "Date": "2/23/20",
          "Lat": 36,
          "Long": 128,
          "Population(1 July 2019)": 0,
          "level_0": 5
         },
         {
          "Count": 8,
          "Country/Region": "Korea, South",
          "Date": "2/24/20",
          "Lat": 36,
          "Long": 128,
          "Population(1 July 2019)": 0,
          "level_0": 5
         },
         {
          "Count": 10,
          "Country/Region": "Korea, South",
          "Date": "2/25/20",
          "Lat": 36,
          "Long": 128,
          "Population(1 July 2019)": 0,
          "level_0": 5
         },
         {
          "Count": 12,
          "Country/Region": "Korea, South",
          "Date": "2/26/20",
          "Lat": 36,
          "Long": 128,
          "Population(1 July 2019)": 0,
          "level_0": 5
         },
         {
          "Count": 13,
          "Country/Region": "Korea, South",
          "Date": "2/27/20",
          "Lat": 36,
          "Long": 128,
          "Population(1 July 2019)": 0,
          "level_0": 5
         },
         {
          "Count": 13,
          "Country/Region": "Korea, South",
          "Date": "2/28/20",
          "Lat": 36,
          "Long": 128,
          "Population(1 July 2019)": 0,
          "level_0": 5
         },
         {
          "Count": 16,
          "Country/Region": "Korea, South",
          "Date": "2/29/20",
          "Lat": 36,
          "Long": 128,
          "Population(1 July 2019)": 0,
          "level_0": 5
         },
         {
          "Count": 17,
          "Country/Region": "Korea, South",
          "Date": "3/1/20",
          "Lat": 36,
          "Long": 128,
          "Population(1 July 2019)": 0,
          "level_0": 5
         },
         {
          "Count": 28,
          "Country/Region": "Korea, South",
          "Date": "3/2/20",
          "Lat": 36,
          "Long": 128,
          "Population(1 July 2019)": 0,
          "level_0": 5
         },
         {
          "Count": 28,
          "Country/Region": "Korea, South",
          "Date": "3/3/20",
          "Lat": 36,
          "Long": 128,
          "Population(1 July 2019)": 0,
          "level_0": 5
         },
         {
          "Count": 35,
          "Country/Region": "Korea, South",
          "Date": "3/4/20",
          "Lat": 36,
          "Long": 128,
          "Population(1 July 2019)": 0,
          "level_0": 5
         },
         {
          "Count": 35,
          "Country/Region": "Korea, South",
          "Date": "3/5/20",
          "Lat": 36,
          "Long": 128,
          "Population(1 July 2019)": 0,
          "level_0": 5
         },
         {
          "Count": 42,
          "Country/Region": "Korea, South",
          "Date": "3/6/20",
          "Lat": 36,
          "Long": 128,
          "Population(1 July 2019)": 0,
          "level_0": 5
         },
         {
          "Count": 44,
          "Country/Region": "Korea, South",
          "Date": "3/7/20",
          "Lat": 36,
          "Long": 128,
          "Population(1 July 2019)": 0,
          "level_0": 5
         },
         {
          "Count": 50,
          "Country/Region": "Korea, South",
          "Date": "3/8/20",
          "Lat": 36,
          "Long": 128,
          "Population(1 July 2019)": 0,
          "level_0": 5
         },
         {
          "Count": 53,
          "Country/Region": "Korea, South",
          "Date": "3/9/20",
          "Lat": 36,
          "Long": 128,
          "Population(1 July 2019)": 0,
          "level_0": 5
         },
         {
          "Count": 54,
          "Country/Region": "Korea, South",
          "Date": "3/10/20",
          "Lat": 36,
          "Long": 128,
          "Population(1 July 2019)": 0,
          "level_0": 5
         },
         {
          "Count": 60,
          "Country/Region": "Korea, South",
          "Date": "3/11/20",
          "Lat": 36,
          "Long": 128,
          "Population(1 July 2019)": 0,
          "level_0": 5
         },
         {
          "Count": 66,
          "Country/Region": "Korea, South",
          "Date": "3/12/20",
          "Lat": 36,
          "Long": 128,
          "Population(1 July 2019)": 0,
          "level_0": 5
         },
         {
          "Count": 66,
          "Country/Region": "Korea, South",
          "Date": "3/13/20",
          "Lat": 36,
          "Long": 128,
          "Population(1 July 2019)": 0,
          "level_0": 5
         },
         {
          "Count": 72,
          "Country/Region": "Korea, South",
          "Date": "3/14/20",
          "Lat": 36,
          "Long": 128,
          "Population(1 July 2019)": 0,
          "level_0": 5
         },
         {
          "Count": 75,
          "Country/Region": "Korea, South",
          "Date": "3/15/20",
          "Lat": 36,
          "Long": 128,
          "Population(1 July 2019)": 0,
          "level_0": 5
         },
         {
          "Count": 75,
          "Country/Region": "Korea, South",
          "Date": "3/16/20",
          "Lat": 36,
          "Long": 128,
          "Population(1 July 2019)": 0,
          "level_0": 5
         },
         {
          "Count": 81,
          "Country/Region": "Korea, South",
          "Date": "3/17/20",
          "Lat": 36,
          "Long": 128,
          "Population(1 July 2019)": 0,
          "level_0": 5
         },
         {
          "Count": 84,
          "Country/Region": "Korea, South",
          "Date": "3/18/20",
          "Lat": 36,
          "Long": 128,
          "Population(1 July 2019)": 0,
          "level_0": 5
         },
         {
          "Count": 91,
          "Country/Region": "Korea, South",
          "Date": "3/19/20",
          "Lat": 36,
          "Long": 128,
          "Population(1 July 2019)": 0,
          "level_0": 5
         },
         {
          "Count": 94,
          "Country/Region": "Korea, South",
          "Date": "3/20/20",
          "Lat": 36,
          "Long": 128,
          "Population(1 July 2019)": 0,
          "level_0": 5
         },
         {
          "Count": 102,
          "Country/Region": "Korea, South",
          "Date": "3/21/20",
          "Lat": 36,
          "Long": 128,
          "Population(1 July 2019)": 0,
          "level_0": 5
         },
         {
          "Count": 111,
          "Country/Region": "Korea, South",
          "Date": "3/22/20",
          "Lat": 36,
          "Long": 128,
          "Population(1 July 2019)": 0,
          "level_0": 5
         },
         {
          "Count": 111,
          "Country/Region": "Korea, South",
          "Date": "3/23/20",
          "Lat": 36,
          "Long": 128,
          "Population(1 July 2019)": 0,
          "level_0": 5
         },
         {
          "Count": 120,
          "Country/Region": "Korea, South",
          "Date": "3/24/20",
          "Lat": 36,
          "Long": 128,
          "Population(1 July 2019)": 0,
          "level_0": 5
         },
         {
          "Count": 0,
          "Country/Region": "Spain",
          "Date": "1/22/20",
          "Lat": 40,
          "Long": -4,
          "Population(1 July 2019)": 0,
          "level_0": 6
         },
         {
          "Count": 0,
          "Country/Region": "Spain",
          "Date": "1/23/20",
          "Lat": 40,
          "Long": -4,
          "Population(1 July 2019)": 0,
          "level_0": 6
         },
         {
          "Count": 0,
          "Country/Region": "Spain",
          "Date": "1/24/20",
          "Lat": 40,
          "Long": -4,
          "Population(1 July 2019)": 0,
          "level_0": 6
         },
         {
          "Count": 0,
          "Country/Region": "Spain",
          "Date": "1/25/20",
          "Lat": 40,
          "Long": -4,
          "Population(1 July 2019)": 0,
          "level_0": 6
         },
         {
          "Count": 0,
          "Country/Region": "Spain",
          "Date": "1/26/20",
          "Lat": 40,
          "Long": -4,
          "Population(1 July 2019)": 0,
          "level_0": 6
         },
         {
          "Count": 0,
          "Country/Region": "Spain",
          "Date": "1/27/20",
          "Lat": 40,
          "Long": -4,
          "Population(1 July 2019)": 0,
          "level_0": 6
         },
         {
          "Count": 0,
          "Country/Region": "Spain",
          "Date": "1/28/20",
          "Lat": 40,
          "Long": -4,
          "Population(1 July 2019)": 0,
          "level_0": 6
         },
         {
          "Count": 0,
          "Country/Region": "Spain",
          "Date": "1/29/20",
          "Lat": 40,
          "Long": -4,
          "Population(1 July 2019)": 0,
          "level_0": 6
         },
         {
          "Count": 0,
          "Country/Region": "Spain",
          "Date": "1/30/20",
          "Lat": 40,
          "Long": -4,
          "Population(1 July 2019)": 0,
          "level_0": 6
         },
         {
          "Count": 0,
          "Country/Region": "Spain",
          "Date": "1/31/20",
          "Lat": 40,
          "Long": -4,
          "Population(1 July 2019)": 0,
          "level_0": 6
         },
         {
          "Count": 0,
          "Country/Region": "Spain",
          "Date": "2/1/20",
          "Lat": 40,
          "Long": -4,
          "Population(1 July 2019)": 0,
          "level_0": 6
         },
         {
          "Count": 0,
          "Country/Region": "Spain",
          "Date": "2/2/20",
          "Lat": 40,
          "Long": -4,
          "Population(1 July 2019)": 0,
          "level_0": 6
         },
         {
          "Count": 0,
          "Country/Region": "Spain",
          "Date": "2/3/20",
          "Lat": 40,
          "Long": -4,
          "Population(1 July 2019)": 0,
          "level_0": 6
         },
         {
          "Count": 0,
          "Country/Region": "Spain",
          "Date": "2/4/20",
          "Lat": 40,
          "Long": -4,
          "Population(1 July 2019)": 0,
          "level_0": 6
         },
         {
          "Count": 0,
          "Country/Region": "Spain",
          "Date": "2/5/20",
          "Lat": 40,
          "Long": -4,
          "Population(1 July 2019)": 0,
          "level_0": 6
         },
         {
          "Count": 0,
          "Country/Region": "Spain",
          "Date": "2/6/20",
          "Lat": 40,
          "Long": -4,
          "Population(1 July 2019)": 0,
          "level_0": 6
         },
         {
          "Count": 0,
          "Country/Region": "Spain",
          "Date": "2/7/20",
          "Lat": 40,
          "Long": -4,
          "Population(1 July 2019)": 0,
          "level_0": 6
         },
         {
          "Count": 0,
          "Country/Region": "Spain",
          "Date": "2/8/20",
          "Lat": 40,
          "Long": -4,
          "Population(1 July 2019)": 0,
          "level_0": 6
         },
         {
          "Count": 0,
          "Country/Region": "Spain",
          "Date": "2/9/20",
          "Lat": 40,
          "Long": -4,
          "Population(1 July 2019)": 0,
          "level_0": 6
         },
         {
          "Count": 0,
          "Country/Region": "Spain",
          "Date": "2/10/20",
          "Lat": 40,
          "Long": -4,
          "Population(1 July 2019)": 0,
          "level_0": 6
         },
         {
          "Count": 0,
          "Country/Region": "Spain",
          "Date": "2/11/20",
          "Lat": 40,
          "Long": -4,
          "Population(1 July 2019)": 0,
          "level_0": 6
         },
         {
          "Count": 0,
          "Country/Region": "Spain",
          "Date": "2/12/20",
          "Lat": 40,
          "Long": -4,
          "Population(1 July 2019)": 0,
          "level_0": 6
         },
         {
          "Count": 0,
          "Country/Region": "Spain",
          "Date": "2/13/20",
          "Lat": 40,
          "Long": -4,
          "Population(1 July 2019)": 0,
          "level_0": 6
         },
         {
          "Count": 0,
          "Country/Region": "Spain",
          "Date": "2/14/20",
          "Lat": 40,
          "Long": -4,
          "Population(1 July 2019)": 0,
          "level_0": 6
         },
         {
          "Count": 0,
          "Country/Region": "Spain",
          "Date": "2/15/20",
          "Lat": 40,
          "Long": -4,
          "Population(1 July 2019)": 0,
          "level_0": 6
         },
         {
          "Count": 0,
          "Country/Region": "Spain",
          "Date": "2/16/20",
          "Lat": 40,
          "Long": -4,
          "Population(1 July 2019)": 0,
          "level_0": 6
         },
         {
          "Count": 0,
          "Country/Region": "Spain",
          "Date": "2/17/20",
          "Lat": 40,
          "Long": -4,
          "Population(1 July 2019)": 0,
          "level_0": 6
         },
         {
          "Count": 0,
          "Country/Region": "Spain",
          "Date": "2/18/20",
          "Lat": 40,
          "Long": -4,
          "Population(1 July 2019)": 0,
          "level_0": 6
         },
         {
          "Count": 0,
          "Country/Region": "Spain",
          "Date": "2/19/20",
          "Lat": 40,
          "Long": -4,
          "Population(1 July 2019)": 0,
          "level_0": 6
         },
         {
          "Count": 0,
          "Country/Region": "Spain",
          "Date": "2/20/20",
          "Lat": 40,
          "Long": -4,
          "Population(1 July 2019)": 0,
          "level_0": 6
         },
         {
          "Count": 0,
          "Country/Region": "Spain",
          "Date": "2/21/20",
          "Lat": 40,
          "Long": -4,
          "Population(1 July 2019)": 0,
          "level_0": 6
         },
         {
          "Count": 0,
          "Country/Region": "Spain",
          "Date": "2/22/20",
          "Lat": 40,
          "Long": -4,
          "Population(1 July 2019)": 0,
          "level_0": 6
         },
         {
          "Count": 0,
          "Country/Region": "Spain",
          "Date": "2/23/20",
          "Lat": 40,
          "Long": -4,
          "Population(1 July 2019)": 0,
          "level_0": 6
         },
         {
          "Count": 0,
          "Country/Region": "Spain",
          "Date": "2/24/20",
          "Lat": 40,
          "Long": -4,
          "Population(1 July 2019)": 0,
          "level_0": 6
         },
         {
          "Count": 0,
          "Country/Region": "Spain",
          "Date": "2/25/20",
          "Lat": 40,
          "Long": -4,
          "Population(1 July 2019)": 0,
          "level_0": 6
         },
         {
          "Count": 0,
          "Country/Region": "Spain",
          "Date": "2/26/20",
          "Lat": 40,
          "Long": -4,
          "Population(1 July 2019)": 0,
          "level_0": 6
         },
         {
          "Count": 0,
          "Country/Region": "Spain",
          "Date": "2/27/20",
          "Lat": 40,
          "Long": -4,
          "Population(1 July 2019)": 0,
          "level_0": 6
         },
         {
          "Count": 0,
          "Country/Region": "Spain",
          "Date": "2/28/20",
          "Lat": 40,
          "Long": -4,
          "Population(1 July 2019)": 0,
          "level_0": 6
         },
         {
          "Count": 0,
          "Country/Region": "Spain",
          "Date": "2/29/20",
          "Lat": 40,
          "Long": -4,
          "Population(1 July 2019)": 0,
          "level_0": 6
         },
         {
          "Count": 0,
          "Country/Region": "Spain",
          "Date": "3/1/20",
          "Lat": 40,
          "Long": -4,
          "Population(1 July 2019)": 0,
          "level_0": 6
         },
         {
          "Count": 0,
          "Country/Region": "Spain",
          "Date": "3/2/20",
          "Lat": 40,
          "Long": -4,
          "Population(1 July 2019)": 0,
          "level_0": 6
         },
         {
          "Count": 1,
          "Country/Region": "Spain",
          "Date": "3/3/20",
          "Lat": 40,
          "Long": -4,
          "Population(1 July 2019)": 0,
          "level_0": 6
         },
         {
          "Count": 2,
          "Country/Region": "Spain",
          "Date": "3/4/20",
          "Lat": 40,
          "Long": -4,
          "Population(1 July 2019)": 0,
          "level_0": 6
         },
         {
          "Count": 3,
          "Country/Region": "Spain",
          "Date": "3/5/20",
          "Lat": 40,
          "Long": -4,
          "Population(1 July 2019)": 0,
          "level_0": 6
         },
         {
          "Count": 5,
          "Country/Region": "Spain",
          "Date": "3/6/20",
          "Lat": 40,
          "Long": -4,
          "Population(1 July 2019)": 0,
          "level_0": 6
         },
         {
          "Count": 10,
          "Country/Region": "Spain",
          "Date": "3/7/20",
          "Lat": 40,
          "Long": -4,
          "Population(1 July 2019)": 0,
          "level_0": 6
         },
         {
          "Count": 17,
          "Country/Region": "Spain",
          "Date": "3/8/20",
          "Lat": 40,
          "Long": -4,
          "Population(1 July 2019)": 0,
          "level_0": 6
         },
         {
          "Count": 28,
          "Country/Region": "Spain",
          "Date": "3/9/20",
          "Lat": 40,
          "Long": -4,
          "Population(1 July 2019)": 0,
          "level_0": 6
         },
         {
          "Count": 35,
          "Country/Region": "Spain",
          "Date": "3/10/20",
          "Lat": 40,
          "Long": -4,
          "Population(1 July 2019)": 0,
          "level_0": 6
         },
         {
          "Count": 54,
          "Country/Region": "Spain",
          "Date": "3/11/20",
          "Lat": 40,
          "Long": -4,
          "Population(1 July 2019)": 0,
          "level_0": 6
         },
         {
          "Count": 55,
          "Country/Region": "Spain",
          "Date": "3/12/20",
          "Lat": 40,
          "Long": -4,
          "Population(1 July 2019)": 0,
          "level_0": 6
         },
         {
          "Count": 133,
          "Country/Region": "Spain",
          "Date": "3/13/20",
          "Lat": 40,
          "Long": -4,
          "Population(1 July 2019)": 0,
          "level_0": 6
         },
         {
          "Count": 195,
          "Country/Region": "Spain",
          "Date": "3/14/20",
          "Lat": 40,
          "Long": -4,
          "Population(1 July 2019)": 0,
          "level_0": 6
         },
         {
          "Count": 289,
          "Country/Region": "Spain",
          "Date": "3/15/20",
          "Lat": 40,
          "Long": -4,
          "Population(1 July 2019)": 0,
          "level_0": 6
         },
         {
          "Count": 342,
          "Country/Region": "Spain",
          "Date": "3/16/20",
          "Lat": 40,
          "Long": -4,
          "Population(1 July 2019)": 0,
          "level_0": 6
         },
         {
          "Count": 533,
          "Country/Region": "Spain",
          "Date": "3/17/20",
          "Lat": 40,
          "Long": -4,
          "Population(1 July 2019)": 0,
          "level_0": 6
         },
         {
          "Count": 623,
          "Country/Region": "Spain",
          "Date": "3/18/20",
          "Lat": 40,
          "Long": -4,
          "Population(1 July 2019)": 0,
          "level_0": 6
         },
         {
          "Count": 830,
          "Country/Region": "Spain",
          "Date": "3/19/20",
          "Lat": 40,
          "Long": -4,
          "Population(1 July 2019)": 0,
          "level_0": 6
         },
         {
          "Count": 1043,
          "Country/Region": "Spain",
          "Date": "3/20/20",
          "Lat": 40,
          "Long": -4,
          "Population(1 July 2019)": 0,
          "level_0": 6
         },
         {
          "Count": 1375,
          "Country/Region": "Spain",
          "Date": "3/21/20",
          "Lat": 40,
          "Long": -4,
          "Population(1 July 2019)": 0,
          "level_0": 6
         },
         {
          "Count": 1772,
          "Country/Region": "Spain",
          "Date": "3/22/20",
          "Lat": 40,
          "Long": -4,
          "Population(1 July 2019)": 0,
          "level_0": 6
         },
         {
          "Count": 2311,
          "Country/Region": "Spain",
          "Date": "3/23/20",
          "Lat": 40,
          "Long": -4,
          "Population(1 July 2019)": 0,
          "level_0": 6
         },
         {
          "Count": 2808,
          "Country/Region": "Spain",
          "Date": "3/24/20",
          "Lat": 40,
          "Long": -4,
          "Population(1 July 2019)": 0,
          "level_0": 6
         },
         {
          "Count": 0,
          "Country/Region": "Switzerland",
          "Date": "1/22/20",
          "Lat": 46.8182,
          "Long": 8.2275,
          "Population(1 July 2019)": 0,
          "level_0": 7
         },
         {
          "Count": 0,
          "Country/Region": "Switzerland",
          "Date": "1/23/20",
          "Lat": 46.8182,
          "Long": 8.2275,
          "Population(1 July 2019)": 0,
          "level_0": 7
         },
         {
          "Count": 0,
          "Country/Region": "Switzerland",
          "Date": "1/24/20",
          "Lat": 46.8182,
          "Long": 8.2275,
          "Population(1 July 2019)": 0,
          "level_0": 7
         },
         {
          "Count": 0,
          "Country/Region": "Switzerland",
          "Date": "1/25/20",
          "Lat": 46.8182,
          "Long": 8.2275,
          "Population(1 July 2019)": 0,
          "level_0": 7
         },
         {
          "Count": 0,
          "Country/Region": "Switzerland",
          "Date": "1/26/20",
          "Lat": 46.8182,
          "Long": 8.2275,
          "Population(1 July 2019)": 0,
          "level_0": 7
         },
         {
          "Count": 0,
          "Country/Region": "Switzerland",
          "Date": "1/27/20",
          "Lat": 46.8182,
          "Long": 8.2275,
          "Population(1 July 2019)": 0,
          "level_0": 7
         },
         {
          "Count": 0,
          "Country/Region": "Switzerland",
          "Date": "1/28/20",
          "Lat": 46.8182,
          "Long": 8.2275,
          "Population(1 July 2019)": 0,
          "level_0": 7
         },
         {
          "Count": 0,
          "Country/Region": "Switzerland",
          "Date": "1/29/20",
          "Lat": 46.8182,
          "Long": 8.2275,
          "Population(1 July 2019)": 0,
          "level_0": 7
         },
         {
          "Count": 0,
          "Country/Region": "Switzerland",
          "Date": "1/30/20",
          "Lat": 46.8182,
          "Long": 8.2275,
          "Population(1 July 2019)": 0,
          "level_0": 7
         },
         {
          "Count": 0,
          "Country/Region": "Switzerland",
          "Date": "1/31/20",
          "Lat": 46.8182,
          "Long": 8.2275,
          "Population(1 July 2019)": 0,
          "level_0": 7
         },
         {
          "Count": 0,
          "Country/Region": "Switzerland",
          "Date": "2/1/20",
          "Lat": 46.8182,
          "Long": 8.2275,
          "Population(1 July 2019)": 0,
          "level_0": 7
         },
         {
          "Count": 0,
          "Country/Region": "Switzerland",
          "Date": "2/2/20",
          "Lat": 46.8182,
          "Long": 8.2275,
          "Population(1 July 2019)": 0,
          "level_0": 7
         },
         {
          "Count": 0,
          "Country/Region": "Switzerland",
          "Date": "2/3/20",
          "Lat": 46.8182,
          "Long": 8.2275,
          "Population(1 July 2019)": 0,
          "level_0": 7
         },
         {
          "Count": 0,
          "Country/Region": "Switzerland",
          "Date": "2/4/20",
          "Lat": 46.8182,
          "Long": 8.2275,
          "Population(1 July 2019)": 0,
          "level_0": 7
         },
         {
          "Count": 0,
          "Country/Region": "Switzerland",
          "Date": "2/5/20",
          "Lat": 46.8182,
          "Long": 8.2275,
          "Population(1 July 2019)": 0,
          "level_0": 7
         },
         {
          "Count": 0,
          "Country/Region": "Switzerland",
          "Date": "2/6/20",
          "Lat": 46.8182,
          "Long": 8.2275,
          "Population(1 July 2019)": 0,
          "level_0": 7
         },
         {
          "Count": 0,
          "Country/Region": "Switzerland",
          "Date": "2/7/20",
          "Lat": 46.8182,
          "Long": 8.2275,
          "Population(1 July 2019)": 0,
          "level_0": 7
         },
         {
          "Count": 0,
          "Country/Region": "Switzerland",
          "Date": "2/8/20",
          "Lat": 46.8182,
          "Long": 8.2275,
          "Population(1 July 2019)": 0,
          "level_0": 7
         },
         {
          "Count": 0,
          "Country/Region": "Switzerland",
          "Date": "2/9/20",
          "Lat": 46.8182,
          "Long": 8.2275,
          "Population(1 July 2019)": 0,
          "level_0": 7
         },
         {
          "Count": 0,
          "Country/Region": "Switzerland",
          "Date": "2/10/20",
          "Lat": 46.8182,
          "Long": 8.2275,
          "Population(1 July 2019)": 0,
          "level_0": 7
         },
         {
          "Count": 0,
          "Country/Region": "Switzerland",
          "Date": "2/11/20",
          "Lat": 46.8182,
          "Long": 8.2275,
          "Population(1 July 2019)": 0,
          "level_0": 7
         },
         {
          "Count": 0,
          "Country/Region": "Switzerland",
          "Date": "2/12/20",
          "Lat": 46.8182,
          "Long": 8.2275,
          "Population(1 July 2019)": 0,
          "level_0": 7
         },
         {
          "Count": 0,
          "Country/Region": "Switzerland",
          "Date": "2/13/20",
          "Lat": 46.8182,
          "Long": 8.2275,
          "Population(1 July 2019)": 0,
          "level_0": 7
         },
         {
          "Count": 0,
          "Country/Region": "Switzerland",
          "Date": "2/14/20",
          "Lat": 46.8182,
          "Long": 8.2275,
          "Population(1 July 2019)": 0,
          "level_0": 7
         },
         {
          "Count": 0,
          "Country/Region": "Switzerland",
          "Date": "2/15/20",
          "Lat": 46.8182,
          "Long": 8.2275,
          "Population(1 July 2019)": 0,
          "level_0": 7
         },
         {
          "Count": 0,
          "Country/Region": "Switzerland",
          "Date": "2/16/20",
          "Lat": 46.8182,
          "Long": 8.2275,
          "Population(1 July 2019)": 0,
          "level_0": 7
         },
         {
          "Count": 0,
          "Country/Region": "Switzerland",
          "Date": "2/17/20",
          "Lat": 46.8182,
          "Long": 8.2275,
          "Population(1 July 2019)": 0,
          "level_0": 7
         },
         {
          "Count": 0,
          "Country/Region": "Switzerland",
          "Date": "2/18/20",
          "Lat": 46.8182,
          "Long": 8.2275,
          "Population(1 July 2019)": 0,
          "level_0": 7
         },
         {
          "Count": 0,
          "Country/Region": "Switzerland",
          "Date": "2/19/20",
          "Lat": 46.8182,
          "Long": 8.2275,
          "Population(1 July 2019)": 0,
          "level_0": 7
         },
         {
          "Count": 0,
          "Country/Region": "Switzerland",
          "Date": "2/20/20",
          "Lat": 46.8182,
          "Long": 8.2275,
          "Population(1 July 2019)": 0,
          "level_0": 7
         },
         {
          "Count": 0,
          "Country/Region": "Switzerland",
          "Date": "2/21/20",
          "Lat": 46.8182,
          "Long": 8.2275,
          "Population(1 July 2019)": 0,
          "level_0": 7
         },
         {
          "Count": 0,
          "Country/Region": "Switzerland",
          "Date": "2/22/20",
          "Lat": 46.8182,
          "Long": 8.2275,
          "Population(1 July 2019)": 0,
          "level_0": 7
         },
         {
          "Count": 0,
          "Country/Region": "Switzerland",
          "Date": "2/23/20",
          "Lat": 46.8182,
          "Long": 8.2275,
          "Population(1 July 2019)": 0,
          "level_0": 7
         },
         {
          "Count": 0,
          "Country/Region": "Switzerland",
          "Date": "2/24/20",
          "Lat": 46.8182,
          "Long": 8.2275,
          "Population(1 July 2019)": 0,
          "level_0": 7
         },
         {
          "Count": 0,
          "Country/Region": "Switzerland",
          "Date": "2/25/20",
          "Lat": 46.8182,
          "Long": 8.2275,
          "Population(1 July 2019)": 0,
          "level_0": 7
         },
         {
          "Count": 0,
          "Country/Region": "Switzerland",
          "Date": "2/26/20",
          "Lat": 46.8182,
          "Long": 8.2275,
          "Population(1 July 2019)": 0,
          "level_0": 7
         },
         {
          "Count": 0,
          "Country/Region": "Switzerland",
          "Date": "2/27/20",
          "Lat": 46.8182,
          "Long": 8.2275,
          "Population(1 July 2019)": 0,
          "level_0": 7
         },
         {
          "Count": 0,
          "Country/Region": "Switzerland",
          "Date": "2/28/20",
          "Lat": 46.8182,
          "Long": 8.2275,
          "Population(1 July 2019)": 0,
          "level_0": 7
         },
         {
          "Count": 0,
          "Country/Region": "Switzerland",
          "Date": "2/29/20",
          "Lat": 46.8182,
          "Long": 8.2275,
          "Population(1 July 2019)": 0,
          "level_0": 7
         },
         {
          "Count": 0,
          "Country/Region": "Switzerland",
          "Date": "3/1/20",
          "Lat": 46.8182,
          "Long": 8.2275,
          "Population(1 July 2019)": 0,
          "level_0": 7
         },
         {
          "Count": 0,
          "Country/Region": "Switzerland",
          "Date": "3/2/20",
          "Lat": 46.8182,
          "Long": 8.2275,
          "Population(1 July 2019)": 0,
          "level_0": 7
         },
         {
          "Count": 0,
          "Country/Region": "Switzerland",
          "Date": "3/3/20",
          "Lat": 46.8182,
          "Long": 8.2275,
          "Population(1 July 2019)": 0,
          "level_0": 7
         },
         {
          "Count": 0,
          "Country/Region": "Switzerland",
          "Date": "3/4/20",
          "Lat": 46.8182,
          "Long": 8.2275,
          "Population(1 July 2019)": 0,
          "level_0": 7
         },
         {
          "Count": 1,
          "Country/Region": "Switzerland",
          "Date": "3/5/20",
          "Lat": 46.8182,
          "Long": 8.2275,
          "Population(1 July 2019)": 0,
          "level_0": 7
         },
         {
          "Count": 1,
          "Country/Region": "Switzerland",
          "Date": "3/6/20",
          "Lat": 46.8182,
          "Long": 8.2275,
          "Population(1 July 2019)": 0,
          "level_0": 7
         },
         {
          "Count": 1,
          "Country/Region": "Switzerland",
          "Date": "3/7/20",
          "Lat": 46.8182,
          "Long": 8.2275,
          "Population(1 July 2019)": 0,
          "level_0": 7
         },
         {
          "Count": 2,
          "Country/Region": "Switzerland",
          "Date": "3/8/20",
          "Lat": 46.8182,
          "Long": 8.2275,
          "Population(1 July 2019)": 0,
          "level_0": 7
         },
         {
          "Count": 2,
          "Country/Region": "Switzerland",
          "Date": "3/9/20",
          "Lat": 46.8182,
          "Long": 8.2275,
          "Population(1 July 2019)": 0,
          "level_0": 7
         },
         {
          "Count": 3,
          "Country/Region": "Switzerland",
          "Date": "3/10/20",
          "Lat": 46.8182,
          "Long": 8.2275,
          "Population(1 July 2019)": 0,
          "level_0": 7
         },
         {
          "Count": 4,
          "Country/Region": "Switzerland",
          "Date": "3/11/20",
          "Lat": 46.8182,
          "Long": 8.2275,
          "Population(1 July 2019)": 0,
          "level_0": 7
         },
         {
          "Count": 4,
          "Country/Region": "Switzerland",
          "Date": "3/12/20",
          "Lat": 46.8182,
          "Long": 8.2275,
          "Population(1 July 2019)": 0,
          "level_0": 7
         },
         {
          "Count": 11,
          "Country/Region": "Switzerland",
          "Date": "3/13/20",
          "Lat": 46.8182,
          "Long": 8.2275,
          "Population(1 July 2019)": 0,
          "level_0": 7
         },
         {
          "Count": 13,
          "Country/Region": "Switzerland",
          "Date": "3/14/20",
          "Lat": 46.8182,
          "Long": 8.2275,
          "Population(1 July 2019)": 0,
          "level_0": 7
         },
         {
          "Count": 14,
          "Country/Region": "Switzerland",
          "Date": "3/15/20",
          "Lat": 46.8182,
          "Long": 8.2275,
          "Population(1 July 2019)": 0,
          "level_0": 7
         },
         {
          "Count": 14,
          "Country/Region": "Switzerland",
          "Date": "3/16/20",
          "Lat": 46.8182,
          "Long": 8.2275,
          "Population(1 July 2019)": 0,
          "level_0": 7
         },
         {
          "Count": 27,
          "Country/Region": "Switzerland",
          "Date": "3/17/20",
          "Lat": 46.8182,
          "Long": 8.2275,
          "Population(1 July 2019)": 0,
          "level_0": 7
         },
         {
          "Count": 28,
          "Country/Region": "Switzerland",
          "Date": "3/18/20",
          "Lat": 46.8182,
          "Long": 8.2275,
          "Population(1 July 2019)": 0,
          "level_0": 7
         },
         {
          "Count": 41,
          "Country/Region": "Switzerland",
          "Date": "3/19/20",
          "Lat": 46.8182,
          "Long": 8.2275,
          "Population(1 July 2019)": 0,
          "level_0": 7
         },
         {
          "Count": 54,
          "Country/Region": "Switzerland",
          "Date": "3/20/20",
          "Lat": 46.8182,
          "Long": 8.2275,
          "Population(1 July 2019)": 0,
          "level_0": 7
         },
         {
          "Count": 75,
          "Country/Region": "Switzerland",
          "Date": "3/21/20",
          "Lat": 46.8182,
          "Long": 8.2275,
          "Population(1 July 2019)": 0,
          "level_0": 7
         },
         {
          "Count": 98,
          "Country/Region": "Switzerland",
          "Date": "3/22/20",
          "Lat": 46.8182,
          "Long": 8.2275,
          "Population(1 July 2019)": 0,
          "level_0": 7
         },
         {
          "Count": 120,
          "Country/Region": "Switzerland",
          "Date": "3/23/20",
          "Lat": 46.8182,
          "Long": 8.2275,
          "Population(1 July 2019)": 0,
          "level_0": 7
         },
         {
          "Count": 122,
          "Country/Region": "Switzerland",
          "Date": "3/24/20",
          "Lat": 46.8182,
          "Long": 8.2275,
          "Population(1 July 2019)": 0,
          "level_0": 7
         },
         {
          "Count": 0,
          "Country/Region": "US",
          "Date": "1/22/20",
          "Lat": 37.0902,
          "Long": -95.7129,
          "Population(1 July 2019)": 0,
          "level_0": 8
         },
         {
          "Count": 0,
          "Country/Region": "US",
          "Date": "1/23/20",
          "Lat": 37.0902,
          "Long": -95.7129,
          "Population(1 July 2019)": 0,
          "level_0": 8
         },
         {
          "Count": 0,
          "Country/Region": "US",
          "Date": "1/24/20",
          "Lat": 37.0902,
          "Long": -95.7129,
          "Population(1 July 2019)": 0,
          "level_0": 8
         },
         {
          "Count": 0,
          "Country/Region": "US",
          "Date": "1/25/20",
          "Lat": 37.0902,
          "Long": -95.7129,
          "Population(1 July 2019)": 0,
          "level_0": 8
         },
         {
          "Count": 0,
          "Country/Region": "US",
          "Date": "1/26/20",
          "Lat": 37.0902,
          "Long": -95.7129,
          "Population(1 July 2019)": 0,
          "level_0": 8
         },
         {
          "Count": 0,
          "Country/Region": "US",
          "Date": "1/27/20",
          "Lat": 37.0902,
          "Long": -95.7129,
          "Population(1 July 2019)": 0,
          "level_0": 8
         },
         {
          "Count": 0,
          "Country/Region": "US",
          "Date": "1/28/20",
          "Lat": 37.0902,
          "Long": -95.7129,
          "Population(1 July 2019)": 0,
          "level_0": 8
         },
         {
          "Count": 0,
          "Country/Region": "US",
          "Date": "1/29/20",
          "Lat": 37.0902,
          "Long": -95.7129,
          "Population(1 July 2019)": 0,
          "level_0": 8
         },
         {
          "Count": 0,
          "Country/Region": "US",
          "Date": "1/30/20",
          "Lat": 37.0902,
          "Long": -95.7129,
          "Population(1 July 2019)": 0,
          "level_0": 8
         },
         {
          "Count": 0,
          "Country/Region": "US",
          "Date": "1/31/20",
          "Lat": 37.0902,
          "Long": -95.7129,
          "Population(1 July 2019)": 0,
          "level_0": 8
         },
         {
          "Count": 0,
          "Country/Region": "US",
          "Date": "2/1/20",
          "Lat": 37.0902,
          "Long": -95.7129,
          "Population(1 July 2019)": 0,
          "level_0": 8
         },
         {
          "Count": 0,
          "Country/Region": "US",
          "Date": "2/2/20",
          "Lat": 37.0902,
          "Long": -95.7129,
          "Population(1 July 2019)": 0,
          "level_0": 8
         },
         {
          "Count": 0,
          "Country/Region": "US",
          "Date": "2/3/20",
          "Lat": 37.0902,
          "Long": -95.7129,
          "Population(1 July 2019)": 0,
          "level_0": 8
         },
         {
          "Count": 0,
          "Country/Region": "US",
          "Date": "2/4/20",
          "Lat": 37.0902,
          "Long": -95.7129,
          "Population(1 July 2019)": 0,
          "level_0": 8
         },
         {
          "Count": 0,
          "Country/Region": "US",
          "Date": "2/5/20",
          "Lat": 37.0902,
          "Long": -95.7129,
          "Population(1 July 2019)": 0,
          "level_0": 8
         },
         {
          "Count": 0,
          "Country/Region": "US",
          "Date": "2/6/20",
          "Lat": 37.0902,
          "Long": -95.7129,
          "Population(1 July 2019)": 0,
          "level_0": 8
         },
         {
          "Count": 0,
          "Country/Region": "US",
          "Date": "2/7/20",
          "Lat": 37.0902,
          "Long": -95.7129,
          "Population(1 July 2019)": 0,
          "level_0": 8
         },
         {
          "Count": 0,
          "Country/Region": "US",
          "Date": "2/8/20",
          "Lat": 37.0902,
          "Long": -95.7129,
          "Population(1 July 2019)": 0,
          "level_0": 8
         },
         {
          "Count": 0,
          "Country/Region": "US",
          "Date": "2/9/20",
          "Lat": 37.0902,
          "Long": -95.7129,
          "Population(1 July 2019)": 0,
          "level_0": 8
         },
         {
          "Count": 0,
          "Country/Region": "US",
          "Date": "2/10/20",
          "Lat": 37.0902,
          "Long": -95.7129,
          "Population(1 July 2019)": 0,
          "level_0": 8
         },
         {
          "Count": 0,
          "Country/Region": "US",
          "Date": "2/11/20",
          "Lat": 37.0902,
          "Long": -95.7129,
          "Population(1 July 2019)": 0,
          "level_0": 8
         },
         {
          "Count": 0,
          "Country/Region": "US",
          "Date": "2/12/20",
          "Lat": 37.0902,
          "Long": -95.7129,
          "Population(1 July 2019)": 0,
          "level_0": 8
         },
         {
          "Count": 0,
          "Country/Region": "US",
          "Date": "2/13/20",
          "Lat": 37.0902,
          "Long": -95.7129,
          "Population(1 July 2019)": 0,
          "level_0": 8
         },
         {
          "Count": 0,
          "Country/Region": "US",
          "Date": "2/14/20",
          "Lat": 37.0902,
          "Long": -95.7129,
          "Population(1 July 2019)": 0,
          "level_0": 8
         },
         {
          "Count": 0,
          "Country/Region": "US",
          "Date": "2/15/20",
          "Lat": 37.0902,
          "Long": -95.7129,
          "Population(1 July 2019)": 0,
          "level_0": 8
         },
         {
          "Count": 0,
          "Country/Region": "US",
          "Date": "2/16/20",
          "Lat": 37.0902,
          "Long": -95.7129,
          "Population(1 July 2019)": 0,
          "level_0": 8
         },
         {
          "Count": 0,
          "Country/Region": "US",
          "Date": "2/17/20",
          "Lat": 37.0902,
          "Long": -95.7129,
          "Population(1 July 2019)": 0,
          "level_0": 8
         },
         {
          "Count": 0,
          "Country/Region": "US",
          "Date": "2/18/20",
          "Lat": 37.0902,
          "Long": -95.7129,
          "Population(1 July 2019)": 0,
          "level_0": 8
         },
         {
          "Count": 0,
          "Country/Region": "US",
          "Date": "2/19/20",
          "Lat": 37.0902,
          "Long": -95.7129,
          "Population(1 July 2019)": 0,
          "level_0": 8
         },
         {
          "Count": 0,
          "Country/Region": "US",
          "Date": "2/20/20",
          "Lat": 37.0902,
          "Long": -95.7129,
          "Population(1 July 2019)": 0,
          "level_0": 8
         },
         {
          "Count": 0,
          "Country/Region": "US",
          "Date": "2/21/20",
          "Lat": 37.0902,
          "Long": -95.7129,
          "Population(1 July 2019)": 0,
          "level_0": 8
         },
         {
          "Count": 0,
          "Country/Region": "US",
          "Date": "2/22/20",
          "Lat": 37.0902,
          "Long": -95.7129,
          "Population(1 July 2019)": 0,
          "level_0": 8
         },
         {
          "Count": 0,
          "Country/Region": "US",
          "Date": "2/23/20",
          "Lat": 37.0902,
          "Long": -95.7129,
          "Population(1 July 2019)": 0,
          "level_0": 8
         },
         {
          "Count": 0,
          "Country/Region": "US",
          "Date": "2/24/20",
          "Lat": 37.0902,
          "Long": -95.7129,
          "Population(1 July 2019)": 0,
          "level_0": 8
         },
         {
          "Count": 0,
          "Country/Region": "US",
          "Date": "2/25/20",
          "Lat": 37.0902,
          "Long": -95.7129,
          "Population(1 July 2019)": 0,
          "level_0": 8
         },
         {
          "Count": 0,
          "Country/Region": "US",
          "Date": "2/26/20",
          "Lat": 37.0902,
          "Long": -95.7129,
          "Population(1 July 2019)": 0,
          "level_0": 8
         },
         {
          "Count": 0,
          "Country/Region": "US",
          "Date": "2/27/20",
          "Lat": 37.0902,
          "Long": -95.7129,
          "Population(1 July 2019)": 0,
          "level_0": 8
         },
         {
          "Count": 0,
          "Country/Region": "US",
          "Date": "2/28/20",
          "Lat": 37.0902,
          "Long": -95.7129,
          "Population(1 July 2019)": 0,
          "level_0": 8
         },
         {
          "Count": 1,
          "Country/Region": "US",
          "Date": "2/29/20",
          "Lat": 37.0902,
          "Long": -95.7129,
          "Population(1 July 2019)": 0,
          "level_0": 8
         },
         {
          "Count": 1,
          "Country/Region": "US",
          "Date": "3/1/20",
          "Lat": 37.0902,
          "Long": -95.7129,
          "Population(1 July 2019)": 0,
          "level_0": 8
         },
         {
          "Count": 6,
          "Country/Region": "US",
          "Date": "3/2/20",
          "Lat": 37.0902,
          "Long": -95.7129,
          "Population(1 July 2019)": 0,
          "level_0": 8
         },
         {
          "Count": 7,
          "Country/Region": "US",
          "Date": "3/3/20",
          "Lat": 37.0902,
          "Long": -95.7129,
          "Population(1 July 2019)": 0,
          "level_0": 8
         },
         {
          "Count": 11,
          "Country/Region": "US",
          "Date": "3/4/20",
          "Lat": 37.0902,
          "Long": -95.7129,
          "Population(1 July 2019)": 0,
          "level_0": 8
         },
         {
          "Count": 12,
          "Country/Region": "US",
          "Date": "3/5/20",
          "Lat": 37.0902,
          "Long": -95.7129,
          "Population(1 July 2019)": 0,
          "level_0": 8
         },
         {
          "Count": 14,
          "Country/Region": "US",
          "Date": "3/6/20",
          "Lat": 37.0902,
          "Long": -95.7129,
          "Population(1 July 2019)": 0,
          "level_0": 8
         },
         {
          "Count": 17,
          "Country/Region": "US",
          "Date": "3/7/20",
          "Lat": 37.0902,
          "Long": -95.7129,
          "Population(1 July 2019)": 0,
          "level_0": 8
         },
         {
          "Count": 21,
          "Country/Region": "US",
          "Date": "3/8/20",
          "Lat": 37.0902,
          "Long": -95.7129,
          "Population(1 July 2019)": 0,
          "level_0": 8
         },
         {
          "Count": 22,
          "Country/Region": "US",
          "Date": "3/9/20",
          "Lat": 37.0902,
          "Long": -95.7129,
          "Population(1 July 2019)": 0,
          "level_0": 8
         },
         {
          "Count": 28,
          "Country/Region": "US",
          "Date": "3/10/20",
          "Lat": 37.0902,
          "Long": -95.7129,
          "Population(1 July 2019)": 0,
          "level_0": 8
         },
         {
          "Count": 36,
          "Country/Region": "US",
          "Date": "3/11/20",
          "Lat": 37.0902,
          "Long": -95.7129,
          "Population(1 July 2019)": 0,
          "level_0": 8
         },
         {
          "Count": 40,
          "Country/Region": "US",
          "Date": "3/12/20",
          "Lat": 37.0902,
          "Long": -95.7129,
          "Population(1 July 2019)": 0,
          "level_0": 8
         },
         {
          "Count": 47,
          "Country/Region": "US",
          "Date": "3/13/20",
          "Lat": 37.0902,
          "Long": -95.7129,
          "Population(1 July 2019)": 0,
          "level_0": 8
         },
         {
          "Count": 54,
          "Country/Region": "US",
          "Date": "3/14/20",
          "Lat": 37.0902,
          "Long": -95.7129,
          "Population(1 July 2019)": 0,
          "level_0": 8
         },
         {
          "Count": 63,
          "Country/Region": "US",
          "Date": "3/15/20",
          "Lat": 37.0902,
          "Long": -95.7129,
          "Population(1 July 2019)": 0,
          "level_0": 8
         },
         {
          "Count": 85,
          "Country/Region": "US",
          "Date": "3/16/20",
          "Lat": 37.0902,
          "Long": -95.7129,
          "Population(1 July 2019)": 0,
          "level_0": 8
         },
         {
          "Count": 108,
          "Country/Region": "US",
          "Date": "3/17/20",
          "Lat": 37.0902,
          "Long": -95.7129,
          "Population(1 July 2019)": 0,
          "level_0": 8
         },
         {
          "Count": 118,
          "Country/Region": "US",
          "Date": "3/18/20",
          "Lat": 37.0902,
          "Long": -95.7129,
          "Population(1 July 2019)": 0,
          "level_0": 8
         },
         {
          "Count": 200,
          "Country/Region": "US",
          "Date": "3/19/20",
          "Lat": 37.0902,
          "Long": -95.7129,
          "Population(1 July 2019)": 0,
          "level_0": 8
         },
         {
          "Count": 244,
          "Country/Region": "US",
          "Date": "3/20/20",
          "Lat": 37.0902,
          "Long": -95.7129,
          "Population(1 July 2019)": 0,
          "level_0": 8
         },
         {
          "Count": 307,
          "Country/Region": "US",
          "Date": "3/21/20",
          "Lat": 37.0902,
          "Long": -95.7129,
          "Population(1 July 2019)": 0,
          "level_0": 8
         },
         {
          "Count": 417,
          "Country/Region": "US",
          "Date": "3/22/20",
          "Lat": 37.0902,
          "Long": -95.7129,
          "Population(1 July 2019)": 0,
          "level_0": 8
         },
         {
          "Count": 557,
          "Country/Region": "US",
          "Date": "3/23/20",
          "Lat": 37.0902,
          "Long": -95.7129,
          "Population(1 July 2019)": 0,
          "level_0": 8
         },
         {
          "Count": 706,
          "Country/Region": "US",
          "Date": "3/24/20",
          "Lat": 37.0902,
          "Long": -95.7129,
          "Population(1 July 2019)": 0,
          "level_0": 8
         },
         {
          "Count": 0,
          "Country/Region": "United Kingdom",
          "Date": "1/22/20",
          "Lat": 263.4909,
          "Long": -223.8946,
          "Population(1 July 2019)": 0,
          "level_0": 9
         },
         {
          "Count": 0,
          "Country/Region": "United Kingdom",
          "Date": "1/23/20",
          "Lat": 263.4909,
          "Long": -223.8946,
          "Population(1 July 2019)": 0,
          "level_0": 9
         },
         {
          "Count": 0,
          "Country/Region": "United Kingdom",
          "Date": "1/24/20",
          "Lat": 263.4909,
          "Long": -223.8946,
          "Population(1 July 2019)": 0,
          "level_0": 9
         },
         {
          "Count": 0,
          "Country/Region": "United Kingdom",
          "Date": "1/25/20",
          "Lat": 263.4909,
          "Long": -223.8946,
          "Population(1 July 2019)": 0,
          "level_0": 9
         },
         {
          "Count": 0,
          "Country/Region": "United Kingdom",
          "Date": "1/26/20",
          "Lat": 263.4909,
          "Long": -223.8946,
          "Population(1 July 2019)": 0,
          "level_0": 9
         },
         {
          "Count": 0,
          "Country/Region": "United Kingdom",
          "Date": "1/27/20",
          "Lat": 263.4909,
          "Long": -223.8946,
          "Population(1 July 2019)": 0,
          "level_0": 9
         },
         {
          "Count": 0,
          "Country/Region": "United Kingdom",
          "Date": "1/28/20",
          "Lat": 263.4909,
          "Long": -223.8946,
          "Population(1 July 2019)": 0,
          "level_0": 9
         },
         {
          "Count": 0,
          "Country/Region": "United Kingdom",
          "Date": "1/29/20",
          "Lat": 263.4909,
          "Long": -223.8946,
          "Population(1 July 2019)": 0,
          "level_0": 9
         },
         {
          "Count": 0,
          "Country/Region": "United Kingdom",
          "Date": "1/30/20",
          "Lat": 263.4909,
          "Long": -223.8946,
          "Population(1 July 2019)": 0,
          "level_0": 9
         },
         {
          "Count": 0,
          "Country/Region": "United Kingdom",
          "Date": "1/31/20",
          "Lat": 263.4909,
          "Long": -223.8946,
          "Population(1 July 2019)": 0,
          "level_0": 9
         },
         {
          "Count": 0,
          "Country/Region": "United Kingdom",
          "Date": "2/1/20",
          "Lat": 263.4909,
          "Long": -223.8946,
          "Population(1 July 2019)": 0,
          "level_0": 9
         },
         {
          "Count": 0,
          "Country/Region": "United Kingdom",
          "Date": "2/2/20",
          "Lat": 263.4909,
          "Long": -223.8946,
          "Population(1 July 2019)": 0,
          "level_0": 9
         },
         {
          "Count": 0,
          "Country/Region": "United Kingdom",
          "Date": "2/3/20",
          "Lat": 263.4909,
          "Long": -223.8946,
          "Population(1 July 2019)": 0,
          "level_0": 9
         },
         {
          "Count": 0,
          "Country/Region": "United Kingdom",
          "Date": "2/4/20",
          "Lat": 263.4909,
          "Long": -223.8946,
          "Population(1 July 2019)": 0,
          "level_0": 9
         },
         {
          "Count": 0,
          "Country/Region": "United Kingdom",
          "Date": "2/5/20",
          "Lat": 263.4909,
          "Long": -223.8946,
          "Population(1 July 2019)": 0,
          "level_0": 9
         },
         {
          "Count": 0,
          "Country/Region": "United Kingdom",
          "Date": "2/6/20",
          "Lat": 263.4909,
          "Long": -223.8946,
          "Population(1 July 2019)": 0,
          "level_0": 9
         },
         {
          "Count": 0,
          "Country/Region": "United Kingdom",
          "Date": "2/7/20",
          "Lat": 263.4909,
          "Long": -223.8946,
          "Population(1 July 2019)": 0,
          "level_0": 9
         },
         {
          "Count": 0,
          "Country/Region": "United Kingdom",
          "Date": "2/8/20",
          "Lat": 263.4909,
          "Long": -223.8946,
          "Population(1 July 2019)": 0,
          "level_0": 9
         },
         {
          "Count": 0,
          "Country/Region": "United Kingdom",
          "Date": "2/9/20",
          "Lat": 263.4909,
          "Long": -223.8946,
          "Population(1 July 2019)": 0,
          "level_0": 9
         },
         {
          "Count": 0,
          "Country/Region": "United Kingdom",
          "Date": "2/10/20",
          "Lat": 263.4909,
          "Long": -223.8946,
          "Population(1 July 2019)": 0,
          "level_0": 9
         },
         {
          "Count": 0,
          "Country/Region": "United Kingdom",
          "Date": "2/11/20",
          "Lat": 263.4909,
          "Long": -223.8946,
          "Population(1 July 2019)": 0,
          "level_0": 9
         },
         {
          "Count": 0,
          "Country/Region": "United Kingdom",
          "Date": "2/12/20",
          "Lat": 263.4909,
          "Long": -223.8946,
          "Population(1 July 2019)": 0,
          "level_0": 9
         },
         {
          "Count": 0,
          "Country/Region": "United Kingdom",
          "Date": "2/13/20",
          "Lat": 263.4909,
          "Long": -223.8946,
          "Population(1 July 2019)": 0,
          "level_0": 9
         },
         {
          "Count": 0,
          "Country/Region": "United Kingdom",
          "Date": "2/14/20",
          "Lat": 263.4909,
          "Long": -223.8946,
          "Population(1 July 2019)": 0,
          "level_0": 9
         },
         {
          "Count": 0,
          "Country/Region": "United Kingdom",
          "Date": "2/15/20",
          "Lat": 263.4909,
          "Long": -223.8946,
          "Population(1 July 2019)": 0,
          "level_0": 9
         },
         {
          "Count": 0,
          "Country/Region": "United Kingdom",
          "Date": "2/16/20",
          "Lat": 263.4909,
          "Long": -223.8946,
          "Population(1 July 2019)": 0,
          "level_0": 9
         },
         {
          "Count": 0,
          "Country/Region": "United Kingdom",
          "Date": "2/17/20",
          "Lat": 263.4909,
          "Long": -223.8946,
          "Population(1 July 2019)": 0,
          "level_0": 9
         },
         {
          "Count": 0,
          "Country/Region": "United Kingdom",
          "Date": "2/18/20",
          "Lat": 263.4909,
          "Long": -223.8946,
          "Population(1 July 2019)": 0,
          "level_0": 9
         },
         {
          "Count": 0,
          "Country/Region": "United Kingdom",
          "Date": "2/19/20",
          "Lat": 263.4909,
          "Long": -223.8946,
          "Population(1 July 2019)": 0,
          "level_0": 9
         },
         {
          "Count": 0,
          "Country/Region": "United Kingdom",
          "Date": "2/20/20",
          "Lat": 263.4909,
          "Long": -223.8946,
          "Population(1 July 2019)": 0,
          "level_0": 9
         },
         {
          "Count": 0,
          "Country/Region": "United Kingdom",
          "Date": "2/21/20",
          "Lat": 263.4909,
          "Long": -223.8946,
          "Population(1 July 2019)": 0,
          "level_0": 9
         },
         {
          "Count": 0,
          "Country/Region": "United Kingdom",
          "Date": "2/22/20",
          "Lat": 263.4909,
          "Long": -223.8946,
          "Population(1 July 2019)": 0,
          "level_0": 9
         },
         {
          "Count": 0,
          "Country/Region": "United Kingdom",
          "Date": "2/23/20",
          "Lat": 263.4909,
          "Long": -223.8946,
          "Population(1 July 2019)": 0,
          "level_0": 9
         },
         {
          "Count": 0,
          "Country/Region": "United Kingdom",
          "Date": "2/24/20",
          "Lat": 263.4909,
          "Long": -223.8946,
          "Population(1 July 2019)": 0,
          "level_0": 9
         },
         {
          "Count": 0,
          "Country/Region": "United Kingdom",
          "Date": "2/25/20",
          "Lat": 263.4909,
          "Long": -223.8946,
          "Population(1 July 2019)": 0,
          "level_0": 9
         },
         {
          "Count": 0,
          "Country/Region": "United Kingdom",
          "Date": "2/26/20",
          "Lat": 263.4909,
          "Long": -223.8946,
          "Population(1 July 2019)": 0,
          "level_0": 9
         },
         {
          "Count": 0,
          "Country/Region": "United Kingdom",
          "Date": "2/27/20",
          "Lat": 263.4909,
          "Long": -223.8946,
          "Population(1 July 2019)": 0,
          "level_0": 9
         },
         {
          "Count": 0,
          "Country/Region": "United Kingdom",
          "Date": "2/28/20",
          "Lat": 263.4909,
          "Long": -223.8946,
          "Population(1 July 2019)": 0,
          "level_0": 9
         },
         {
          "Count": 0,
          "Country/Region": "United Kingdom",
          "Date": "2/29/20",
          "Lat": 263.4909,
          "Long": -223.8946,
          "Population(1 July 2019)": 0,
          "level_0": 9
         },
         {
          "Count": 0,
          "Country/Region": "United Kingdom",
          "Date": "3/1/20",
          "Lat": 263.4909,
          "Long": -223.8946,
          "Population(1 July 2019)": 0,
          "level_0": 9
         },
         {
          "Count": 0,
          "Country/Region": "United Kingdom",
          "Date": "3/2/20",
          "Lat": 263.4909,
          "Long": -223.8946,
          "Population(1 July 2019)": 0,
          "level_0": 9
         },
         {
          "Count": 0,
          "Country/Region": "United Kingdom",
          "Date": "3/3/20",
          "Lat": 263.4909,
          "Long": -223.8946,
          "Population(1 July 2019)": 0,
          "level_0": 9
         },
         {
          "Count": 0,
          "Country/Region": "United Kingdom",
          "Date": "3/4/20",
          "Lat": 263.4909,
          "Long": -223.8946,
          "Population(1 July 2019)": 0,
          "level_0": 9
         },
         {
          "Count": 1,
          "Country/Region": "United Kingdom",
          "Date": "3/5/20",
          "Lat": 263.4909,
          "Long": -223.8946,
          "Population(1 July 2019)": 0,
          "level_0": 9
         },
         {
          "Count": 2,
          "Country/Region": "United Kingdom",
          "Date": "3/6/20",
          "Lat": 263.4909,
          "Long": -223.8946,
          "Population(1 July 2019)": 0,
          "level_0": 9
         },
         {
          "Count": 2,
          "Country/Region": "United Kingdom",
          "Date": "3/7/20",
          "Lat": 263.4909,
          "Long": -223.8946,
          "Population(1 July 2019)": 0,
          "level_0": 9
         },
         {
          "Count": 3,
          "Country/Region": "United Kingdom",
          "Date": "3/8/20",
          "Lat": 263.4909,
          "Long": -223.8946,
          "Population(1 July 2019)": 0,
          "level_0": 9
         },
         {
          "Count": 4,
          "Country/Region": "United Kingdom",
          "Date": "3/9/20",
          "Lat": 263.4909,
          "Long": -223.8946,
          "Population(1 July 2019)": 0,
          "level_0": 9
         },
         {
          "Count": 6,
          "Country/Region": "United Kingdom",
          "Date": "3/10/20",
          "Lat": 263.4909,
          "Long": -223.8946,
          "Population(1 July 2019)": 0,
          "level_0": 9
         },
         {
          "Count": 8,
          "Country/Region": "United Kingdom",
          "Date": "3/11/20",
          "Lat": 263.4909,
          "Long": -223.8946,
          "Population(1 July 2019)": 0,
          "level_0": 9
         },
         {
          "Count": 8,
          "Country/Region": "United Kingdom",
          "Date": "3/12/20",
          "Lat": 263.4909,
          "Long": -223.8946,
          "Population(1 July 2019)": 0,
          "level_0": 9
         },
         {
          "Count": 8,
          "Country/Region": "United Kingdom",
          "Date": "3/13/20",
          "Lat": 263.4909,
          "Long": -223.8946,
          "Population(1 July 2019)": 0,
          "level_0": 9
         },
         {
          "Count": 21,
          "Country/Region": "United Kingdom",
          "Date": "3/14/20",
          "Lat": 263.4909,
          "Long": -223.8946,
          "Population(1 July 2019)": 0,
          "level_0": 9
         },
         {
          "Count": 21,
          "Country/Region": "United Kingdom",
          "Date": "3/15/20",
          "Lat": 263.4909,
          "Long": -223.8946,
          "Population(1 July 2019)": 0,
          "level_0": 9
         },
         {
          "Count": 56,
          "Country/Region": "United Kingdom",
          "Date": "3/16/20",
          "Lat": 263.4909,
          "Long": -223.8946,
          "Population(1 July 2019)": 0,
          "level_0": 9
         },
         {
          "Count": 56,
          "Country/Region": "United Kingdom",
          "Date": "3/17/20",
          "Lat": 263.4909,
          "Long": -223.8946,
          "Population(1 July 2019)": 0,
          "level_0": 9
         },
         {
          "Count": 72,
          "Country/Region": "United Kingdom",
          "Date": "3/18/20",
          "Lat": 263.4909,
          "Long": -223.8946,
          "Population(1 July 2019)": 0,
          "level_0": 9
         },
         {
          "Count": 138,
          "Country/Region": "United Kingdom",
          "Date": "3/19/20",
          "Lat": 263.4909,
          "Long": -223.8946,
          "Population(1 July 2019)": 0,
          "level_0": 9
         },
         {
          "Count": 178,
          "Country/Region": "United Kingdom",
          "Date": "3/20/20",
          "Lat": 263.4909,
          "Long": -223.8946,
          "Population(1 July 2019)": 0,
          "level_0": 9
         },
         {
          "Count": 234,
          "Country/Region": "United Kingdom",
          "Date": "3/21/20",
          "Lat": 263.4909,
          "Long": -223.8946,
          "Population(1 July 2019)": 0,
          "level_0": 9
         },
         {
          "Count": 282,
          "Country/Region": "United Kingdom",
          "Date": "3/22/20",
          "Lat": 263.4909,
          "Long": -223.8946,
          "Population(1 July 2019)": 0,
          "level_0": 9
         },
         {
          "Count": 336,
          "Country/Region": "United Kingdom",
          "Date": "3/23/20",
          "Lat": 263.4909,
          "Long": -223.8946,
          "Population(1 July 2019)": 0,
          "level_0": 9
         },
         {
          "Count": 423,
          "Country/Region": "United Kingdom",
          "Date": "3/24/20",
          "Lat": 263.4909,
          "Long": -223.8946,
          "Population(1 July 2019)": 0,
          "level_0": 9
         }
        ]
       },
       "height": 600,
       "layer": [
        {
         "encoding": {
          "color": {
           "field": "Country/Region",
           "sort": [
            "China",
            "Italy",
            "US",
            "Spain",
            "Germany",
            "Iran",
            "France",
            "Switzerland",
            "Korea, South",
            "United Kingdom"
           ],
           "type": "nominal"
          },
          "x": {
           "axis": {
            "format": "%d %b %Y",
            "labelAngle": 90
           },
           "field": "Date",
           "scale": {
            "domain": [
             "1/22/20",
             "03/24/20"
            ]
           },
           "type": "temporal"
          },
          "y": {
           "axis": {
            "orient": "right",
            "title": "Count"
           },
           "field": "Count",
           "scale": {
            "base": 10,
            "type": "log"
           },
           "type": "quantitative"
          }
         },
         "mark": "line",
         "title": "Deaths - including 24 March 2020",
         "transform": [
          {
           "filter": "(datum.Count >= 1)"
          }
         ]
        },
        {
         "encoding": {
          "opacity": {
           "value": 0
          },
          "x": {
           "field": "Date",
           "type": "temporal"
          }
         },
         "mark": "point",
         "selection": {
          "selector005": {
           "empty": "none",
           "fields": [
            "Date"
           ],
           "nearest": true,
           "on": "mouseover",
           "type": "single"
          }
         }
        },
        {
         "encoding": {
          "color": {
           "field": "Country/Region",
           "sort": [
            "China",
            "Italy",
            "US",
            "Spain",
            "Germany",
            "Iran",
            "France",
            "Switzerland",
            "Korea, South",
            "United Kingdom"
           ],
           "type": "nominal"
          },
          "opacity": {
           "condition": {
            "selection": "selector005",
            "value": 1
           },
           "value": 0
          },
          "x": {
           "axis": {
            "format": "%d %b %Y",
            "labelAngle": 90
           },
           "field": "Date",
           "scale": {
            "domain": [
             "1/22/20",
             "03/24/20"
            ]
           },
           "type": "temporal"
          },
          "y": {
           "axis": {
            "orient": "right",
            "title": "Count"
           },
           "field": "Count",
           "scale": {
            "base": 10,
            "type": "log"
           },
           "type": "quantitative"
          }
         },
         "mark": "point",
         "selection": {
          "selector006": {
           "bind": "scales",
           "encodings": [
            "x",
            "y"
           ],
           "type": "interval"
          }
         },
         "title": "Deaths - including 24 March 2020",
         "transform": [
          {
           "filter": "(datum.Count >= 1)"
          }
         ]
        },
        {
         "encoding": {
          "x": {
           "field": "Date",
           "type": "temporal"
          }
         },
         "mark": {
          "color": "gray",
          "type": "rule"
         },
         "transform": [
          {
           "filter": {
            "selection": "selector005"
           }
          }
         ]
        },
        {
         "encoding": {
          "color": {
           "field": "Country/Region",
           "sort": [
            "China",
            "Italy",
            "US",
            "Spain",
            "Germany",
            "Iran",
            "France",
            "Switzerland",
            "Korea, South",
            "United Kingdom"
           ],
           "type": "nominal"
          },
          "text": {
           "condition": {
            "field": "Count",
            "selection": "selector005",
            "type": "quantitative"
           },
           "value": " "
          },
          "x": {
           "axis": {
            "format": "%d %b %Y",
            "labelAngle": 90
           },
           "field": "Date",
           "scale": {
            "domain": [
             "1/22/20",
             "03/24/20"
            ]
           },
           "type": "temporal"
          },
          "y": {
           "axis": {
            "orient": "right",
            "title": "Count"
           },
           "field": "Count",
           "scale": {
            "base": 10,
            "type": "log"
           },
           "type": "quantitative"
          }
         },
         "mark": {
          "align": "right",
          "dx": -5,
          "dy": -5,
          "type": "text"
         },
         "title": "Deaths - including 24 March 2020",
         "transform": [
          {
           "filter": "(datum.Count >= 1)"
          }
         ]
        }
       ],
       "width": 800
      },
      "image/png": "[encoded data removed]",
      "text/plain": [
       "<VegaLite 3 object>\n",
       "\n",
       "If you see this message, it means the renderer has not been properly enabled\n",
       "for the frontend that you are using. For more information, see\n",
       "https://altair-viz.github.io/user_guide/troubleshooting.html\n"
      ]
     },
     "execution_count": 3,
     "metadata": {},
     "output_type": "execute_result"
    }
   ],
   "source": [
    "countries = []\n",
    "for box_list in hbox.children:\n",
    "    for box in box_list.children:\n",
    "        if box.value:\n",
    "             countries.append(box.description)\n",
    "print(countries)\n",
    "sort_legend=False\n",
    "scale_type=ScaleType.Log_10\n",
    "Csse_covid19.Confirmed.alt_plot(countries, sort_legend=sort_legend, scale_type=scale_type)\n",
    "Csse_covid19.Deaths.alt_plot   (countries, sort_legend=sort_legend, scale_type=scale_type)\n"
   ]
  },
  {
   "cell_type": "code",
   "execution_count": null,
   "metadata": {},
   "outputs": [],
   "source": []
  }
 ],
 "metadata": {
  "colab": {
   "authorship_tag": "ABX9TyOmddhdlOoQvMhBYjhP/lFA",
   "collapsed_sections": [],
   "include_colab_link": true,
   "name": "CSSE_Covid-19_time_series.ipynb",
   "provenance": []
  },
  "kernelspec": {
   "display_name": "Python 3",
   "language": "python",
   "name": "python3"
  },
  "language_info": {
   "codemirror_mode": {
    "name": "ipython",
    "version": 3
   },
   "file_extension": ".py",
   "mimetype": "text/x-python",
   "name": "python",
   "nbconvert_exporter": "python",
   "pygments_lexer": "ipython3",
   "version": "3.7.6"
  }
 },
 "nbformat": 4,
 "nbformat_minor": 4
}
